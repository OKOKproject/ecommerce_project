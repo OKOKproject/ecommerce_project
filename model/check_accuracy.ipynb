{
 "cells": [
  {
   "cell_type": "code",
   "execution_count": 1,
   "metadata": {},
   "outputs": [],
   "source": [
    "import pandas as pd\n",
    "import matplotlib.pyplot as plt\n",
    "import datetime\n",
    "import seaborn as sns\n",
    "from datetime import timedelta\n",
    "import numpy as np\n",
    "\n",
    "pd.set_option('display.max_columns', None)\n",
    "plt.rcParams['font.family'] = 'Malgun Gothic'\n",
    "plt.rcParams['axes.unicode_minus'] = False\n",
    "colors = sns.color_palette('pastel')"
   ]
  },
  {
   "cell_type": "code",
   "execution_count": 2,
   "metadata": {},
   "outputs": [],
   "source": [
    "df = pd.read_csv('model.csv')"
   ]
  },
  {
   "cell_type": "code",
   "execution_count": 3,
   "metadata": {},
   "outputs": [
    {
     "data": {
      "text/html": [
       "<div>\n",
       "<style scoped>\n",
       "    .dataframe tbody tr th:only-of-type {\n",
       "        vertical-align: middle;\n",
       "    }\n",
       "\n",
       "    .dataframe tbody tr th {\n",
       "        vertical-align: top;\n",
       "    }\n",
       "\n",
       "    .dataframe thead th {\n",
       "        text-align: right;\n",
       "    }\n",
       "</style>\n",
       "<table border=\"1\" class=\"dataframe\">\n",
       "  <thead>\n",
       "    <tr style=\"text-align: right;\">\n",
       "      <th></th>\n",
       "      <th>Unnamed: 0</th>\n",
       "      <th>customer_id</th>\n",
       "      <th>new_session_id</th>\n",
       "      <th>target</th>\n",
       "      <th>total_amount</th>\n",
       "      <th>shipment_fee</th>\n",
       "      <th>ADD_TO_CART_COUNT</th>\n",
       "      <th>SEARCH_COUNT</th>\n",
       "      <th>ADD_PROMO_COUNT</th>\n",
       "      <th>BOOKING_COUNT</th>\n",
       "      <th>ITEM_DETAIL_COUNT</th>\n",
       "      <th>limit_ship</th>\n",
       "      <th>PAGE_VIEW</th>\n",
       "      <th>total_promo</th>\n",
       "      <th>total_session</th>\n",
       "    </tr>\n",
       "  </thead>\n",
       "  <tbody>\n",
       "    <tr>\n",
       "      <th>0</th>\n",
       "      <td>0</td>\n",
       "      <td>3.0</td>\n",
       "      <td>f03b6825-1e6e-4916-bf71-f94ecbcbaee5_7952132</td>\n",
       "      <td>1</td>\n",
       "      <td>4</td>\n",
       "      <td>0</td>\n",
       "      <td>2.0</td>\n",
       "      <td>0.0</td>\n",
       "      <td>1.0</td>\n",
       "      <td>1.0</td>\n",
       "      <td>0.0</td>\n",
       "      <td>1</td>\n",
       "      <td>8</td>\n",
       "      <td>3</td>\n",
       "      <td>3</td>\n",
       "    </tr>\n",
       "    <tr>\n",
       "      <th>1</th>\n",
       "      <td>1</td>\n",
       "      <td>3.0</td>\n",
       "      <td>36673b2f-940a-42b5-994d-1cce4796b55f_1792149</td>\n",
       "      <td>0</td>\n",
       "      <td>0</td>\n",
       "      <td>0</td>\n",
       "      <td>0.0</td>\n",
       "      <td>0.0</td>\n",
       "      <td>0.0</td>\n",
       "      <td>0.0</td>\n",
       "      <td>0.0</td>\n",
       "      <td>0</td>\n",
       "      <td>1</td>\n",
       "      <td>0</td>\n",
       "      <td>3</td>\n",
       "    </tr>\n",
       "    <tr>\n",
       "      <th>2</th>\n",
       "      <td>2</td>\n",
       "      <td>3.0</td>\n",
       "      <td>36673b2f-940a-42b5-994d-1cce4796b55f_1792150</td>\n",
       "      <td>0</td>\n",
       "      <td>0</td>\n",
       "      <td>0</td>\n",
       "      <td>2.0</td>\n",
       "      <td>0.0</td>\n",
       "      <td>0.0</td>\n",
       "      <td>0.0</td>\n",
       "      <td>0.0</td>\n",
       "      <td>0</td>\n",
       "      <td>2</td>\n",
       "      <td>0</td>\n",
       "      <td>3</td>\n",
       "    </tr>\n",
       "    <tr>\n",
       "      <th>3</th>\n",
       "      <td>3</td>\n",
       "      <td>3.0</td>\n",
       "      <td>36673b2f-940a-42b5-994d-1cce4796b55f_1792151</td>\n",
       "      <td>0</td>\n",
       "      <td>0</td>\n",
       "      <td>0</td>\n",
       "      <td>1.0</td>\n",
       "      <td>0.0</td>\n",
       "      <td>0.0</td>\n",
       "      <td>0.0</td>\n",
       "      <td>0.0</td>\n",
       "      <td>0</td>\n",
       "      <td>1</td>\n",
       "      <td>0</td>\n",
       "      <td>3</td>\n",
       "    </tr>\n",
       "    <tr>\n",
       "      <th>4</th>\n",
       "      <td>4</td>\n",
       "      <td>3.0</td>\n",
       "      <td>36673b2f-940a-42b5-994d-1cce4796b55f_1792152</td>\n",
       "      <td>1</td>\n",
       "      <td>1</td>\n",
       "      <td>2</td>\n",
       "      <td>0.0</td>\n",
       "      <td>0.0</td>\n",
       "      <td>0.0</td>\n",
       "      <td>1.0</td>\n",
       "      <td>0.0</td>\n",
       "      <td>3</td>\n",
       "      <td>1</td>\n",
       "      <td>0</td>\n",
       "      <td>3</td>\n",
       "    </tr>\n",
       "  </tbody>\n",
       "</table>\n",
       "</div>"
      ],
      "text/plain": [
       "   Unnamed: 0  customer_id                                new_session_id  \\\n",
       "0           0          3.0  f03b6825-1e6e-4916-bf71-f94ecbcbaee5_7952132   \n",
       "1           1          3.0  36673b2f-940a-42b5-994d-1cce4796b55f_1792149   \n",
       "2           2          3.0  36673b2f-940a-42b5-994d-1cce4796b55f_1792150   \n",
       "3           3          3.0  36673b2f-940a-42b5-994d-1cce4796b55f_1792151   \n",
       "4           4          3.0  36673b2f-940a-42b5-994d-1cce4796b55f_1792152   \n",
       "\n",
       "   target  total_amount  shipment_fee  ADD_TO_CART_COUNT  SEARCH_COUNT  \\\n",
       "0       1             4             0                2.0           0.0   \n",
       "1       0             0             0                0.0           0.0   \n",
       "2       0             0             0                2.0           0.0   \n",
       "3       0             0             0                1.0           0.0   \n",
       "4       1             1             2                0.0           0.0   \n",
       "\n",
       "   ADD_PROMO_COUNT  BOOKING_COUNT  ITEM_DETAIL_COUNT  limit_ship  PAGE_VIEW  \\\n",
       "0              1.0            1.0                0.0           1          8   \n",
       "1              0.0            0.0                0.0           0          1   \n",
       "2              0.0            0.0                0.0           0          2   \n",
       "3              0.0            0.0                0.0           0          1   \n",
       "4              0.0            1.0                0.0           3          1   \n",
       "\n",
       "   total_promo  total_session  \n",
       "0            3              3  \n",
       "1            0              3  \n",
       "2            0              3  \n",
       "3            0              3  \n",
       "4            0              3  "
      ]
     },
     "execution_count": 3,
     "metadata": {},
     "output_type": "execute_result"
    }
   ],
   "source": [
    "df.head(5)"
   ]
  },
  {
   "cell_type": "code",
   "execution_count": 4,
   "metadata": {},
   "outputs": [],
   "source": [
    "df['total_session'] = df.groupby('customer_id')['new_session_id'].transform('count')"
   ]
  },
  {
   "cell_type": "code",
   "execution_count": 5,
   "metadata": {},
   "outputs": [
    {
     "data": {
      "text/html": [
       "<div>\n",
       "<style scoped>\n",
       "    .dataframe tbody tr th:only-of-type {\n",
       "        vertical-align: middle;\n",
       "    }\n",
       "\n",
       "    .dataframe tbody tr th {\n",
       "        vertical-align: top;\n",
       "    }\n",
       "\n",
       "    .dataframe thead th {\n",
       "        text-align: right;\n",
       "    }\n",
       "</style>\n",
       "<table border=\"1\" class=\"dataframe\">\n",
       "  <thead>\n",
       "    <tr style=\"text-align: right;\">\n",
       "      <th></th>\n",
       "      <th>Unnamed: 0</th>\n",
       "      <th>customer_id</th>\n",
       "      <th>new_session_id</th>\n",
       "      <th>target</th>\n",
       "      <th>total_amount</th>\n",
       "      <th>shipment_fee</th>\n",
       "      <th>ADD_TO_CART_COUNT</th>\n",
       "      <th>SEARCH_COUNT</th>\n",
       "      <th>ADD_PROMO_COUNT</th>\n",
       "      <th>BOOKING_COUNT</th>\n",
       "      <th>ITEM_DETAIL_COUNT</th>\n",
       "      <th>limit_ship</th>\n",
       "      <th>PAGE_VIEW</th>\n",
       "      <th>total_promo</th>\n",
       "      <th>total_session</th>\n",
       "    </tr>\n",
       "  </thead>\n",
       "  <tbody>\n",
       "    <tr>\n",
       "      <th>0</th>\n",
       "      <td>0</td>\n",
       "      <td>3.0</td>\n",
       "      <td>f03b6825-1e6e-4916-bf71-f94ecbcbaee5_7952132</td>\n",
       "      <td>1</td>\n",
       "      <td>4</td>\n",
       "      <td>0</td>\n",
       "      <td>2.0</td>\n",
       "      <td>0.0</td>\n",
       "      <td>1.0</td>\n",
       "      <td>1.0</td>\n",
       "      <td>0.0</td>\n",
       "      <td>1</td>\n",
       "      <td>8</td>\n",
       "      <td>3</td>\n",
       "      <td>321</td>\n",
       "    </tr>\n",
       "    <tr>\n",
       "      <th>1</th>\n",
       "      <td>1</td>\n",
       "      <td>3.0</td>\n",
       "      <td>36673b2f-940a-42b5-994d-1cce4796b55f_1792149</td>\n",
       "      <td>0</td>\n",
       "      <td>0</td>\n",
       "      <td>0</td>\n",
       "      <td>0.0</td>\n",
       "      <td>0.0</td>\n",
       "      <td>0.0</td>\n",
       "      <td>0.0</td>\n",
       "      <td>0.0</td>\n",
       "      <td>0</td>\n",
       "      <td>1</td>\n",
       "      <td>0</td>\n",
       "      <td>321</td>\n",
       "    </tr>\n",
       "    <tr>\n",
       "      <th>2</th>\n",
       "      <td>2</td>\n",
       "      <td>3.0</td>\n",
       "      <td>36673b2f-940a-42b5-994d-1cce4796b55f_1792150</td>\n",
       "      <td>0</td>\n",
       "      <td>0</td>\n",
       "      <td>0</td>\n",
       "      <td>2.0</td>\n",
       "      <td>0.0</td>\n",
       "      <td>0.0</td>\n",
       "      <td>0.0</td>\n",
       "      <td>0.0</td>\n",
       "      <td>0</td>\n",
       "      <td>2</td>\n",
       "      <td>0</td>\n",
       "      <td>321</td>\n",
       "    </tr>\n",
       "    <tr>\n",
       "      <th>3</th>\n",
       "      <td>3</td>\n",
       "      <td>3.0</td>\n",
       "      <td>36673b2f-940a-42b5-994d-1cce4796b55f_1792151</td>\n",
       "      <td>0</td>\n",
       "      <td>0</td>\n",
       "      <td>0</td>\n",
       "      <td>1.0</td>\n",
       "      <td>0.0</td>\n",
       "      <td>0.0</td>\n",
       "      <td>0.0</td>\n",
       "      <td>0.0</td>\n",
       "      <td>0</td>\n",
       "      <td>1</td>\n",
       "      <td>0</td>\n",
       "      <td>321</td>\n",
       "    </tr>\n",
       "    <tr>\n",
       "      <th>4</th>\n",
       "      <td>4</td>\n",
       "      <td>3.0</td>\n",
       "      <td>36673b2f-940a-42b5-994d-1cce4796b55f_1792152</td>\n",
       "      <td>1</td>\n",
       "      <td>1</td>\n",
       "      <td>2</td>\n",
       "      <td>0.0</td>\n",
       "      <td>0.0</td>\n",
       "      <td>0.0</td>\n",
       "      <td>1.0</td>\n",
       "      <td>0.0</td>\n",
       "      <td>3</td>\n",
       "      <td>1</td>\n",
       "      <td>0</td>\n",
       "      <td>321</td>\n",
       "    </tr>\n",
       "  </tbody>\n",
       "</table>\n",
       "</div>"
      ],
      "text/plain": [
       "   Unnamed: 0  customer_id                                new_session_id  \\\n",
       "0           0          3.0  f03b6825-1e6e-4916-bf71-f94ecbcbaee5_7952132   \n",
       "1           1          3.0  36673b2f-940a-42b5-994d-1cce4796b55f_1792149   \n",
       "2           2          3.0  36673b2f-940a-42b5-994d-1cce4796b55f_1792150   \n",
       "3           3          3.0  36673b2f-940a-42b5-994d-1cce4796b55f_1792151   \n",
       "4           4          3.0  36673b2f-940a-42b5-994d-1cce4796b55f_1792152   \n",
       "\n",
       "   target  total_amount  shipment_fee  ADD_TO_CART_COUNT  SEARCH_COUNT  \\\n",
       "0       1             4             0                2.0           0.0   \n",
       "1       0             0             0                0.0           0.0   \n",
       "2       0             0             0                2.0           0.0   \n",
       "3       0             0             0                1.0           0.0   \n",
       "4       1             1             2                0.0           0.0   \n",
       "\n",
       "   ADD_PROMO_COUNT  BOOKING_COUNT  ITEM_DETAIL_COUNT  limit_ship  PAGE_VIEW  \\\n",
       "0              1.0            1.0                0.0           1          8   \n",
       "1              0.0            0.0                0.0           0          1   \n",
       "2              0.0            0.0                0.0           0          2   \n",
       "3              0.0            0.0                0.0           0          1   \n",
       "4              0.0            1.0                0.0           3          1   \n",
       "\n",
       "   total_promo  total_session  \n",
       "0            3            321  \n",
       "1            0            321  \n",
       "2            0            321  \n",
       "3            0            321  \n",
       "4            0            321  "
      ]
     },
     "execution_count": 5,
     "metadata": {},
     "output_type": "execute_result"
    }
   ],
   "source": [
    "df.head(5)"
   ]
  },
  {
   "cell_type": "code",
   "execution_count": 6,
   "metadata": {},
   "outputs": [
    {
     "data": {
      "text/plain": [
       "Index(['Unnamed: 0', 'customer_id', 'new_session_id', 'target', 'total_amount',\n",
       "       'shipment_fee', 'ADD_TO_CART_COUNT', 'SEARCH_COUNT', 'ADD_PROMO_COUNT',\n",
       "       'BOOKING_COUNT', 'ITEM_DETAIL_COUNT', 'limit_ship', 'PAGE_VIEW',\n",
       "       'total_promo', 'total_session'],\n",
       "      dtype='object')"
      ]
     },
     "execution_count": 6,
     "metadata": {},
     "output_type": "execute_result"
    }
   ],
   "source": [
    "df.columns"
   ]
  },
  {
   "cell_type": "code",
   "execution_count": 8,
   "metadata": {},
   "outputs": [],
   "source": [
    "X = df[['total_amount','shipment_fee', 'ADD_TO_CART_COUNT', 'SEARCH_COUNT', 'ADD_PROMO_COUNT',\n",
    "       'BOOKING_COUNT', 'ITEM_DETAIL_COUNT', 'limit_ship', 'PAGE_VIEW',\n",
    "       'total_promo', 'total_session']]\n",
    "y = df['target']"
   ]
  },
  {
   "cell_type": "code",
   "execution_count": 8,
   "metadata": {},
   "outputs": [
    {
     "name": "stdout",
     "output_type": "stream",
     "text": [
      "data training:  (3041769, 11)\n",
      "data testing:  (1303616, 11)\n"
     ]
    }
   ],
   "source": [
    "from sklearn.model_selection import train_test_split\n",
    "\n",
    "X_train, X_test, y_train, y_test = train_test_split(X, y, random_state=42, test_size=0.3)\n",
    "print(\"data training: \", X_train.shape)\n",
    "print(\"data testing: \", X_test.shape)"
   ]
  },
  {
   "cell_type": "code",
   "execution_count": 24,
   "metadata": {},
   "outputs": [
    {
     "data": {
      "text/plain": [
       "(3041769,)"
      ]
     },
     "execution_count": 24,
     "metadata": {},
     "output_type": "execute_result"
    }
   ],
   "source": [
    "y_train.shape"
   ]
  },
  {
   "cell_type": "code",
   "execution_count": 16,
   "metadata": {},
   "outputs": [],
   "source": [
    "from sklearn.model_selection import train_test_split\n",
    "from sklearn.metrics import accuracy_score, confusion_matrix,precision_score,recall_score,roc_auc_score,f1_score,roc_curve\n",
    "from sklearn.linear_model import LogisticRegression\n",
    "from sklearn.tree import DecisionTreeClassifier\n",
    "from sklearn.svm import SVC\n",
    "from xgboost import XGBClassifier\n",
    "from sklearn import svm\n",
    "from sklearn.ensemble import RandomForestClassifier\n",
    "from sklearn.neighbors import KNeighborsClassifier"
   ]
  },
  {
   "cell_type": "code",
   "execution_count": 18,
   "metadata": {},
   "outputs": [],
   "source": [
    "classifiers = {\n",
    "    \"LogisticRegression\" : LogisticRegression(),\n",
    "    \"KNeighbors\" : KNeighborsClassifier(),\n",
    "    \"DecisionTree\" : DecisionTreeClassifier(),\n",
    "    \"RandomForest\" : RandomForestClassifier(n_estimators=250,max_depth=12,min_samples_leaf=16),\n",
    "    \"XGBoost\" : XGBClassifier(max_depth=12,\n",
    "                              n_estimators=250,\n",
    "                              min_child_weight=8, \n",
    "                              subsample=0.8, \n",
    "                              learning_rate =0.02,    \n",
    "                              seed=42)\n",
    "}"
   ]
  },
  {
   "cell_type": "code",
   "execution_count": 15,
   "metadata": {},
   "outputs": [],
   "source": [
    "result_table = pd.DataFrame(columns=['classifiers','accuracy','presicion','recall','f1_score','fpr','tpr','auc'])"
   ]
  },
  {
   "cell_type": "code",
   "execution_count": 59,
   "metadata": {},
   "outputs": [
    {
     "name": "stderr",
     "output_type": "stream",
     "text": [
      "c:\\Users\\mj985\\anaconda3\\envs\\assign\\lib\\site-packages\\sklearn\\linear_model\\_logistic.py:458: ConvergenceWarning: lbfgs failed to converge (status=1):\n",
      "STOP: TOTAL NO. of ITERATIONS REACHED LIMIT.\n",
      "\n",
      "Increase the number of iterations (max_iter) or scale the data as shown in:\n",
      "    https://scikit-learn.org/stable/modules/preprocessing.html\n",
      "Please also refer to the documentation for alternative solver options:\n",
      "    https://scikit-learn.org/stable/modules/linear_model.html#logistic-regression\n",
      "  n_iter_i = _check_optimize_result(\n"
     ]
    },
    {
     "name": "stdout",
     "output_type": "stream",
     "text": [
      "Accuracy: 85.51%\n",
      "Class probabilities:\n",
      "[[0.89065837 0.10934163]\n",
      " [0.17320445 0.82679555]\n",
      " [0.76901285 0.23098715]\n",
      " ...\n",
      " [0.79531974 0.20468026]\n",
      " [0.93022534 0.06977466]\n",
      " [0.85909013 0.14090987]]\n"
     ]
    }
   ],
   "source": [
    "# 로지스틱 회귀 모델 생성\n",
    "model = LogisticRegression()\n",
    "\n",
    "# 모델 학습\n",
    "model.fit(X_train, y_train)\n",
    "\n",
    "# 테스트 데이터로 예측\n",
    "y_pred = model.predict(X_test)\n",
    "y_pred_proba = model.predict_proba(X_test)\n",
    "\n",
    "# 정확도 계산\n",
    "accuracy = accuracy_score(y_test, y_pred)\n",
    "print(\"Accuracy: {:.2f}%\".format(accuracy * 100))\n",
    "\n",
    "# 각 클래스에 속할 확률 출력\n",
    "print(\"Class probabilities:\\n{}\".format(y_pred_proba))"
   ]
  },
  {
   "cell_type": "code",
   "execution_count": 64,
   "metadata": {},
   "outputs": [
    {
     "data": {
      "text/plain": [
       "2685437    0\n",
       "3856564    1\n",
       "3144437    0\n",
       "3059282    0\n",
       "948815     0\n",
       "          ..\n",
       "2058718    0\n",
       "312003     0\n",
       "3082701    0\n",
       "3858954    0\n",
       "3639091    0\n",
       "Name: target, Length: 1303616, dtype: int64"
      ]
     },
     "execution_count": 64,
     "metadata": {},
     "output_type": "execute_result"
    }
   ],
   "source": [
    "y_test"
   ]
  },
  {
   "cell_type": "code",
   "execution_count": 62,
   "metadata": {},
   "outputs": [
    {
     "data": {
      "text/plain": [
       "array([0, 1, 0, ..., 0, 0, 0], dtype=int64)"
      ]
     },
     "execution_count": 62,
     "metadata": {},
     "output_type": "execute_result"
    }
   ],
   "source": [
    "y_pred"
   ]
  },
  {
   "cell_type": "code",
   "execution_count": 70,
   "metadata": {},
   "outputs": [],
   "source": [
    "y_pred_series = pd.Series(y_pred, index=y_test.index)"
   ]
  },
  {
   "cell_type": "code",
   "execution_count": 65,
   "metadata": {},
   "outputs": [],
   "source": [
    "y_test_array = y_test.values"
   ]
  },
  {
   "cell_type": "code",
   "execution_count": 67,
   "metadata": {},
   "outputs": [
    {
     "data": {
      "text/plain": [
       "array([0, 1, 0, ..., 0, 0, 0], dtype=int64)"
      ]
     },
     "execution_count": 67,
     "metadata": {},
     "output_type": "execute_result"
    }
   ],
   "source": [
    "y_test_array"
   ]
  },
  {
   "cell_type": "code",
   "execution_count": 72,
   "metadata": {},
   "outputs": [
    {
     "data": {
      "text/plain": [
       "2685437    0\n",
       "3856564    1\n",
       "3144437    0\n",
       "3059282    0\n",
       "948815     0\n",
       "          ..\n",
       "2058718    0\n",
       "312003     0\n",
       "3082701    0\n",
       "3858954    0\n",
       "3639091    0\n",
       "Length: 1303616, dtype: int64"
      ]
     },
     "execution_count": 72,
     "metadata": {},
     "output_type": "execute_result"
    }
   ],
   "source": [
    "y_pred_series"
   ]
  },
  {
   "cell_type": "code",
   "execution_count": 75,
   "metadata": {},
   "outputs": [
    {
     "ename": "TypeError",
     "evalue": "'numpy.ndarray' object is not callable",
     "output_type": "error",
     "traceback": [
      "\u001b[1;31m---------------------------------------------------------------------------\u001b[0m",
      "\u001b[1;31mTypeError\u001b[0m                                 Traceback (most recent call last)",
      "\u001b[1;32mc:\\Users\\mj985\\section5\\ecommerce_project\\model\\check_accuracy.ipynb Cell 20\u001b[0m in \u001b[0;36m<cell line: 2>\u001b[1;34m()\u001b[0m\n\u001b[0;32m      <a href='vscode-notebook-cell:/c%3A/Users/mj985/section5/ecommerce_project/model/check_accuracy.ipynb#X46sZmlsZQ%3D%3D?line=0'>1</a>\u001b[0m \u001b[39m# confusion matrix 출력\u001b[39;00m\n\u001b[1;32m----> <a href='vscode-notebook-cell:/c%3A/Users/mj985/section5/ecommerce_project/model/check_accuracy.ipynb#X46sZmlsZQ%3D%3D?line=1'>2</a>\u001b[0m \u001b[39mprint\u001b[39m(\u001b[39m\"\u001b[39m\u001b[39mConfusion Matrix:\u001b[39m\u001b[39m\\n\u001b[39;00m\u001b[39m{}\u001b[39;00m\u001b[39m\"\u001b[39m\u001b[39m.\u001b[39mformat(confusion_matrix(y_test, y_pred_series)))\n\u001b[0;32m      <a href='vscode-notebook-cell:/c%3A/Users/mj985/section5/ecommerce_project/model/check_accuracy.ipynb#X46sZmlsZQ%3D%3D?line=3'>4</a>\u001b[0m \u001b[39m# precision, recall, f1-score 출력\u001b[39;00m\n\u001b[0;32m      <a href='vscode-notebook-cell:/c%3A/Users/mj985/section5/ecommerce_project/model/check_accuracy.ipynb#X46sZmlsZQ%3D%3D?line=4'>5</a>\u001b[0m \u001b[39mprint\u001b[39m(\u001b[39m\"\u001b[39m\u001b[39mPrecision Score: \u001b[39m\u001b[39m{:.2f}\u001b[39;00m\u001b[39m%\u001b[39m\u001b[39m\"\u001b[39m\u001b[39m.\u001b[39mformat(precision_score(y_test, y_pred_series, average\u001b[39m=\u001b[39m\u001b[39m\"\u001b[39m\u001b[39mweighted\u001b[39m\u001b[39m\"\u001b[39m) \u001b[39m*\u001b[39m \u001b[39m100\u001b[39m))\n",
      "\u001b[1;31mTypeError\u001b[0m: 'numpy.ndarray' object is not callable"
     ]
    }
   ],
   "source": [
    "# confusion matrix 출력\n",
    "print(\"Confusion Matrix:\\n{}\".format(confusion_matrix(y_test, y_pred_series)))\n",
    "\n",
    "# precision, recall, f1-score 출력\n",
    "print(\"Precision Score: {:.2f}%\".format(precision_score(y_test, y_pred_series, average=\"weighted\") * 100))\n",
    "print(\"Recall Score: {:.2f}%\".format(recall_score(y_test, y_pred_series, average=\"weighted\") * 100))\n",
    "print(\"F1 Score: {:.2f}%\".format(f1_score(y_test, y_pred_series, average=\"weighted\") * 100))"
   ]
  },
  {
   "cell_type": "code",
   "execution_count": 77,
   "metadata": {},
   "outputs": [
    {
     "ename": "TypeError",
     "evalue": "'numpy.ndarray' object is not callable",
     "output_type": "error",
     "traceback": [
      "\u001b[1;31m---------------------------------------------------------------------------\u001b[0m",
      "\u001b[1;31mTypeError\u001b[0m                                 Traceback (most recent call last)",
      "\u001b[1;32mc:\\Users\\mj985\\section5\\ecommerce_project\\model\\check_accuracy.ipynb Cell 21\u001b[0m in \u001b[0;36m<cell line: 2>\u001b[1;34m()\u001b[0m\n\u001b[0;32m      <a href='vscode-notebook-cell:/c%3A/Users/mj985/section5/ecommerce_project/model/check_accuracy.ipynb#X50sZmlsZQ%3D%3D?line=0'>1</a>\u001b[0m \u001b[39m# confusion matrix 출력\u001b[39;00m\n\u001b[1;32m----> <a href='vscode-notebook-cell:/c%3A/Users/mj985/section5/ecommerce_project/model/check_accuracy.ipynb#X50sZmlsZQ%3D%3D?line=1'>2</a>\u001b[0m confusion_matrix \u001b[39m=\u001b[39m confusion_matrix(y_test, y_pred_series)\n\u001b[0;32m      <a href='vscode-notebook-cell:/c%3A/Users/mj985/section5/ecommerce_project/model/check_accuracy.ipynb#X50sZmlsZQ%3D%3D?line=2'>3</a>\u001b[0m \u001b[39mprint\u001b[39m(\u001b[39m\"\u001b[39m\u001b[39mConfusion Matrix:\u001b[39m\u001b[39m\\n\u001b[39;00m\u001b[39m{}\u001b[39;00m\u001b[39m\"\u001b[39m\u001b[39m.\u001b[39mformat(confusion_matrix))\n\u001b[0;32m      <a href='vscode-notebook-cell:/c%3A/Users/mj985/section5/ecommerce_project/model/check_accuracy.ipynb#X50sZmlsZQ%3D%3D?line=4'>5</a>\u001b[0m \u001b[39m# confusion matrix 시각화\u001b[39;00m\n",
      "\u001b[1;31mTypeError\u001b[0m: 'numpy.ndarray' object is not callable"
     ]
    }
   ],
   "source": [
    "# confusion matrix 출력\n",
    "confusion_matrix = confusion_matrix(y_test, y_pred_series)\n",
    "print(\"Confusion Matrix:\\n{}\".format(confusion_matrix))\n",
    "\n",
    "# confusion matrix 시각화\n",
    "disp = ConfusionMatrixDisplay(confusion_matrix=confusion_matrix, display_labels=model.classes_)\n",
    "disp.plot(cmap=\"Blues\")"
   ]
  },
  {
   "cell_type": "code",
   "execution_count": 55,
   "metadata": {},
   "outputs": [
    {
     "data": {
      "text/plain": [
       "target\n",
       "0    0.777027\n",
       "1    0.222973\n",
       "Name: proportion, dtype: float64"
      ]
     },
     "execution_count": 55,
     "metadata": {},
     "output_type": "execute_result"
    }
   ],
   "source": [
    "y.value_counts(normalize=True)"
   ]
  },
  {
   "cell_type": "code",
   "execution_count": 30,
   "metadata": {},
   "outputs": [
    {
     "name": "stdout",
     "output_type": "stream",
     "text": [
      "Accuracy: 86.34%\n",
      "Class probabilities:\n",
      "[[0.91629195 0.08370807]\n",
      " [0.02611965 0.97388035]\n",
      " [0.478011   0.521989  ]\n",
      " ...\n",
      " [0.83330333 0.16669664]\n",
      " [0.9148429  0.08515711]\n",
      " [0.95534843 0.04465159]]\n"
     ]
    }
   ],
   "source": [
    "model = XGBClassifier(max_depth=12, n_estimators=250,min_child_weight=8,subsample=0.8, learning_rate =0.02, seed=42)\n",
    "model.fit(X_train, y_train)\n",
    "y_predict = model.predict(X_test)\n",
    "\n",
    "# 테스트 데이터로 예측\n",
    "y_pred = model.predict(X_test)\n",
    "y_pred_proba = model.predict_proba(X_test)\n",
    "\n",
    "# 정확도 계산\n",
    "accuracy = accuracy_score(y_test, y_pred)\n",
    "print(\"Accuracy: {:.2f}%\".format(accuracy * 100))\n",
    "\n",
    "# 각 클래스에 속할 확률 출력\n",
    "print(\"Class probabilities:\\n{}\".format(y_pred_proba))\n",
    "\n",
    "\n"
   ]
  },
  {
   "cell_type": "code",
   "execution_count": 31,
   "metadata": {},
   "outputs": [
    {
     "name": "stdout",
     "output_type": "stream",
     "text": [
      "Confusion Matrix:\n",
      "[[977473  34935]\n",
      " [143093 148115]]\n",
      "Precision Score: 85.82%\n",
      "Recall Score: 86.34%\n",
      "F1 Score: 85.13%\n"
     ]
    }
   ],
   "source": [
    "# confusion matrix 출력\n",
    "print(\"Confusion Matrix:\\n{}\".format(confusion_matrix(y_test, y_pred)))\n",
    "\n",
    "# precision, recall, f1-score 출력\n",
    "print(\"Precision Score: {:.2f}%\".format(precision_score(y_test, y_pred, average=\"weighted\") * 100))\n",
    "print(\"Recall Score: {:.2f}%\".format(recall_score(y_test, y_pred, average=\"weighted\") * 100))\n",
    "print(\"F1 Score: {:.2f}%\".format(f1_score(y_test, y_pred, average=\"weighted\") * 100))"
   ]
  },
  {
   "cell_type": "code",
   "execution_count": 73,
   "metadata": {},
   "outputs": [],
   "source": [
    "from sklearn.metrics import ConfusionMatrixDisplay"
   ]
  },
  {
   "cell_type": "code",
   "execution_count": 34,
   "metadata": {},
   "outputs": [
    {
     "name": "stdout",
     "output_type": "stream",
     "text": [
      "Confusion Matrix:\n",
      "[[977473  34935]\n",
      " [143093 148115]]\n"
     ]
    },
    {
     "data": {
      "text/plain": [
       "<sklearn.metrics._plot.confusion_matrix.ConfusionMatrixDisplay at 0x21fffde7340>"
      ]
     },
     "execution_count": 34,
     "metadata": {},
     "output_type": "execute_result"
    },
    {
     "data": {
      "image/png": "[encoded data removed]",
      "text/plain": [
       "<Figure size 640x480 with 2 Axes>"
      ]
     },
     "metadata": {},
     "output_type": "display_data"
    }
   ],
   "source": [
    "# confusion matrix 출력\n",
    "confusion_matrix = confusion_matrix(y_test, y_pred)\n",
    "print(\"Confusion Matrix:\\n{}\".format(confusion_matrix))\n",
    "\n",
    "# confusion matrix 시각화\n",
    "disp = ConfusionMatrixDisplay(confusion_matrix=confusion_matrix, display_labels=model.classes_)\n",
    "disp.plot(cmap=\"Blues\")"
   ]
  },
  {
   "cell_type": "code",
   "execution_count": 74,
   "metadata": {},
   "outputs": [],
   "source": [
    "import tensorflow as tf\n",
    "from tensorflow.keras import layers"
   ]
  },
  {
   "cell_type": "code",
   "execution_count": 37,
   "metadata": {},
   "outputs": [
    {
     "name": "stdout",
     "output_type": "stream",
     "text": [
      "Epoch 1/10\n",
      "95056/95056 [==============================] - 131s 1ms/step - loss: 0.3865 - accuracy: 0.8594\n",
      "Epoch 2/10\n",
      "95056/95056 [==============================] - 126s 1ms/step - loss: 0.3773 - accuracy: 0.8612\n",
      "Epoch 3/10\n",
      "95056/95056 [==============================] - 124s 1ms/step - loss: 0.3763 - accuracy: 0.8617\n",
      "Epoch 4/10\n",
      "95056/95056 [==============================] - 125s 1ms/step - loss: 0.3757 - accuracy: 0.8619\n",
      "Epoch 5/10\n",
      "95056/95056 [==============================] - 119s 1ms/step - loss: 0.3753 - accuracy: 0.8619\n",
      "Epoch 6/10\n",
      "95056/95056 [==============================] - 119s 1ms/step - loss: 0.3753 - accuracy: 0.8619\n",
      "Epoch 7/10\n",
      "95056/95056 [==============================] - 120s 1ms/step - loss: 0.3749 - accuracy: 0.8619\n",
      "Epoch 8/10\n",
      "95056/95056 [==============================] - 119s 1ms/step - loss: 0.3748 - accuracy: 0.8620\n",
      "Epoch 9/10\n",
      "95056/95056 [==============================] - 119s 1ms/step - loss: 0.3747 - accuracy: 0.8620\n",
      "Epoch 10/10\n",
      "95056/95056 [==============================] - 120s 1ms/step - loss: 0.3746 - accuracy: 0.8621\n",
      "40738/40738 [==============================] - 42s 1ms/step - loss: 0.3763 - accuracy: 0.8620\n",
      "Test accuracy: 0.8619639277458191\n",
      "40738/40738 [==============================] - 37s 895us/step\n",
      "Accuracy: 0.8619639525749914\n",
      "F1 score: 0.6189457724169476\n",
      "Recall: 0.5018509106892668\n",
      "Precision: 0.8073128424960226\n"
     ]
    }
   ],
   "source": [
    "# 모델 구성\n",
    "deep_model = tf.keras.Sequential([\n",
    "    tf.keras.layers.Dense(64, activation='relu', input_shape=(X_train.shape[1],)),\n",
    "    tf.keras.layers.Dense(32, activation='relu'),\n",
    "    tf.keras.layers.Dense(1, activation='sigmoid')\n",
    "])\n",
    "\n",
    "# 모델 컴파일\n",
    "deep_model.compile(optimizer='adam',\n",
    "              loss='binary_crossentropy',\n",
    "              metrics=['accuracy'])\n",
    "\n",
    "# 모델 학습\n",
    "deep_model.fit(X_train, y_train, epochs=10)\n",
    "\n",
    "# 모델 평가\n",
    "test_loss, test_acc = deep_model.evaluate(X_test, y_test)\n",
    "print('Test accuracy:', test_acc)\n",
    "\n",
    "# 예측값 계산\n",
    "y_pred = deep_model.predict(X_test)\n",
    "\n",
    "# 지표 계산\n",
    "y_pred = (y_pred > 0.5).astype(int)\n",
    "acc = accuracy_score(y_test, y_pred)\n",
    "f1 = f1_score(y_test, y_pred)\n",
    "recall = recall_score(y_test, y_pred)\n",
    "precision = precision_score(y_test, y_pred)\n",
    "\n",
    "print('Accuracy:', acc)\n",
    "print('F1 score:', f1)\n",
    "print('Recall:', recall)\n",
    "print('Precision:', precision)"
   ]
  },
  {
   "cell_type": "code",
   "execution_count": 38,
   "metadata": {},
   "outputs": [
    {
     "name": "stdout",
     "output_type": "stream",
     "text": [
      "Epoch 1/10\n",
      "23764/23764 [==============================] - 35s 1ms/step - loss: 0.3983 - accuracy: 0.8572\n",
      "Epoch 2/10\n",
      "23764/23764 [==============================] - 30s 1ms/step - loss: 0.3787 - accuracy: 0.8609\n",
      "Epoch 3/10\n",
      "23764/23764 [==============================] - 29s 1ms/step - loss: 0.3760 - accuracy: 0.8619\n",
      "Epoch 4/10\n",
      "23764/23764 [==============================] - 36s 2ms/step - loss: 0.3750 - accuracy: 0.8620\n",
      "Epoch 5/10\n",
      "23764/23764 [==============================] - 37s 2ms/step - loss: 0.3744 - accuracy: 0.8622\n",
      "Epoch 6/10\n",
      "23764/23764 [==============================] - 35s 1ms/step - loss: 0.3740 - accuracy: 0.8623\n",
      "Epoch 7/10\n",
      "23764/23764 [==============================] - 37s 2ms/step - loss: 0.3738 - accuracy: 0.8623\n",
      "Epoch 8/10\n",
      "23764/23764 [==============================] - 35s 1ms/step - loss: 0.3735 - accuracy: 0.8623\n",
      "Epoch 9/10\n",
      "23764/23764 [==============================] - 36s 2ms/step - loss: 0.3734 - accuracy: 0.8623\n",
      "Epoch 10/10\n",
      "23764/23764 [==============================] - 36s 2ms/step - loss: 0.3732 - accuracy: 0.8625\n",
      "40738/40738 [==============================] - 48s 1ms/step - loss: 0.3730 - accuracy: 0.8626\n",
      "Test accuracy: 0.862559974193573\n",
      "40738/40738 [==============================] - 41s 1ms/step\n",
      "Accuracy: 0.8625599869900339\n",
      "F1 score: 0.62524863993173\n",
      "Recall: 0.5132619982967501\n",
      "Precision: 0.799741028288914\n"
     ]
    }
   ],
   "source": [
    "# 모델 구성\n",
    "deep_model = tf.keras.Sequential([\n",
    "    tf.keras.layers.Dense(64, activation='relu', input_shape=(X_train.shape[1],)),\n",
    "    tf.keras.layers.Dense(32, activation='relu'),\n",
    "    tf.keras.layers.Dense(1, activation='sigmoid')\n",
    "])\n",
    "\n",
    "# 모델 컴파일\n",
    "deep_model.compile(optimizer='adam',\n",
    "              loss='binary_crossentropy',\n",
    "              metrics=['accuracy'])\n",
    "\n",
    "# 모델 학습\n",
    "deep_model.fit(X_train, y_train, epochs=10, batch_size = 128)\n",
    "\n",
    "# 모델 평가\n",
    "test_loss, test_acc = deep_model.evaluate(X_test, y_test)\n",
    "print('Test accuracy:', test_acc)\n",
    "\n",
    "# 예측값 계산\n",
    "y_pred = deep_model.predict(X_test)\n",
    "\n",
    "# 지표 계산\n",
    "y_pred = (y_pred > 0.5).astype(int)\n",
    "acc = accuracy_score(y_test, y_pred)\n",
    "f1 = f1_score(y_test, y_pred)\n",
    "recall = recall_score(y_test, y_pred)\n",
    "precision = precision_score(y_test, y_pred)\n",
    "\n",
    "print('Accuracy:', acc)\n",
    "print('F1 score:', f1)\n",
    "print('Recall:', recall)\n",
    "print('Precision:', precision)"
   ]
  },
  {
   "cell_type": "code",
   "execution_count": 39,
   "metadata": {},
   "outputs": [
    {
     "name": "stdout",
     "output_type": "stream",
     "text": [
      "Epoch 1/10\n",
      "11882/11882 [==============================] - 20s 2ms/step - loss: 0.4098 - accuracy: 0.8554\n",
      "Epoch 2/10\n",
      "11882/11882 [==============================] - 19s 2ms/step - loss: 0.3873 - accuracy: 0.8596\n",
      "Epoch 3/10\n",
      "11882/11882 [==============================] - 20s 2ms/step - loss: 0.3799 - accuracy: 0.8609\n",
      "Epoch 4/10\n",
      "11882/11882 [==============================] - 21s 2ms/step - loss: 0.3767 - accuracy: 0.8615\n",
      "Epoch 5/10\n",
      "11882/11882 [==============================] - 20s 2ms/step - loss: 0.3754 - accuracy: 0.8617\n",
      "Epoch 6/10\n",
      "11882/11882 [==============================] - 19s 2ms/step - loss: 0.3748 - accuracy: 0.8619\n",
      "Epoch 7/10\n",
      "11882/11882 [==============================] - 20s 2ms/step - loss: 0.3744 - accuracy: 0.8620\n",
      "Epoch 8/10\n",
      "11882/11882 [==============================] - 19s 2ms/step - loss: 0.3741 - accuracy: 0.8621\n",
      "Epoch 9/10\n",
      "11882/11882 [==============================] - 19s 2ms/step - loss: 0.3738 - accuracy: 0.8622\n",
      "Epoch 10/10\n",
      "11882/11882 [==============================] - 18s 1ms/step - loss: 0.3736 - accuracy: 0.8622\n",
      "40738/40738 [==============================] - 45s 1ms/step - loss: 0.3734 - accuracy: 0.8623\n",
      "Test accuracy: 0.8623175621032715\n",
      "40738/40738 [==============================] - 39s 967us/step\n",
      "Accuracy: 0.8623175843193087\n",
      "F1 score: 0.6191889638315975\n",
      "Recall: 0.5010817010521689\n",
      "Precision: 0.8101435194181495\n"
     ]
    }
   ],
   "source": [
    "# 모델 구성\n",
    "deep_model = tf.keras.Sequential([\n",
    "    tf.keras.layers.Dense(64, activation='relu', input_shape=(X_train.shape[1],)),\n",
    "    tf.keras.layers.Dense(32, activation='relu'),\n",
    "    tf.keras.layers.Dense(1, activation='sigmoid')\n",
    "])\n",
    "\n",
    "# 모델 컴파일\n",
    "deep_model.compile(optimizer='adam',\n",
    "              loss='binary_crossentropy',\n",
    "              metrics=['accuracy'])\n",
    "\n",
    "# 모델 학습\n",
    "deep_model.fit(X_train, y_train, epochs=10, batch_size = 256)\n",
    "\n",
    "# 모델 평가\n",
    "test_loss, test_acc = deep_model.evaluate(X_test, y_test)\n",
    "print('Test accuracy:', test_acc)\n",
    "\n",
    "# 예측값 계산\n",
    "y_pred = deep_model.predict(X_test)\n",
    "\n",
    "# 지표 계산\n",
    "y_pred = (y_pred > 0.5).astype(int)\n",
    "acc = accuracy_score(y_test, y_pred)\n",
    "f1 = f1_score(y_test, y_pred)\n",
    "recall = recall_score(y_test, y_pred)\n",
    "precision = precision_score(y_test, y_pred)\n",
    "\n",
    "print('Accuracy:', acc)\n",
    "print('F1 score:', f1)\n",
    "print('Recall:', recall)\n",
    "print('Precision:', precision)"
   ]
  },
  {
   "cell_type": "code",
   "execution_count": 40,
   "metadata": {},
   "outputs": [
    {
     "name": "stdout",
     "output_type": "stream",
     "text": [
      "{0: 4.229989611145515e-07, 1: 1.4755856968527232e-06}\n"
     ]
    }
   ],
   "source": [
    "import numpy as np\n",
    "\n",
    "# 클래스별 샘플 수 계산\n",
    "n_positive = np.sum(y_train == 1)\n",
    "n_negative = np.sum(y_train == 0)\n",
    "\n",
    "# 클래스별 가중치 계산\n",
    "weight_for_0 = 1 / n_negative\n",
    "weight_for_1 = 1 / n_positive\n",
    "\n",
    "# 클래스별 가중치를 딕셔너리로 저장\n",
    "class_weight = {0: weight_for_0, 1: weight_for_1}\n",
    "\n",
    "print(class_weight)"
   ]
  },
  {
   "cell_type": "code",
   "execution_count": 41,
   "metadata": {},
   "outputs": [
    {
     "name": "stdout",
     "output_type": "stream",
     "text": [
      "Epoch 1/10\n",
      "47528/47528 [==============================] - 72s 2ms/step - loss: 3.5178e-07 - accuracy: 0.8387\n",
      "Epoch 2/10\n",
      "47528/47528 [==============================] - 68s 1ms/step - loss: 3.2697e-07 - accuracy: 0.8252\n",
      "Epoch 3/10\n",
      "47528/47528 [==============================] - 68s 1ms/step - loss: 3.2689e-07 - accuracy: 0.8254\n",
      "Epoch 4/10\n",
      "47528/47528 [==============================] - 68s 1ms/step - loss: 3.2685e-07 - accuracy: 0.8252\n",
      "Epoch 5/10\n",
      "47528/47528 [==============================] - 70s 1ms/step - loss: 3.2678e-07 - accuracy: 0.8252\n",
      "Epoch 6/10\n",
      "47528/47528 [==============================] - 69s 1ms/step - loss: 3.2674e-07 - accuracy: 0.8252\n",
      "Epoch 7/10\n",
      "47528/47528 [==============================] - 69s 1ms/step - loss: 3.2675e-07 - accuracy: 0.8251\n",
      "Epoch 8/10\n",
      "47528/47528 [==============================] - 71s 1ms/step - loss: 3.2672e-07 - accuracy: 0.8251\n",
      "Epoch 9/10\n",
      "47528/47528 [==============================] - 69s 1ms/step - loss: 3.2673e-07 - accuracy: 0.8248\n",
      "Epoch 10/10\n",
      "47528/47528 [==============================] - 70s 1ms/step - loss: 3.2666e-07 - accuracy: 0.8247\n"
     ]
    },
    {
     "data": {
      "text/plain": [
       "<keras.callbacks.History at 0x22022198bb0>"
      ]
     },
     "execution_count": 41,
     "metadata": {},
     "output_type": "execute_result"
    }
   ],
   "source": [
    "# 모델 학습\n",
    "deep_model.fit(X_train, y_train, epochs=10, batch_size=64, class_weight=class_weight)"
   ]
  },
  {
   "cell_type": "code",
   "execution_count": 42,
   "metadata": {},
   "outputs": [
    {
     "name": "stdout",
     "output_type": "stream",
     "text": [
      "40738/40738 [==============================] - 39s 944us/step\n",
      "Accuracy: 0.826833975649271\n",
      "F1 score: 0.6246791162895867\n",
      "Recall: 0.6451093376555589\n",
      "Precision: 0.6055031973595998\n"
     ]
    }
   ],
   "source": [
    "# 예측값 계산\n",
    "y_pred = deep_model.predict(X_test)\n",
    "\n",
    "# 지표 계산\n",
    "y_pred = (y_pred > 0.5).astype(int)\n",
    "acc = accuracy_score(y_test, y_pred)\n",
    "f1 = f1_score(y_test, y_pred)\n",
    "recall = recall_score(y_test, y_pred)\n",
    "precision = precision_score(y_test, y_pred)\n",
    "\n",
    "print('Accuracy:', acc)\n",
    "print('F1 score:', f1)\n",
    "print('Recall:', recall)\n",
    "print('Precision:', precision)"
   ]
  },
  {
   "cell_type": "code",
   "execution_count": 46,
   "metadata": {},
   "outputs": [],
   "source": [
    "y_pred = y_pred.flatten()"
   ]
  },
  {
   "cell_type": "code",
   "execution_count": 50,
   "metadata": {},
   "outputs": [
    {
     "data": {
      "text/plain": [
       "(1303616,)"
      ]
     },
     "execution_count": 50,
     "metadata": {},
     "output_type": "execute_result"
    }
   ],
   "source": [
    "y_pred.shape"
   ]
  },
  {
   "cell_type": "code",
   "execution_count": 10,
   "metadata": {},
   "outputs": [
    {
     "name": "stderr",
     "output_type": "stream",
     "text": [
      "c:\\Users\\mj985\\anaconda3\\envs\\assign\\lib\\site-packages\\sklearn\\linear_model\\_logistic.py:458: ConvergenceWarning: lbfgs failed to converge (status=1):\n",
      "STOP: TOTAL NO. of ITERATIONS REACHED LIMIT.\n",
      "\n",
      "Increase the number of iterations (max_iter) or scale the data as shown in:\n",
      "    https://scikit-learn.org/stable/modules/preprocessing.html\n",
      "Please also refer to the documentation for alternative solver options:\n",
      "    https://scikit-learn.org/stable/modules/linear_model.html#logistic-regression\n",
      "  n_iter_i = _check_optimize_result(\n",
      "c:\\Users\\mj985\\anaconda3\\envs\\assign\\lib\\site-packages\\sklearn\\linear_model\\_logistic.py:458: ConvergenceWarning: lbfgs failed to converge (status=1):\n",
      "STOP: TOTAL NO. of ITERATIONS REACHED LIMIT.\n",
      "\n",
      "Increase the number of iterations (max_iter) or scale the data as shown in:\n",
      "    https://scikit-learn.org/stable/modules/preprocessing.html\n",
      "Please also refer to the documentation for alternative solver options:\n",
      "    https://scikit-learn.org/stable/modules/linear_model.html#logistic-regression\n",
      "  n_iter_i = _check_optimize_result(\n",
      "c:\\Users\\mj985\\anaconda3\\envs\\assign\\lib\\site-packages\\sklearn\\linear_model\\_logistic.py:458: ConvergenceWarning: lbfgs failed to converge (status=1):\n",
      "STOP: TOTAL NO. of ITERATIONS REACHED LIMIT.\n",
      "\n",
      "Increase the number of iterations (max_iter) or scale the data as shown in:\n",
      "    https://scikit-learn.org/stable/modules/preprocessing.html\n",
      "Please also refer to the documentation for alternative solver options:\n",
      "    https://scikit-learn.org/stable/modules/linear_model.html#logistic-regression\n",
      "  n_iter_i = _check_optimize_result(\n",
      "c:\\Users\\mj985\\anaconda3\\envs\\assign\\lib\\site-packages\\sklearn\\linear_model\\_logistic.py:458: ConvergenceWarning: lbfgs failed to converge (status=1):\n",
      "STOP: TOTAL NO. of ITERATIONS REACHED LIMIT.\n",
      "\n",
      "Increase the number of iterations (max_iter) or scale the data as shown in:\n",
      "    https://scikit-learn.org/stable/modules/preprocessing.html\n",
      "Please also refer to the documentation for alternative solver options:\n",
      "    https://scikit-learn.org/stable/modules/linear_model.html#logistic-regression\n",
      "  n_iter_i = _check_optimize_result(\n",
      "c:\\Users\\mj985\\anaconda3\\envs\\assign\\lib\\site-packages\\sklearn\\linear_model\\_logistic.py:458: ConvergenceWarning: lbfgs failed to converge (status=1):\n",
      "STOP: TOTAL NO. of ITERATIONS REACHED LIMIT.\n",
      "\n",
      "Increase the number of iterations (max_iter) or scale the data as shown in:\n",
      "    https://scikit-learn.org/stable/modules/preprocessing.html\n",
      "Please also refer to the documentation for alternative solver options:\n",
      "    https://scikit-learn.org/stable/modules/linear_model.html#logistic-regression\n",
      "  n_iter_i = _check_optimize_result(\n",
      "c:\\Users\\mj985\\anaconda3\\envs\\assign\\lib\\site-packages\\sklearn\\linear_model\\_logistic.py:458: ConvergenceWarning: lbfgs failed to converge (status=1):\n",
      "STOP: TOTAL NO. of ITERATIONS REACHED LIMIT.\n",
      "\n",
      "Increase the number of iterations (max_iter) or scale the data as shown in:\n",
      "    https://scikit-learn.org/stable/modules/preprocessing.html\n",
      "Please also refer to the documentation for alternative solver options:\n",
      "    https://scikit-learn.org/stable/modules/linear_model.html#logistic-regression\n",
      "  n_iter_i = _check_optimize_result(\n",
      "c:\\Users\\mj985\\anaconda3\\envs\\assign\\lib\\site-packages\\sklearn\\linear_model\\_logistic.py:458: ConvergenceWarning: lbfgs failed to converge (status=1):\n",
      "STOP: TOTAL NO. of ITERATIONS REACHED LIMIT.\n",
      "\n",
      "Increase the number of iterations (max_iter) or scale the data as shown in:\n",
      "    https://scikit-learn.org/stable/modules/preprocessing.html\n",
      "Please also refer to the documentation for alternative solver options:\n",
      "    https://scikit-learn.org/stable/modules/linear_model.html#logistic-regression\n",
      "  n_iter_i = _check_optimize_result(\n",
      "c:\\Users\\mj985\\anaconda3\\envs\\assign\\lib\\site-packages\\sklearn\\linear_model\\_logistic.py:458: ConvergenceWarning: lbfgs failed to converge (status=1):\n",
      "STOP: TOTAL NO. of ITERATIONS REACHED LIMIT.\n",
      "\n",
      "Increase the number of iterations (max_iter) or scale the data as shown in:\n",
      "    https://scikit-learn.org/stable/modules/preprocessing.html\n",
      "Please also refer to the documentation for alternative solver options:\n",
      "    https://scikit-learn.org/stable/modules/linear_model.html#logistic-regression\n",
      "  n_iter_i = _check_optimize_result(\n",
      "c:\\Users\\mj985\\anaconda3\\envs\\assign\\lib\\site-packages\\sklearn\\linear_model\\_logistic.py:458: ConvergenceWarning: lbfgs failed to converge (status=1):\n",
      "STOP: TOTAL NO. of ITERATIONS REACHED LIMIT.\n",
      "\n",
      "Increase the number of iterations (max_iter) or scale the data as shown in:\n",
      "    https://scikit-learn.org/stable/modules/preprocessing.html\n",
      "Please also refer to the documentation for alternative solver options:\n",
      "    https://scikit-learn.org/stable/modules/linear_model.html#logistic-regression\n",
      "  n_iter_i = _check_optimize_result(\n",
      "c:\\Users\\mj985\\anaconda3\\envs\\assign\\lib\\site-packages\\sklearn\\linear_model\\_logistic.py:458: ConvergenceWarning: lbfgs failed to converge (status=1):\n",
      "STOP: TOTAL NO. of ITERATIONS REACHED LIMIT.\n",
      "\n",
      "Increase the number of iterations (max_iter) or scale the data as shown in:\n",
      "    https://scikit-learn.org/stable/modules/preprocessing.html\n",
      "Please also refer to the documentation for alternative solver options:\n",
      "    https://scikit-learn.org/stable/modules/linear_model.html#logistic-regression\n",
      "  n_iter_i = _check_optimize_result(\n",
      "c:\\Users\\mj985\\anaconda3\\envs\\assign\\lib\\site-packages\\sklearn\\linear_model\\_logistic.py:458: ConvergenceWarning: lbfgs failed to converge (status=1):\n",
      "STOP: TOTAL NO. of ITERATIONS REACHED LIMIT.\n",
      "\n",
      "Increase the number of iterations (max_iter) or scale the data as shown in:\n",
      "    https://scikit-learn.org/stable/modules/preprocessing.html\n",
      "Please also refer to the documentation for alternative solver options:\n",
      "    https://scikit-learn.org/stable/modules/linear_model.html#logistic-regression\n",
      "  n_iter_i = _check_optimize_result(\n",
      "c:\\Users\\mj985\\anaconda3\\envs\\assign\\lib\\site-packages\\sklearn\\linear_model\\_logistic.py:458: ConvergenceWarning: lbfgs failed to converge (status=1):\n",
      "STOP: TOTAL NO. of ITERATIONS REACHED LIMIT.\n",
      "\n",
      "Increase the number of iterations (max_iter) or scale the data as shown in:\n",
      "    https://scikit-learn.org/stable/modules/preprocessing.html\n",
      "Please also refer to the documentation for alternative solver options:\n",
      "    https://scikit-learn.org/stable/modules/linear_model.html#logistic-regression\n",
      "  n_iter_i = _check_optimize_result(\n",
      "c:\\Users\\mj985\\anaconda3\\envs\\assign\\lib\\site-packages\\sklearn\\linear_model\\_logistic.py:458: ConvergenceWarning: lbfgs failed to converge (status=1):\n",
      "STOP: TOTAL NO. of ITERATIONS REACHED LIMIT.\n",
      "\n",
      "Increase the number of iterations (max_iter) or scale the data as shown in:\n",
      "    https://scikit-learn.org/stable/modules/preprocessing.html\n",
      "Please also refer to the documentation for alternative solver options:\n",
      "    https://scikit-learn.org/stable/modules/linear_model.html#logistic-regression\n",
      "  n_iter_i = _check_optimize_result(\n",
      "c:\\Users\\mj985\\anaconda3\\envs\\assign\\lib\\site-packages\\sklearn\\linear_model\\_logistic.py:458: ConvergenceWarning: lbfgs failed to converge (status=1):\n",
      "STOP: TOTAL NO. of ITERATIONS REACHED LIMIT.\n",
      "\n",
      "Increase the number of iterations (max_iter) or scale the data as shown in:\n",
      "    https://scikit-learn.org/stable/modules/preprocessing.html\n",
      "Please also refer to the documentation for alternative solver options:\n",
      "    https://scikit-learn.org/stable/modules/linear_model.html#logistic-regression\n",
      "  n_iter_i = _check_optimize_result(\n",
      "c:\\Users\\mj985\\anaconda3\\envs\\assign\\lib\\site-packages\\sklearn\\linear_model\\_logistic.py:458: ConvergenceWarning: lbfgs failed to converge (status=1):\n",
      "STOP: TOTAL NO. of ITERATIONS REACHED LIMIT.\n",
      "\n",
      "Increase the number of iterations (max_iter) or scale the data as shown in:\n",
      "    https://scikit-learn.org/stable/modules/preprocessing.html\n",
      "Please also refer to the documentation for alternative solver options:\n",
      "    https://scikit-learn.org/stable/modules/linear_model.html#logistic-regression\n",
      "  n_iter_i = _check_optimize_result(\n",
      "c:\\Users\\mj985\\anaconda3\\envs\\assign\\lib\\site-packages\\sklearn\\linear_model\\_logistic.py:458: ConvergenceWarning: lbfgs failed to converge (status=1):\n",
      "STOP: TOTAL NO. of ITERATIONS REACHED LIMIT.\n",
      "\n",
      "Increase the number of iterations (max_iter) or scale the data as shown in:\n",
      "    https://scikit-learn.org/stable/modules/preprocessing.html\n",
      "Please also refer to the documentation for alternative solver options:\n",
      "    https://scikit-learn.org/stable/modules/linear_model.html#logistic-regression\n",
      "  n_iter_i = _check_optimize_result(\n",
      "c:\\Users\\mj985\\anaconda3\\envs\\assign\\lib\\site-packages\\sklearn\\linear_model\\_logistic.py:458: ConvergenceWarning: lbfgs failed to converge (status=1):\n",
      "STOP: TOTAL NO. of ITERATIONS REACHED LIMIT.\n",
      "\n",
      "Increase the number of iterations (max_iter) or scale the data as shown in:\n",
      "    https://scikit-learn.org/stable/modules/preprocessing.html\n",
      "Please also refer to the documentation for alternative solver options:\n",
      "    https://scikit-learn.org/stable/modules/linear_model.html#logistic-regression\n",
      "  n_iter_i = _check_optimize_result(\n",
      "c:\\Users\\mj985\\anaconda3\\envs\\assign\\lib\\site-packages\\sklearn\\linear_model\\_logistic.py:458: ConvergenceWarning: lbfgs failed to converge (status=1):\n",
      "STOP: TOTAL NO. of ITERATIONS REACHED LIMIT.\n",
      "\n",
      "Increase the number of iterations (max_iter) or scale the data as shown in:\n",
      "    https://scikit-learn.org/stable/modules/preprocessing.html\n",
      "Please also refer to the documentation for alternative solver options:\n",
      "    https://scikit-learn.org/stable/modules/linear_model.html#logistic-regression\n",
      "  n_iter_i = _check_optimize_result(\n",
      "c:\\Users\\mj985\\anaconda3\\envs\\assign\\lib\\site-packages\\sklearn\\linear_model\\_logistic.py:458: ConvergenceWarning: lbfgs failed to converge (status=1):\n",
      "STOP: TOTAL NO. of ITERATIONS REACHED LIMIT.\n",
      "\n",
      "Increase the number of iterations (max_iter) or scale the data as shown in:\n",
      "    https://scikit-learn.org/stable/modules/preprocessing.html\n",
      "Please also refer to the documentation for alternative solver options:\n",
      "    https://scikit-learn.org/stable/modules/linear_model.html#logistic-regression\n",
      "  n_iter_i = _check_optimize_result(\n",
      "c:\\Users\\mj985\\anaconda3\\envs\\assign\\lib\\site-packages\\sklearn\\linear_model\\_logistic.py:458: ConvergenceWarning: lbfgs failed to converge (status=1):\n",
      "STOP: TOTAL NO. of ITERATIONS REACHED LIMIT.\n",
      "\n",
      "Increase the number of iterations (max_iter) or scale the data as shown in:\n",
      "    https://scikit-learn.org/stable/modules/preprocessing.html\n",
      "Please also refer to the documentation for alternative solver options:\n",
      "    https://scikit-learn.org/stable/modules/linear_model.html#logistic-regression\n",
      "  n_iter_i = _check_optimize_result(\n"
     ]
    }
   ],
   "source": [
    "from sklearn.linear_model import LogisticRegression\n",
    "from sklearn.neighbors import KNeighborsClassifier\n",
    "from sklearn.tree import DecisionTreeClassifier\n",
    "from sklearn.ensemble import RandomForestClassifier\n",
    "from xgboost import XGBClassifier\n",
    "from catboost import CatBoostClassifier\n",
    "from sklearn.metrics import accuracy_score, precision_score, recall_score, f1_score\n",
    "from sklearn.model_selection import train_test_split\n",
    "from sklearn.model_selection import GridSearchCV\n",
    "\n",
    "# 데이터를 train, validation, test로 분할\n",
    "X_train, X_test, y_train, y_test = train_test_split(X, y, test_size=0.25, random_state=42)\n",
    "X_val, X_test, y_val, y_test = train_test_split(X_train, y_train, test_size=0.25, random_state=42)\n",
    "\n",
    "# 각 모델의 하이퍼 파라미터 후보를 정의\n",
    "lr_param_grid = {'C': [0.01, 0.1, 1, 10]}\n",
    "knn_param_grid = {'n_neighbors': [3, 5, 7]}\n",
    "dt_param_grid = {'max_depth': [3, 5, 7]}\n",
    "rf_param_grid = {'n_estimators': [100, 300], 'max_depth': [3, 5, 7]}\n",
    "xgb_param_grid = {'n_estimators': [100, 300], 'max_depth': [3, 5, 7], 'learning_rate': [0.01, 0.1]}\n",
    "cat_param_grid = {'iterations': [100, 300], 'depth': [3, 5, 7], 'learning_rate': [0.01, 0.1]}\n",
    "\n",
    "# 각 모델에 대해 그리드 서치 수행\n",
    "lr_gs = GridSearchCV(LogisticRegression(), lr_param_grid)\n",
    "lr_gs.fit(X_train, y_train)\n",
    "\n",
    "knn_gs = GridSearchCV(KNeighborsClassifier(), knn_param_grid)\n",
    "knn_gs.fit(X_train, y_train)\n",
    "\n",
    "dt_gs = GridSearchCV(DecisionTreeClassifier(), dt_param_grid)\n",
    "dt_gs.fit(X_train, y_train)\n",
    "\n",
    "rf_gs = GridSearchCV(RandomForestClassifier(), rf_param_grid)\n",
    "rf_gs.fit(X_train, y_train)\n",
    "\n",
    "xgb_gs = GridSearchCV(XGBClassifier(), xgb_param_grid)\n",
    "xgb_gs.fit(X_train, y_train)\n",
    "\n",
    "cat_gs = GridSearchCV(CatBoostClassifier(verbose=0), cat_param_grid)\n",
    "cat_gs.fit(X_train, y_train)\n",
    "\n",
    "# 각 모델에서 최적의 하이퍼 파라미터와 예측 결과를 저장\n",
    "lr_best_params = lr_gs.best_params_\n",
    "lr_pred = lr_gs.predict(X_val)\n",
    "\n",
    "knn_best_params = knn_gs.best_params_\n",
    "knn_pred = knn_gs.predict(X_val)\n",
    "\n",
    "dt_best_params = dt_gs.best_params_\n",
    "dt_pred = dt_gs.predict(X_val)\n",
    "\n",
    "rf_best_params = rf_gs.best_params_\n",
    "rf_pred = rf_gs.predict(X_val)\n",
    "\n",
    "xgb_best_params = xgb_gs.best_params_\n",
    "xgb_pred = xgb_gs.predict(X_val)\n",
    "\n",
    "cat_best_params = cat_gs.best_params_\n",
    "cat_pred = cat_gs.predict(X_val)\n",
    "\n",
    "# 각 모델의 성능 평가 지표 계산\n",
    "lr_acc = accuracy_score(y_val, lr_pred)\n",
    "lr_precision = precision_score(y_val, lr_pred)\n",
    "lr_recall = recall_score(y_val, lr_pred)\n",
    "lr_f1_score = f1_score(y_val, lr_pred)\n",
    "\n",
    "knn_acc = accuracy_score(y_val, knn_pred)\n",
    "knn_precision = precision_score(y_val, knn_pred)\n",
    "knn_recall = recall_score(y_val, knn_pred)\n",
    "knn_f1_score = f1_score(y_val, knn_pred)\n",
    "\n",
    "dt_acc = accuracy_score(y_val, dt_pred)\n",
    "dt_precision = precision_score(y_val, dt_pred)\n",
    "dt_recall = recall_score(y_val, dt_pred)\n",
    "dt_f1_score = f1_score(y_val, dt_pred)\n",
    "\n",
    "rf_acc = accuracy_score(y_val, rf_pred)\n",
    "rf_precision = precision_score(y_val, rf_pred)\n",
    "rf_recall = recall_score(y_val, rf_pred)\n",
    "rf_f1_score = f1_score(y_val, rf_pred)\n",
    "\n",
    "xgb_acc = accuracy_score(y_val, xgb_pred)\n",
    "xgb_precision = precision_score(y_val, xgb_pred)\n",
    "xgb_recall = recall_score(y_val, xgb_pred)\n",
    "xgb_f1_score = f1_score(y_val, xgb_pred)\n",
    "\n",
    "cat_acc = accuracy_score(y_val, cat_pred)\n",
    "cat_precision = precision_score(y_val, cat_pred)\n",
    "cat_recall = recall_score(y_val, cat_pred)\n",
    "cat_f1_score = f1_score(y_val, cat_pred)"
   ]
  },
  {
   "cell_type": "code",
   "execution_count": null,
   "metadata": {},
   "outputs": [],
   "source": [
    "# 결과 출력\n",
    "print(\"Logistic Regression:\")\n",
    "print(\"Accuracy:\", lr_acc)\n",
    "print(\"Precision:\", lr_precision)\n",
    "print(\"Recall:\", lr_recall)\n",
    "print(\"F1 Score:\", lr_f1_score)\n",
    "\n",
    "print(\"K-Nearest Neighbors:\")\n",
    "print(\"Accuracy:\", knn_acc)\n",
    "print(\"Precision:\", knn_precision)\n",
    "print(\"Recall:\", knn_recall)\n",
    "print(\"F1 Score:\", knn_f1_score)\n",
    "\n",
    "print(\"Decision Tree:\")\n",
    "print(\"Accuracy:\", dt_acc)\n",
    "print(\"Precision:\", dt_precision)\n",
    "print(\"Recall:\", dt_recall)\n",
    "print(\"F1 Score:\", dt_f1_score)\n",
    "\n",
    "print(\"Random Forest:\")\n",
    "print(\"Accuracy:\", rf_acc)\n",
    "print(\"Precision:\", rf_precision)\n",
    "print(\"Recall:\", rf_recall)\n",
    "print(\"F1 Score:\", rf_f1_score)\n",
    "\n",
    "print(\"XGBoost:\")\n",
    "print(\"Accuracy:\", xgb_acc)\n",
    "print(\"Precision:\", xgb_precision)\n",
    "print(\"Recall:\", xgb_recall)\n",
    "print(\"F1 Score:\", xgb_f1_score)\n",
    "\n",
    "print(\"CatBoost:\")\n",
    "print(\"Accuracy:\", cat_acc)\n",
    "print(\"Precision:\", cat_precision)\n",
    "print(\"Recall:\", cat_recall)\n",
    "print(\"F1 Score:\", cat_f1_score)"
   ]
  }
 ],
 "metadata": {
  "kernelspec": {
   "display_name": "assign",
   "language": "python",
   "name": "python3"
  },
  "language_info": {
   "codemirror_mode": {
    "name": "ipython",
    "version": 3
   },
   "file_extension": ".py",
   "mimetype": "text/x-python",
   "name": "python",
   "nbconvert_exporter": "python",
   "pygments_lexer": "ipython3",
   "version": "3.8.16"
  },
  "orig_nbformat": 4
 },
 "nbformat": 4,
 "nbformat_minor": 2
}
