{
 "cells": [
  {
   "cell_type": "code",
   "execution_count": 1,
   "metadata": {},
   "outputs": [],
   "source": [
    "import pandas as pd\n",
    "import matplotlib.pyplot as plt\n",
    "import datetime\n",
    "import seaborn as sns\n",
    "from datetime import timedelta\n",
    "import numpy as np\n",
    "from sklearn.model_selection import train_test_split\n",
    "from sklearn.metrics import accuracy_score, confusion_matrix,precision_score,recall_score,roc_auc_score,f1_score,roc_curve\n",
    "from sklearn.linear_model import LogisticRegression\n",
    "from sklearn.tree import DecisionTreeClassifier\n",
    "from sklearn.svm import SVC\n",
    "from xgboost import XGBClassifier\n",
    "from sklearn import svm\n",
    "from sklearn.ensemble import RandomForestClassifier\n",
    "from sklearn.neighbors import KNeighborsClassifier\n",
    "\n",
    "pd.set_option('display.max_columns', None)\n",
    "plt.rcParams['font.family'] = 'Malgun Gothic'\n",
    "plt.rcParams['axes.unicode_minus'] = False\n",
    "colors = sns.color_palette('pastel')"
   ]
  },
  {
   "cell_type": "code",
   "execution_count": 2,
   "metadata": {},
   "outputs": [],
   "source": [
    "from sklearn.linear_model import LogisticRegression\n",
    "from sklearn.neighbors import KNeighborsClassifier\n",
    "from sklearn.tree import DecisionTreeClassifier\n",
    "from sklearn.ensemble import RandomForestClassifier\n",
    "from xgboost import XGBClassifier\n",
    "from catboost import CatBoostClassifier\n",
    "from sklearn.metrics import accuracy_score, precision_score, recall_score, f1_score\n",
    "from sklearn.model_selection import train_test_split\n",
    "from sklearn.model_selection import GridSearchCV"
   ]
  },
  {
   "attachments": {},
   "cell_type": "markdown",
   "metadata": {},
   "source": [
    "### 30일"
   ]
  },
  {
   "cell_type": "code",
   "execution_count": 3,
   "metadata": {},
   "outputs": [],
   "source": [
    "df = pd.read_csv('D:/Section5/ecommerce_project/model/30days_target.csv')\n",
    "droped_df = pd.read_csv('D:/Section5/ecommerce_project/model/droped_30days_target.csv')"
   ]
  },
  {
   "cell_type": "code",
   "execution_count": 4,
   "metadata": {},
   "outputs": [],
   "source": [
    "X = df[['total_amount','shipment_fee', 'ADD_TO_CART_COUNT', 'SEARCH_COUNT', 'ADD_PROMO_COUNT',\n",
    "       'BOOKING_COUNT', 'ITEM_DETAIL_COUNT', 'limit_ship', 'PAGE_VIEW',\n",
    "       'total_promo']]\n",
    "y = df['target']\n",
    "droped_X = droped_df[['total_amount','shipment_fee', 'ADD_TO_CART_COUNT', 'SEARCH_COUNT', 'ADD_PROMO_COUNT',\n",
    "       'BOOKING_COUNT', 'ITEM_DETAIL_COUNT', 'limit_ship', 'PAGE_VIEW',\n",
    "       'total_promo']]\n",
    "droped_y = droped_df['target']"
   ]
  },
  {
   "cell_type": "code",
   "execution_count": 5,
   "metadata": {},
   "outputs": [
    {
     "data": {
      "text/html": [
       "<div>\n",
       "<style scoped>\n",
       "    .dataframe tbody tr th:only-of-type {\n",
       "        vertical-align: middle;\n",
       "    }\n",
       "\n",
       "    .dataframe tbody tr th {\n",
       "        vertical-align: top;\n",
       "    }\n",
       "\n",
       "    .dataframe thead th {\n",
       "        text-align: right;\n",
       "    }\n",
       "</style>\n",
       "<table border=\"1\" class=\"dataframe\">\n",
       "  <thead>\n",
       "    <tr style=\"text-align: right;\">\n",
       "      <th></th>\n",
       "      <th>Unnamed: 0</th>\n",
       "      <th>diff</th>\n",
       "      <th>total_amount</th>\n",
       "      <th>shipment_fee</th>\n",
       "      <th>ADD_TO_CART_COUNT</th>\n",
       "      <th>SEARCH_COUNT</th>\n",
       "      <th>ADD_PROMO_COUNT</th>\n",
       "      <th>BOOKING_COUNT</th>\n",
       "      <th>ITEM_DETAIL_COUNT</th>\n",
       "      <th>limit_ship</th>\n",
       "      <th>PAGE_VIEW</th>\n",
       "      <th>total_promo</th>\n",
       "      <th>total_session</th>\n",
       "      <th>target</th>\n",
       "    </tr>\n",
       "  </thead>\n",
       "  <tbody>\n",
       "    <tr>\n",
       "      <th>0</th>\n",
       "      <td>0</td>\n",
       "      <td>NaN</td>\n",
       "      <td>1</td>\n",
       "      <td>0</td>\n",
       "      <td>0</td>\n",
       "      <td>0</td>\n",
       "      <td>0</td>\n",
       "      <td>1.0</td>\n",
       "      <td>0</td>\n",
       "      <td>1</td>\n",
       "      <td>1</td>\n",
       "      <td>0</td>\n",
       "      <td>1.0</td>\n",
       "      <td>0</td>\n",
       "    </tr>\n",
       "    <tr>\n",
       "      <th>1</th>\n",
       "      <td>1</td>\n",
       "      <td>NaN</td>\n",
       "      <td>4</td>\n",
       "      <td>0</td>\n",
       "      <td>0</td>\n",
       "      <td>0</td>\n",
       "      <td>0</td>\n",
       "      <td>1.0</td>\n",
       "      <td>0</td>\n",
       "      <td>1</td>\n",
       "      <td>1</td>\n",
       "      <td>0</td>\n",
       "      <td>1.0</td>\n",
       "      <td>0</td>\n",
       "    </tr>\n",
       "    <tr>\n",
       "      <th>2</th>\n",
       "      <td>2</td>\n",
       "      <td>NaN</td>\n",
       "      <td>3</td>\n",
       "      <td>1</td>\n",
       "      <td>0</td>\n",
       "      <td>0</td>\n",
       "      <td>0</td>\n",
       "      <td>1.0</td>\n",
       "      <td>0</td>\n",
       "      <td>3</td>\n",
       "      <td>1</td>\n",
       "      <td>0</td>\n",
       "      <td>1.0</td>\n",
       "      <td>0</td>\n",
       "    </tr>\n",
       "    <tr>\n",
       "      <th>3</th>\n",
       "      <td>3</td>\n",
       "      <td>NaN</td>\n",
       "      <td>1</td>\n",
       "      <td>0</td>\n",
       "      <td>2</td>\n",
       "      <td>0</td>\n",
       "      <td>1</td>\n",
       "      <td>1.0</td>\n",
       "      <td>2</td>\n",
       "      <td>1</td>\n",
       "      <td>3</td>\n",
       "      <td>4</td>\n",
       "      <td>1.0</td>\n",
       "      <td>0</td>\n",
       "    </tr>\n",
       "    <tr>\n",
       "      <th>4</th>\n",
       "      <td>4</td>\n",
       "      <td>NaN</td>\n",
       "      <td>1</td>\n",
       "      <td>2</td>\n",
       "      <td>0</td>\n",
       "      <td>0</td>\n",
       "      <td>0</td>\n",
       "      <td>1.0</td>\n",
       "      <td>0</td>\n",
       "      <td>4</td>\n",
       "      <td>1</td>\n",
       "      <td>0</td>\n",
       "      <td>1.0</td>\n",
       "      <td>0</td>\n",
       "    </tr>\n",
       "  </tbody>\n",
       "</table>\n",
       "</div>"
      ],
      "text/plain": [
       "   Unnamed: 0  diff  total_amount  shipment_fee  ADD_TO_CART_COUNT  \\\n",
       "0           0   NaN             1             0                  0   \n",
       "1           1   NaN             4             0                  0   \n",
       "2           2   NaN             3             1                  0   \n",
       "3           3   NaN             1             0                  2   \n",
       "4           4   NaN             1             2                  0   \n",
       "\n",
       "   SEARCH_COUNT  ADD_PROMO_COUNT  BOOKING_COUNT  ITEM_DETAIL_COUNT  \\\n",
       "0             0                0            1.0                  0   \n",
       "1             0                0            1.0                  0   \n",
       "2             0                0            1.0                  0   \n",
       "3             0                1            1.0                  2   \n",
       "4             0                0            1.0                  0   \n",
       "\n",
       "   limit_ship  PAGE_VIEW  total_promo  total_session  target  \n",
       "0           1          1            0            1.0       0  \n",
       "1           1          1            0            1.0       0  \n",
       "2           3          1            0            1.0       0  \n",
       "3           1          3            4            1.0       0  \n",
       "4           4          1            0            1.0       0  "
      ]
     },
     "execution_count": 5,
     "metadata": {},
     "output_type": "execute_result"
    }
   ],
   "source": [
    "# 이탈 비율을 알기 위한 customer의 마지막 접속 기록 데이터\n",
    "droped_df.head(5)"
   ]
  },
  {
   "cell_type": "code",
   "execution_count": 6,
   "metadata": {},
   "outputs": [],
   "source": [
    "X_train, X_test, y_train, y_test = train_test_split(X, y, test_size=0.25, stratify=y, random_state=42)\n",
    "X_train, X_val, y_train, y_val = train_test_split(X_train, y_train, test_size=0.25, stratify=y_train, random_state=42)"
   ]
  },
  {
   "cell_type": "code",
   "execution_count": 7,
   "metadata": {},
   "outputs": [
    {
     "name": "stdout",
     "output_type": "stream",
     "text": [
      "Accuracy: 94.82%\n",
      "Class probabilities:\n",
      "[[0.9887536  0.01124641]\n",
      " [0.98788047 0.01211956]\n",
      " [0.68402994 0.31597003]\n",
      " ...\n",
      " [0.97416013 0.02583988]\n",
      " [0.9887536  0.01124641]\n",
      " [0.97416013 0.02583988]]\n"
     ]
    }
   ],
   "source": [
    "# XGBClassifier 최적 파라미터 적용\n",
    "\n",
    "model = XGBClassifier(max_depth=7, n_estimators=300, learning_rate =0.1, seed = 42)\n",
    "model.fit(X_train, y_train)\n",
    "\n",
    "# 검증 데이터로 예측\n",
    "y_pred = model.predict(X_val)\n",
    "y_pred_proba = model.predict_proba(X_val)\n",
    "\n",
    "# 정확도 계산\n",
    "accuracy = accuracy_score(y_val, y_pred)\n",
    "print(\"Accuracy: {:.2f}%\".format(accuracy * 100))\n",
    "\n",
    "# 각 클래스에 속할 확률 출력\n",
    "print(\"Class probabilities:\\n{}\".format(y_pred_proba))"
   ]
  },
  {
   "cell_type": "code",
   "execution_count": 8,
   "metadata": {},
   "outputs": [],
   "source": [
    "# 클래스 고려 X\n",
    "xgb_acc = accuracy_score(y_val, y_pred)\n",
    "xgb_precision = precision_score(y_val, y_pred)\n",
    "xgb_recall = recall_score(y_val, y_pred)\n",
    "xgb_f1_score = f1_score(y_val, y_pred)"
   ]
  },
  {
   "cell_type": "code",
   "execution_count": 9,
   "metadata": {},
   "outputs": [
    {
     "name": "stdout",
     "output_type": "stream",
     "text": [
      "XGBoost: 클래스 미고려\n",
      "Accuracy: 0.9481663311895527\n",
      "Precision: 0.6365280289330922\n",
      "Recall: 0.06482504604051566\n",
      "F1 Score: 0.11766672238007689\n"
     ]
    }
   ],
   "source": [
    "print(\"XGBoost: 클래스 미고려\")\n",
    "print(\"Accuracy:\", xgb_acc)\n",
    "print(\"Precision:\", xgb_precision)\n",
    "print(\"Recall:\", xgb_recall)\n",
    "print(\"F1 Score:\", xgb_f1_score)"
   ]
  },
  {
   "cell_type": "code",
   "execution_count": 10,
   "metadata": {},
   "outputs": [],
   "source": [
    "# 클래스 비율 고려 - 평가지표의 값이 심각하게 낮음.(불균형이 그 원인)\n",
    "\n",
    "xgb_acc = accuracy_score(y_val, y_pred)\n",
    "xgb_precision = precision_score(y_val, y_pred, average=\"weighted\")\n",
    "xgb_recall = recall_score(y_val, y_pred, average=\"weighted\")\n",
    "xgb_f1_score = f1_score(y_val, y_pred, average=\"weighted\")"
   ]
  },
  {
   "cell_type": "code",
   "execution_count": 11,
   "metadata": {},
   "outputs": [
    {
     "name": "stdout",
     "output_type": "stream",
     "text": [
      "XGBoost: 클래스 고려\n",
      "Accuracy: 0.9481663311895527\n",
      "Precision: 0.9331615924134918\n",
      "Recall: 0.9481663311895527\n",
      "F1 Score: 0.9276797192225317\n"
     ]
    }
   ],
   "source": [
    "print(\"XGBoost: 클래스 고려\")\n",
    "print(\"Accuracy:\", xgb_acc)\n",
    "print(\"Precision:\", xgb_precision)\n",
    "print(\"Recall:\", xgb_recall)\n",
    "print(\"F1 Score:\", xgb_f1_score)"
   ]
  },
  {
   "cell_type": "code",
   "execution_count": 12,
   "metadata": {},
   "outputs": [],
   "source": [
    "ratio_30 = y_pred.sum()/len(y_pred)*100"
   ]
  },
  {
   "cell_type": "code",
   "execution_count": 13,
   "metadata": {},
   "outputs": [
    {
     "name": "stdout",
     "output_type": "stream",
     "text": [
      "30일 이후까지 접속 안하는 세션 비율 : 0.54 %\n"
     ]
    }
   ],
   "source": [
    "print(\"30일 이후까지 접속 안하는 세션 비율 :\", round(ratio_30,2),\"%\")"
   ]
  },
  {
   "cell_type": "code",
   "execution_count": 14,
   "metadata": {},
   "outputs": [],
   "source": [
    "# 유저 비율을 구해보자(기존데이터로 예측)\n",
    "customer_pred = model.predict(droped_X)\n",
    "last_ratio_30 = customer_pred.sum()/len(customer_pred)*100"
   ]
  },
  {
   "cell_type": "code",
   "execution_count": 15,
   "metadata": {},
   "outputs": [
    {
     "name": "stdout",
     "output_type": "stream",
     "text": [
      "접속 기록 마지막 세션 이후 30일 접속 안하는 유저 비율 : 11.45 %\n"
     ]
    }
   ],
   "source": [
    "print(\"접속 기록 마지막 세션 이후 30일 접속 안하는 유저 비율 :\", round(last_ratio_30,2),\"%\")"
   ]
  },
  {
   "attachments": {},
   "cell_type": "markdown",
   "metadata": {},
   "source": [
    "### 5일 미접속 이탈"
   ]
  },
  {
   "cell_type": "code",
   "execution_count": 16,
   "metadata": {},
   "outputs": [],
   "source": [
    "df['diff'] = pd.to_timedelta(df['diff'])"
   ]
  },
  {
   "cell_type": "code",
   "execution_count": 17,
   "metadata": {},
   "outputs": [],
   "source": [
    "# check_df에서 diff칼럼이 30일 이상인 행 추출\n",
    "mask = df['diff'] > pd.Timedelta(days=5)\n",
    "# target 열 생성\n",
    "df['target'] = np.where(mask, 1, 0)"
   ]
  },
  {
   "cell_type": "code",
   "execution_count": 18,
   "metadata": {},
   "outputs": [],
   "source": [
    "X = df[['total_amount','shipment_fee', 'ADD_TO_CART_COUNT', 'SEARCH_COUNT', 'ADD_PROMO_COUNT',\n",
    "       'BOOKING_COUNT', 'ITEM_DETAIL_COUNT', 'limit_ship', 'PAGE_VIEW',\n",
    "       'total_promo']]\n",
    "y = df['target']"
   ]
  },
  {
   "cell_type": "code",
   "execution_count": 19,
   "metadata": {},
   "outputs": [
    {
     "data": {
      "text/plain": [
       "target\n",
       "0    0.777027\n",
       "1    0.222973\n",
       "Name: proportion, dtype: float64"
      ]
     },
     "execution_count": 19,
     "metadata": {},
     "output_type": "execute_result"
    }
   ],
   "source": [
    "df['target'].value_counts(normalize=True)"
   ]
  },
  {
   "cell_type": "code",
   "execution_count": 20,
   "metadata": {},
   "outputs": [],
   "source": [
    "X_train, X_test, y_train, y_test = train_test_split(X, y, test_size=0.25, stratify=y, random_state=42)\n",
    "X_train, X_val, y_train, y_val = train_test_split(X_train, y_train, test_size=0.25, stratify=y_train, random_state=42)"
   ]
  },
  {
   "cell_type": "code",
   "execution_count": 21,
   "metadata": {},
   "outputs": [
    {
     "name": "stdout",
     "output_type": "stream",
     "text": [
      "Accuracy: 86.06%\n",
      "Class probabilities:\n",
      "[[0.8730993  0.12690066]\n",
      " [0.877236   0.12276398]\n",
      " [0.84461915 0.15538083]\n",
      " ...\n",
      " [0.877236   0.12276398]\n",
      " [0.877236   0.12276398]\n",
      " [0.3918652  0.6081348 ]]\n"
     ]
    }
   ],
   "source": [
    "# XGBClassifier 최적 파라미터 적용\n",
    "\n",
    "model = XGBClassifier(max_depth=7, n_estimators=300, learning_rate =0.1, seed = 42)\n",
    "model.fit(X_train, y_train)\n",
    "\n",
    "# 검증 데이터로 예측\n",
    "y_pred = model.predict(X_val)\n",
    "y_pred_proba = model.predict_proba(X_val)\n",
    "\n",
    "# 정확도 계산\n",
    "accuracy = accuracy_score(y_val, y_pred)\n",
    "print(\"Accuracy: {:.2f}%\".format(accuracy * 100))\n",
    "\n",
    "# 각 클래스에 속할 확률 출력\n",
    "print(\"Class probabilities:\\n{}\".format(y_pred_proba))"
   ]
  },
  {
   "cell_type": "code",
   "execution_count": 22,
   "metadata": {},
   "outputs": [],
   "source": [
    "# 클래스 고려 X\n",
    "xgb_acc = accuracy_score(y_val, y_pred)\n",
    "xgb_precision = precision_score(y_val, y_pred)\n",
    "xgb_recall = recall_score(y_val, y_pred)\n",
    "xgb_f1_score = f1_score(y_val, y_pred)"
   ]
  },
  {
   "cell_type": "code",
   "execution_count": 23,
   "metadata": {},
   "outputs": [
    {
     "name": "stdout",
     "output_type": "stream",
     "text": [
      "XGBoost: 클래스 미고려\n",
      "Accuracy: 0.8606252147871766\n",
      "Precision: 0.8110608759190757\n",
      "Recall: 0.48879286618594153\n",
      "F1 Score: 0.6099775033916643\n"
     ]
    }
   ],
   "source": [
    "print(\"XGBoost: 클래스 미고려\")\n",
    "print(\"Accuracy:\", xgb_acc)\n",
    "print(\"Precision:\", xgb_precision)\n",
    "print(\"Recall:\", xgb_recall)\n",
    "print(\"F1 Score:\", xgb_f1_score)"
   ]
  },
  {
   "cell_type": "code",
   "execution_count": 24,
   "metadata": {},
   "outputs": [],
   "source": [
    "# 클래스 비율 고려 - 평가지표의 값이 심각하게 낮음.(불균형이 그 원인)\n",
    "\n",
    "xgb_acc = accuracy_score(y_val, y_pred)\n",
    "xgb_precision = precision_score(y_val, y_pred, average=\"weighted\")\n",
    "xgb_recall = recall_score(y_val, y_pred, average=\"weighted\")\n",
    "xgb_f1_score = f1_score(y_val, y_pred, average=\"weighted\")"
   ]
  },
  {
   "cell_type": "code",
   "execution_count": 25,
   "metadata": {},
   "outputs": [
    {
     "name": "stdout",
     "output_type": "stream",
     "text": [
      "XGBoost: 클래스 고려\n",
      "Accuracy: 0.8606252147871766\n",
      "Precision: 0.8555522974128278\n",
      "Recall: 0.8606252147871766\n",
      "F1 Score: 0.8471064773373143\n"
     ]
    }
   ],
   "source": [
    "print(\"XGBoost: 클래스 고려\")\n",
    "print(\"Accuracy:\", xgb_acc)\n",
    "print(\"Precision:\", xgb_precision)\n",
    "print(\"Recall:\", xgb_recall)\n",
    "print(\"F1 Score:\", xgb_f1_score)"
   ]
  },
  {
   "cell_type": "code",
   "execution_count": 26,
   "metadata": {},
   "outputs": [
    {
     "data": {
      "image/png": "[encoded data removed]",
      "text/plain": [
       "<Figure size 640x480 with 2 Axes>"
      ]
     },
     "metadata": {},
     "output_type": "display_data"
    }
   ],
   "source": [
    "# confusion matrix 계산\n",
    "cm = confusion_matrix(y_val, y_pred)\n",
    "\n",
    "# 클래스 레이블 (class label)\n",
    "classes = np.unique(y_val)\n",
    "\n",
    "# confusion matrix 시각화\n",
    "fig, ax = plt.subplots()\n",
    "im = ax.imshow(cm, interpolation='nearest', cmap=plt.cm.Blues)\n",
    "ax.figure.colorbar(im, ax=ax)\n",
    "ax.set(xticks=np.arange(cm.shape[1]),\n",
    "       yticks=np.arange(cm.shape[0]),\n",
    "       xticklabels=classes, yticklabels=classes,\n",
    "       title='Confusion matrix - xgb_pred',\n",
    "       ylabel='True label',\n",
    "       xlabel='Predicted label')\n",
    "\n",
    "# 각 칸에 숫자로 라벨링\n",
    "thresh = cm.max() / 2\n",
    "for i in range(cm.shape[0]):\n",
    "    for j in range(cm.shape[1]):\n",
    "        ax.text(j, i, format(cm[i, j], 'd'),\n",
    "                ha=\"center\", va=\"center\",\n",
    "                color=\"white\" if cm[i, j] > thresh else \"black\")\n",
    "\n",
    "fig.tight_layout()\n",
    "plt.show()"
   ]
  },
  {
   "cell_type": "code",
   "execution_count": 27,
   "metadata": {},
   "outputs": [],
   "source": [
    "ratio_5 = y_pred.sum()/len(y_pred)*100"
   ]
  },
  {
   "cell_type": "code",
   "execution_count": 28,
   "metadata": {},
   "outputs": [
    {
     "name": "stdout",
     "output_type": "stream",
     "text": [
      "5일 이후까지 접속 안하는 세션 비율 : 13.44 %\n"
     ]
    }
   ],
   "source": [
    "print(\"5일 이후까지 접속 안하는 세션 비율 :\", round(ratio_5,2),\"%\")"
   ]
  },
  {
   "cell_type": "code",
   "execution_count": 29,
   "metadata": {},
   "outputs": [],
   "source": [
    "# 유저 비율을 구해보자(기존데이터로 예측)\n",
    "customer_pred = model.predict(droped_X)\n",
    "last_ratio_5 = customer_pred.sum()/len(customer_pred)*100"
   ]
  },
  {
   "cell_type": "code",
   "execution_count": 30,
   "metadata": {},
   "outputs": [
    {
     "name": "stdout",
     "output_type": "stream",
     "text": [
      "접속 기록 마지막 세션 이후 5일 접속 안하는 유저 비율 : 87.29 %\n"
     ]
    }
   ],
   "source": [
    "print(\"접속 기록 마지막 세션 이후 5일 접속 안하는 유저 비율 :\", round(last_ratio_5,2),\"%\")"
   ]
  },
  {
   "attachments": {},
   "cell_type": "markdown",
   "metadata": {},
   "source": [
    "### 15일(최종)"
   ]
  },
  {
   "cell_type": "code",
   "execution_count": 31,
   "metadata": {},
   "outputs": [],
   "source": [
    "# check_df에서 diff칼럼이 30일 이상인 행 추출\n",
    "mask = df['diff'] > pd.Timedelta(days=15)\n",
    "# target 열 생성\n",
    "df['target'] = np.where(mask, 1, 0)"
   ]
  },
  {
   "cell_type": "code",
   "execution_count": 32,
   "metadata": {},
   "outputs": [],
   "source": [
    "X = df[['total_amount','shipment_fee', 'ADD_TO_CART_COUNT', 'SEARCH_COUNT', 'ADD_PROMO_COUNT',\n",
    "       'BOOKING_COUNT', 'ITEM_DETAIL_COUNT', 'limit_ship', 'PAGE_VIEW',\n",
    "       'total_promo']]\n",
    "y = df['target']"
   ]
  },
  {
   "cell_type": "code",
   "execution_count": 33,
   "metadata": {},
   "outputs": [
    {
     "data": {
      "text/plain": [
       "target\n",
       "0    0.896573\n",
       "1    0.103427\n",
       "Name: proportion, dtype: float64"
      ]
     },
     "execution_count": 33,
     "metadata": {},
     "output_type": "execute_result"
    }
   ],
   "source": [
    "df['target'].value_counts(normalize=True)"
   ]
  },
  {
   "cell_type": "code",
   "execution_count": 34,
   "metadata": {},
   "outputs": [],
   "source": [
    "X_train, X_test, y_train, y_test = train_test_split(X, y, test_size=0.25, stratify=y, random_state=42)\n",
    "X_train, X_val, y_train, y_val = train_test_split(X_train, y_train, test_size=0.25, stratify=y_train, random_state=42)"
   ]
  },
  {
   "cell_type": "code",
   "execution_count": 35,
   "metadata": {},
   "outputs": [
    {
     "name": "stdout",
     "output_type": "stream",
     "text": [
      "Accuracy: 90.75%\n",
      "Class probabilities:\n",
      "[[0.96556276 0.03443721]\n",
      " [0.96950644 0.03049356]\n",
      " [0.9700757  0.02992424]\n",
      " ...\n",
      " [0.96556276 0.03443721]\n",
      " [0.96556276 0.03443721]\n",
      " [0.96611726 0.03388271]]\n"
     ]
    }
   ],
   "source": [
    "# XGBClassifier 최적 파라미터 적용\n",
    "\n",
    "model = XGBClassifier(max_depth=7, n_estimators=300, learning_rate =0.1, seed = 42)\n",
    "model.fit(X_train, y_train)\n",
    "\n",
    "# 검증 데이터로 예측\n",
    "y_pred = model.predict(X_val)\n",
    "y_pred_proba = model.predict_proba(X_val)\n",
    "\n",
    "# 정확도 계산\n",
    "accuracy = accuracy_score(y_val, y_pred)\n",
    "print(\"Accuracy: {:.2f}%\".format(accuracy * 100))\n",
    "\n",
    "# 각 클래스에 속할 확률 출력\n",
    "print(\"Class probabilities:\\n{}\".format(y_pred_proba))"
   ]
  },
  {
   "cell_type": "code",
   "execution_count": 36,
   "metadata": {},
   "outputs": [],
   "source": [
    "# 클래스 고려 X\n",
    "xgb_acc = accuracy_score(y_val, y_pred)\n",
    "xgb_precision = precision_score(y_val, y_pred)\n",
    "xgb_recall = recall_score(y_val, y_pred)\n",
    "xgb_f1_score = f1_score(y_val, y_pred)"
   ]
  },
  {
   "cell_type": "code",
   "execution_count": 37,
   "metadata": {},
   "outputs": [
    {
     "name": "stdout",
     "output_type": "stream",
     "text": [
      "XGBoost: 클래스 미고려\n",
      "Accuracy: 0.9075310520889587\n",
      "Precision: 0.5442865929879561\n",
      "Recall: 0.6510537807946076\n",
      "F1 Score: 0.5929019917218721\n"
     ]
    }
   ],
   "source": [
    "print(\"XGBoost: 클래스 미고려\")\n",
    "print(\"Accuracy:\", xgb_acc)\n",
    "print(\"Precision:\", xgb_precision)\n",
    "print(\"Recall:\", xgb_recall)\n",
    "print(\"F1 Score:\", xgb_f1_score)"
   ]
  },
  {
   "cell_type": "code",
   "execution_count": 38,
   "metadata": {},
   "outputs": [],
   "source": [
    "# 클래스 비율 고려 - 평가지표의 값이 심각하게 낮음.(불균형이 그 원인)\n",
    "\n",
    "xgb_acc = accuracy_score(y_val, y_pred)\n",
    "xgb_precision = precision_score(y_val, y_pred, average=\"weighted\")\n",
    "xgb_recall = recall_score(y_val, y_pred, average=\"weighted\")\n",
    "xgb_f1_score = f1_score(y_val, y_pred, average=\"weighted\")"
   ]
  },
  {
   "cell_type": "code",
   "execution_count": 39,
   "metadata": {},
   "outputs": [
    {
     "name": "stdout",
     "output_type": "stream",
     "text": [
      "XGBoost: 클래스 고려\n",
      "Accuracy: 0.9075310520889587\n",
      "Precision: 0.9159410667801321\n",
      "Recall: 0.9075310520889587\n",
      "F1 Score: 0.9111315948323538\n"
     ]
    }
   ],
   "source": [
    "print(\"XGBoost: 클래스 고려\")\n",
    "print(\"Accuracy:\", xgb_acc)\n",
    "print(\"Precision:\", xgb_precision)\n",
    "print(\"Recall:\", xgb_recall)\n",
    "print(\"F1 Score:\", xgb_f1_score)"
   ]
  },
  {
   "cell_type": "code",
   "execution_count": 40,
   "metadata": {},
   "outputs": [
    {
     "data": {
      "image/png": "[encoded data removed]",
      "text/plain": [
       "<Figure size 640x480 with 2 Axes>"
      ]
     },
     "metadata": {},
     "output_type": "display_data"
    }
   ],
   "source": [
    "# confusion matrix 계산\n",
    "cm = confusion_matrix(y_val, y_pred)\n",
    "\n",
    "# 클래스 레이블 (class label)\n",
    "classes = np.unique(y_val)\n",
    "\n",
    "# confusion matrix 시각화\n",
    "fig, ax = plt.subplots()\n",
    "im = ax.imshow(cm, interpolation='nearest', cmap=plt.cm.Blues)\n",
    "ax.figure.colorbar(im, ax=ax)\n",
    "ax.set(xticks=np.arange(cm.shape[1]),\n",
    "       yticks=np.arange(cm.shape[0]),\n",
    "       xticklabels=classes, yticklabels=classes,\n",
    "       title='Confusion matrix - xgb_pred',\n",
    "       ylabel='True label',\n",
    "       xlabel='Predicted label')\n",
    "\n",
    "# 각 칸에 숫자로 라벨링\n",
    "thresh = cm.max() / 2\n",
    "for i in range(cm.shape[0]):\n",
    "    for j in range(cm.shape[1]):\n",
    "        ax.text(j, i, format(cm[i, j], 'd'),\n",
    "                ha=\"center\", va=\"center\",\n",
    "                color=\"white\" if cm[i, j] > thresh else \"black\")\n",
    "\n",
    "fig.tight_layout()\n",
    "plt.show()"
   ]
  },
  {
   "cell_type": "code",
   "execution_count": 41,
   "metadata": {},
   "outputs": [],
   "source": [
    "ratio_15 = y_pred.sum()/len(y_pred)*100"
   ]
  },
  {
   "cell_type": "code",
   "execution_count": 42,
   "metadata": {},
   "outputs": [
    {
     "name": "stdout",
     "output_type": "stream",
     "text": [
      "15일 이후까지 접속 안하는 세션 비율 : 12.37 %\n"
     ]
    }
   ],
   "source": [
    "print(\"15일 이후까지 접속 안하는 세션 비율 :\", round(ratio_15,2),\"%\")"
   ]
  },
  {
   "cell_type": "code",
   "execution_count": 43,
   "metadata": {},
   "outputs": [],
   "source": [
    "# 유저 비율을 구해보자(기존데이터로 예측)\n",
    "customer_pred = model.predict(droped_X)\n",
    "last_ratio_15 = customer_pred.sum()/len(customer_pred)*100"
   ]
  },
  {
   "cell_type": "code",
   "execution_count": 44,
   "metadata": {},
   "outputs": [
    {
     "name": "stdout",
     "output_type": "stream",
     "text": [
      "접속 기록 마지막 세션 이후 15일 접속 안하는 유저 비율 : 78.34 %\n"
     ]
    }
   ],
   "source": [
    "print(\"접속 기록 마지막 세션 이후 15일 접속 안하는 유저 비율 :\", round(last_ratio_15,2),\"%\")"
   ]
  },
  {
   "cell_type": "code",
   "execution_count": 45,
   "metadata": {},
   "outputs": [],
   "source": [
    "from sklearn.metrics import roc_curve, roc_auc_score, precision_recall_curve\n",
    "import matplotlib.pyplot as plt\n",
    "\n",
    "y_pred_proba = model.predict_proba(droped_X)\n",
    "\n",
    "\n"
   ]
  },
  {
   "attachments": {},
   "cell_type": "markdown",
   "metadata": {},
   "source": [
    "### X_val, y_val 수정 다른 모델들 정확도 및 평가지표"
   ]
  },
  {
   "cell_type": "code",
   "execution_count": 46,
   "metadata": {},
   "outputs": [],
   "source": [
    "lr_param_grid = {'C': [1]}\n",
    "knn_param_grid = {'n_neighbors': [7]}\n",
    "dt_param_grid = {'max_depth': [7]}\n",
    "rf_param_grid = {'max_depth': [7], 'n_estimators': [300]}\n",
    "xgb_param_grid = {'learning_rate': [0.1], 'max_depth': [7], 'n_estimators': [300]}\n",
    "cat_param_grid = {'depth': [7], 'iterations': [300], 'learning_rate': [0.1]}"
   ]
  },
  {
   "cell_type": "code",
   "execution_count": 47,
   "metadata": {},
   "outputs": [],
   "source": [
    "lr_gs = LogisticRegression(C=1)\n",
    "lr_gs.fit(X_train, y_train)\n",
    "lr_pred = lr_gs.predict(X_val)"
   ]
  },
  {
   "cell_type": "code",
   "execution_count": null,
   "metadata": {},
   "outputs": [],
   "source": [
    "knn_gs = GridSearchCV(KNeighborsClassifier(), knn_param_grid)\n",
    "knn_gs.fit(X_train, y_train)\n",
    "knn_pred = knn_gs.predict(X_val)"
   ]
  },
  {
   "cell_type": "code",
   "execution_count": null,
   "metadata": {},
   "outputs": [
    {
     "data": {
      "text/html": [
       "<style>#sk-container-id-3 {color: black;background-color: white;}#sk-container-id-3 pre{padding: 0;}#sk-container-id-3 div.sk-toggleable {background-color: white;}#sk-container-id-3 label.sk-toggleable__label {cursor: pointer;display: block;width: 100%;margin-bottom: 0;padding: 0.3em;box-sizing: border-box;text-align: center;}#sk-container-id-3 label.sk-toggleable__label-arrow:before {content: \"▸\";float: left;margin-right: 0.25em;color: #696969;}#sk-container-id-3 label.sk-toggleable__label-arrow:hover:before {color: black;}#sk-container-id-3 div.sk-estimator:hover label.sk-toggleable__label-arrow:before {color: black;}#sk-container-id-3 div.sk-toggleable__content {max-height: 0;max-width: 0;overflow: hidden;text-align: left;background-color: #f0f8ff;}#sk-container-id-3 div.sk-toggleable__content pre {margin: 0.2em;color: black;border-radius: 0.25em;background-color: #f0f8ff;}#sk-container-id-3 input.sk-toggleable__control:checked~div.sk-toggleable__content {max-height: 200px;max-width: 100%;overflow: auto;}#sk-container-id-3 input.sk-toggleable__control:checked~label.sk-toggleable__label-arrow:before {content: \"▾\";}#sk-container-id-3 div.sk-estimator input.sk-toggleable__control:checked~label.sk-toggleable__label {background-color: #d4ebff;}#sk-container-id-3 div.sk-label input.sk-toggleable__control:checked~label.sk-toggleable__label {background-color: #d4ebff;}#sk-container-id-3 input.sk-hidden--visually {border: 0;clip: rect(1px 1px 1px 1px);clip: rect(1px, 1px, 1px, 1px);height: 1px;margin: -1px;overflow: hidden;padding: 0;position: absolute;width: 1px;}#sk-container-id-3 div.sk-estimator {font-family: monospace;background-color: #f0f8ff;border: 1px dotted black;border-radius: 0.25em;box-sizing: border-box;margin-bottom: 0.5em;}#sk-container-id-3 div.sk-estimator:hover {background-color: #d4ebff;}#sk-container-id-3 div.sk-parallel-item::after {content: \"\";width: 100%;border-bottom: 1px solid gray;flex-grow: 1;}#sk-container-id-3 div.sk-label:hover label.sk-toggleable__label {background-color: #d4ebff;}#sk-container-id-3 div.sk-serial::before {content: \"\";position: absolute;border-left: 1px solid gray;box-sizing: border-box;top: 0;bottom: 0;left: 50%;z-index: 0;}#sk-container-id-3 div.sk-serial {display: flex;flex-direction: column;align-items: center;background-color: white;padding-right: 0.2em;padding-left: 0.2em;position: relative;}#sk-container-id-3 div.sk-item {position: relative;z-index: 1;}#sk-container-id-3 div.sk-parallel {display: flex;align-items: stretch;justify-content: center;background-color: white;position: relative;}#sk-container-id-3 div.sk-item::before, #sk-container-id-3 div.sk-parallel-item::before {content: \"\";position: absolute;border-left: 1px solid gray;box-sizing: border-box;top: 0;bottom: 0;left: 50%;z-index: -1;}#sk-container-id-3 div.sk-parallel-item {display: flex;flex-direction: column;z-index: 1;position: relative;background-color: white;}#sk-container-id-3 div.sk-parallel-item:first-child::after {align-self: flex-end;width: 50%;}#sk-container-id-3 div.sk-parallel-item:last-child::after {align-self: flex-start;width: 50%;}#sk-container-id-3 div.sk-parallel-item:only-child::after {width: 0;}#sk-container-id-3 div.sk-dashed-wrapped {border: 1px dashed gray;margin: 0 0.4em 0.5em 0.4em;box-sizing: border-box;padding-bottom: 0.4em;background-color: white;}#sk-container-id-3 div.sk-label label {font-family: monospace;font-weight: bold;display: inline-block;line-height: 1.2em;}#sk-container-id-3 div.sk-label-container {text-align: center;}#sk-container-id-3 div.sk-container {/* jupyter's `normalize.less` sets `[hidden] { display: none; }` but bootstrap.min.css set `[hidden] { display: none !important; }` so we also need the `!important` here to be able to override the default hidden behavior on the sphinx rendered scikit-learn.org. See: https://github.com/scikit-learn/scikit-learn/issues/21755 */display: inline-block !important;position: relative;}#sk-container-id-3 div.sk-text-repr-fallback {display: none;}</style><div id=\"sk-container-id-3\" class=\"sk-top-container\"><div class=\"sk-text-repr-fallback\"><pre>DecisionTreeClassifier(max_depth=7)</pre><b>In a Jupyter environment, please rerun this cell to show the HTML representation or trust the notebook. <br />On GitHub, the HTML representation is unable to render, please try loading this page with nbviewer.org.</b></div><div class=\"sk-container\" hidden><div class=\"sk-item\"><div class=\"sk-estimator sk-toggleable\"><input class=\"sk-toggleable__control sk-hidden--visually\" id=\"sk-estimator-id-3\" type=\"checkbox\" checked><label for=\"sk-estimator-id-3\" class=\"sk-toggleable__label sk-toggleable__label-arrow\">DecisionTreeClassifier</label><div class=\"sk-toggleable__content\"><pre>DecisionTreeClassifier(max_depth=7)</pre></div></div></div></div></div>"
      ],
      "text/plain": [
       "DecisionTreeClassifier(max_depth=7)"
      ]
     },
     "execution_count": 49,
     "metadata": {},
     "output_type": "execute_result"
    }
   ],
   "source": [
    "dt_gs = DecisionTreeClassifier(max_depth= 7)\n",
    "dt_gs.fit(X_train, y_train)\n",
    "dt_pred = dt_gs.predict(X_val)"
   ]
  },
  {
   "cell_type": "code",
   "execution_count": null,
   "metadata": {},
   "outputs": [
    {
     "data": {
      "text/html": [
       "<style>#sk-container-id-4 {color: black;background-color: white;}#sk-container-id-4 pre{padding: 0;}#sk-container-id-4 div.sk-toggleable {background-color: white;}#sk-container-id-4 label.sk-toggleable__label {cursor: pointer;display: block;width: 100%;margin-bottom: 0;padding: 0.3em;box-sizing: border-box;text-align: center;}#sk-container-id-4 label.sk-toggleable__label-arrow:before {content: \"▸\";float: left;margin-right: 0.25em;color: #696969;}#sk-container-id-4 label.sk-toggleable__label-arrow:hover:before {color: black;}#sk-container-id-4 div.sk-estimator:hover label.sk-toggleable__label-arrow:before {color: black;}#sk-container-id-4 div.sk-toggleable__content {max-height: 0;max-width: 0;overflow: hidden;text-align: left;background-color: #f0f8ff;}#sk-container-id-4 div.sk-toggleable__content pre {margin: 0.2em;color: black;border-radius: 0.25em;background-color: #f0f8ff;}#sk-container-id-4 input.sk-toggleable__control:checked~div.sk-toggleable__content {max-height: 200px;max-width: 100%;overflow: auto;}#sk-container-id-4 input.sk-toggleable__control:checked~label.sk-toggleable__label-arrow:before {content: \"▾\";}#sk-container-id-4 div.sk-estimator input.sk-toggleable__control:checked~label.sk-toggleable__label {background-color: #d4ebff;}#sk-container-id-4 div.sk-label input.sk-toggleable__control:checked~label.sk-toggleable__label {background-color: #d4ebff;}#sk-container-id-4 input.sk-hidden--visually {border: 0;clip: rect(1px 1px 1px 1px);clip: rect(1px, 1px, 1px, 1px);height: 1px;margin: -1px;overflow: hidden;padding: 0;position: absolute;width: 1px;}#sk-container-id-4 div.sk-estimator {font-family: monospace;background-color: #f0f8ff;border: 1px dotted black;border-radius: 0.25em;box-sizing: border-box;margin-bottom: 0.5em;}#sk-container-id-4 div.sk-estimator:hover {background-color: #d4ebff;}#sk-container-id-4 div.sk-parallel-item::after {content: \"\";width: 100%;border-bottom: 1px solid gray;flex-grow: 1;}#sk-container-id-4 div.sk-label:hover label.sk-toggleable__label {background-color: #d4ebff;}#sk-container-id-4 div.sk-serial::before {content: \"\";position: absolute;border-left: 1px solid gray;box-sizing: border-box;top: 0;bottom: 0;left: 50%;z-index: 0;}#sk-container-id-4 div.sk-serial {display: flex;flex-direction: column;align-items: center;background-color: white;padding-right: 0.2em;padding-left: 0.2em;position: relative;}#sk-container-id-4 div.sk-item {position: relative;z-index: 1;}#sk-container-id-4 div.sk-parallel {display: flex;align-items: stretch;justify-content: center;background-color: white;position: relative;}#sk-container-id-4 div.sk-item::before, #sk-container-id-4 div.sk-parallel-item::before {content: \"\";position: absolute;border-left: 1px solid gray;box-sizing: border-box;top: 0;bottom: 0;left: 50%;z-index: -1;}#sk-container-id-4 div.sk-parallel-item {display: flex;flex-direction: column;z-index: 1;position: relative;background-color: white;}#sk-container-id-4 div.sk-parallel-item:first-child::after {align-self: flex-end;width: 50%;}#sk-container-id-4 div.sk-parallel-item:last-child::after {align-self: flex-start;width: 50%;}#sk-container-id-4 div.sk-parallel-item:only-child::after {width: 0;}#sk-container-id-4 div.sk-dashed-wrapped {border: 1px dashed gray;margin: 0 0.4em 0.5em 0.4em;box-sizing: border-box;padding-bottom: 0.4em;background-color: white;}#sk-container-id-4 div.sk-label label {font-family: monospace;font-weight: bold;display: inline-block;line-height: 1.2em;}#sk-container-id-4 div.sk-label-container {text-align: center;}#sk-container-id-4 div.sk-container {/* jupyter's `normalize.less` sets `[hidden] { display: none; }` but bootstrap.min.css set `[hidden] { display: none !important; }` so we also need the `!important` here to be able to override the default hidden behavior on the sphinx rendered scikit-learn.org. See: https://github.com/scikit-learn/scikit-learn/issues/21755 */display: inline-block !important;position: relative;}#sk-container-id-4 div.sk-text-repr-fallback {display: none;}</style><div id=\"sk-container-id-4\" class=\"sk-top-container\"><div class=\"sk-text-repr-fallback\"><pre>RandomForestClassifier(max_depth=7, n_estimators=300)</pre><b>In a Jupyter environment, please rerun this cell to show the HTML representation or trust the notebook. <br />On GitHub, the HTML representation is unable to render, please try loading this page with nbviewer.org.</b></div><div class=\"sk-container\" hidden><div class=\"sk-item\"><div class=\"sk-estimator sk-toggleable\"><input class=\"sk-toggleable__control sk-hidden--visually\" id=\"sk-estimator-id-4\" type=\"checkbox\" checked><label for=\"sk-estimator-id-4\" class=\"sk-toggleable__label sk-toggleable__label-arrow\">RandomForestClassifier</label><div class=\"sk-toggleable__content\"><pre>RandomForestClassifier(max_depth=7, n_estimators=300)</pre></div></div></div></div></div>"
      ],
      "text/plain": [
       "RandomForestClassifier(max_depth=7, n_estimators=300)"
      ]
     },
     "execution_count": 50,
     "metadata": {},
     "output_type": "execute_result"
    }
   ],
   "source": [
    "rf_gs = RandomForestClassifier(max_depth= 7, n_estimators = 300)\n",
    "rf_gs.fit(X_train, y_train)\n",
    "rf_pred = rf_gs.predict(X_val)"
   ]
  },
  {
   "cell_type": "code",
   "execution_count": null,
   "metadata": {},
   "outputs": [
    {
     "data": {
      "text/html": [
       "<style>#sk-container-id-5 {color: black;background-color: white;}#sk-container-id-5 pre{padding: 0;}#sk-container-id-5 div.sk-toggleable {background-color: white;}#sk-container-id-5 label.sk-toggleable__label {cursor: pointer;display: block;width: 100%;margin-bottom: 0;padding: 0.3em;box-sizing: border-box;text-align: center;}#sk-container-id-5 label.sk-toggleable__label-arrow:before {content: \"▸\";float: left;margin-right: 0.25em;color: #696969;}#sk-container-id-5 label.sk-toggleable__label-arrow:hover:before {color: black;}#sk-container-id-5 div.sk-estimator:hover label.sk-toggleable__label-arrow:before {color: black;}#sk-container-id-5 div.sk-toggleable__content {max-height: 0;max-width: 0;overflow: hidden;text-align: left;background-color: #f0f8ff;}#sk-container-id-5 div.sk-toggleable__content pre {margin: 0.2em;color: black;border-radius: 0.25em;background-color: #f0f8ff;}#sk-container-id-5 input.sk-toggleable__control:checked~div.sk-toggleable__content {max-height: 200px;max-width: 100%;overflow: auto;}#sk-container-id-5 input.sk-toggleable__control:checked~label.sk-toggleable__label-arrow:before {content: \"▾\";}#sk-container-id-5 div.sk-estimator input.sk-toggleable__control:checked~label.sk-toggleable__label {background-color: #d4ebff;}#sk-container-id-5 div.sk-label input.sk-toggleable__control:checked~label.sk-toggleable__label {background-color: #d4ebff;}#sk-container-id-5 input.sk-hidden--visually {border: 0;clip: rect(1px 1px 1px 1px);clip: rect(1px, 1px, 1px, 1px);height: 1px;margin: -1px;overflow: hidden;padding: 0;position: absolute;width: 1px;}#sk-container-id-5 div.sk-estimator {font-family: monospace;background-color: #f0f8ff;border: 1px dotted black;border-radius: 0.25em;box-sizing: border-box;margin-bottom: 0.5em;}#sk-container-id-5 div.sk-estimator:hover {background-color: #d4ebff;}#sk-container-id-5 div.sk-parallel-item::after {content: \"\";width: 100%;border-bottom: 1px solid gray;flex-grow: 1;}#sk-container-id-5 div.sk-label:hover label.sk-toggleable__label {background-color: #d4ebff;}#sk-container-id-5 div.sk-serial::before {content: \"\";position: absolute;border-left: 1px solid gray;box-sizing: border-box;top: 0;bottom: 0;left: 50%;z-index: 0;}#sk-container-id-5 div.sk-serial {display: flex;flex-direction: column;align-items: center;background-color: white;padding-right: 0.2em;padding-left: 0.2em;position: relative;}#sk-container-id-5 div.sk-item {position: relative;z-index: 1;}#sk-container-id-5 div.sk-parallel {display: flex;align-items: stretch;justify-content: center;background-color: white;position: relative;}#sk-container-id-5 div.sk-item::before, #sk-container-id-5 div.sk-parallel-item::before {content: \"\";position: absolute;border-left: 1px solid gray;box-sizing: border-box;top: 0;bottom: 0;left: 50%;z-index: -1;}#sk-container-id-5 div.sk-parallel-item {display: flex;flex-direction: column;z-index: 1;position: relative;background-color: white;}#sk-container-id-5 div.sk-parallel-item:first-child::after {align-self: flex-end;width: 50%;}#sk-container-id-5 div.sk-parallel-item:last-child::after {align-self: flex-start;width: 50%;}#sk-container-id-5 div.sk-parallel-item:only-child::after {width: 0;}#sk-container-id-5 div.sk-dashed-wrapped {border: 1px dashed gray;margin: 0 0.4em 0.5em 0.4em;box-sizing: border-box;padding-bottom: 0.4em;background-color: white;}#sk-container-id-5 div.sk-label label {font-family: monospace;font-weight: bold;display: inline-block;line-height: 1.2em;}#sk-container-id-5 div.sk-label-container {text-align: center;}#sk-container-id-5 div.sk-container {/* jupyter's `normalize.less` sets `[hidden] { display: none; }` but bootstrap.min.css set `[hidden] { display: none !important; }` so we also need the `!important` here to be able to override the default hidden behavior on the sphinx rendered scikit-learn.org. See: https://github.com/scikit-learn/scikit-learn/issues/21755 */display: inline-block !important;position: relative;}#sk-container-id-5 div.sk-text-repr-fallback {display: none;}</style><div id=\"sk-container-id-5\" class=\"sk-top-container\"><div class=\"sk-text-repr-fallback\"><pre>XGBClassifier(base_score=None, booster=None, callbacks=None,\n",
       "              colsample_bylevel=None, colsample_bynode=None,\n",
       "              colsample_bytree=None, early_stopping_rounds=None,\n",
       "              enable_categorical=False, eval_metric=None, feature_types=None,\n",
       "              gamma=None, gpu_id=None, grow_policy=None, importance_type=None,\n",
       "              interaction_constraints=None, learning_rate=0.1, max_bin=None,\n",
       "              max_cat_threshold=None, max_cat_to_onehot=None,\n",
       "              max_delta_step=None, max_depth=7, max_leaves=None,\n",
       "              min_child_weight=None, missing=nan, monotone_constraints=None,\n",
       "              n_estimators=300, n_jobs=None, num_parallel_tree=None,\n",
       "              predictor=None, random_state=None, ...)</pre><b>In a Jupyter environment, please rerun this cell to show the HTML representation or trust the notebook. <br />On GitHub, the HTML representation is unable to render, please try loading this page with nbviewer.org.</b></div><div class=\"sk-container\" hidden><div class=\"sk-item\"><div class=\"sk-estimator sk-toggleable\"><input class=\"sk-toggleable__control sk-hidden--visually\" id=\"sk-estimator-id-5\" type=\"checkbox\" checked><label for=\"sk-estimator-id-5\" class=\"sk-toggleable__label sk-toggleable__label-arrow\">XGBClassifier</label><div class=\"sk-toggleable__content\"><pre>XGBClassifier(base_score=None, booster=None, callbacks=None,\n",
       "              colsample_bylevel=None, colsample_bynode=None,\n",
       "              colsample_bytree=None, early_stopping_rounds=None,\n",
       "              enable_categorical=False, eval_metric=None, feature_types=None,\n",
       "              gamma=None, gpu_id=None, grow_policy=None, importance_type=None,\n",
       "              interaction_constraints=None, learning_rate=0.1, max_bin=None,\n",
       "              max_cat_threshold=None, max_cat_to_onehot=None,\n",
       "              max_delta_step=None, max_depth=7, max_leaves=None,\n",
       "              min_child_weight=None, missing=nan, monotone_constraints=None,\n",
       "              n_estimators=300, n_jobs=None, num_parallel_tree=None,\n",
       "              predictor=None, random_state=None, ...)</pre></div></div></div></div></div>"
      ],
      "text/plain": [
       "XGBClassifier(base_score=None, booster=None, callbacks=None,\n",
       "              colsample_bylevel=None, colsample_bynode=None,\n",
       "              colsample_bytree=None, early_stopping_rounds=None,\n",
       "              enable_categorical=False, eval_metric=None, feature_types=None,\n",
       "              gamma=None, gpu_id=None, grow_policy=None, importance_type=None,\n",
       "              interaction_constraints=None, learning_rate=0.1, max_bin=None,\n",
       "              max_cat_threshold=None, max_cat_to_onehot=None,\n",
       "              max_delta_step=None, max_depth=7, max_leaves=None,\n",
       "              min_child_weight=None, missing=nan, monotone_constraints=None,\n",
       "              n_estimators=300, n_jobs=None, num_parallel_tree=None,\n",
       "              predictor=None, random_state=None, ...)"
      ]
     },
     "execution_count": 51,
     "metadata": {},
     "output_type": "execute_result"
    }
   ],
   "source": [
    "xgb_gs = XGBClassifier(learning_rate = 0.1, max_depth = 7, n_estimators = 300)\n",
    "xgb_gs.fit(X_train, y_train)\n",
    "xgb_pred = xgb_gs.predict(X_val)"
   ]
  },
  {
   "cell_type": "code",
   "execution_count": null,
   "metadata": {},
   "outputs": [
    {
     "name": "stdout",
     "output_type": "stream",
     "text": [
      "0:\tlearn: 0.5739970\ttotal: 360ms\tremaining: 1m 47s\n",
      "1:\tlearn: 0.4857491\ttotal: 569ms\tremaining: 1m 24s\n",
      "2:\tlearn: 0.4211384\ttotal: 795ms\tremaining: 1m 18s\n",
      "3:\tlearn: 0.3729395\ttotal: 1.03s\tremaining: 1m 15s\n",
      "4:\tlearn: 0.3376766\ttotal: 1.25s\tremaining: 1m 13s\n",
      "5:\tlearn: 0.3114387\ttotal: 1.47s\tremaining: 1m 11s\n",
      "6:\tlearn: 0.2920732\ttotal: 1.65s\tremaining: 1m 8s\n",
      "7:\tlearn: 0.2772597\ttotal: 1.85s\tremaining: 1m 7s\n",
      "8:\tlearn: 0.2662627\ttotal: 2.04s\tremaining: 1m 6s\n",
      "9:\tlearn: 0.2577804\ttotal: 2.26s\tremaining: 1m 5s\n",
      "10:\tlearn: 0.2511340\ttotal: 2.52s\tremaining: 1m 6s\n",
      "11:\tlearn: 0.2463089\ttotal: 2.7s\tremaining: 1m 4s\n",
      "12:\tlearn: 0.2424145\ttotal: 2.9s\tremaining: 1m 4s\n",
      "13:\tlearn: 0.2395237\ttotal: 3.13s\tremaining: 1m 3s\n",
      "14:\tlearn: 0.2370361\ttotal: 3.34s\tremaining: 1m 3s\n",
      "15:\tlearn: 0.2351515\ttotal: 3.55s\tremaining: 1m 3s\n",
      "16:\tlearn: 0.2335475\ttotal: 3.78s\tremaining: 1m 2s\n",
      "17:\tlearn: 0.2324176\ttotal: 4s\tremaining: 1m 2s\n",
      "18:\tlearn: 0.2314867\ttotal: 4.21s\tremaining: 1m 2s\n",
      "19:\tlearn: 0.2307496\ttotal: 4.45s\tremaining: 1m 2s\n",
      "20:\tlearn: 0.2301649\ttotal: 4.69s\tremaining: 1m 2s\n",
      "21:\tlearn: 0.2296981\ttotal: 4.92s\tremaining: 1m 2s\n",
      "22:\tlearn: 0.2292860\ttotal: 5.05s\tremaining: 1m\n",
      "23:\tlearn: 0.2290390\ttotal: 5.24s\tremaining: 1m\n",
      "24:\tlearn: 0.2287691\ttotal: 5.47s\tremaining: 1m\n",
      "25:\tlearn: 0.2285957\ttotal: 5.68s\tremaining: 59.8s\n",
      "26:\tlearn: 0.2283303\ttotal: 5.97s\tremaining: 1m\n",
      "27:\tlearn: 0.2282108\ttotal: 6.23s\tremaining: 1m\n",
      "28:\tlearn: 0.2279936\ttotal: 6.48s\tremaining: 1m\n",
      "29:\tlearn: 0.2278400\ttotal: 6.74s\tremaining: 1m\n",
      "30:\tlearn: 0.2277649\ttotal: 6.98s\tremaining: 1m\n",
      "31:\tlearn: 0.2277523\ttotal: 7.14s\tremaining: 59.8s\n",
      "32:\tlearn: 0.2276498\ttotal: 7.37s\tremaining: 59.6s\n",
      "33:\tlearn: 0.2276109\ttotal: 7.6s\tremaining: 59.5s\n",
      "34:\tlearn: 0.2275757\ttotal: 7.8s\tremaining: 59.1s\n",
      "35:\tlearn: 0.2274863\ttotal: 8.03s\tremaining: 58.9s\n",
      "36:\tlearn: 0.2274429\ttotal: 8.27s\tremaining: 58.8s\n",
      "37:\tlearn: 0.2274063\ttotal: 8.5s\tremaining: 58.6s\n",
      "38:\tlearn: 0.2273258\ttotal: 8.71s\tremaining: 58.3s\n",
      "39:\tlearn: 0.2272820\ttotal: 8.94s\tremaining: 58.1s\n",
      "40:\tlearn: 0.2272946\ttotal: 9.2s\tremaining: 58.1s\n",
      "41:\tlearn: 0.2273307\ttotal: 9.41s\tremaining: 57.8s\n",
      "42:\tlearn: 0.2273087\ttotal: 9.61s\tremaining: 57.5s\n",
      "43:\tlearn: 0.2273333\ttotal: 9.75s\tremaining: 56.7s\n",
      "44:\tlearn: 0.2272755\ttotal: 9.97s\tremaining: 56.5s\n",
      "45:\tlearn: 0.2272222\ttotal: 10.2s\tremaining: 56.2s\n",
      "46:\tlearn: 0.2271793\ttotal: 10.4s\tremaining: 56s\n",
      "47:\tlearn: 0.2271970\ttotal: 10.6s\tremaining: 55.7s\n",
      "48:\tlearn: 0.2272041\ttotal: 10.8s\tremaining: 55.6s\n",
      "49:\tlearn: 0.2272369\ttotal: 11.1s\tremaining: 55.4s\n",
      "50:\tlearn: 0.2272349\ttotal: 11.3s\tremaining: 55.2s\n",
      "51:\tlearn: 0.2272450\ttotal: 11.5s\tremaining: 55s\n",
      "52:\tlearn: 0.2272585\ttotal: 11.8s\tremaining: 54.8s\n",
      "53:\tlearn: 0.2272036\ttotal: 12s\tremaining: 54.7s\n",
      "54:\tlearn: 0.2271938\ttotal: 12.2s\tremaining: 54.4s\n",
      "55:\tlearn: 0.2271984\ttotal: 12.4s\tremaining: 54.1s\n",
      "56:\tlearn: 0.2272320\ttotal: 12.7s\tremaining: 54s\n",
      "57:\tlearn: 0.2271169\ttotal: 12.9s\tremaining: 53.9s\n",
      "58:\tlearn: 0.2271133\ttotal: 13.1s\tremaining: 53.7s\n",
      "59:\tlearn: 0.2271131\ttotal: 13.4s\tremaining: 53.6s\n",
      "60:\tlearn: 0.2271313\ttotal: 13.6s\tremaining: 53.5s\n",
      "61:\tlearn: 0.2271216\ttotal: 13.9s\tremaining: 53.3s\n",
      "62:\tlearn: 0.2271248\ttotal: 14.1s\tremaining: 53.2s\n",
      "63:\tlearn: 0.2271340\ttotal: 14.3s\tremaining: 52.8s\n",
      "64:\tlearn: 0.2271321\ttotal: 14.5s\tremaining: 52.5s\n",
      "65:\tlearn: 0.2270538\ttotal: 14.8s\tremaining: 52.3s\n",
      "66:\tlearn: 0.2270602\ttotal: 15s\tremaining: 52.1s\n",
      "67:\tlearn: 0.2270621\ttotal: 15.2s\tremaining: 51.9s\n",
      "68:\tlearn: 0.2270606\ttotal: 15.4s\tremaining: 51.7s\n",
      "69:\tlearn: 0.2270588\ttotal: 15.7s\tremaining: 51.6s\n",
      "70:\tlearn: 0.2270597\ttotal: 16s\tremaining: 51.5s\n",
      "71:\tlearn: 0.2270614\ttotal: 16.1s\tremaining: 51.1s\n",
      "72:\tlearn: 0.2270555\ttotal: 16.3s\tremaining: 50.6s\n",
      "73:\tlearn: 0.2270688\ttotal: 16.5s\tremaining: 50.4s\n",
      "74:\tlearn: 0.2270748\ttotal: 16.8s\tremaining: 50.3s\n",
      "75:\tlearn: 0.2270646\ttotal: 17s\tremaining: 50.1s\n",
      "76:\tlearn: 0.2270743\ttotal: 17.2s\tremaining: 49.9s\n",
      "77:\tlearn: 0.2270527\ttotal: 17.5s\tremaining: 49.7s\n",
      "78:\tlearn: 0.2270563\ttotal: 17.7s\tremaining: 49.4s\n",
      "79:\tlearn: 0.2270718\ttotal: 17.9s\tremaining: 49.3s\n",
      "80:\tlearn: 0.2270678\ttotal: 18.1s\tremaining: 49s\n",
      "81:\tlearn: 0.2270717\ttotal: 18.4s\tremaining: 48.8s\n",
      "82:\tlearn: 0.2270754\ttotal: 18.6s\tremaining: 48.6s\n",
      "83:\tlearn: 0.2270742\ttotal: 18.8s\tremaining: 48.4s\n",
      "84:\tlearn: 0.2270735\ttotal: 19s\tremaining: 48.1s\n",
      "85:\tlearn: 0.2270762\ttotal: 19.2s\tremaining: 47.8s\n",
      "86:\tlearn: 0.2270779\ttotal: 19.4s\tremaining: 47.5s\n",
      "87:\tlearn: 0.2270655\ttotal: 19.6s\tremaining: 47.1s\n",
      "88:\tlearn: 0.2270559\ttotal: 19.7s\tremaining: 46.8s\n",
      "89:\tlearn: 0.2270619\ttotal: 19.9s\tremaining: 46.5s\n",
      "90:\tlearn: 0.2270657\ttotal: 20.1s\tremaining: 46.2s\n",
      "91:\tlearn: 0.2270660\ttotal: 20.3s\tremaining: 45.9s\n",
      "92:\tlearn: 0.2270690\ttotal: 20.6s\tremaining: 45.7s\n",
      "93:\tlearn: 0.2270672\ttotal: 20.7s\tremaining: 45.5s\n",
      "94:\tlearn: 0.2270610\ttotal: 20.9s\tremaining: 45.2s\n",
      "95:\tlearn: 0.2270633\ttotal: 21.1s\tremaining: 44.9s\n",
      "96:\tlearn: 0.2270633\ttotal: 21.3s\tremaining: 44.5s\n",
      "97:\tlearn: 0.2270597\ttotal: 21.5s\tremaining: 44.3s\n",
      "98:\tlearn: 0.2270574\ttotal: 21.7s\tremaining: 44s\n",
      "99:\tlearn: 0.2270593\ttotal: 21.9s\tremaining: 43.7s\n",
      "100:\tlearn: 0.2270581\ttotal: 22s\tremaining: 43.4s\n",
      "101:\tlearn: 0.2270563\ttotal: 22.2s\tremaining: 43.1s\n",
      "102:\tlearn: 0.2270559\ttotal: 22.4s\tremaining: 42.8s\n",
      "103:\tlearn: 0.2270529\ttotal: 22.6s\tremaining: 42.5s\n",
      "104:\tlearn: 0.2270503\ttotal: 22.7s\tremaining: 42.2s\n",
      "105:\tlearn: 0.2270450\ttotal: 22.9s\tremaining: 42s\n",
      "106:\tlearn: 0.2270463\ttotal: 23.1s\tremaining: 41.7s\n",
      "107:\tlearn: 0.2270381\ttotal: 23.3s\tremaining: 41.4s\n",
      "108:\tlearn: 0.2270355\ttotal: 23.5s\tremaining: 41.1s\n",
      "109:\tlearn: 0.2270330\ttotal: 23.7s\tremaining: 40.9s\n",
      "110:\tlearn: 0.2270349\ttotal: 23.8s\tremaining: 40.5s\n",
      "111:\tlearn: 0.2270303\ttotal: 24s\tremaining: 40.2s\n",
      "112:\tlearn: 0.2270447\ttotal: 24.1s\tremaining: 39.9s\n",
      "113:\tlearn: 0.2270382\ttotal: 24.3s\tremaining: 39.7s\n",
      "114:\tlearn: 0.2270377\ttotal: 24.5s\tremaining: 39.4s\n",
      "115:\tlearn: 0.2270343\ttotal: 24.7s\tremaining: 39.1s\n",
      "116:\tlearn: 0.2270363\ttotal: 24.9s\tremaining: 38.9s\n",
      "117:\tlearn: 0.2270340\ttotal: 25.1s\tremaining: 38.7s\n",
      "118:\tlearn: 0.2270339\ttotal: 25.3s\tremaining: 38.4s\n",
      "119:\tlearn: 0.2270267\ttotal: 25.4s\tremaining: 38.2s\n",
      "120:\tlearn: 0.2270317\ttotal: 25.6s\tremaining: 37.9s\n",
      "121:\tlearn: 0.2270354\ttotal: 25.8s\tremaining: 37.7s\n",
      "122:\tlearn: 0.2270351\ttotal: 26s\tremaining: 37.4s\n",
      "123:\tlearn: 0.2270339\ttotal: 26.1s\tremaining: 37.1s\n",
      "124:\tlearn: 0.2270318\ttotal: 26.3s\tremaining: 36.8s\n",
      "125:\tlearn: 0.2270228\ttotal: 26.5s\tremaining: 36.5s\n",
      "126:\tlearn: 0.2270235\ttotal: 26.6s\tremaining: 36.3s\n",
      "127:\tlearn: 0.2270248\ttotal: 26.9s\tremaining: 36.1s\n",
      "128:\tlearn: 0.2270279\ttotal: 27.1s\tremaining: 35.9s\n",
      "129:\tlearn: 0.2270241\ttotal: 27.2s\tremaining: 35.6s\n",
      "130:\tlearn: 0.2270131\ttotal: 27.4s\tremaining: 35.4s\n",
      "131:\tlearn: 0.2270283\ttotal: 27.6s\tremaining: 35.2s\n",
      "132:\tlearn: 0.2270250\ttotal: 27.8s\tremaining: 34.9s\n",
      "133:\tlearn: 0.2270209\ttotal: 28s\tremaining: 34.7s\n",
      "134:\tlearn: 0.2270170\ttotal: 28.1s\tremaining: 34.4s\n",
      "135:\tlearn: 0.2270162\ttotal: 28.3s\tremaining: 34.1s\n",
      "136:\tlearn: 0.2270168\ttotal: 28.5s\tremaining: 33.9s\n",
      "137:\tlearn: 0.2270148\ttotal: 28.7s\tremaining: 33.7s\n",
      "138:\tlearn: 0.2270190\ttotal: 28.9s\tremaining: 33.5s\n",
      "139:\tlearn: 0.2270201\ttotal: 29.1s\tremaining: 33.3s\n",
      "140:\tlearn: 0.2270196\ttotal: 29.3s\tremaining: 33s\n",
      "141:\tlearn: 0.2270169\ttotal: 29.4s\tremaining: 32.8s\n",
      "142:\tlearn: 0.2270081\ttotal: 29.6s\tremaining: 32.5s\n",
      "143:\tlearn: 0.2270035\ttotal: 29.8s\tremaining: 32.3s\n",
      "144:\tlearn: 0.2270036\ttotal: 30s\tremaining: 32.1s\n",
      "145:\tlearn: 0.2270037\ttotal: 30.2s\tremaining: 31.9s\n",
      "146:\tlearn: 0.2270043\ttotal: 30.5s\tremaining: 31.7s\n",
      "147:\tlearn: 0.2270053\ttotal: 30.7s\tremaining: 31.5s\n",
      "148:\tlearn: 0.2270043\ttotal: 30.9s\tremaining: 31.3s\n",
      "149:\tlearn: 0.2270022\ttotal: 31.1s\tremaining: 31.1s\n",
      "150:\tlearn: 0.2270032\ttotal: 31.4s\tremaining: 31s\n",
      "151:\tlearn: 0.2270032\ttotal: 31.7s\tremaining: 30.8s\n",
      "152:\tlearn: 0.2270021\ttotal: 31.9s\tremaining: 30.7s\n",
      "153:\tlearn: 0.2270045\ttotal: 32.1s\tremaining: 30.5s\n",
      "154:\tlearn: 0.2269980\ttotal: 32.4s\tremaining: 30.3s\n",
      "155:\tlearn: 0.2269988\ttotal: 32.6s\tremaining: 30.1s\n",
      "156:\tlearn: 0.2269971\ttotal: 32.9s\tremaining: 30s\n",
      "157:\tlearn: 0.2269957\ttotal: 33.2s\tremaining: 29.8s\n",
      "158:\tlearn: 0.2269937\ttotal: 33.4s\tremaining: 29.6s\n",
      "159:\tlearn: 0.2269927\ttotal: 33.6s\tremaining: 29.4s\n",
      "160:\tlearn: 0.2269904\ttotal: 33.8s\tremaining: 29.2s\n",
      "161:\tlearn: 0.2269910\ttotal: 34s\tremaining: 29s\n",
      "162:\tlearn: 0.2269900\ttotal: 34.2s\tremaining: 28.8s\n",
      "163:\tlearn: 0.2269882\ttotal: 34.5s\tremaining: 28.6s\n",
      "164:\tlearn: 0.2269875\ttotal: 34.7s\tremaining: 28.4s\n",
      "165:\tlearn: 0.2269881\ttotal: 34.9s\tremaining: 28.2s\n",
      "166:\tlearn: 0.2269881\ttotal: 35.1s\tremaining: 28s\n",
      "167:\tlearn: 0.2269866\ttotal: 35.3s\tremaining: 27.8s\n",
      "168:\tlearn: 0.2269844\ttotal: 35.6s\tremaining: 27.6s\n",
      "169:\tlearn: 0.2269824\ttotal: 35.8s\tremaining: 27.4s\n",
      "170:\tlearn: 0.2269851\ttotal: 36s\tremaining: 27.2s\n",
      "171:\tlearn: 0.2269857\ttotal: 36.3s\tremaining: 27s\n",
      "172:\tlearn: 0.2269858\ttotal: 36.5s\tremaining: 26.8s\n",
      "173:\tlearn: 0.2269836\ttotal: 36.7s\tremaining: 26.6s\n",
      "174:\tlearn: 0.2269822\ttotal: 36.9s\tremaining: 26.4s\n",
      "175:\tlearn: 0.2269828\ttotal: 37.2s\tremaining: 26.2s\n",
      "176:\tlearn: 0.2269821\ttotal: 37.4s\tremaining: 26s\n",
      "177:\tlearn: 0.2269800\ttotal: 37.6s\tremaining: 25.8s\n",
      "178:\tlearn: 0.2269793\ttotal: 37.8s\tremaining: 25.6s\n",
      "179:\tlearn: 0.2269804\ttotal: 38.1s\tremaining: 25.4s\n",
      "180:\tlearn: 0.2269783\ttotal: 38.3s\tremaining: 25.2s\n",
      "181:\tlearn: 0.2269779\ttotal: 38.5s\tremaining: 25s\n",
      "182:\tlearn: 0.2269754\ttotal: 38.7s\tremaining: 24.8s\n",
      "183:\tlearn: 0.2269767\ttotal: 39s\tremaining: 24.6s\n",
      "184:\tlearn: 0.2269720\ttotal: 39.2s\tremaining: 24.4s\n",
      "185:\tlearn: 0.2269720\ttotal: 39.4s\tremaining: 24.1s\n",
      "186:\tlearn: 0.2269720\ttotal: 39.6s\tremaining: 23.9s\n",
      "187:\tlearn: 0.2269734\ttotal: 39.8s\tremaining: 23.7s\n",
      "188:\tlearn: 0.2269710\ttotal: 40.1s\tremaining: 23.5s\n",
      "189:\tlearn: 0.2269724\ttotal: 40.3s\tremaining: 23.3s\n",
      "190:\tlearn: 0.2269732\ttotal: 40.5s\tremaining: 23.1s\n",
      "191:\tlearn: 0.2269733\ttotal: 40.8s\tremaining: 22.9s\n",
      "192:\tlearn: 0.2269722\ttotal: 41s\tremaining: 22.7s\n",
      "193:\tlearn: 0.2269720\ttotal: 41.3s\tremaining: 22.5s\n",
      "194:\tlearn: 0.2269709\ttotal: 41.5s\tremaining: 22.3s\n",
      "195:\tlearn: 0.2269704\ttotal: 41.7s\tremaining: 22.1s\n",
      "196:\tlearn: 0.2269697\ttotal: 41.9s\tremaining: 21.9s\n",
      "197:\tlearn: 0.2269669\ttotal: 42.2s\tremaining: 21.7s\n",
      "198:\tlearn: 0.2269666\ttotal: 42.4s\tremaining: 21.5s\n",
      "199:\tlearn: 0.2269661\ttotal: 42.6s\tremaining: 21.3s\n",
      "200:\tlearn: 0.2269659\ttotal: 42.9s\tremaining: 21.1s\n",
      "201:\tlearn: 0.2269657\ttotal: 43.1s\tremaining: 20.9s\n",
      "202:\tlearn: 0.2269649\ttotal: 43.3s\tremaining: 20.7s\n",
      "203:\tlearn: 0.2269654\ttotal: 43.5s\tremaining: 20.5s\n",
      "204:\tlearn: 0.2269672\ttotal: 43.8s\tremaining: 20.3s\n",
      "205:\tlearn: 0.2269669\ttotal: 44s\tremaining: 20.1s\n",
      "206:\tlearn: 0.2269669\ttotal: 44.3s\tremaining: 19.9s\n",
      "207:\tlearn: 0.2269662\ttotal: 44.5s\tremaining: 19.7s\n",
      "208:\tlearn: 0.2269748\ttotal: 44.7s\tremaining: 19.5s\n",
      "209:\tlearn: 0.2269743\ttotal: 45s\tremaining: 19.3s\n",
      "210:\tlearn: 0.2269718\ttotal: 45.2s\tremaining: 19.1s\n",
      "211:\tlearn: 0.2269703\ttotal: 45.4s\tremaining: 18.9s\n",
      "212:\tlearn: 0.2269672\ttotal: 45.7s\tremaining: 18.7s\n",
      "213:\tlearn: 0.2269528\ttotal: 45.9s\tremaining: 18.5s\n",
      "214:\tlearn: 0.2269517\ttotal: 46.2s\tremaining: 18.3s\n",
      "215:\tlearn: 0.2269539\ttotal: 46.4s\tremaining: 18s\n",
      "216:\tlearn: 0.2269528\ttotal: 46.6s\tremaining: 17.8s\n",
      "217:\tlearn: 0.2269559\ttotal: 46.8s\tremaining: 17.6s\n",
      "218:\tlearn: 0.2269556\ttotal: 47s\tremaining: 17.4s\n",
      "219:\tlearn: 0.2269553\ttotal: 47.2s\tremaining: 17.1s\n",
      "220:\tlearn: 0.2269545\ttotal: 47.4s\tremaining: 16.9s\n",
      "221:\tlearn: 0.2269528\ttotal: 47.6s\tremaining: 16.7s\n",
      "222:\tlearn: 0.2269463\ttotal: 47.7s\tremaining: 16.5s\n",
      "223:\tlearn: 0.2269445\ttotal: 48s\tremaining: 16.3s\n",
      "224:\tlearn: 0.2269417\ttotal: 48.2s\tremaining: 16.1s\n",
      "225:\tlearn: 0.2269393\ttotal: 48.3s\tremaining: 15.8s\n",
      "226:\tlearn: 0.2269392\ttotal: 48.5s\tremaining: 15.6s\n",
      "227:\tlearn: 0.2269470\ttotal: 48.7s\tremaining: 15.4s\n",
      "228:\tlearn: 0.2269468\ttotal: 48.8s\tremaining: 15.1s\n",
      "229:\tlearn: 0.2269443\ttotal: 49s\tremaining: 14.9s\n",
      "230:\tlearn: 0.2269424\ttotal: 49.2s\tremaining: 14.7s\n",
      "231:\tlearn: 0.2269423\ttotal: 49.4s\tremaining: 14.5s\n",
      "232:\tlearn: 0.2269424\ttotal: 49.5s\tremaining: 14.2s\n",
      "233:\tlearn: 0.2269426\ttotal: 49.6s\tremaining: 14s\n",
      "234:\tlearn: 0.2269428\ttotal: 49.8s\tremaining: 13.8s\n",
      "235:\tlearn: 0.2269424\ttotal: 49.9s\tremaining: 13.5s\n",
      "236:\tlearn: 0.2269423\ttotal: 50.1s\tremaining: 13.3s\n",
      "237:\tlearn: 0.2269472\ttotal: 50.2s\tremaining: 13.1s\n",
      "238:\tlearn: 0.2269522\ttotal: 50.4s\tremaining: 12.9s\n",
      "239:\tlearn: 0.2269483\ttotal: 50.6s\tremaining: 12.7s\n",
      "240:\tlearn: 0.2269465\ttotal: 50.8s\tremaining: 12.4s\n",
      "241:\tlearn: 0.2269338\ttotal: 51s\tremaining: 12.2s\n",
      "242:\tlearn: 0.2269449\ttotal: 51.1s\tremaining: 12s\n",
      "243:\tlearn: 0.2269313\ttotal: 51.3s\tremaining: 11.8s\n",
      "244:\tlearn: 0.2269305\ttotal: 51.5s\tremaining: 11.6s\n",
      "245:\tlearn: 0.2269306\ttotal: 51.6s\tremaining: 11.3s\n",
      "246:\tlearn: 0.2269298\ttotal: 51.8s\tremaining: 11.1s\n",
      "247:\tlearn: 0.2269404\ttotal: 52s\tremaining: 10.9s\n",
      "248:\tlearn: 0.2269325\ttotal: 52.2s\tremaining: 10.7s\n",
      "249:\tlearn: 0.2269192\ttotal: 52.4s\tremaining: 10.5s\n",
      "250:\tlearn: 0.2269189\ttotal: 52.5s\tremaining: 10.3s\n",
      "251:\tlearn: 0.2269255\ttotal: 52.7s\tremaining: 10s\n",
      "252:\tlearn: 0.2269305\ttotal: 52.9s\tremaining: 9.83s\n",
      "253:\tlearn: 0.2269258\ttotal: 53.1s\tremaining: 9.61s\n",
      "254:\tlearn: 0.2269272\ttotal: 53.2s\tremaining: 9.39s\n",
      "255:\tlearn: 0.2269267\ttotal: 53.4s\tremaining: 9.18s\n",
      "256:\tlearn: 0.2269283\ttotal: 53.6s\tremaining: 8.97s\n",
      "257:\tlearn: 0.2269275\ttotal: 53.8s\tremaining: 8.76s\n",
      "258:\tlearn: 0.2269273\ttotal: 54s\tremaining: 8.54s\n",
      "259:\tlearn: 0.2269093\ttotal: 54.2s\tremaining: 8.34s\n",
      "260:\tlearn: 0.2269102\ttotal: 54.4s\tremaining: 8.12s\n",
      "261:\tlearn: 0.2269274\ttotal: 54.5s\tremaining: 7.91s\n",
      "262:\tlearn: 0.2269069\ttotal: 54.7s\tremaining: 7.7s\n",
      "263:\tlearn: 0.2269055\ttotal: 54.9s\tremaining: 7.49s\n",
      "264:\tlearn: 0.2269046\ttotal: 55.1s\tremaining: 7.28s\n",
      "265:\tlearn: 0.2269023\ttotal: 55.3s\tremaining: 7.07s\n",
      "266:\tlearn: 0.2269035\ttotal: 55.5s\tremaining: 6.86s\n",
      "267:\tlearn: 0.2269042\ttotal: 55.7s\tremaining: 6.64s\n",
      "268:\tlearn: 0.2269033\ttotal: 55.9s\tremaining: 6.44s\n",
      "269:\tlearn: 0.2269021\ttotal: 56.1s\tremaining: 6.23s\n",
      "270:\tlearn: 0.2269187\ttotal: 56.3s\tremaining: 6.02s\n",
      "271:\tlearn: 0.2269157\ttotal: 56.5s\tremaining: 5.81s\n",
      "272:\tlearn: 0.2269170\ttotal: 56.7s\tremaining: 5.6s\n",
      "273:\tlearn: 0.2269157\ttotal: 56.8s\tremaining: 5.39s\n",
      "274:\tlearn: 0.2269153\ttotal: 57s\tremaining: 5.18s\n",
      "275:\tlearn: 0.2268982\ttotal: 57.3s\tremaining: 4.98s\n",
      "276:\tlearn: 0.2268984\ttotal: 57.5s\tremaining: 4.77s\n",
      "277:\tlearn: 0.2268981\ttotal: 57.7s\tremaining: 4.57s\n",
      "278:\tlearn: 0.2268911\ttotal: 58s\tremaining: 4.36s\n",
      "279:\tlearn: 0.2268899\ttotal: 58.2s\tremaining: 4.15s\n",
      "280:\tlearn: 0.2268896\ttotal: 58.4s\tremaining: 3.95s\n",
      "281:\tlearn: 0.2268883\ttotal: 58.7s\tremaining: 3.74s\n",
      "282:\tlearn: 0.2268895\ttotal: 58.9s\tremaining: 3.54s\n",
      "283:\tlearn: 0.2268895\ttotal: 59s\tremaining: 3.33s\n",
      "284:\tlearn: 0.2268908\ttotal: 59.3s\tremaining: 3.12s\n",
      "285:\tlearn: 0.2268903\ttotal: 59.6s\tremaining: 2.92s\n",
      "286:\tlearn: 0.2268900\ttotal: 59.8s\tremaining: 2.71s\n",
      "287:\tlearn: 0.2268897\ttotal: 1m\tremaining: 2.5s\n",
      "288:\tlearn: 0.2268903\ttotal: 1m\tremaining: 2.29s\n",
      "289:\tlearn: 0.2268875\ttotal: 1m\tremaining: 2.08s\n",
      "290:\tlearn: 0.2268878\ttotal: 1m\tremaining: 1.88s\n",
      "291:\tlearn: 0.2268875\ttotal: 1m\tremaining: 1.67s\n",
      "292:\tlearn: 0.2268806\ttotal: 1m 1s\tremaining: 1.46s\n",
      "293:\tlearn: 0.2268881\ttotal: 1m 1s\tremaining: 1.25s\n",
      "294:\tlearn: 0.2268864\ttotal: 1m 1s\tremaining: 1.04s\n",
      "295:\tlearn: 0.2268854\ttotal: 1m 1s\tremaining: 834ms\n",
      "296:\tlearn: 0.2268865\ttotal: 1m 2s\tremaining: 626ms\n",
      "297:\tlearn: 0.2268849\ttotal: 1m 2s\tremaining: 418ms\n",
      "298:\tlearn: 0.2268863\ttotal: 1m 2s\tremaining: 209ms\n",
      "299:\tlearn: 0.2268840\ttotal: 1m 2s\tremaining: 0us\n"
     ]
    },
    {
     "data": {
      "text/plain": [
       "<catboost.core.CatBoostClassifier at 0x292ecf954c0>"
      ]
     },
     "execution_count": 52,
     "metadata": {},
     "output_type": "execute_result"
    }
   ],
   "source": [
    "cat_gs = GridSearchCV(CatBoostClassifier(verbose=0), cat_param_grid)\n",
    "cat_gs.fit(X_train, y_train)\n",
    "cat_gs.fit(X_train, y_train)\n",
    "cat_pred = cat_gs.predict(X_val)"
   ]
  },
  {
   "cell_type": "code",
   "execution_count": null,
   "metadata": {},
   "outputs": [],
   "source": [
    "# 각 모델의 성능 평가 지표 계산\n",
    "lr_acc = accuracy_score(y_val, lr_pred)\n",
    "lr_precision = precision_score(y_val, lr_pred)\n",
    "lr_recall = recall_score(y_val, lr_pred)\n",
    "lr_f1_score = f1_score(y_val, lr_pred)\n",
    "\n",
    "knn_acc = accuracy_score(y_val, knn_pred)\n",
    "knn_precision = precision_score(y_val, knn_pred)\n",
    "knn_recall = recall_score(y_val, knn_pred)\n",
    "knn_f1_score = f1_score(y_val, knn_pred)\n",
    "\n",
    "dt_acc = accuracy_score(y_val, dt_pred)\n",
    "dt_precision = precision_score(y_val, dt_pred)\n",
    "dt_recall = recall_score(y_val, dt_pred)\n",
    "dt_f1_score = f1_score(y_val, dt_pred)\n",
    "\n",
    "rf_acc = accuracy_score(y_val, rf_pred)\n",
    "rf_precision = precision_score(y_val, rf_pred)\n",
    "rf_recall = recall_score(y_val, rf_pred)\n",
    "rf_f1_score = f1_score(y_val, rf_pred)\n",
    "\n",
    "xgb_acc = accuracy_score(y_val, xgb_pred)\n",
    "xgb_precision = precision_score(y_val, xgb_pred)\n",
    "xgb_recall = recall_score(y_val, xgb_pred)\n",
    "xgb_f1_score = f1_score(y_val, xgb_pred)\n",
    "\n",
    "cat_acc = accuracy_score(y_val, cat_pred)\n",
    "cat_precision = precision_score(y_val, cat_pred)\n",
    "cat_recall = recall_score(y_val, cat_pred)\n",
    "cat_f1_score = f1_score(y_val, cat_pred)"
   ]
  },
  {
   "cell_type": "code",
   "execution_count": null,
   "metadata": {},
   "outputs": [],
   "source": [
    "# 가중치 고려X 평가 지표\n",
    "# 결과 출력\n",
    "print(\"Logistic Regression:\")\n",
    "print(\"Accuracy:\", lr_acc)\n",
    "print(\"Precision:\", lr_precision)\n",
    "print(\"Recall:\", lr_recall)\n",
    "print(\"F1 Score:\", lr_f1_score)\n",
    "\n",
    "print(\"K-Nearest Neighbors:\")\n",
    "print(\"Accuracy:\", knn_acc)\n",
    "print(\"Precision:\", knn_precision)\n",
    "print(\"Recall:\", knn_recall)\n",
    "print(\"F1 Score:\", knn_f1_score)\n",
    "\n",
    "print(\"Decision Tree:\")\n",
    "print(\"Accuracy:\", dt_acc)\n",
    "print(\"Precision:\", dt_precision)\n",
    "print(\"Recall:\", dt_recall)\n",
    "print(\"F1 Score:\", dt_f1_score)\n",
    "\n",
    "print(\"Random Forest:\")\n",
    "print(\"Accuracy:\", rf_acc)\n",
    "print(\"Precision:\", rf_precision)\n",
    "print(\"Recall:\", rf_recall)\n",
    "print(\"F1 Score:\", rf_f1_score)\n",
    "\n",
    "print(\"XGBoost:\")\n",
    "print(\"Accuracy:\", xgb_acc)\n",
    "print(\"Precision:\", xgb_precision)\n",
    "print(\"Recall:\", xgb_recall)\n",
    "print(\"F1 Score:\", xgb_f1_score)\n",
    "\n",
    "print(\"CatBoost:\")\n",
    "print(\"Accuracy:\", cat_acc)\n",
    "print(\"Precision:\", cat_precision)\n",
    "print(\"Recall:\", cat_recall)\n",
    "print(\"F1 Score:\", cat_f1_score)"
   ]
  },
  {
   "cell_type": "code",
   "execution_count": null,
   "metadata": {},
   "outputs": [],
   "source": [
    "# 각 모델의 성능 평가 지표 계산\n",
    "lr_acc = accuracy_score(y_val, lr_pred)\n",
    "lr_precision = precision_score(y_val, lr_pred, average=\"weighted\")\n",
    "lr_recall = recall_score(y_val, lr_pred, average=\"weighted\")\n",
    "lr_f1_score = f1_score(y_val, lr_pred, average=\"weighted\")\n",
    "\n",
    "knn_acc = accuracy_score(y_val, knn_pred)\n",
    "knn_precision = precision_score(y_val, knn_pred, average=\"weighted\")\n",
    "knn_recall = recall_score(y_val, knn_pred, average=\"weighted\")\n",
    "knn_f1_score = f1_score(y_val, knn_pred, average=\"weighted\")\n",
    "\n",
    "dt_acc = accuracy_score(y_val, dt_pred)\n",
    "dt_precision = precision_score(y_val, dt_pred, average=\"weighted\")\n",
    "dt_recall = recall_score(y_val, dt_pred, average=\"weighted\")\n",
    "dt_f1_score = f1_score(y_val, dt_pred, average=\"weighted\")\n",
    "\n",
    "rf_acc = accuracy_score(y_val, rf_pred)\n",
    "rf_precision = precision_score(y_val, rf_pred, average=\"weighted\")\n",
    "rf_recall = recall_score(y_val, rf_pred, average=\"weighted\")\n",
    "rf_f1_score = f1_score(y_val, rf_pred, average=\"weighted\")\n",
    "\n",
    "xgb_acc = accuracy_score(y_val, xgb_pred)\n",
    "xgb_precision = precision_score(y_val, xgb_pred, average=\"weighted\")\n",
    "xgb_recall = recall_score(y_val, xgb_pred, average=\"weighted\")\n",
    "xgb_f1_score = f1_score(y_val, xgb_pred, average=\"weighted\")\n",
    "\n",
    "cat_acc = accuracy_score(y_val, cat_pred)\n",
    "cat_precision = precision_score(y_val, cat_pred, average=\"weighted\")\n",
    "cat_recall = recall_score(y_val, cat_pred, average=\"weighted\")\n",
    "cat_f1_score = f1_score(y_val, cat_pred, average=\"weighted\")\n",
    "# 가중치 고려O 평가 지표\n",
    "# 결과 출력\n",
    "print(\"Logistic Regression:\")\n",
    "print(\"Accuracy:\", lr_acc)\n",
    "print(\"Precision:\", lr_precision)\n",
    "print(\"Recall:\", lr_recall)\n",
    "print(\"F1 Score:\", lr_f1_score)\n",
    "\n",
    "print(\"K-Nearest Neighbors:\")\n",
    "print(\"Accuracy:\", knn_acc)\n",
    "print(\"Precision:\", knn_precision)\n",
    "print(\"Recall:\", knn_recall)\n",
    "print(\"F1 Score:\", knn_f1_score)\n",
    "\n",
    "print(\"Decision Tree:\")\n",
    "print(\"Accuracy:\", dt_acc)\n",
    "print(\"Precision:\", dt_precision)\n",
    "print(\"Recall:\", dt_recall)\n",
    "print(\"F1 Score:\", dt_f1_score)\n",
    "\n",
    "print(\"Random Forest:\")\n",
    "print(\"Accuracy:\", rf_acc)\n",
    "print(\"Precision:\", rf_precision)\n",
    "print(\"Recall:\", rf_recall)\n",
    "print(\"F1 Score:\", rf_f1_score)\n",
    "\n",
    "print(\"XGBoost:\")\n",
    "print(\"Accuracy:\", xgb_acc)\n",
    "print(\"Precision:\", xgb_precision)\n",
    "print(\"Recall:\", xgb_recall)\n",
    "print(\"F1 Score:\", xgb_f1_score)\n",
    "\n",
    "print(\"CatBoost:\")\n",
    "print(\"Accuracy:\", cat_acc)\n",
    "print(\"Precision:\", cat_precision)\n",
    "print(\"Recall:\", cat_recall)\n",
    "print(\"F1 Score:\", cat_f1_score)"
   ]
  },
  {
   "cell_type": "code",
   "execution_count": null,
   "metadata": {},
   "outputs": [],
   "source": [
    "# 각 모델에서 예측 결과를 저장\n",
    "lr_pred = lr_gs.predict(X_val)\n",
    "knn_pred = knn_gs.predict(X_val)\n",
    "dt_pred = dt_gs.predict(X_val)\n",
    "rf_pred = rf_gs.predict(X_val)\n",
    "xgb_pred = xgb_gs.predict(X_val)\n",
    "cat_pred = cat_gs.predict(X_val)\n",
    "\n",
    "# confusion matrix 계산\n",
    "lr_cm = confusion_matrix(y_val, lr_pred)\n",
    "knn_cm = confusion_matrix(y_val, knn_pred)\n",
    "dt_cm = confusion_matrix(y_val, dt_pred)\n",
    "rf_cm = confusion_matrix(y_val, rf_pred)\n",
    "xgb_cm = confusion_matrix(y_val, xgb_pred)\n",
    "cat_cm = confusion_matrix(y_val, cat_pred)\n",
    "\n",
    "# 클래스 레이블 (class label)\n",
    "classes = np.unique(y_val)\n",
    "\n",
    "# confusion matrix 시각화\n",
    "fig, axs = plt.subplots(nrows=2, ncols=3, figsize=(15, 10))\n",
    "\n",
    "axs[0, 0].imshow(lr_cm, interpolation='nearest', cmap=plt.cm.Blues)\n",
    "axs[0, 0].set(title='Confusion matrix - Logistic Regression',\n",
    "               xticks=np.arange(lr_cm.shape[1]),\n",
    "               yticks=np.arange(lr_cm.shape[0]),\n",
    "               xticklabels=classes, yticklabels=classes,\n",
    "               ylabel='True label',\n",
    "               xlabel='Predicted label')\n",
    "thresh = lr_cm.max() / 2\n",
    "for i in range(lr_cm.shape[0]):\n",
    "    for j in range(lr_cm.shape[1]):\n",
    "        axs[0, 0].text(j, i, format(lr_cm[i, j], 'd'),\n",
    "                       ha=\"center\", va=\"center\",\n",
    "                       color=\"white\" if lr_cm[i, j] > thresh else \"black\")\n",
    "\n",
    "axs[0, 1].imshow(knn_cm, interpolation='nearest', cmap=plt.cm.Blues)\n",
    "axs[0, 1].set(title='Confusion matrix - KNN',\n",
    "               xticks=np.arange(knn_cm.shape[1]),\n",
    "               yticks=np.arange(knn_cm.shape[0]),\n",
    "               xticklabels=classes, yticklabels=classes,\n",
    "               ylabel='True label',\n",
    "               xlabel='Predicted label')\n",
    "thresh = knn_cm.max() / 2\n",
    "for i in range(knn_cm.shape[0]):\n",
    "    for j in range(knn_cm.shape[1]):\n",
    "        axs[0, 1].text(j, i, format(knn_cm[i, j], 'd'),\n",
    "                       ha=\"center\", va=\"center\",\n",
    "                       color=\"white\" if knn_cm[i, j] > thresh else \"black\")\n",
    "\n",
    "axs[0, 2].imshow(dt_cm, interpolation='nearest', cmap=plt.cm.Blues)\n",
    "axs[0, 2].set(title='Confusion matrix - Decision Tree',\n",
    "               xticks=np.arange(dt_cm.shape[1]),\n",
    "               yticks=np.arange(dt_cm.shape[0]),\n",
    "               xticklabels=classes, yticklabels=classes,\n",
    "               ylabel='True label',\n",
    "               xlabel='Predicted label')\n",
    "thresh = dt_cm.max() / 2\n",
    "for i in range(dt_cm.shape[0]):\n",
    "    for j in range(dt_cm.shape[1]):\n",
    "        axs[0, 2].text(j, i, format(dt_cm[i, j], 'd'),\n",
    "                       ha=\"center\", va=\"center\",\n",
    "                       color=\"white\" if dt_cm[i, j] > thresh else \"black\")\n",
    "\n",
    "axs[1, 0].imshow(rf_cm, interpolation='nearest', cmap=plt.cm.Blues)\n",
    "axs[1, 0].set(title='Confusion matrix - Random Forest',\n",
    "               xticks=np.arange(rf_cm.shape[1]),\n",
    "               yticks=np.arange(rf_cm.shape[0]),\n",
    "               xticklabels=classes, yticklabels=classes,\n",
    "               ylabel='True label',\n",
    "               xlabel='Predicted label')\n",
    "thresh = rf_cm.max() / 2\n",
    "for i in range(rf_cm.shape[0]):\n",
    "    for j in range(rf_cm.shape[1]):\n",
    "        axs[1, 0].text(j, i, format(rf_cm[i, j], 'd'),\n",
    "                       ha=\"center\", va=\"center\",\n",
    "                       color=\"white\" if rf_cm[i, j] > thresh else \"black\")\n",
    "\n",
    "axs[1, 1].imshow(xgb_cm, interpolation='nearest', cmap=plt.cm.Blues)\n",
    "axs[1, 1].set(title='Confusion matrix - XGBoost',\n",
    "               xticks=np.arange(xgb_cm.shape[1]),\n",
    "               yticks=np.arange(xgb_cm.shape[0]),\n",
    "               xticklabels=classes, yticklabels=classes,\n",
    "               ylabel='True label',\n",
    "               xlabel='Predicted label')\n",
    "thresh = xgb_cm.max() / 2\n",
    "for i in range(xgb_cm.shape[0]):\n",
    "    for j in range(xgb_cm.shape[1]):\n",
    "        axs[1, 1].text(j, i, format(xgb_cm[i, j], 'd'),\n",
    "                       ha=\"center\", va=\"center\",\n",
    "                       color=\"white\" if xgb_cm[i, j] > thresh else \"black\")\n",
    "\n",
    "axs[1, 2].imshow(cat_cm, interpolation='nearest', cmap=plt.cm.Blues)\n",
    "axs[1, 2].set(title='Confusion matrix - CatBoost',\n",
    "               xticks=np.arange(cat_cm.shape[1]),\n",
    "               yticks=np.arange(cat_cm.shape[0]),\n",
    "               xticklabels=classes, yticklabels=classes,\n",
    "               ylabel='True label',\n",
    "               xlabel='Predicted label')\n",
    "thresh = cat_cm.max() / 2\n",
    "for i in range(cat_cm.shape[0]):\n",
    "    for j in range(cat_cm.shape[1]):\n",
    "        axs[1, 2].text(j, i, format(cat_cm[i, j], 'd'),\n",
    "                       ha=\"center\", va=\"center\",\n",
    "                       color=\"white\" if cat_cm[i, j] > thresh else \"black\")\n",
    "\n",
    "plt.show()"
   ]
  }
 ],
 "metadata": {
  "kernelspec": {
   "display_name": "assign",
   "language": "python",
   "name": "python3"
  },
  "language_info": {
   "codemirror_mode": {
    "name": "ipython",
    "version": 3
   },
   "file_extension": ".py",
   "mimetype": "text/x-python",
   "name": "python",
   "nbconvert_exporter": "python",
   "pygments_lexer": "ipython3",
   "version": "3.8.16"
  },
  "orig_nbformat": 4
 },
 "nbformat": 4,
 "nbformat_minor": 2
}
