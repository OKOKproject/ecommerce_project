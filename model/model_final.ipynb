{
 "cells": [
  {
   "cell_type": "code",
   "execution_count": 1,
   "metadata": {},
   "outputs": [],
   "source": [
    "import pandas as pd\n",
    "import matplotlib.pyplot as plt\n",
    "import datetime\n",
    "import seaborn as sns\n",
    "from datetime import timedelta\n",
    "import numpy as np\n",
    "from sklearn.model_selection import train_test_split\n",
    "from sklearn.metrics import accuracy_score, confusion_matrix,precision_score,recall_score,roc_auc_score,f1_score,roc_curve\n",
    "from sklearn.linear_model import LogisticRegression\n",
    "from sklearn.tree import DecisionTreeClassifier\n",
    "from sklearn.svm import SVC\n",
    "from xgboost import XGBClassifier\n",
    "from sklearn import svm\n",
    "from sklearn.ensemble import RandomForestClassifier\n",
    "from sklearn.neighbors import KNeighborsClassifier\n",
    "\n",
    "pd.set_option('display.max_columns', None)\n",
    "plt.rcParams['font.family'] = 'Malgun Gothic'\n",
    "plt.rcParams['axes.unicode_minus'] = False\n",
    "colors = sns.color_palette('pastel')"
   ]
  },
  {
   "cell_type": "code",
   "execution_count": 2,
   "metadata": {},
   "outputs": [],
   "source": [
    "from sklearn.linear_model import LogisticRegression\n",
    "from sklearn.neighbors import KNeighborsClassifier\n",
    "from sklearn.tree import DecisionTreeClassifier\n",
    "from sklearn.ensemble import RandomForestClassifier\n",
    "from xgboost import XGBClassifier\n",
    "from catboost import CatBoostClassifier\n",
    "from sklearn.metrics import accuracy_score, precision_score, recall_score, f1_score\n",
    "from sklearn.model_selection import train_test_split\n",
    "from sklearn.model_selection import GridSearchCV"
   ]
  },
  {
   "attachments": {},
   "cell_type": "markdown",
   "metadata": {},
   "source": [
    "### 30일"
   ]
  },
  {
   "cell_type": "code",
   "execution_count": 3,
   "metadata": {},
   "outputs": [],
   "source": [
    "df = pd.read_csv('D:/Section5/ecommerce_project/model/30days_target.csv')\n",
    "droped_df = pd.read_csv('D:/Section5/ecommerce_project/model/droped_30days_target.csv')"
   ]
  },
  {
   "cell_type": "code",
   "execution_count": 4,
   "metadata": {},
   "outputs": [],
   "source": [
    "X = df[['total_amount','shipment_fee', 'ADD_TO_CART_COUNT', 'SEARCH_COUNT', 'ADD_PROMO_COUNT',\n",
    "       'BOOKING_COUNT', 'ITEM_DETAIL_COUNT', 'limit_ship', 'PAGE_VIEW',\n",
    "       'total_promo']]\n",
    "y = df['target']\n",
    "droped_X = droped_df[['total_amount','shipment_fee', 'ADD_TO_CART_COUNT', 'SEARCH_COUNT', 'ADD_PROMO_COUNT',\n",
    "       'BOOKING_COUNT', 'ITEM_DETAIL_COUNT', 'limit_ship', 'PAGE_VIEW',\n",
    "       'total_promo']]\n",
    "droped_y = droped_df['target']"
   ]
  },
  {
   "cell_type": "code",
   "execution_count": 5,
   "metadata": {},
   "outputs": [
    {
     "data": {
      "text/html": [
       "<div>\n",
       "<style scoped>\n",
       "    .dataframe tbody tr th:only-of-type {\n",
       "        vertical-align: middle;\n",
       "    }\n",
       "\n",
       "    .dataframe tbody tr th {\n",
       "        vertical-align: top;\n",
       "    }\n",
       "\n",
       "    .dataframe thead th {\n",
       "        text-align: right;\n",
       "    }\n",
       "</style>\n",
       "<table border=\"1\" class=\"dataframe\">\n",
       "  <thead>\n",
       "    <tr style=\"text-align: right;\">\n",
       "      <th></th>\n",
       "      <th>Unnamed: 0</th>\n",
       "      <th>diff</th>\n",
       "      <th>total_amount</th>\n",
       "      <th>shipment_fee</th>\n",
       "      <th>ADD_TO_CART_COUNT</th>\n",
       "      <th>SEARCH_COUNT</th>\n",
       "      <th>ADD_PROMO_COUNT</th>\n",
       "      <th>BOOKING_COUNT</th>\n",
       "      <th>ITEM_DETAIL_COUNT</th>\n",
       "      <th>limit_ship</th>\n",
       "      <th>PAGE_VIEW</th>\n",
       "      <th>total_promo</th>\n",
       "      <th>total_session</th>\n",
       "      <th>target</th>\n",
       "    </tr>\n",
       "  </thead>\n",
       "  <tbody>\n",
       "    <tr>\n",
       "      <th>0</th>\n",
       "      <td>0</td>\n",
       "      <td>NaN</td>\n",
       "      <td>1</td>\n",
       "      <td>0</td>\n",
       "      <td>0</td>\n",
       "      <td>0</td>\n",
       "      <td>0</td>\n",
       "      <td>1.0</td>\n",
       "      <td>0</td>\n",
       "      <td>1</td>\n",
       "      <td>1</td>\n",
       "      <td>0</td>\n",
       "      <td>1.0</td>\n",
       "      <td>0</td>\n",
       "    </tr>\n",
       "    <tr>\n",
       "      <th>1</th>\n",
       "      <td>1</td>\n",
       "      <td>NaN</td>\n",
       "      <td>4</td>\n",
       "      <td>0</td>\n",
       "      <td>0</td>\n",
       "      <td>0</td>\n",
       "      <td>0</td>\n",
       "      <td>1.0</td>\n",
       "      <td>0</td>\n",
       "      <td>1</td>\n",
       "      <td>1</td>\n",
       "      <td>0</td>\n",
       "      <td>1.0</td>\n",
       "      <td>0</td>\n",
       "    </tr>\n",
       "    <tr>\n",
       "      <th>2</th>\n",
       "      <td>2</td>\n",
       "      <td>NaN</td>\n",
       "      <td>3</td>\n",
       "      <td>1</td>\n",
       "      <td>0</td>\n",
       "      <td>0</td>\n",
       "      <td>0</td>\n",
       "      <td>1.0</td>\n",
       "      <td>0</td>\n",
       "      <td>3</td>\n",
       "      <td>1</td>\n",
       "      <td>0</td>\n",
       "      <td>1.0</td>\n",
       "      <td>0</td>\n",
       "    </tr>\n",
       "    <tr>\n",
       "      <th>3</th>\n",
       "      <td>3</td>\n",
       "      <td>NaN</td>\n",
       "      <td>1</td>\n",
       "      <td>0</td>\n",
       "      <td>2</td>\n",
       "      <td>0</td>\n",
       "      <td>1</td>\n",
       "      <td>1.0</td>\n",
       "      <td>2</td>\n",
       "      <td>1</td>\n",
       "      <td>3</td>\n",
       "      <td>4</td>\n",
       "      <td>1.0</td>\n",
       "      <td>0</td>\n",
       "    </tr>\n",
       "    <tr>\n",
       "      <th>4</th>\n",
       "      <td>4</td>\n",
       "      <td>NaN</td>\n",
       "      <td>1</td>\n",
       "      <td>2</td>\n",
       "      <td>0</td>\n",
       "      <td>0</td>\n",
       "      <td>0</td>\n",
       "      <td>1.0</td>\n",
       "      <td>0</td>\n",
       "      <td>4</td>\n",
       "      <td>1</td>\n",
       "      <td>0</td>\n",
       "      <td>1.0</td>\n",
       "      <td>0</td>\n",
       "    </tr>\n",
       "  </tbody>\n",
       "</table>\n",
       "</div>"
      ],
      "text/plain": [
       "   Unnamed: 0  diff  total_amount  shipment_fee  ADD_TO_CART_COUNT  \\\n",
       "0           0   NaN             1             0                  0   \n",
       "1           1   NaN             4             0                  0   \n",
       "2           2   NaN             3             1                  0   \n",
       "3           3   NaN             1             0                  2   \n",
       "4           4   NaN             1             2                  0   \n",
       "\n",
       "   SEARCH_COUNT  ADD_PROMO_COUNT  BOOKING_COUNT  ITEM_DETAIL_COUNT  \\\n",
       "0             0                0            1.0                  0   \n",
       "1             0                0            1.0                  0   \n",
       "2             0                0            1.0                  0   \n",
       "3             0                1            1.0                  2   \n",
       "4             0                0            1.0                  0   \n",
       "\n",
       "   limit_ship  PAGE_VIEW  total_promo  total_session  target  \n",
       "0           1          1            0            1.0       0  \n",
       "1           1          1            0            1.0       0  \n",
       "2           3          1            0            1.0       0  \n",
       "3           1          3            4            1.0       0  \n",
       "4           4          1            0            1.0       0  "
      ]
     },
     "execution_count": 5,
     "metadata": {},
     "output_type": "execute_result"
    }
   ],
   "source": [
    "# 이탈 비율을 알기 위한 customer의 마지막 접속 기록 데이터\n",
    "droped_df.head(5)"
   ]
  },
  {
   "cell_type": "code",
   "execution_count": 6,
   "metadata": {},
   "outputs": [],
   "source": [
    "X_train, X_test, y_train, y_test = train_test_split(X, y, test_size=0.25, stratify=y, random_state=42)\n",
    "X_train, X_val, y_train, y_val = train_test_split(X_train, y_train, test_size=0.25, stratify=y_train, random_state=42)"
   ]
  },
  {
   "cell_type": "code",
   "execution_count": 7,
   "metadata": {},
   "outputs": [
    {
     "name": "stdout",
     "output_type": "stream",
     "text": [
      "Accuracy: 94.82%\n",
      "Class probabilities:\n",
      "[[0.9887536  0.01124641]\n",
      " [0.98788047 0.01211956]\n",
      " [0.68402994 0.31597003]\n",
      " ...\n",
      " [0.97416013 0.02583988]\n",
      " [0.9887536  0.01124641]\n",
      " [0.97416013 0.02583988]]\n"
     ]
    }
   ],
   "source": [
    "# XGBClassifier 최적 파라미터 적용\n",
    "\n",
    "model = XGBClassifier(max_depth=7, n_estimators=300, learning_rate =0.1, seed = 42)\n",
    "model.fit(X_train, y_train)\n",
    "\n",
    "# 검증 데이터로 예측\n",
    "y_pred = model.predict(X_val)\n",
    "y_pred_proba = model.predict_proba(X_val)\n",
    "\n",
    "# 정확도 계산\n",
    "accuracy = accuracy_score(y_val, y_pred)\n",
    "print(\"Accuracy: {:.2f}%\".format(accuracy * 100))\n",
    "\n",
    "# 각 클래스에 속할 확률 출력\n",
    "print(\"Class probabilities:\\n{}\".format(y_pred_proba))"
   ]
  },
  {
   "cell_type": "code",
   "execution_count": 8,
   "metadata": {},
   "outputs": [],
   "source": [
    "# 클래스 고려 X\n",
    "xgb_acc = accuracy_score(y_val, y_pred)\n",
    "xgb_precision = precision_score(y_val, y_pred)\n",
    "xgb_recall = recall_score(y_val, y_pred)\n",
    "xgb_f1_score = f1_score(y_val, y_pred)"
   ]
  },
  {
   "cell_type": "code",
   "execution_count": 9,
   "metadata": {},
   "outputs": [
    {
     "name": "stdout",
     "output_type": "stream",
     "text": [
      "XGBoost: 클래스 미고려\n",
      "Accuracy: 0.9481663311895527\n",
      "Precision: 0.6365280289330922\n",
      "Recall: 0.06482504604051566\n",
      "F1 Score: 0.11766672238007689\n"
     ]
    }
   ],
   "source": [
    "print(\"XGBoost: 클래스 미고려\")\n",
    "print(\"Accuracy:\", xgb_acc)\n",
    "print(\"Precision:\", xgb_precision)\n",
    "print(\"Recall:\", xgb_recall)\n",
    "print(\"F1 Score:\", xgb_f1_score)"
   ]
  },
  {
   "cell_type": "code",
   "execution_count": 10,
   "metadata": {},
   "outputs": [],
   "source": [
    "# 클래스 비율 고려 - 평가지표의 값이 심각하게 낮음.(불균형이 그 원인)\n",
    "\n",
    "xgb_acc = accuracy_score(y_val, y_pred)\n",
    "xgb_precision = precision_score(y_val, y_pred, average=\"weighted\")\n",
    "xgb_recall = recall_score(y_val, y_pred, average=\"weighted\")\n",
    "xgb_f1_score = f1_score(y_val, y_pred, average=\"weighted\")"
   ]
  },
  {
   "cell_type": "code",
   "execution_count": 11,
   "metadata": {},
   "outputs": [
    {
     "name": "stdout",
     "output_type": "stream",
     "text": [
      "XGBoost: 클래스 고려\n",
      "Accuracy: 0.9481663311895527\n",
      "Precision: 0.9331615924134918\n",
      "Recall: 0.9481663311895527\n",
      "F1 Score: 0.9276797192225317\n"
     ]
    }
   ],
   "source": [
    "print(\"XGBoost: 클래스 고려\")\n",
    "print(\"Accuracy:\", xgb_acc)\n",
    "print(\"Precision:\", xgb_precision)\n",
    "print(\"Recall:\", xgb_recall)\n",
    "print(\"F1 Score:\", xgb_f1_score)"
   ]
  },
  {
   "cell_type": "code",
   "execution_count": 12,
   "metadata": {},
   "outputs": [],
   "source": [
    "ratio_30 = y_pred.sum()/len(y_pred)*100"
   ]
  },
  {
   "cell_type": "code",
   "execution_count": 13,
   "metadata": {},
   "outputs": [
    {
     "name": "stdout",
     "output_type": "stream",
     "text": [
      "30일 이후까지 접속 안하는 세션 비율 : 0.54 %\n"
     ]
    }
   ],
   "source": [
    "print(\"30일 이후까지 접속 안하는 세션 비율 :\", round(ratio_30,2),\"%\")"
   ]
  },
  {
   "cell_type": "code",
   "execution_count": 14,
   "metadata": {},
   "outputs": [],
   "source": [
    "# 유저 비율을 구해보자(기존데이터로 예측)\n",
    "customer_pred = model.predict(droped_X)\n",
    "last_ratio_30 = customer_pred.sum()/len(customer_pred)*100"
   ]
  },
  {
   "cell_type": "code",
   "execution_count": 15,
   "metadata": {},
   "outputs": [
    {
     "name": "stdout",
     "output_type": "stream",
     "text": [
      "접속 기록 마지막 세션 이후 30일 접속 안하는 유저 비율 : 11.45 %\n"
     ]
    }
   ],
   "source": [
    "print(\"접속 기록 마지막 세션 이후 30일 접속 안하는 유저 비율 :\", round(last_ratio_30,2),\"%\")"
   ]
  },
  {
   "attachments": {},
   "cell_type": "markdown",
   "metadata": {},
   "source": [
    "### 5일 미접속 이탈"
   ]
  },
  {
   "cell_type": "code",
   "execution_count": 16,
   "metadata": {},
   "outputs": [],
   "source": [
    "df['diff'] = pd.to_timedelta(df['diff'])"
   ]
  },
  {
   "cell_type": "code",
   "execution_count": 17,
   "metadata": {},
   "outputs": [],
   "source": [
    "# check_df에서 diff칼럼이 30일 이상인 행 추출\n",
    "mask = df['diff'] > pd.Timedelta(days=5)\n",
    "# target 열 생성\n",
    "df['target'] = np.where(mask, 1, 0)"
   ]
  },
  {
   "cell_type": "code",
   "execution_count": 18,
   "metadata": {},
   "outputs": [],
   "source": [
    "X = df[['total_amount','shipment_fee', 'ADD_TO_CART_COUNT', 'SEARCH_COUNT', 'ADD_PROMO_COUNT',\n",
    "       'BOOKING_COUNT', 'ITEM_DETAIL_COUNT', 'limit_ship', 'PAGE_VIEW',\n",
    "       'total_promo']]\n",
    "y = df['target']"
   ]
  },
  {
   "cell_type": "code",
   "execution_count": 19,
   "metadata": {},
   "outputs": [
    {
     "data": {
      "text/plain": [
       "target\n",
       "0    0.777027\n",
       "1    0.222973\n",
       "Name: proportion, dtype: float64"
      ]
     },
     "execution_count": 19,
     "metadata": {},
     "output_type": "execute_result"
    }
   ],
   "source": [
    "df['target'].value_counts(normalize=True)"
   ]
  },
  {
   "cell_type": "code",
   "execution_count": 20,
   "metadata": {},
   "outputs": [],
   "source": [
    "X_train, X_test, y_train, y_test = train_test_split(X, y, test_size=0.25, stratify=y, random_state=42)\n",
    "X_train, X_val, y_train, y_val = train_test_split(X_train, y_train, test_size=0.25, stratify=y_train, random_state=42)"
   ]
  },
  {
   "cell_type": "code",
   "execution_count": 21,
   "metadata": {},
   "outputs": [
    {
     "name": "stdout",
     "output_type": "stream",
     "text": [
      "Accuracy: 86.06%\n",
      "Class probabilities:\n",
      "[[0.8730993  0.12690066]\n",
      " [0.877236   0.12276398]\n",
      " [0.84461915 0.15538083]\n",
      " ...\n",
      " [0.877236   0.12276398]\n",
      " [0.877236   0.12276398]\n",
      " [0.3918652  0.6081348 ]]\n"
     ]
    }
   ],
   "source": [
    "# XGBClassifier 최적 파라미터 적용\n",
    "\n",
    "model = XGBClassifier(max_depth=7, n_estimators=300, learning_rate =0.1, seed = 42)\n",
    "model.fit(X_train, y_train)\n",
    "\n",
    "# 검증 데이터로 예측\n",
    "y_pred = model.predict(X_val)\n",
    "y_pred_proba = model.predict_proba(X_val)\n",
    "\n",
    "# 정확도 계산\n",
    "accuracy = accuracy_score(y_val, y_pred)\n",
    "print(\"Accuracy: {:.2f}%\".format(accuracy * 100))\n",
    "\n",
    "# 각 클래스에 속할 확률 출력\n",
    "print(\"Class probabilities:\\n{}\".format(y_pred_proba))"
   ]
  },
  {
   "cell_type": "code",
   "execution_count": 22,
   "metadata": {},
   "outputs": [],
   "source": [
    "# 클래스 고려 X\n",
    "xgb_acc = accuracy_score(y_val, y_pred)\n",
    "xgb_precision = precision_score(y_val, y_pred)\n",
    "xgb_recall = recall_score(y_val, y_pred)\n",
    "xgb_f1_score = f1_score(y_val, y_pred)"
   ]
  },
  {
   "cell_type": "code",
   "execution_count": 23,
   "metadata": {},
   "outputs": [
    {
     "name": "stdout",
     "output_type": "stream",
     "text": [
      "XGBoost: 클래스 미고려\n",
      "Accuracy: 0.8606252147871766\n",
      "Precision: 0.8110608759190757\n",
      "Recall: 0.48879286618594153\n",
      "F1 Score: 0.6099775033916643\n"
     ]
    }
   ],
   "source": [
    "print(\"XGBoost: 클래스 미고려\")\n",
    "print(\"Accuracy:\", xgb_acc)\n",
    "print(\"Precision:\", xgb_precision)\n",
    "print(\"Recall:\", xgb_recall)\n",
    "print(\"F1 Score:\", xgb_f1_score)"
   ]
  },
  {
   "cell_type": "code",
   "execution_count": 24,
   "metadata": {},
   "outputs": [],
   "source": [
    "# 클래스 비율 고려 - 평가지표의 값이 심각하게 낮음.(불균형이 그 원인)\n",
    "\n",
    "xgb_acc = accuracy_score(y_val, y_pred)\n",
    "xgb_precision = precision_score(y_val, y_pred, average=\"weighted\")\n",
    "xgb_recall = recall_score(y_val, y_pred, average=\"weighted\")\n",
    "xgb_f1_score = f1_score(y_val, y_pred, average=\"weighted\")"
   ]
  },
  {
   "cell_type": "code",
   "execution_count": 25,
   "metadata": {},
   "outputs": [
    {
     "name": "stdout",
     "output_type": "stream",
     "text": [
      "XGBoost: 클래스 고려\n",
      "Accuracy: 0.8606252147871766\n",
      "Precision: 0.8555522974128278\n",
      "Recall: 0.8606252147871766\n",
      "F1 Score: 0.8471064773373143\n"
     ]
    }
   ],
   "source": [
    "print(\"XGBoost: 클래스 고려\")\n",
    "print(\"Accuracy:\", xgb_acc)\n",
    "print(\"Precision:\", xgb_precision)\n",
    "print(\"Recall:\", xgb_recall)\n",
    "print(\"F1 Score:\", xgb_f1_score)"
   ]
  },
  {
   "cell_type": "code",
   "execution_count": 26,
   "metadata": {},
   "outputs": [
    {
     "data": {
      "image/png": "[encoded data removed]",
      "text/plain": [
       "<Figure size 640x480 with 2 Axes>"
      ]
     },
     "metadata": {},
     "output_type": "display_data"
    }
   ],
   "source": [
    "# confusion matrix 계산\n",
    "cm = confusion_matrix(y_val, y_pred)\n",
    "\n",
    "# 클래스 레이블 (class label)\n",
    "classes = np.unique(y_val)\n",
    "\n",
    "# confusion matrix 시각화\n",
    "fig, ax = plt.subplots()\n",
    "im = ax.imshow(cm, interpolation='nearest', cmap=plt.cm.Blues)\n",
    "ax.figure.colorbar(im, ax=ax)\n",
    "ax.set(xticks=np.arange(cm.shape[1]),\n",
    "       yticks=np.arange(cm.shape[0]),\n",
    "       xticklabels=classes, yticklabels=classes,\n",
    "       title='Confusion matrix - xgb_pred',\n",
    "       ylabel='True label',\n",
    "       xlabel='Predicted label')\n",
    "\n",
    "# 각 칸에 숫자로 라벨링\n",
    "thresh = cm.max() / 2\n",
    "for i in range(cm.shape[0]):\n",
    "    for j in range(cm.shape[1]):\n",
    "        ax.text(j, i, format(cm[i, j], 'd'),\n",
    "                ha=\"center\", va=\"center\",\n",
    "                color=\"white\" if cm[i, j] > thresh else \"black\")\n",
    "\n",
    "fig.tight_layout()\n",
    "plt.show()"
   ]
  },
  {
   "cell_type": "code",
   "execution_count": 27,
   "metadata": {},
   "outputs": [],
   "source": [
    "ratio_5 = y_pred.sum()/len(y_pred)*100"
   ]
  },
  {
   "cell_type": "code",
   "execution_count": 28,
   "metadata": {},
   "outputs": [
    {
     "name": "stdout",
     "output_type": "stream",
     "text": [
      "5일 이후까지 접속 안하는 세션 비율 : 13.44 %\n"
     ]
    }
   ],
   "source": [
    "print(\"5일 이후까지 접속 안하는 세션 비율 :\", round(ratio_5,2),\"%\")"
   ]
  },
  {
   "cell_type": "code",
   "execution_count": 29,
   "metadata": {},
   "outputs": [],
   "source": [
    "# 유저 비율을 구해보자(기존데이터로 예측)\n",
    "customer_pred = model.predict(droped_X)\n",
    "last_ratio_5 = customer_pred.sum()/len(customer_pred)*100"
   ]
  },
  {
   "cell_type": "code",
   "execution_count": 30,
   "metadata": {},
   "outputs": [
    {
     "name": "stdout",
     "output_type": "stream",
     "text": [
      "접속 기록 마지막 세션 이후 5일 접속 안하는 유저 비율 : 87.29 %\n"
     ]
    }
   ],
   "source": [
    "print(\"접속 기록 마지막 세션 이후 5일 접속 안하는 유저 비율 :\", round(last_ratio_5,2),\"%\")"
   ]
  },
  {
   "attachments": {},
   "cell_type": "markdown",
   "metadata": {},
   "source": [
    "### 15일(최종)"
   ]
  },
  {
   "cell_type": "code",
   "execution_count": 31,
   "metadata": {},
   "outputs": [],
   "source": [
    "# check_df에서 diff칼럼이 30일 이상인 행 추출\n",
    "mask = df['diff'] > pd.Timedelta(days=15)\n",
    "# target 열 생성\n",
    "df['target'] = np.where(mask, 1, 0)"
   ]
  },
  {
   "cell_type": "code",
   "execution_count": 32,
   "metadata": {},
   "outputs": [],
   "source": [
    "X = df[['total_amount','shipment_fee', 'ADD_TO_CART_COUNT', 'SEARCH_COUNT', 'ADD_PROMO_COUNT',\n",
    "       'BOOKING_COUNT', 'ITEM_DETAIL_COUNT', 'limit_ship', 'PAGE_VIEW',\n",
    "       'total_promo']]\n",
    "y = df['target']"
   ]
  },
  {
   "cell_type": "code",
   "execution_count": 33,
   "metadata": {},
   "outputs": [
    {
     "data": {
      "text/plain": [
       "target\n",
       "0    0.896573\n",
       "1    0.103427\n",
       "Name: proportion, dtype: float64"
      ]
     },
     "execution_count": 33,
     "metadata": {},
     "output_type": "execute_result"
    }
   ],
   "source": [
    "df['target'].value_counts(normalize=True)"
   ]
  },
  {
   "cell_type": "code",
   "execution_count": 34,
   "metadata": {},
   "outputs": [],
   "source": [
    "X_train, X_test, y_train, y_test = train_test_split(X, y, test_size=0.25, stratify=y, random_state=42)\n",
    "X_train, X_val, y_train, y_val = train_test_split(X_train, y_train, test_size=0.25, stratify=y_train, random_state=42)"
   ]
  },
  {
   "cell_type": "code",
   "execution_count": 35,
   "metadata": {},
   "outputs": [
    {
     "name": "stdout",
     "output_type": "stream",
     "text": [
      "Accuracy: 90.75%\n",
      "Class probabilities:\n",
      "[[0.96556276 0.03443721]\n",
      " [0.96950644 0.03049356]\n",
      " [0.9700757  0.02992424]\n",
      " ...\n",
      " [0.96556276 0.03443721]\n",
      " [0.96556276 0.03443721]\n",
      " [0.96611726 0.03388271]]\n"
     ]
    }
   ],
   "source": [
    "# XGBClassifier 최적 파라미터 적용\n",
    "\n",
    "model = XGBClassifier(max_depth=7, n_estimators=300, learning_rate =0.1, seed = 42)\n",
    "model.fit(X_train, y_train)\n",
    "\n",
    "# 검증 데이터로 예측\n",
    "y_pred = model.predict(X_val)\n",
    "y_pred_proba = model.predict_proba(X_val)\n",
    "\n",
    "# 정확도 계산\n",
    "accuracy = accuracy_score(y_val, y_pred)\n",
    "print(\"Accuracy: {:.2f}%\".format(accuracy * 100))\n",
    "\n",
    "# 각 클래스에 속할 확률 출력\n",
    "print(\"Class probabilities:\\n{}\".format(y_pred_proba))"
   ]
  },
  {
   "cell_type": "code",
   "execution_count": 36,
   "metadata": {},
   "outputs": [],
   "source": [
    "# 클래스 고려 X\n",
    "xgb_acc = accuracy_score(y_val, y_pred)\n",
    "xgb_precision = precision_score(y_val, y_pred)\n",
    "xgb_recall = recall_score(y_val, y_pred)\n",
    "xgb_f1_score = f1_score(y_val, y_pred)"
   ]
  },
  {
   "cell_type": "code",
   "execution_count": 37,
   "metadata": {},
   "outputs": [
    {
     "name": "stdout",
     "output_type": "stream",
     "text": [
      "XGBoost: 클래스 미고려\n",
      "Accuracy: 0.9075310520889587\n",
      "Precision: 0.5442865929879561\n",
      "Recall: 0.6510537807946076\n",
      "F1 Score: 0.5929019917218721\n"
     ]
    }
   ],
   "source": [
    "print(\"XGBoost: 클래스 미고려\")\n",
    "print(\"Accuracy:\", xgb_acc)\n",
    "print(\"Precision:\", xgb_precision)\n",
    "print(\"Recall:\", xgb_recall)\n",
    "print(\"F1 Score:\", xgb_f1_score)"
   ]
  },
  {
   "cell_type": "code",
   "execution_count": 38,
   "metadata": {},
   "outputs": [],
   "source": [
    "# 클래스 비율 고려 - 평가지표의 값이 심각하게 낮음.(불균형이 그 원인)\n",
    "\n",
    "xgb_acc = accuracy_score(y_val, y_pred)\n",
    "xgb_precision = precision_score(y_val, y_pred, average=\"weighted\")\n",
    "xgb_recall = recall_score(y_val, y_pred, average=\"weighted\")\n",
    "xgb_f1_score = f1_score(y_val, y_pred, average=\"weighted\")"
   ]
  },
  {
   "cell_type": "code",
   "execution_count": 39,
   "metadata": {},
   "outputs": [
    {
     "name": "stdout",
     "output_type": "stream",
     "text": [
      "XGBoost: 클래스 고려\n",
      "Accuracy: 0.9075310520889587\n",
      "Precision: 0.9159410667801321\n",
      "Recall: 0.9075310520889587\n",
      "F1 Score: 0.9111315948323538\n"
     ]
    }
   ],
   "source": [
    "print(\"XGBoost: 클래스 고려\")\n",
    "print(\"Accuracy:\", xgb_acc)\n",
    "print(\"Precision:\", xgb_precision)\n",
    "print(\"Recall:\", xgb_recall)\n",
    "print(\"F1 Score:\", xgb_f1_score)"
   ]
  },
  {
   "cell_type": "code",
   "execution_count": 40,
   "metadata": {},
   "outputs": [
    {
     "data": {
      "image/png": "[encoded data removed]",
      "text/plain": [
       "<Figure size 640x480 with 2 Axes>"
      ]
     },
     "metadata": {},
     "output_type": "display_data"
    }
   ],
   "source": [
    "# confusion matrix 계산\n",
    "cm = confusion_matrix(y_val, y_pred)\n",
    "\n",
    "# 클래스 레이블 (class label)\n",
    "classes = np.unique(y_val)\n",
    "\n",
    "# confusion matrix 시각화\n",
    "fig, ax = plt.subplots()\n",
    "im = ax.imshow(cm, interpolation='nearest', cmap=plt.cm.Blues)\n",
    "ax.figure.colorbar(im, ax=ax)\n",
    "ax.set(xticks=np.arange(cm.shape[1]),\n",
    "       yticks=np.arange(cm.shape[0]),\n",
    "       xticklabels=classes, yticklabels=classes,\n",
    "       title='Confusion matrix - xgb_pred',\n",
    "       ylabel='True label',\n",
    "       xlabel='Predicted label')\n",
    "\n",
    "# 각 칸에 숫자로 라벨링\n",
    "thresh = cm.max() / 2\n",
    "for i in range(cm.shape[0]):\n",
    "    for j in range(cm.shape[1]):\n",
    "        ax.text(j, i, format(cm[i, j], 'd'),\n",
    "                ha=\"center\", va=\"center\",\n",
    "                color=\"white\" if cm[i, j] > thresh else \"black\")\n",
    "\n",
    "fig.tight_layout()\n",
    "plt.show()"
   ]
  },
  {
   "cell_type": "code",
   "execution_count": 41,
   "metadata": {},
   "outputs": [],
   "source": [
    "ratio_15 = y_pred.sum()/len(y_pred)*100"
   ]
  },
  {
   "cell_type": "code",
   "execution_count": 42,
   "metadata": {},
   "outputs": [
    {
     "name": "stdout",
     "output_type": "stream",
     "text": [
      "15일 이후까지 접속 안하는 세션 비율 : 12.37 %\n"
     ]
    }
   ],
   "source": [
    "print(\"15일 이후까지 접속 안하는 세션 비율 :\", round(ratio_15,2),\"%\")"
   ]
  },
  {
   "cell_type": "code",
   "execution_count": 43,
   "metadata": {},
   "outputs": [],
   "source": [
    "# 유저 비율을 구해보자(기존데이터로 예측)\n",
    "customer_pred = model.predict(droped_X)\n",
    "last_ratio_15 = customer_pred.sum()/len(customer_pred)*100"
   ]
  },
  {
   "cell_type": "code",
   "execution_count": 44,
   "metadata": {},
   "outputs": [
    {
     "name": "stdout",
     "output_type": "stream",
     "text": [
      "접속 기록 마지막 세션 이후 15일 접속 안하는 유저 비율 : 78.34 %\n"
     ]
    }
   ],
   "source": [
    "print(\"접속 기록 마지막 세션 이후 15일 접속 안하는 유저 비율 :\", round(last_ratio_15,2),\"%\")"
   ]
  },
  {
   "cell_type": "code",
   "execution_count": 45,
   "metadata": {},
   "outputs": [
    {
     "data": {
      "text/plain": [
       "0.48389372"
      ]
     },
     "execution_count": 45,
     "metadata": {},
     "output_type": "execute_result"
    }
   ],
   "source": [
    "from sklearn.metrics import roc_curve, roc_auc_score, precision_recall_curve\n",
    "import matplotlib.pyplot as plt\n",
    "\n",
    "y_pred_proba = model.predict_proba(droped_X)[:,1]\n",
    "\n",
    "y_pred_proba.mean()\n",
    "\n",
    "\n"
   ]
  },
  {
   "attachments": {},
   "cell_type": "markdown",
   "metadata": {},
   "source": [
    "### X_val, y_val 수정 다른 모델들 정확도 및 평가지표"
   ]
  },
  {
   "cell_type": "code",
   "execution_count": 46,
   "metadata": {},
   "outputs": [],
   "source": [
    "lr_param_grid = {'C': [1]}\n",
    "dt_param_grid = {'max_depth': [7]}\n",
    "rf_param_grid = {'max_depth': [7], 'n_estimators': [300]}\n",
    "xgb_param_grid = {'learning_rate': [0.1], 'max_depth': [], 'n_estimators': [300]}\n",
    "cat_param_grid = {'depth': [7], 'iterations': [300], 'learning_rate': [0.1]}"
   ]
  },
  {
   "cell_type": "code",
   "execution_count": 47,
   "metadata": {},
   "outputs": [
    {
     "data": {
      "text/plain": [
       "((2444278, 10), (814760, 10))"
      ]
     },
     "execution_count": 47,
     "metadata": {},
     "output_type": "execute_result"
    }
   ],
   "source": [
    "X_train.shape, X_val.shape"
   ]
  },
  {
   "cell_type": "code",
   "execution_count": 48,
   "metadata": {},
   "outputs": [],
   "source": [
    "lr_gs = LogisticRegression(C=1)\n",
    "lr_gs.fit(X_train, y_train)\n",
    "lr_pred = lr_gs.predict(X_val)"
   ]
  },
  {
   "cell_type": "code",
   "execution_count": 49,
   "metadata": {},
   "outputs": [
    {
     "data": {
      "text/html": [
       "<style>#sk-container-id-1 {color: black;background-color: white;}#sk-container-id-1 pre{padding: 0;}#sk-container-id-1 div.sk-toggleable {background-color: white;}#sk-container-id-1 label.sk-toggleable__label {cursor: pointer;display: block;width: 100%;margin-bottom: 0;padding: 0.3em;box-sizing: border-box;text-align: center;}#sk-container-id-1 label.sk-toggleable__label-arrow:before {content: \"▸\";float: left;margin-right: 0.25em;color: #696969;}#sk-container-id-1 label.sk-toggleable__label-arrow:hover:before {color: black;}#sk-container-id-1 div.sk-estimator:hover label.sk-toggleable__label-arrow:before {color: black;}#sk-container-id-1 div.sk-toggleable__content {max-height: 0;max-width: 0;overflow: hidden;text-align: left;background-color: #f0f8ff;}#sk-container-id-1 div.sk-toggleable__content pre {margin: 0.2em;color: black;border-radius: 0.25em;background-color: #f0f8ff;}#sk-container-id-1 input.sk-toggleable__control:checked~div.sk-toggleable__content {max-height: 200px;max-width: 100%;overflow: auto;}#sk-container-id-1 input.sk-toggleable__control:checked~label.sk-toggleable__label-arrow:before {content: \"▾\";}#sk-container-id-1 div.sk-estimator input.sk-toggleable__control:checked~label.sk-toggleable__label {background-color: #d4ebff;}#sk-container-id-1 div.sk-label input.sk-toggleable__control:checked~label.sk-toggleable__label {background-color: #d4ebff;}#sk-container-id-1 input.sk-hidden--visually {border: 0;clip: rect(1px 1px 1px 1px);clip: rect(1px, 1px, 1px, 1px);height: 1px;margin: -1px;overflow: hidden;padding: 0;position: absolute;width: 1px;}#sk-container-id-1 div.sk-estimator {font-family: monospace;background-color: #f0f8ff;border: 1px dotted black;border-radius: 0.25em;box-sizing: border-box;margin-bottom: 0.5em;}#sk-container-id-1 div.sk-estimator:hover {background-color: #d4ebff;}#sk-container-id-1 div.sk-parallel-item::after {content: \"\";width: 100%;border-bottom: 1px solid gray;flex-grow: 1;}#sk-container-id-1 div.sk-label:hover label.sk-toggleable__label {background-color: #d4ebff;}#sk-container-id-1 div.sk-serial::before {content: \"\";position: absolute;border-left: 1px solid gray;box-sizing: border-box;top: 0;bottom: 0;left: 50%;z-index: 0;}#sk-container-id-1 div.sk-serial {display: flex;flex-direction: column;align-items: center;background-color: white;padding-right: 0.2em;padding-left: 0.2em;position: relative;}#sk-container-id-1 div.sk-item {position: relative;z-index: 1;}#sk-container-id-1 div.sk-parallel {display: flex;align-items: stretch;justify-content: center;background-color: white;position: relative;}#sk-container-id-1 div.sk-item::before, #sk-container-id-1 div.sk-parallel-item::before {content: \"\";position: absolute;border-left: 1px solid gray;box-sizing: border-box;top: 0;bottom: 0;left: 50%;z-index: -1;}#sk-container-id-1 div.sk-parallel-item {display: flex;flex-direction: column;z-index: 1;position: relative;background-color: white;}#sk-container-id-1 div.sk-parallel-item:first-child::after {align-self: flex-end;width: 50%;}#sk-container-id-1 div.sk-parallel-item:last-child::after {align-self: flex-start;width: 50%;}#sk-container-id-1 div.sk-parallel-item:only-child::after {width: 0;}#sk-container-id-1 div.sk-dashed-wrapped {border: 1px dashed gray;margin: 0 0.4em 0.5em 0.4em;box-sizing: border-box;padding-bottom: 0.4em;background-color: white;}#sk-container-id-1 div.sk-label label {font-family: monospace;font-weight: bold;display: inline-block;line-height: 1.2em;}#sk-container-id-1 div.sk-label-container {text-align: center;}#sk-container-id-1 div.sk-container {/* jupyter's `normalize.less` sets `[hidden] { display: none; }` but bootstrap.min.css set `[hidden] { display: none !important; }` so we also need the `!important` here to be able to override the default hidden behavior on the sphinx rendered scikit-learn.org. See: https://github.com/scikit-learn/scikit-learn/issues/21755 */display: inline-block !important;position: relative;}#sk-container-id-1 div.sk-text-repr-fallback {display: none;}</style><div id=\"sk-container-id-1\" class=\"sk-top-container\"><div class=\"sk-text-repr-fallback\"><pre>KNeighborsClassifier()</pre><b>In a Jupyter environment, please rerun this cell to show the HTML representation or trust the notebook. <br />On GitHub, the HTML representation is unable to render, please try loading this page with nbviewer.org.</b></div><div class=\"sk-container\" hidden><div class=\"sk-item\"><div class=\"sk-estimator sk-toggleable\"><input class=\"sk-toggleable__control sk-hidden--visually\" id=\"sk-estimator-id-1\" type=\"checkbox\" checked><label for=\"sk-estimator-id-1\" class=\"sk-toggleable__label sk-toggleable__label-arrow\">KNeighborsClassifier</label><div class=\"sk-toggleable__content\"><pre>KNeighborsClassifier()</pre></div></div></div></div></div>"
      ],
      "text/plain": [
       "KNeighborsClassifier()"
      ]
     },
     "execution_count": 49,
     "metadata": {},
     "output_type": "execute_result"
    }
   ],
   "source": [
    "knn_gs = KNeighborsClassifier()\n",
    "knn_gs.fit(X_train, y_train)\n"
   ]
  },
  {
   "cell_type": "code",
   "execution_count": 50,
   "metadata": {},
   "outputs": [],
   "source": [
    "# knn_pred = knn_gs.predict(X_val)"
   ]
  },
  {
   "cell_type": "code",
   "execution_count": 51,
   "metadata": {},
   "outputs": [],
   "source": [
    "dt_gs = DecisionTreeClassifier(max_depth= 7)\n",
    "dt_gs.fit(X_train, y_train)\n",
    "dt_pred = dt_gs.predict(X_val)"
   ]
  },
  {
   "cell_type": "code",
   "execution_count": 52,
   "metadata": {},
   "outputs": [],
   "source": [
    "rf_gs = RandomForestClassifier(max_depth= 7, n_estimators = 300)\n",
    "rf_gs.fit(X_train, y_train)\n",
    "rf_pred = rf_gs.predict(X_val)"
   ]
  },
  {
   "cell_type": "code",
   "execution_count": 94,
   "metadata": {},
   "outputs": [],
   "source": [
    "from sklearn.model_selection import RandomizedSearchCV\n",
    "\n",
    "xgb = XGBClassifier(seed=42)\n",
    "\n",
    "params = {\n",
    "    \"max_depth\": [3, 5, 7, 9],\n",
    "    \"learning_rate\": np.arange(0.05, 0.31, 0.05),\n",
    "    \"n_estimators\": np.arange(50, 550, 50),\n",
    "}\n",
    "\n",
    "xgb_random = RandomizedSearchCV(\n",
    "    estimator=xgb,\n",
    "    param_distributions=params,\n",
    "    n_iter=10,\n",
    "    cv=5,\n",
    "    random_state=42,\n",
    "    n_jobs=-1,\n",
    ")\n",
    "\n",
    "xgb_random.fit(X_train, y_train)\n",
    "xgb_pred = xgb_random.predict(X_val)"
   ]
  },
  {
   "cell_type": "code",
   "execution_count": 93,
   "metadata": {},
   "outputs": [
    {
     "ename": "KeyboardInterrupt",
     "evalue": "",
     "output_type": "error",
     "traceback": [
      "\u001b[1;31m---------------------------------------------------------------------------\u001b[0m",
      "\u001b[1;31mKeyboardInterrupt\u001b[0m                         Traceback (most recent call last)",
      "\u001b[1;32md:\\Section5\\ecommerce_project\\model\\model_to_ppt_wmj.ipynb Cell 57\u001b[0m in \u001b[0;36m<cell line: 2>\u001b[1;34m()\u001b[0m\n\u001b[0;32m      <a href='vscode-notebook-cell:/d%3A/Section5/ecommerce_project/model/model_to_ppt_wmj.ipynb#Y110sZmlsZQ%3D%3D?line=0'>1</a>\u001b[0m xgb_gs \u001b[39m=\u001b[39m XGBClassifier(learning_rate \u001b[39m=\u001b[39m \u001b[39m0.1\u001b[39m, max_depth \u001b[39m=\u001b[39m \u001b[39m7\u001b[39m, n_estimators \u001b[39m=\u001b[39m \u001b[39m500\u001b[39m, seed \u001b[39m=\u001b[39m \u001b[39m42\u001b[39m)\n\u001b[1;32m----> <a href='vscode-notebook-cell:/d%3A/Section5/ecommerce_project/model/model_to_ppt_wmj.ipynb#Y110sZmlsZQ%3D%3D?line=1'>2</a>\u001b[0m xgb_gs\u001b[39m.\u001b[39;49mfit(X_train, y_train)\n\u001b[0;32m      <a href='vscode-notebook-cell:/d%3A/Section5/ecommerce_project/model/model_to_ppt_wmj.ipynb#Y110sZmlsZQ%3D%3D?line=2'>3</a>\u001b[0m xgb_pred \u001b[39m=\u001b[39m xgb_gs\u001b[39m.\u001b[39mpredict(X_val)\n",
      "File \u001b[1;32mc:\\Users\\mj985\\anaconda3\\envs\\assign\\lib\\site-packages\\xgboost\\core.py:620\u001b[0m, in \u001b[0;36mrequire_keyword_args.<locals>.throw_if.<locals>.inner_f\u001b[1;34m(*args, **kwargs)\u001b[0m\n\u001b[0;32m    618\u001b[0m \u001b[39mfor\u001b[39;00m k, arg \u001b[39min\u001b[39;00m \u001b[39mzip\u001b[39m(sig\u001b[39m.\u001b[39mparameters, args):\n\u001b[0;32m    619\u001b[0m     kwargs[k] \u001b[39m=\u001b[39m arg\n\u001b[1;32m--> 620\u001b[0m \u001b[39mreturn\u001b[39;00m func(\u001b[39m*\u001b[39;49m\u001b[39m*\u001b[39;49mkwargs)\n",
      "File \u001b[1;32mc:\\Users\\mj985\\anaconda3\\envs\\assign\\lib\\site-packages\\xgboost\\sklearn.py:1490\u001b[0m, in \u001b[0;36mXGBClassifier.fit\u001b[1;34m(self, X, y, sample_weight, base_margin, eval_set, eval_metric, early_stopping_rounds, verbose, xgb_model, sample_weight_eval_set, base_margin_eval_set, feature_weights, callbacks)\u001b[0m\n\u001b[0;32m   1462\u001b[0m (\n\u001b[0;32m   1463\u001b[0m     model,\n\u001b[0;32m   1464\u001b[0m     metric,\n\u001b[1;32m   (...)\u001b[0m\n\u001b[0;32m   1469\u001b[0m     xgb_model, eval_metric, params, early_stopping_rounds, callbacks\n\u001b[0;32m   1470\u001b[0m )\n\u001b[0;32m   1471\u001b[0m train_dmatrix, evals \u001b[39m=\u001b[39m _wrap_evaluation_matrices(\n\u001b[0;32m   1472\u001b[0m     missing\u001b[39m=\u001b[39m\u001b[39mself\u001b[39m\u001b[39m.\u001b[39mmissing,\n\u001b[0;32m   1473\u001b[0m     X\u001b[39m=\u001b[39mX,\n\u001b[1;32m   (...)\u001b[0m\n\u001b[0;32m   1487\u001b[0m     feature_types\u001b[39m=\u001b[39m\u001b[39mself\u001b[39m\u001b[39m.\u001b[39mfeature_types,\n\u001b[0;32m   1488\u001b[0m )\n\u001b[1;32m-> 1490\u001b[0m \u001b[39mself\u001b[39m\u001b[39m.\u001b[39m_Booster \u001b[39m=\u001b[39m train(\n\u001b[0;32m   1491\u001b[0m     params,\n\u001b[0;32m   1492\u001b[0m     train_dmatrix,\n\u001b[0;32m   1493\u001b[0m     \u001b[39mself\u001b[39;49m\u001b[39m.\u001b[39;49mget_num_boosting_rounds(),\n\u001b[0;32m   1494\u001b[0m     evals\u001b[39m=\u001b[39;49mevals,\n\u001b[0;32m   1495\u001b[0m     early_stopping_rounds\u001b[39m=\u001b[39;49mearly_stopping_rounds,\n\u001b[0;32m   1496\u001b[0m     evals_result\u001b[39m=\u001b[39;49mevals_result,\n\u001b[0;32m   1497\u001b[0m     obj\u001b[39m=\u001b[39;49mobj,\n\u001b[0;32m   1498\u001b[0m     custom_metric\u001b[39m=\u001b[39;49mmetric,\n\u001b[0;32m   1499\u001b[0m     verbose_eval\u001b[39m=\u001b[39;49mverbose,\n\u001b[0;32m   1500\u001b[0m     xgb_model\u001b[39m=\u001b[39;49mmodel,\n\u001b[0;32m   1501\u001b[0m     callbacks\u001b[39m=\u001b[39;49mcallbacks,\n\u001b[0;32m   1502\u001b[0m )\n\u001b[0;32m   1504\u001b[0m \u001b[39mif\u001b[39;00m \u001b[39mnot\u001b[39;00m \u001b[39mcallable\u001b[39m(\u001b[39mself\u001b[39m\u001b[39m.\u001b[39mobjective):\n\u001b[0;32m   1505\u001b[0m     \u001b[39mself\u001b[39m\u001b[39m.\u001b[39mobjective \u001b[39m=\u001b[39m params[\u001b[39m\"\u001b[39m\u001b[39mobjective\u001b[39m\u001b[39m\"\u001b[39m]\n",
      "File \u001b[1;32mc:\\Users\\mj985\\anaconda3\\envs\\assign\\lib\\site-packages\\xgboost\\core.py:620\u001b[0m, in \u001b[0;36mrequire_keyword_args.<locals>.throw_if.<locals>.inner_f\u001b[1;34m(*args, **kwargs)\u001b[0m\n\u001b[0;32m    618\u001b[0m \u001b[39mfor\u001b[39;00m k, arg \u001b[39min\u001b[39;00m \u001b[39mzip\u001b[39m(sig\u001b[39m.\u001b[39mparameters, args):\n\u001b[0;32m    619\u001b[0m     kwargs[k] \u001b[39m=\u001b[39m arg\n\u001b[1;32m--> 620\u001b[0m \u001b[39mreturn\u001b[39;00m func(\u001b[39m*\u001b[39;49m\u001b[39m*\u001b[39;49mkwargs)\n",
      "File \u001b[1;32mc:\\Users\\mj985\\anaconda3\\envs\\assign\\lib\\site-packages\\xgboost\\training.py:185\u001b[0m, in \u001b[0;36mtrain\u001b[1;34m(params, dtrain, num_boost_round, evals, obj, feval, maximize, early_stopping_rounds, evals_result, verbose_eval, xgb_model, callbacks, custom_metric)\u001b[0m\n\u001b[0;32m    183\u001b[0m \u001b[39mif\u001b[39;00m cb_container\u001b[39m.\u001b[39mbefore_iteration(bst, i, dtrain, evals):\n\u001b[0;32m    184\u001b[0m     \u001b[39mbreak\u001b[39;00m\n\u001b[1;32m--> 185\u001b[0m bst\u001b[39m.\u001b[39;49mupdate(dtrain, i, obj)\n\u001b[0;32m    186\u001b[0m \u001b[39mif\u001b[39;00m cb_container\u001b[39m.\u001b[39mafter_iteration(bst, i, dtrain, evals):\n\u001b[0;32m    187\u001b[0m     \u001b[39mbreak\u001b[39;00m\n",
      "File \u001b[1;32mc:\\Users\\mj985\\anaconda3\\envs\\assign\\lib\\site-packages\\xgboost\\core.py:1918\u001b[0m, in \u001b[0;36mBooster.update\u001b[1;34m(self, dtrain, iteration, fobj)\u001b[0m\n\u001b[0;32m   1915\u001b[0m \u001b[39mself\u001b[39m\u001b[39m.\u001b[39m_validate_dmatrix_features(dtrain)\n\u001b[0;32m   1917\u001b[0m \u001b[39mif\u001b[39;00m fobj \u001b[39mis\u001b[39;00m \u001b[39mNone\u001b[39;00m:\n\u001b[1;32m-> 1918\u001b[0m     _check_call(_LIB\u001b[39m.\u001b[39;49mXGBoosterUpdateOneIter(\u001b[39mself\u001b[39;49m\u001b[39m.\u001b[39;49mhandle,\n\u001b[0;32m   1919\u001b[0m                                             ctypes\u001b[39m.\u001b[39;49mc_int(iteration),\n\u001b[0;32m   1920\u001b[0m                                             dtrain\u001b[39m.\u001b[39;49mhandle))\n\u001b[0;32m   1921\u001b[0m \u001b[39melse\u001b[39;00m:\n\u001b[0;32m   1922\u001b[0m     pred \u001b[39m=\u001b[39m \u001b[39mself\u001b[39m\u001b[39m.\u001b[39mpredict(dtrain, output_margin\u001b[39m=\u001b[39m\u001b[39mTrue\u001b[39;00m, training\u001b[39m=\u001b[39m\u001b[39mTrue\u001b[39;00m)\n",
      "\u001b[1;31mKeyboardInterrupt\u001b[0m: "
     ]
    }
   ],
   "source": [
    "xgb_gs = XGBClassifier(learning_rate = 0.1, max_depth = 7, n_estimators = 500, seed = 42)\n",
    "xgb_gs.fit(X_train, y_train)\n",
    "xgb_pred = xgb_gs.predict(X_val)"
   ]
  },
  {
   "cell_type": "code",
   "execution_count": 56,
   "metadata": {},
   "outputs": [],
   "source": [
    "cat_gs = GridSearchCV(CatBoostClassifier(verbose=0), cat_param_grid)\n",
    "cat_gs.fit(X_train, y_train)\n",
    "cat_pred = cat_gs.predict(X_val)"
   ]
  },
  {
   "cell_type": "code",
   "execution_count": 106,
   "metadata": {},
   "outputs": [
    {
     "data": {
      "image/png": "[encoded data removed]",
      "text/plain": [
       "<Figure size 640x480 with 2 Axes>"
      ]
     },
     "metadata": {},
     "output_type": "display_data"
    }
   ],
   "source": [
    "# confusion matrix 계산\n",
    "cm = confusion_matrix(y_val, cat_pred)\n",
    "\n",
    "# 클래스 레이블 (class label)\n",
    "classes = np.unique(y_val)\n",
    "\n",
    "# confusion matrix 시각화\n",
    "fig, ax = plt.subplots()\n",
    "im = ax.imshow(cm, interpolation='nearest', cmap=plt.cm.Blues)\n",
    "ax.figure.colorbar(im, ax=ax)\n",
    "ax.set(xticks=np.arange(cm.shape[1]),\n",
    "       yticks=np.arange(cm.shape[0]),\n",
    "       xticklabels=classes, yticklabels=classes,\n",
    "       title='Confusion matrix',\n",
    "       ylabel='True label',\n",
    "       xlabel='Predicted label')\n",
    "\n",
    "# 각 칸에 숫자로 라벨링\n",
    "thresh = cm.max() / 2\n",
    "for i in range(cm.shape[0]):\n",
    "    for j in range(cm.shape[1]):\n",
    "        ax.text(j, i, format(cm[i, j], 'd'),\n",
    "                ha=\"center\", va=\"center\",\n",
    "                color=\"white\" if cm[i, j] > thresh else \"black\")\n",
    "\n",
    "fig.tight_layout()\n",
    "plt.show()"
   ]
  },
  {
   "cell_type": "code",
   "execution_count": 104,
   "metadata": {},
   "outputs": [
    {
     "name": "stdout",
     "output_type": "stream",
     "text": [
      "실제 데이터 타겟 비율 : 10.34 %\n",
      "예측 타겟 비율 : 12.41 %\n",
      "접속 기록 마지막 세션 이후 15일 접속 안하는 유저 비율 : 78.39 %\n",
      "유저 이탈 가능성(평균) : 48.18 %\n"
     ]
    }
   ],
   "source": [
    "print(\"실제 데이터 타겟 비율 :\", round(y_val.sum()/len(y_val)*100,2), \"%\")\n",
    "ratio_15 = cat_pred.sum()/len(cat_pred)*100\n",
    "print(\"예측 타겟 비율 :\", round(ratio_15,2),\"%\")\n",
    "# 유저 비율을 구해보자(기존데이터로 예측)\n",
    "customer_pred = cat_gs.predict(droped_X)\n",
    "last_ratio_15 = customer_pred.sum()/len(customer_pred)*100\n",
    "print(\"접속 기록 마지막 세션 이후 15일 접속 안하는 유저 비율 :\", round(last_ratio_15,2),\"%\")\n",
    "\n",
    "\n",
    "cat_pred_proba = cat_gs.predict_proba(droped_X)[:,1]\n",
    "\n",
    "print(\"유저 이탈 가능성(평균) :\",round(cat_pred_proba.mean()*100,2),\"%\")\n",
    "\n",
    "\n"
   ]
  },
  {
   "cell_type": "code",
   "execution_count": 95,
   "metadata": {},
   "outputs": [],
   "source": [
    "# 각 모델의 성능 평가 지표 계산\n",
    "lr_acc = accuracy_score(y_val, lr_pred)\n",
    "lr_precision = precision_score(y_val, lr_pred)\n",
    "lr_recall = recall_score(y_val, lr_pred)\n",
    "lr_f1_score = f1_score(y_val, lr_pred)\n",
    "\n",
    "\n",
    "dt_acc = accuracy_score(y_val, dt_pred)\n",
    "dt_precision = precision_score(y_val, dt_pred)\n",
    "dt_recall = recall_score(y_val, dt_pred)\n",
    "dt_f1_score = f1_score(y_val, dt_pred)\n",
    "\n",
    "rf_acc = accuracy_score(y_val, rf_pred)\n",
    "rf_precision = precision_score(y_val, rf_pred)\n",
    "rf_recall = recall_score(y_val, rf_pred)\n",
    "rf_f1_score = f1_score(y_val, rf_pred)\n",
    "\n",
    "xgb_acc = accuracy_score(y_val, xgb_pred)\n",
    "xgb_precision = precision_score(y_val, xgb_pred)\n",
    "xgb_recall = recall_score(y_val, xgb_pred)\n",
    "xgb_f1_score = f1_score(y_val, xgb_pred)\n",
    "\n",
    "cat_acc = accuracy_score(y_val, cat_pred)\n",
    "cat_precision = precision_score(y_val, cat_pred)\n",
    "cat_recall = recall_score(y_val, cat_pred)\n",
    "cat_f1_score = f1_score(y_val, cat_pred)"
   ]
  },
  {
   "cell_type": "code",
   "execution_count": 97,
   "metadata": {},
   "outputs": [
    {
     "name": "stdout",
     "output_type": "stream",
     "text": [
      "Logistic Regression:\n",
      "Accuracy: 0.9006983651627473\n",
      "Precision: 0.536839336212377\n",
      "Recall: 0.29060853467508424\n",
      "F1 Score: 0.37708742349001034\n",
      "Decision Tree:\n",
      "Accuracy: 0.9075727821689823\n",
      "Precision: 0.5439287885026372\n",
      "Recall: 0.6584231262163573\n",
      "F1 Score: 0.5957245777725286\n",
      "Random Forest:\n",
      "Accuracy: 0.9075752368795719\n",
      "Precision: 0.5437592751698821\n",
      "Recall: 0.6609151753927944\n",
      "F1 Score: 0.5966404559381228\n",
      "XGBoost:\n",
      "Accuracy: 0.9075666453925082\n",
      "Precision: 0.543782811446001\n",
      "Recall: 0.6600726254331419\n",
      "F1 Score: 0.5963110470258419\n",
      "CatBoost:\n",
      "Accuracy: 0.9075764642348667\n",
      "Precision: 0.5443403598666574\n",
      "Recall: 0.653023686334077\n",
      "F1 Score: 0.5937494942301779\n"
     ]
    }
   ],
   "source": [
    "# 가중치 고려X 평가 지표\n",
    "# 결과 출력\n",
    "print(\"Logistic Regression:\")\n",
    "print(\"Accuracy:\", lr_acc)\n",
    "print(\"Precision:\", lr_precision)\n",
    "print(\"Recall:\", lr_recall)\n",
    "print(\"F1 Score:\", lr_f1_score)\n",
    "\n",
    "\n",
    "print(\"Decision Tree:\")\n",
    "print(\"Accuracy:\", dt_acc)\n",
    "print(\"Precision:\", dt_precision)\n",
    "print(\"Recall:\", dt_recall)\n",
    "print(\"F1 Score:\", dt_f1_score)\n",
    "\n",
    "print(\"Random Forest:\")\n",
    "print(\"Accuracy:\", rf_acc)\n",
    "print(\"Precision:\", rf_precision)\n",
    "print(\"Recall:\", rf_recall)\n",
    "print(\"F1 Score:\", rf_f1_score)\n",
    "\n",
    "print(\"XGBoost:\")\n",
    "print(\"Accuracy:\", xgb_acc)\n",
    "print(\"Precision:\", xgb_precision)\n",
    "print(\"Recall:\", xgb_recall)\n",
    "print(\"F1 Score:\", xgb_f1_score)\n",
    "\n",
    "print(\"CatBoost:\")\n",
    "print(\"Accuracy:\", cat_acc)\n",
    "print(\"Precision:\", cat_precision)\n",
    "print(\"Recall:\", cat_recall)\n",
    "print(\"F1 Score:\", cat_f1_score)"
   ]
  },
  {
   "cell_type": "code",
   "execution_count": 98,
   "metadata": {},
   "outputs": [
    {
     "name": "stdout",
     "output_type": "stream",
     "text": [
      "Logistic Regression:\n",
      "Accuracy: 0.9006983651627473\n",
      "Precision: 0.8824137089571251\n",
      "Recall: 0.9006983651627473\n",
      "F1 Score: 0.8872030236252446\n",
      "Decision Tree:\n",
      "Accuracy: 0.9075727821689823\n",
      "Precision: 0.9166226326919588\n",
      "Recall: 0.9075727821689823\n",
      "F1 Score: 0.9114055060771616\n",
      "Random Forest:\n",
      "Accuracy: 0.9075752368795719\n",
      "Precision: 0.916848167913243\n",
      "Recall: 0.9075752368795719\n",
      "F1 Score: 0.9114879221634539\n",
      "XGBoost:\n",
      "Accuracy: 0.9075666453925082\n",
      "Precision: 0.9167680703930347\n",
      "Recall: 0.9075666453925082\n",
      "F1 Score: 0.9114538809891006\n",
      "CatBoost:\n",
      "Accuracy: 0.9075764642348667\n",
      "Precision: 0.9161399083285336\n",
      "Recall: 0.9075764642348667\n",
      "F1 Score: 0.9112326674440209\n"
     ]
    }
   ],
   "source": [
    "# 각 모델의 성능 평가 지표 계산\n",
    "lr_acc = accuracy_score(y_val, lr_pred)\n",
    "lr_precision = precision_score(y_val, lr_pred, average=\"weighted\")\n",
    "lr_recall = recall_score(y_val, lr_pred, average=\"weighted\")\n",
    "lr_f1_score = f1_score(y_val, lr_pred, average=\"weighted\")\n",
    "\n",
    "\n",
    "dt_acc = accuracy_score(y_val, dt_pred)\n",
    "dt_precision = precision_score(y_val, dt_pred, average=\"weighted\")\n",
    "dt_recall = recall_score(y_val, dt_pred, average=\"weighted\")\n",
    "dt_f1_score = f1_score(y_val, dt_pred, average=\"weighted\")\n",
    "\n",
    "rf_acc = accuracy_score(y_val, rf_pred)\n",
    "rf_precision = precision_score(y_val, rf_pred, average=\"weighted\")\n",
    "rf_recall = recall_score(y_val, rf_pred, average=\"weighted\")\n",
    "rf_f1_score = f1_score(y_val, rf_pred, average=\"weighted\")\n",
    "\n",
    "xgb_acc = accuracy_score(y_val, xgb_pred)\n",
    "xgb_precision = precision_score(y_val, xgb_pred, average=\"weighted\")\n",
    "xgb_recall = recall_score(y_val, xgb_pred, average=\"weighted\")\n",
    "xgb_f1_score = f1_score(y_val, xgb_pred, average=\"weighted\")\n",
    "\n",
    "cat_acc = accuracy_score(y_val, cat_pred)\n",
    "cat_precision = precision_score(y_val, cat_pred, average=\"weighted\")\n",
    "cat_recall = recall_score(y_val, cat_pred, average=\"weighted\")\n",
    "cat_f1_score = f1_score(y_val, cat_pred, average=\"weighted\")\n",
    "# 가중치 고려O 평가 지표\n",
    "# 결과 출력\n",
    "print(\"Logistic Regression:\")\n",
    "print(\"Accuracy:\", lr_acc)\n",
    "print(\"Precision:\", lr_precision)\n",
    "print(\"Recall:\", lr_recall)\n",
    "print(\"F1 Score:\", lr_f1_score)\n",
    "\n",
    "\n",
    "print(\"Decision Tree:\")\n",
    "print(\"Accuracy:\", dt_acc)\n",
    "print(\"Precision:\", dt_precision)\n",
    "print(\"Recall:\", dt_recall)\n",
    "print(\"F1 Score:\", dt_f1_score)\n",
    "\n",
    "print(\"Random Forest:\")\n",
    "print(\"Accuracy:\", rf_acc)\n",
    "print(\"Precision:\", rf_precision)\n",
    "print(\"Recall:\", rf_recall)\n",
    "print(\"F1 Score:\", rf_f1_score)\n",
    "\n",
    "print(\"XGBoost:\")\n",
    "print(\"Accuracy:\", xgb_acc)\n",
    "print(\"Precision:\", xgb_precision)\n",
    "print(\"Recall:\", xgb_recall)\n",
    "print(\"F1 Score:\", xgb_f1_score)\n",
    "\n",
    "print(\"CatBoost:\")\n",
    "print(\"Accuracy:\", cat_acc)\n",
    "print(\"Precision:\", cat_precision)\n",
    "print(\"Recall:\", cat_recall)\n",
    "print(\"F1 Score:\", cat_f1_score)"
   ]
  },
  {
   "cell_type": "code",
   "execution_count": 86,
   "metadata": {},
   "outputs": [
    {
     "data": {
      "image/png": "[encoded data removed]",
      "text/plain": [
       "<Figure size 640x480 with 1 Axes>"
      ]
     },
     "metadata": {},
     "output_type": "display_data"
    }
   ],
   "source": [
    "models = ['Logistic Regression', 'XGBoost', 'Decision Tree', 'Random Forest', 'CatBoost']\n",
    "recalls = [lr_recall, xgb_recall, dt_recall, rf_recall, cat_recall]\n",
    "\n",
    "plt.bar(models, recalls)\n",
    "plt.title('BEST 3')\n",
    "plt.xlabel('Model')\n",
    "plt.xticks(rotation = 30)\n",
    "plt.ylabel('Recall')\n",
    "plt.ylim(0.907560, 0.907580)\n",
    "plt.show()\n"
   ]
  },
  {
   "cell_type": "code",
   "execution_count": 64,
   "metadata": {},
   "outputs": [],
   "source": [
    "check_corr = df[['total_amount','shipment_fee', 'ADD_TO_CART_COUNT', 'SEARCH_COUNT', 'ADD_PROMO_COUNT',\n",
    "       'BOOKING_COUNT', 'ITEM_DETAIL_COUNT', 'limit_ship', 'PAGE_VIEW',\n",
    "       'total_promo','target']]"
   ]
  },
  {
   "cell_type": "code",
   "execution_count": 73,
   "metadata": {},
   "outputs": [
    {
     "data": {
      "text/html": [
       "<div>\n",
       "<style scoped>\n",
       "    .dataframe tbody tr th:only-of-type {\n",
       "        vertical-align: middle;\n",
       "    }\n",
       "\n",
       "    .dataframe tbody tr th {\n",
       "        vertical-align: top;\n",
       "    }\n",
       "\n",
       "    .dataframe thead th {\n",
       "        text-align: right;\n",
       "    }\n",
       "</style>\n",
       "<table border=\"1\" class=\"dataframe\">\n",
       "  <thead>\n",
       "    <tr style=\"text-align: right;\">\n",
       "      <th></th>\n",
       "      <th>total_amount</th>\n",
       "      <th>shipment_fee</th>\n",
       "      <th>ADD_TO_CART_COUNT</th>\n",
       "      <th>SEARCH_COUNT</th>\n",
       "      <th>ADD_PROMO_COUNT</th>\n",
       "      <th>BOOKING_COUNT</th>\n",
       "      <th>ITEM_DETAIL_COUNT</th>\n",
       "      <th>limit_ship</th>\n",
       "      <th>PAGE_VIEW</th>\n",
       "      <th>total_promo</th>\n",
       "      <th>target</th>\n",
       "    </tr>\n",
       "  </thead>\n",
       "  <tbody>\n",
       "    <tr>\n",
       "      <th>total_amount</th>\n",
       "      <td>1.000000</td>\n",
       "      <td>0.684585</td>\n",
       "      <td>-0.060294</td>\n",
       "      <td>0.003292</td>\n",
       "      <td>0.006250</td>\n",
       "      <td>0.713817</td>\n",
       "      <td>-0.006365</td>\n",
       "      <td>0.825121</td>\n",
       "      <td>0.088617</td>\n",
       "      <td>0.003922</td>\n",
       "      <td>0.495113</td>\n",
       "    </tr>\n",
       "    <tr>\n",
       "      <th>shipment_fee</th>\n",
       "      <td>0.684585</td>\n",
       "      <td>1.000000</td>\n",
       "      <td>-0.136236</td>\n",
       "      <td>-0.084817</td>\n",
       "      <td>-0.057061</td>\n",
       "      <td>0.490242</td>\n",
       "      <td>-0.092403</td>\n",
       "      <td>0.682496</td>\n",
       "      <td>-0.060446</td>\n",
       "      <td>-0.054494</td>\n",
       "      <td>0.412361</td>\n",
       "    </tr>\n",
       "    <tr>\n",
       "      <th>ADD_TO_CART_COUNT</th>\n",
       "      <td>-0.060294</td>\n",
       "      <td>-0.136236</td>\n",
       "      <td>1.000000</td>\n",
       "      <td>0.126251</td>\n",
       "      <td>0.065041</td>\n",
       "      <td>-0.040400</td>\n",
       "      <td>0.125525</td>\n",
       "      <td>-0.063959</td>\n",
       "      <td>0.574923</td>\n",
       "      <td>0.058065</td>\n",
       "      <td>-0.015635</td>\n",
       "    </tr>\n",
       "    <tr>\n",
       "      <th>SEARCH_COUNT</th>\n",
       "      <td>0.003292</td>\n",
       "      <td>-0.084817</td>\n",
       "      <td>0.126251</td>\n",
       "      <td>1.000000</td>\n",
       "      <td>0.131001</td>\n",
       "      <td>0.001014</td>\n",
       "      <td>0.132898</td>\n",
       "      <td>0.002722</td>\n",
       "      <td>0.194529</td>\n",
       "      <td>0.121105</td>\n",
       "      <td>-0.012340</td>\n",
       "    </tr>\n",
       "    <tr>\n",
       "      <th>ADD_PROMO_COUNT</th>\n",
       "      <td>0.006250</td>\n",
       "      <td>-0.057061</td>\n",
       "      <td>0.065041</td>\n",
       "      <td>0.131001</td>\n",
       "      <td>1.000000</td>\n",
       "      <td>0.009894</td>\n",
       "      <td>0.114161</td>\n",
       "      <td>0.002445</td>\n",
       "      <td>0.248806</td>\n",
       "      <td>0.926297</td>\n",
       "      <td>0.018666</td>\n",
       "    </tr>\n",
       "    <tr>\n",
       "      <th>BOOKING_COUNT</th>\n",
       "      <td>0.713817</td>\n",
       "      <td>0.490242</td>\n",
       "      <td>-0.040400</td>\n",
       "      <td>0.001014</td>\n",
       "      <td>0.009894</td>\n",
       "      <td>1.000000</td>\n",
       "      <td>-0.005091</td>\n",
       "      <td>0.597144</td>\n",
       "      <td>0.179812</td>\n",
       "      <td>0.006895</td>\n",
       "      <td>0.356554</td>\n",
       "    </tr>\n",
       "    <tr>\n",
       "      <th>ITEM_DETAIL_COUNT</th>\n",
       "      <td>-0.006365</td>\n",
       "      <td>-0.092403</td>\n",
       "      <td>0.125525</td>\n",
       "      <td>0.132898</td>\n",
       "      <td>0.114161</td>\n",
       "      <td>-0.005091</td>\n",
       "      <td>1.000000</td>\n",
       "      <td>-0.007169</td>\n",
       "      <td>0.202564</td>\n",
       "      <td>0.104150</td>\n",
       "      <td>-0.012012</td>\n",
       "    </tr>\n",
       "    <tr>\n",
       "      <th>limit_ship</th>\n",
       "      <td>0.825121</td>\n",
       "      <td>0.682496</td>\n",
       "      <td>-0.063959</td>\n",
       "      <td>0.002722</td>\n",
       "      <td>0.002445</td>\n",
       "      <td>0.597144</td>\n",
       "      <td>-0.007169</td>\n",
       "      <td>1.000000</td>\n",
       "      <td>0.026121</td>\n",
       "      <td>0.001761</td>\n",
       "      <td>0.502838</td>\n",
       "    </tr>\n",
       "    <tr>\n",
       "      <th>PAGE_VIEW</th>\n",
       "      <td>0.088617</td>\n",
       "      <td>-0.060446</td>\n",
       "      <td>0.574923</td>\n",
       "      <td>0.194529</td>\n",
       "      <td>0.248806</td>\n",
       "      <td>0.179812</td>\n",
       "      <td>0.202564</td>\n",
       "      <td>0.026121</td>\n",
       "      <td>1.000000</td>\n",
       "      <td>0.229661</td>\n",
       "      <td>0.013497</td>\n",
       "    </tr>\n",
       "    <tr>\n",
       "      <th>total_promo</th>\n",
       "      <td>0.003922</td>\n",
       "      <td>-0.054494</td>\n",
       "      <td>0.058065</td>\n",
       "      <td>0.121105</td>\n",
       "      <td>0.926297</td>\n",
       "      <td>0.006895</td>\n",
       "      <td>0.104150</td>\n",
       "      <td>0.001761</td>\n",
       "      <td>0.229661</td>\n",
       "      <td>1.000000</td>\n",
       "      <td>0.017091</td>\n",
       "    </tr>\n",
       "    <tr>\n",
       "      <th>target</th>\n",
       "      <td>0.495113</td>\n",
       "      <td>0.412361</td>\n",
       "      <td>-0.015635</td>\n",
       "      <td>-0.012340</td>\n",
       "      <td>0.018666</td>\n",
       "      <td>0.356554</td>\n",
       "      <td>-0.012012</td>\n",
       "      <td>0.502838</td>\n",
       "      <td>0.013497</td>\n",
       "      <td>0.017091</td>\n",
       "      <td>1.000000</td>\n",
       "    </tr>\n",
       "  </tbody>\n",
       "</table>\n",
       "</div>"
      ],
      "text/plain": [
       "                   total_amount  shipment_fee  ADD_TO_CART_COUNT  \\\n",
       "total_amount           1.000000      0.684585          -0.060294   \n",
       "shipment_fee           0.684585      1.000000          -0.136236   \n",
       "ADD_TO_CART_COUNT     -0.060294     -0.136236           1.000000   \n",
       "SEARCH_COUNT           0.003292     -0.084817           0.126251   \n",
       "ADD_PROMO_COUNT        0.006250     -0.057061           0.065041   \n",
       "BOOKING_COUNT          0.713817      0.490242          -0.040400   \n",
       "ITEM_DETAIL_COUNT     -0.006365     -0.092403           0.125525   \n",
       "limit_ship             0.825121      0.682496          -0.063959   \n",
       "PAGE_VIEW              0.088617     -0.060446           0.574923   \n",
       "total_promo            0.003922     -0.054494           0.058065   \n",
       "target                 0.495113      0.412361          -0.015635   \n",
       "\n",
       "                   SEARCH_COUNT  ADD_PROMO_COUNT  BOOKING_COUNT  \\\n",
       "total_amount           0.003292         0.006250       0.713817   \n",
       "shipment_fee          -0.084817        -0.057061       0.490242   \n",
       "ADD_TO_CART_COUNT      0.126251         0.065041      -0.040400   \n",
       "SEARCH_COUNT           1.000000         0.131001       0.001014   \n",
       "ADD_PROMO_COUNT        0.131001         1.000000       0.009894   \n",
       "BOOKING_COUNT          0.001014         0.009894       1.000000   \n",
       "ITEM_DETAIL_COUNT      0.132898         0.114161      -0.005091   \n",
       "limit_ship             0.002722         0.002445       0.597144   \n",
       "PAGE_VIEW              0.194529         0.248806       0.179812   \n",
       "total_promo            0.121105         0.926297       0.006895   \n",
       "target                -0.012340         0.018666       0.356554   \n",
       "\n",
       "                   ITEM_DETAIL_COUNT  limit_ship  PAGE_VIEW  total_promo  \\\n",
       "total_amount               -0.006365    0.825121   0.088617     0.003922   \n",
       "shipment_fee               -0.092403    0.682496  -0.060446    -0.054494   \n",
       "ADD_TO_CART_COUNT           0.125525   -0.063959   0.574923     0.058065   \n",
       "SEARCH_COUNT                0.132898    0.002722   0.194529     0.121105   \n",
       "ADD_PROMO_COUNT             0.114161    0.002445   0.248806     0.926297   \n",
       "BOOKING_COUNT              -0.005091    0.597144   0.179812     0.006895   \n",
       "ITEM_DETAIL_COUNT           1.000000   -0.007169   0.202564     0.104150   \n",
       "limit_ship                 -0.007169    1.000000   0.026121     0.001761   \n",
       "PAGE_VIEW                   0.202564    0.026121   1.000000     0.229661   \n",
       "total_promo                 0.104150    0.001761   0.229661     1.000000   \n",
       "target                     -0.012012    0.502838   0.013497     0.017091   \n",
       "\n",
       "                     target  \n",
       "total_amount       0.495113  \n",
       "shipment_fee       0.412361  \n",
       "ADD_TO_CART_COUNT -0.015635  \n",
       "SEARCH_COUNT      -0.012340  \n",
       "ADD_PROMO_COUNT    0.018666  \n",
       "BOOKING_COUNT      0.356554  \n",
       "ITEM_DETAIL_COUNT -0.012012  \n",
       "limit_ship         0.502838  \n",
       "PAGE_VIEW          0.013497  \n",
       "total_promo        0.017091  \n",
       "target             1.000000  "
      ]
     },
     "execution_count": 73,
     "metadata": {},
     "output_type": "execute_result"
    }
   ],
   "source": [
    "check_corr.corr()"
   ]
  },
  {
   "cell_type": "code",
   "execution_count": null,
   "metadata": {},
   "outputs": [],
   "source": [
    "# # confusion matrix 계산\n",
    "# lr_cm = confusion_matrix(y_val, lr_pred)\n",
    "# dt_cm = confusion_matrix(y_val, dt_pred)\n",
    "# rf_cm = confusion_matrix(y_val, rf_pred)\n",
    "# xgb_cm = confusion_matrix(y_val, xgb_pred)\n",
    "# cat_cm = confusion_matrix(y_val, cat_pred)\n",
    "\n",
    "# # 클래스 레이블 (class label)\n",
    "# classes = np.unique(y_val)\n",
    "\n",
    "# # confusion matrix 시각화\n",
    "# fig, axs = plt.subplots(nrows=2, ncols=3, figsize=(15, 10))\n",
    "\n",
    "# axs[0, 0].imshow(lr_cm, interpolation='nearest', cmap=plt.cm.Blues)\n",
    "# axs[0, 0].set(title='Confusion matrix - Logistic Regression',\n",
    "#                xticks=np.arange(lr_cm.shape[1]),\n",
    "#                yticks=np.arange(lr_cm.shape[0]),\n",
    "#                xticklabels=classes, yticklabels=classes,\n",
    "#                ylabel='True label',\n",
    "#                xlabel='Predicted label')\n",
    "# thresh = lr_cm.max() / 2\n",
    "# for i in range(lr_cm.shape[0]):\n",
    "#     for j in range(lr_cm.shape[1]):\n",
    "#         axs[0, 0].text(j, i, format(lr_cm[i, j], 'd'),\n",
    "#                        ha=\"center\", va=\"center\",\n",
    "#                        color=\"white\" if lr_cm[i, j] > thresh else \"black\")\n",
    "\n",
    "\n",
    "# axs[0, 2].imshow(dt_cm, interpolation='nearest', cmap=plt.cm.Blues)\n",
    "# axs[0, 2].set(title='Confusion matrix - Decision Tree',\n",
    "#                xticks=np.arange(dt_cm.shape[1]),\n",
    "#                yticks=np.arange(dt_cm.shape[0]),\n",
    "#                xticklabels=classes, yticklabels=classes,\n",
    "#                ylabel='True label',\n",
    "#                xlabel='Predicted label')\n",
    "# thresh = dt_cm.max() / 2\n",
    "# for i in range(dt_cm.shape[0]):\n",
    "#     for j in range(dt_cm.shape[1]):\n",
    "#         axs[0, 2].text(j, i, format(dt_cm[i, j], 'd'),\n",
    "#                        ha=\"center\", va=\"center\",\n",
    "#                        color=\"white\" if dt_cm[i, j] > thresh else \"black\")\n",
    "\n",
    "# axs[1, 0].imshow(rf_cm, interpolation='nearest', cmap=plt.cm.Blues)\n",
    "# axs[1, 0].set(title='Confusion matrix - Random Forest',\n",
    "#                xticks=np.arange(rf_cm.shape[1]),\n",
    "#                yticks=np.arange(rf_cm.shape[0]),\n",
    "#                xticklabels=classes, yticklabels=classes,\n",
    "#                ylabel='True label',\n",
    "#                xlabel='Predicted label')\n",
    "# thresh = rf_cm.max() / 2\n",
    "# for i in range(rf_cm.shape[0]):\n",
    "#     for j in range(rf_cm.shape[1]):\n",
    "#         axs[1, 0].text(j, i, format(rf_cm[i, j], 'd'),\n",
    "#                        ha=\"center\", va=\"center\",\n",
    "#                        color=\"white\" if rf_cm[i, j] > thresh else \"black\")\n",
    "\n",
    "# axs[1, 1].imshow(xgb_cm, interpolation='nearest', cmap=plt.cm.Blues)\n",
    "# axs[1, 1].set(title='Confusion matrix - XGBoost',\n",
    "#                xticks=np.arange(xgb_cm.shape[1]),\n",
    "#                yticks=np.arange(xgb_cm.shape[0]),\n",
    "#                xticklabels=classes, yticklabels=classes,\n",
    "#                ylabel='True label',\n",
    "#                xlabel='Predicted label')\n",
    "# thresh = xgb_cm.max() / 2\n",
    "# for i in range(xgb_cm.shape[0]):\n",
    "#     for j in range(xgb_cm.shape[1]):\n",
    "#         axs[1, 1].text(j, i, format(xgb_cm[i, j], 'd'),\n",
    "#                        ha=\"center\", va=\"center\",\n",
    "#                        color=\"white\" if xgb_cm[i, j] > thresh else \"black\")\n",
    "\n",
    "# axs[1, 2].imshow(cat_cm, interpolation='nearest', cmap=plt.cm.Blues)\n",
    "# axs[1, 2].set(title='Confusion matrix - CatBoost',\n",
    "#                xticks=np.arange(cat_cm.shape[1]),\n",
    "#                yticks=np.arange(cat_cm.shape[0]),\n",
    "#                xticklabels=classes, yticklabels=classes,\n",
    "#                ylabel='True label',\n",
    "#                xlabel='Predicted label')\n",
    "# thresh = cat_cm.max() / 2\n",
    "# for i in range(cat_cm.shape[0]):\n",
    "#     for j in range(cat_cm.shape[1]):\n",
    "#         axs[1, 2].text(j, i, format(cat_cm[i, j], 'd'),\n",
    "#                        ha=\"center\", va=\"center\",\n",
    "#                        color=\"white\" if cat_cm[i, j] > thresh else \"black\")\n",
    "\n",
    "# plt.show()"
   ]
  }
 ],
 "metadata": {
  "kernelspec": {
   "display_name": "assign",
   "language": "python",
   "name": "python3"
  },
  "language_info": {
   "codemirror_mode": {
    "name": "ipython",
    "version": 3
   },
   "file_extension": ".py",
   "mimetype": "text/x-python",
   "name": "python",
   "nbconvert_exporter": "python",
   "pygments_lexer": "ipython3",
   "version": "3.8.16"
  },
  "orig_nbformat": 4
 },
 "nbformat": 4,
 "nbformat_minor": 2
}
