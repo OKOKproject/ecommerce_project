{
 "cells": [
  {
   "attachments": {},
   "cell_type": "markdown",
   "metadata": {},
   "source": [
    "### 06.16"
   ]
  },
  {
   "cell_type": "code",
   "execution_count": 1,
   "metadata": {},
   "outputs": [],
   "source": [
    "import pandas as pd\n",
    "import matplotlib.pyplot as plt\n",
    "import datetime\n",
    "import seaborn as sns\n",
    "from datetime import timedelta\n",
    "\n",
    "pd.set_option('display.max_columns', None)\n"
   ]
  },
  {
   "cell_type": "code",
   "execution_count": 2,
   "metadata": {},
   "outputs": [],
   "source": [
    "plt.rcParams['font.family'] = 'Malgun Gothic'\n",
    "plt.rcParams['axes.unicode_minus'] = False\n",
    "colors = sns.color_palette('pastel')"
   ]
  },
  {
   "cell_type": "code",
   "execution_count": 3,
   "metadata": {},
   "outputs": [],
   "source": [
    "df_click = pd.read_csv('C:/Users/mj985/section5/ecommerce_project/EDA/new_session_id.csv')\n",
    "df_trans_new = pd.read_csv('C:/Users/mj985/section5/TeamProject2/csv/transaction_new.csv')"
   ]
  },
  {
   "cell_type": "code",
   "execution_count": 4,
   "metadata": {},
   "outputs": [],
   "source": [
    "df_click = df_click.rename(columns={'session_id': 'new_session_id'})\n",
    "df_click['session_id'] = df_click['new_session_id'].apply(lambda x: x[:36])"
   ]
  },
  {
   "cell_type": "code",
   "execution_count": 5,
   "metadata": {},
   "outputs": [],
   "source": [
    "# session_id 열을 기준으로 df와 df_trans_new를 병합\n",
    "df_click = pd.merge(df_click, df_trans_new, on='session_id', how='left')\n",
    "df_click['event_time'] = pd.to_datetime(df_click['event_time'])"
   ]
  },
  {
   "cell_type": "code",
   "execution_count": 6,
   "metadata": {},
   "outputs": [
    {
     "data": {
      "text/plain": [
       "0"
      ]
     },
     "execution_count": 6,
     "metadata": {},
     "output_type": "execute_result"
    }
   ],
   "source": [
    "df_click.duplicated().sum()"
   ]
  },
  {
   "cell_type": "code",
   "execution_count": 7,
   "metadata": {},
   "outputs": [],
   "source": [
    "df_click = df_click[['new_session_id', 'event_name', 'product_id_x', 'event_time', 'traffic_source', 'payment_status_x', 'search_keywords', 'promo_code_x', 'promo_amount_x', 'customer_id']]"
   ]
  },
  {
   "cell_type": "code",
   "execution_count": 8,
   "metadata": {},
   "outputs": [
    {
     "data": {
      "text/html": [
       "<div>\n",
       "<style scoped>\n",
       "    .dataframe tbody tr th:only-of-type {\n",
       "        vertical-align: middle;\n",
       "    }\n",
       "\n",
       "    .dataframe tbody tr th {\n",
       "        vertical-align: top;\n",
       "    }\n",
       "\n",
       "    .dataframe thead th {\n",
       "        text-align: right;\n",
       "    }\n",
       "</style>\n",
       "<table border=\"1\" class=\"dataframe\">\n",
       "  <thead>\n",
       "    <tr style=\"text-align: right;\">\n",
       "      <th></th>\n",
       "      <th>new_session_id</th>\n",
       "      <th>event_name</th>\n",
       "      <th>product_id_x</th>\n",
       "      <th>event_time</th>\n",
       "      <th>traffic_source</th>\n",
       "      <th>payment_status_x</th>\n",
       "      <th>search_keywords</th>\n",
       "      <th>promo_code_x</th>\n",
       "      <th>promo_amount_x</th>\n",
       "      <th>customer_id</th>\n",
       "    </tr>\n",
       "  </thead>\n",
       "  <tbody>\n",
       "    <tr>\n",
       "      <th>0</th>\n",
       "      <td>00005746-17ec-449c-9c5c-699a3ea9304a_1</td>\n",
       "      <td>HOMEPAGE</td>\n",
       "      <td>NaN</td>\n",
       "      <td>2022-03-08 23:17:19.510057+00:00</td>\n",
       "      <td>MOBILE</td>\n",
       "      <td>NaN</td>\n",
       "      <td>NaN</td>\n",
       "      <td>NaN</td>\n",
       "      <td>NaN</td>\n",
       "      <td>25255.0</td>\n",
       "    </tr>\n",
       "    <tr>\n",
       "      <th>1</th>\n",
       "      <td>00005746-17ec-449c-9c5c-699a3ea9304a_1</td>\n",
       "      <td>CLICK</td>\n",
       "      <td>NaN</td>\n",
       "      <td>2022-03-08 23:17:22.510057+00:00</td>\n",
       "      <td>MOBILE</td>\n",
       "      <td>NaN</td>\n",
       "      <td>NaN</td>\n",
       "      <td>NaN</td>\n",
       "      <td>NaN</td>\n",
       "      <td>25255.0</td>\n",
       "    </tr>\n",
       "    <tr>\n",
       "      <th>2</th>\n",
       "      <td>00005746-17ec-449c-9c5c-699a3ea9304a_1</td>\n",
       "      <td>ADD_TO_CART</td>\n",
       "      <td>9980.0</td>\n",
       "      <td>2022-03-08 23:17:23.510057+00:00</td>\n",
       "      <td>MOBILE</td>\n",
       "      <td>NaN</td>\n",
       "      <td>NaN</td>\n",
       "      <td>NaN</td>\n",
       "      <td>NaN</td>\n",
       "      <td>25255.0</td>\n",
       "    </tr>\n",
       "    <tr>\n",
       "      <th>3</th>\n",
       "      <td>00005746-17ec-449c-9c5c-699a3ea9304a_1</td>\n",
       "      <td>SCROLL</td>\n",
       "      <td>NaN</td>\n",
       "      <td>2022-03-08 23:17:25.510057+00:00</td>\n",
       "      <td>MOBILE</td>\n",
       "      <td>NaN</td>\n",
       "      <td>NaN</td>\n",
       "      <td>NaN</td>\n",
       "      <td>NaN</td>\n",
       "      <td>25255.0</td>\n",
       "    </tr>\n",
       "    <tr>\n",
       "      <th>4</th>\n",
       "      <td>00005746-17ec-449c-9c5c-699a3ea9304a_1</td>\n",
       "      <td>SEARCH</td>\n",
       "      <td>NaN</td>\n",
       "      <td>2022-03-08 23:17:32.510057+00:00</td>\n",
       "      <td>MOBILE</td>\n",
       "      <td>NaN</td>\n",
       "      <td>셔츠</td>\n",
       "      <td>NaN</td>\n",
       "      <td>NaN</td>\n",
       "      <td>25255.0</td>\n",
       "    </tr>\n",
       "  </tbody>\n",
       "</table>\n",
       "</div>"
      ],
      "text/plain": [
       "                           new_session_id   event_name  product_id_x   \n",
       "0  00005746-17ec-449c-9c5c-699a3ea9304a_1     HOMEPAGE           NaN  \\\n",
       "1  00005746-17ec-449c-9c5c-699a3ea9304a_1        CLICK           NaN   \n",
       "2  00005746-17ec-449c-9c5c-699a3ea9304a_1  ADD_TO_CART        9980.0   \n",
       "3  00005746-17ec-449c-9c5c-699a3ea9304a_1       SCROLL           NaN   \n",
       "4  00005746-17ec-449c-9c5c-699a3ea9304a_1       SEARCH           NaN   \n",
       "\n",
       "                        event_time traffic_source payment_status_x   \n",
       "0 2022-03-08 23:17:19.510057+00:00         MOBILE              NaN  \\\n",
       "1 2022-03-08 23:17:22.510057+00:00         MOBILE              NaN   \n",
       "2 2022-03-08 23:17:23.510057+00:00         MOBILE              NaN   \n",
       "3 2022-03-08 23:17:25.510057+00:00         MOBILE              NaN   \n",
       "4 2022-03-08 23:17:32.510057+00:00         MOBILE              NaN   \n",
       "\n",
       "  search_keywords promo_code_x  promo_amount_x  customer_id  \n",
       "0             NaN          NaN             NaN      25255.0  \n",
       "1             NaN          NaN             NaN      25255.0  \n",
       "2             NaN          NaN             NaN      25255.0  \n",
       "3             NaN          NaN             NaN      25255.0  \n",
       "4              셔츠          NaN             NaN      25255.0  "
      ]
     },
     "execution_count": 8,
     "metadata": {},
     "output_type": "execute_result"
    }
   ],
   "source": [
    "df_click.head(5)"
   ]
  },
  {
   "cell_type": "code",
   "execution_count": 9,
   "metadata": {},
   "outputs": [],
   "source": [
    "df_click.sort_values(['new_session_id', 'event_time'], inplace=True)"
   ]
  },
  {
   "cell_type": "code",
   "execution_count": 10,
   "metadata": {},
   "outputs": [],
   "source": [
    "df_click['next_event'] = df_click.groupby('new_session_id')['event_name'].shift(-1)"
   ]
  },
  {
   "cell_type": "code",
   "execution_count": 11,
   "metadata": {},
   "outputs": [
    {
     "data": {
      "text/html": [
       "<div>\n",
       "<style scoped>\n",
       "    .dataframe tbody tr th:only-of-type {\n",
       "        vertical-align: middle;\n",
       "    }\n",
       "\n",
       "    .dataframe tbody tr th {\n",
       "        vertical-align: top;\n",
       "    }\n",
       "\n",
       "    .dataframe thead th {\n",
       "        text-align: right;\n",
       "    }\n",
       "</style>\n",
       "<table border=\"1\" class=\"dataframe\">\n",
       "  <thead>\n",
       "    <tr style=\"text-align: right;\">\n",
       "      <th></th>\n",
       "      <th>new_session_id</th>\n",
       "      <th>event_name</th>\n",
       "      <th>product_id_x</th>\n",
       "      <th>event_time</th>\n",
       "      <th>traffic_source</th>\n",
       "      <th>payment_status_x</th>\n",
       "      <th>search_keywords</th>\n",
       "      <th>promo_code_x</th>\n",
       "      <th>promo_amount_x</th>\n",
       "      <th>customer_id</th>\n",
       "      <th>next_event</th>\n",
       "    </tr>\n",
       "  </thead>\n",
       "  <tbody>\n",
       "    <tr>\n",
       "      <th>0</th>\n",
       "      <td>00005746-17ec-449c-9c5c-699a3ea9304a_1</td>\n",
       "      <td>HOMEPAGE</td>\n",
       "      <td>NaN</td>\n",
       "      <td>2022-03-08 23:17:19.510057+00:00</td>\n",
       "      <td>MOBILE</td>\n",
       "      <td>NaN</td>\n",
       "      <td>NaN</td>\n",
       "      <td>NaN</td>\n",
       "      <td>NaN</td>\n",
       "      <td>25255.0</td>\n",
       "      <td>CLICK</td>\n",
       "    </tr>\n",
       "    <tr>\n",
       "      <th>1</th>\n",
       "      <td>00005746-17ec-449c-9c5c-699a3ea9304a_1</td>\n",
       "      <td>CLICK</td>\n",
       "      <td>NaN</td>\n",
       "      <td>2022-03-08 23:17:22.510057+00:00</td>\n",
       "      <td>MOBILE</td>\n",
       "      <td>NaN</td>\n",
       "      <td>NaN</td>\n",
       "      <td>NaN</td>\n",
       "      <td>NaN</td>\n",
       "      <td>25255.0</td>\n",
       "      <td>ADD_TO_CART</td>\n",
       "    </tr>\n",
       "    <tr>\n",
       "      <th>2</th>\n",
       "      <td>00005746-17ec-449c-9c5c-699a3ea9304a_1</td>\n",
       "      <td>ADD_TO_CART</td>\n",
       "      <td>9980.0</td>\n",
       "      <td>2022-03-08 23:17:23.510057+00:00</td>\n",
       "      <td>MOBILE</td>\n",
       "      <td>NaN</td>\n",
       "      <td>NaN</td>\n",
       "      <td>NaN</td>\n",
       "      <td>NaN</td>\n",
       "      <td>25255.0</td>\n",
       "      <td>SCROLL</td>\n",
       "    </tr>\n",
       "    <tr>\n",
       "      <th>3</th>\n",
       "      <td>00005746-17ec-449c-9c5c-699a3ea9304a_1</td>\n",
       "      <td>SCROLL</td>\n",
       "      <td>NaN</td>\n",
       "      <td>2022-03-08 23:17:25.510057+00:00</td>\n",
       "      <td>MOBILE</td>\n",
       "      <td>NaN</td>\n",
       "      <td>NaN</td>\n",
       "      <td>NaN</td>\n",
       "      <td>NaN</td>\n",
       "      <td>25255.0</td>\n",
       "      <td>SEARCH</td>\n",
       "    </tr>\n",
       "    <tr>\n",
       "      <th>4</th>\n",
       "      <td>00005746-17ec-449c-9c5c-699a3ea9304a_1</td>\n",
       "      <td>SEARCH</td>\n",
       "      <td>NaN</td>\n",
       "      <td>2022-03-08 23:17:32.510057+00:00</td>\n",
       "      <td>MOBILE</td>\n",
       "      <td>NaN</td>\n",
       "      <td>셔츠</td>\n",
       "      <td>NaN</td>\n",
       "      <td>NaN</td>\n",
       "      <td>25255.0</td>\n",
       "      <td>CLICK</td>\n",
       "    </tr>\n",
       "  </tbody>\n",
       "</table>\n",
       "</div>"
      ],
      "text/plain": [
       "                           new_session_id   event_name  product_id_x   \n",
       "0  00005746-17ec-449c-9c5c-699a3ea9304a_1     HOMEPAGE           NaN  \\\n",
       "1  00005746-17ec-449c-9c5c-699a3ea9304a_1        CLICK           NaN   \n",
       "2  00005746-17ec-449c-9c5c-699a3ea9304a_1  ADD_TO_CART        9980.0   \n",
       "3  00005746-17ec-449c-9c5c-699a3ea9304a_1       SCROLL           NaN   \n",
       "4  00005746-17ec-449c-9c5c-699a3ea9304a_1       SEARCH           NaN   \n",
       "\n",
       "                        event_time traffic_source payment_status_x   \n",
       "0 2022-03-08 23:17:19.510057+00:00         MOBILE              NaN  \\\n",
       "1 2022-03-08 23:17:22.510057+00:00         MOBILE              NaN   \n",
       "2 2022-03-08 23:17:23.510057+00:00         MOBILE              NaN   \n",
       "3 2022-03-08 23:17:25.510057+00:00         MOBILE              NaN   \n",
       "4 2022-03-08 23:17:32.510057+00:00         MOBILE              NaN   \n",
       "\n",
       "  search_keywords promo_code_x  promo_amount_x  customer_id   next_event  \n",
       "0             NaN          NaN             NaN      25255.0        CLICK  \n",
       "1             NaN          NaN             NaN      25255.0  ADD_TO_CART  \n",
       "2             NaN          NaN             NaN      25255.0       SCROLL  \n",
       "3             NaN          NaN             NaN      25255.0       SEARCH  \n",
       "4              셔츠          NaN             NaN      25255.0        CLICK  "
      ]
     },
     "execution_count": 11,
     "metadata": {},
     "output_type": "execute_result"
    }
   ],
   "source": [
    "test = df_click.drop_duplicates(subset=['new_session_id', 'event_name', 'product_id_x', 'event_time', 'traffic_source', 'payment_status_x', 'search_keywords', 'promo_code_x', 'promo_amount_x', 'customer_id'], keep='last')\n",
    "test.head(5)"
   ]
  },
  {
   "cell_type": "code",
   "execution_count": 12,
   "metadata": {},
   "outputs": [
    {
     "data": {
      "text/html": [
       "<div>\n",
       "<style scoped>\n",
       "    .dataframe tbody tr th:only-of-type {\n",
       "        vertical-align: middle;\n",
       "    }\n",
       "\n",
       "    .dataframe tbody tr th {\n",
       "        vertical-align: top;\n",
       "    }\n",
       "\n",
       "    .dataframe thead th {\n",
       "        text-align: right;\n",
       "    }\n",
       "</style>\n",
       "<table border=\"1\" class=\"dataframe\">\n",
       "  <thead>\n",
       "    <tr style=\"text-align: right;\">\n",
       "      <th></th>\n",
       "      <th>new_session_id</th>\n",
       "      <th>event_name</th>\n",
       "      <th>product_id_x</th>\n",
       "      <th>event_time</th>\n",
       "      <th>traffic_source</th>\n",
       "      <th>payment_status_x</th>\n",
       "      <th>search_keywords</th>\n",
       "      <th>promo_code_x</th>\n",
       "      <th>promo_amount_x</th>\n",
       "      <th>customer_id</th>\n",
       "      <th>next_event</th>\n",
       "    </tr>\n",
       "  </thead>\n",
       "  <tbody>\n",
       "    <tr>\n",
       "      <th>0</th>\n",
       "      <td>00005746-17ec-449c-9c5c-699a3ea9304a_1</td>\n",
       "      <td>HOMEPAGE</td>\n",
       "      <td>NaN</td>\n",
       "      <td>2022-03-08 23:17:19.510057+00:00</td>\n",
       "      <td>MOBILE</td>\n",
       "      <td>NaN</td>\n",
       "      <td>NaN</td>\n",
       "      <td>NaN</td>\n",
       "      <td>NaN</td>\n",
       "      <td>25255.0</td>\n",
       "      <td>CLICK</td>\n",
       "    </tr>\n",
       "    <tr>\n",
       "      <th>1</th>\n",
       "      <td>00005746-17ec-449c-9c5c-699a3ea9304a_1</td>\n",
       "      <td>CLICK</td>\n",
       "      <td>NaN</td>\n",
       "      <td>2022-03-08 23:17:22.510057+00:00</td>\n",
       "      <td>MOBILE</td>\n",
       "      <td>NaN</td>\n",
       "      <td>NaN</td>\n",
       "      <td>NaN</td>\n",
       "      <td>NaN</td>\n",
       "      <td>25255.0</td>\n",
       "      <td>ADD_TO_CART</td>\n",
       "    </tr>\n",
       "    <tr>\n",
       "      <th>2</th>\n",
       "      <td>00005746-17ec-449c-9c5c-699a3ea9304a_1</td>\n",
       "      <td>ADD_TO_CART</td>\n",
       "      <td>9980.0</td>\n",
       "      <td>2022-03-08 23:17:23.510057+00:00</td>\n",
       "      <td>MOBILE</td>\n",
       "      <td>NaN</td>\n",
       "      <td>NaN</td>\n",
       "      <td>NaN</td>\n",
       "      <td>NaN</td>\n",
       "      <td>25255.0</td>\n",
       "      <td>SCROLL</td>\n",
       "    </tr>\n",
       "    <tr>\n",
       "      <th>3</th>\n",
       "      <td>00005746-17ec-449c-9c5c-699a3ea9304a_1</td>\n",
       "      <td>SCROLL</td>\n",
       "      <td>NaN</td>\n",
       "      <td>2022-03-08 23:17:25.510057+00:00</td>\n",
       "      <td>MOBILE</td>\n",
       "      <td>NaN</td>\n",
       "      <td>NaN</td>\n",
       "      <td>NaN</td>\n",
       "      <td>NaN</td>\n",
       "      <td>25255.0</td>\n",
       "      <td>SEARCH</td>\n",
       "    </tr>\n",
       "    <tr>\n",
       "      <th>4</th>\n",
       "      <td>00005746-17ec-449c-9c5c-699a3ea9304a_1</td>\n",
       "      <td>SEARCH</td>\n",
       "      <td>NaN</td>\n",
       "      <td>2022-03-08 23:17:32.510057+00:00</td>\n",
       "      <td>MOBILE</td>\n",
       "      <td>NaN</td>\n",
       "      <td>셔츠</td>\n",
       "      <td>NaN</td>\n",
       "      <td>NaN</td>\n",
       "      <td>25255.0</td>\n",
       "      <td>CLICK</td>\n",
       "    </tr>\n",
       "  </tbody>\n",
       "</table>\n",
       "</div>"
      ],
      "text/plain": [
       "                           new_session_id   event_name  product_id_x   \n",
       "0  00005746-17ec-449c-9c5c-699a3ea9304a_1     HOMEPAGE           NaN  \\\n",
       "1  00005746-17ec-449c-9c5c-699a3ea9304a_1        CLICK           NaN   \n",
       "2  00005746-17ec-449c-9c5c-699a3ea9304a_1  ADD_TO_CART        9980.0   \n",
       "3  00005746-17ec-449c-9c5c-699a3ea9304a_1       SCROLL           NaN   \n",
       "4  00005746-17ec-449c-9c5c-699a3ea9304a_1       SEARCH           NaN   \n",
       "\n",
       "                        event_time traffic_source payment_status_x   \n",
       "0 2022-03-08 23:17:19.510057+00:00         MOBILE              NaN  \\\n",
       "1 2022-03-08 23:17:22.510057+00:00         MOBILE              NaN   \n",
       "2 2022-03-08 23:17:23.510057+00:00         MOBILE              NaN   \n",
       "3 2022-03-08 23:17:25.510057+00:00         MOBILE              NaN   \n",
       "4 2022-03-08 23:17:32.510057+00:00         MOBILE              NaN   \n",
       "\n",
       "  search_keywords promo_code_x  promo_amount_x  customer_id   next_event  \n",
       "0             NaN          NaN             NaN      25255.0        CLICK  \n",
       "1             NaN          NaN             NaN      25255.0  ADD_TO_CART  \n",
       "2             NaN          NaN             NaN      25255.0       SCROLL  \n",
       "3             NaN          NaN             NaN      25255.0       SEARCH  \n",
       "4              셔츠          NaN             NaN      25255.0        CLICK  "
      ]
     },
     "execution_count": 12,
     "metadata": {},
     "output_type": "execute_result"
    }
   ],
   "source": [
    "test.head(5)\n",
    "# ADD_TO_CART : 장바구니에 담기 버튼을 누르는 행위\n",
    "#"
   ]
  },
  {
   "cell_type": "code",
   "execution_count": 13,
   "metadata": {},
   "outputs": [
    {
     "name": "stderr",
     "output_type": "stream",
     "text": [
      "C:\\Users\\mj985\\AppData\\Local\\Temp\\ipykernel_18064\\1455582002.py:1: SettingWithCopyWarning: \n",
      "A value is trying to be set on a copy of a slice from a DataFrame.\n",
      "Try using .loc[row_indexer,col_indexer] = value instead\n",
      "\n",
      "See the caveats in the documentation: https://pandas.pydata.org/pandas-docs/stable/user_guide/indexing.html#returning-a-view-versus-a-copy\n",
      "  test['path'] = test['event_name'] + '▶' + test['next_event']\n"
     ]
    }
   ],
   "source": [
    "test['path'] = test['event_name'] + '▶' + test['next_event']"
   ]
  },
  {
   "cell_type": "code",
   "execution_count": 14,
   "metadata": {},
   "outputs": [
    {
     "data": {
      "text/plain": [
       "path\n",
       "ADD_TO_CART▶CLICK          117477\n",
       "CLICK▶ADD_TO_CART          110150\n",
       "HOMEPAGE▶ADD_TO_CART        87613\n",
       "ADD_TO_CART▶ADD_TO_CART     84363\n",
       "CLICK▶CLICK                 79827\n",
       "                            ...  \n",
       "BOOKING▶SCROLL                782\n",
       "BOOKING▶ITEM_DETAIL           678\n",
       "BOOKING▶SEARCH                387\n",
       "BOOKING▶PROMO_PAGE            302\n",
       "BOOKING▶ADD_TO_CART             1\n",
       "Name: count, Length: 78, dtype: int64"
      ]
     },
     "execution_count": 14,
     "metadata": {},
     "output_type": "execute_result"
    }
   ],
   "source": [
    "test['path'].value_counts()"
   ]
  },
  {
   "cell_type": "code",
   "execution_count": 15,
   "metadata": {},
   "outputs": [
    {
     "data": {
      "text/plain": [
       "((7990346, 12), (13167727, 11))"
      ]
     },
     "execution_count": 15,
     "metadata": {},
     "output_type": "execute_result"
    }
   ],
   "source": [
    "test.shape, df_click.shape"
   ]
  },
  {
   "cell_type": "code",
   "execution_count": 16,
   "metadata": {},
   "outputs": [
    {
     "data": {
      "text/plain": [
       "next_event\n",
       "ADD_TO_CART    489692\n",
       "CLICK          427190\n",
       "SCROLL         280458\n",
       "HOMEPAGE       240321\n",
       "ITEM_DETAIL    213103\n",
       "SEARCH         202728\n",
       "PROMO_PAGE      96987\n",
       "ADD_PROMO       93644\n",
       "BOOKING         41877\n",
       "Name: count, dtype: int64"
      ]
     },
     "execution_count": 16,
     "metadata": {},
     "output_type": "execute_result"
    }
   ],
   "source": [
    "test['next_event'].value_counts()"
   ]
  },
  {
   "cell_type": "code",
   "execution_count": 17,
   "metadata": {},
   "outputs": [
    {
     "data": {
      "text/plain": [
       "search_keywords\n",
       "파티 드레스    0.282434\n",
       "중고        0.167937\n",
       "여성 가방     0.109090\n",
       "티셔츠       0.092366\n",
       "옷         0.071655\n",
       "Name: proportion, dtype: float64"
      ]
     },
     "execution_count": 17,
     "metadata": {},
     "output_type": "execute_result"
    }
   ],
   "source": [
    "test['search_keywords'].value_counts(normalize=True).head(5)"
   ]
  },
  {
   "cell_type": "code",
   "execution_count": 18,
   "metadata": {},
   "outputs": [
    {
     "data": {
      "text/plain": [
       "search_keywords\n",
       "파티 드레스    0.276948\n",
       "중고        0.168238\n",
       "여성 가방     0.107173\n",
       "티셔츠       0.096769\n",
       "옷         0.071749\n",
       "Name: proportion, dtype: float64"
      ]
     },
     "execution_count": 18,
     "metadata": {},
     "output_type": "execute_result"
    }
   ],
   "source": [
    "test[test['next_event'].isna()]['search_keywords'].value_counts(normalize=True).head(5)"
   ]
  },
  {
   "cell_type": "code",
   "execution_count": 19,
   "metadata": {},
   "outputs": [],
   "source": [
    "drop_click_scroll = test[(test['event_name']!='SCROLL') & (test['event_name']!='CLICK')]"
   ]
  },
  {
   "cell_type": "code",
   "execution_count": 20,
   "metadata": {},
   "outputs": [],
   "source": [
    "check_next_click_scroll = test[(test['next_event'] =='SCROLL') | (test['next_event'] == 'CLICK')]"
   ]
  },
  {
   "cell_type": "code",
   "execution_count": 21,
   "metadata": {},
   "outputs": [
    {
     "data": {
      "text/plain": [
       "(707648, 12)"
      ]
     },
     "execution_count": 21,
     "metadata": {},
     "output_type": "execute_result"
    }
   ],
   "source": [
    "check_next_click_scroll.shape"
   ]
  },
  {
   "cell_type": "code",
   "execution_count": 22,
   "metadata": {},
   "outputs": [
    {
     "data": {
      "text/plain": [
       "event_name\n",
       "ADD_TO_CART    192249\n",
       "CLICK          132848\n",
       "HOMEPAGE        92571\n",
       "SCROLL          88417\n",
       "ITEM_DETAIL     65091\n",
       "SEARCH          64488\n",
       "ADD_PROMO       41913\n",
       "PROMO_PAGE      28455\n",
       "BOOKING          1616\n",
       "Name: count, dtype: int64"
      ]
     },
     "execution_count": 22,
     "metadata": {},
     "output_type": "execute_result"
    }
   ],
   "source": [
    "check_next_click_scroll['event_name'].value_counts()"
   ]
  },
  {
   "cell_type": "code",
   "execution_count": 23,
   "metadata": {},
   "outputs": [],
   "source": [
    "# 클릭 스크롤 삭제"
   ]
  },
  {
   "cell_type": "code",
   "execution_count": 24,
   "metadata": {},
   "outputs": [
    {
     "data": {
      "text/plain": [
       "event_name\n",
       "ADD_TO_CART    0.271673\n",
       "CLICK          0.187732\n",
       "HOMEPAGE       0.130815\n",
       "SCROLL         0.124945\n",
       "ITEM_DETAIL    0.091982\n",
       "SEARCH         0.091130\n",
       "ADD_PROMO      0.059229\n",
       "PROMO_PAGE     0.040211\n",
       "BOOKING        0.002284\n",
       "Name: proportion, dtype: float64"
      ]
     },
     "execution_count": 24,
     "metadata": {},
     "output_type": "execute_result"
    }
   ],
   "source": [
    "check_next_click_scroll['event_name'].value_counts(normalize=True)"
   ]
  },
  {
   "cell_type": "code",
   "execution_count": 25,
   "metadata": {},
   "outputs": [],
   "source": [
    "next_booking = test[(test['event_name']=='BOOKING')]['next_event'].value_counts()"
   ]
  },
  {
   "cell_type": "code",
   "execution_count": 26,
   "metadata": {},
   "outputs": [
    {
     "data": {
      "text/plain": [
       "next_event\n",
       "HOMEPAGE       2035\n",
       "CLICK           834\n",
       "SCROLL          782\n",
       "ITEM_DETAIL     678\n",
       "SEARCH          387\n",
       "PROMO_PAGE      302\n",
       "ADD_TO_CART       1\n",
       "Name: count, dtype: int64"
      ]
     },
     "execution_count": 26,
     "metadata": {},
     "output_type": "execute_result"
    }
   ],
   "source": [
    "next_booking"
   ]
  },
  {
   "cell_type": "code",
   "execution_count": 27,
   "metadata": {},
   "outputs": [],
   "source": [
    "before_booking = test[(test['next_event']=='BOOKING')]['event_name'].value_counts()"
   ]
  },
  {
   "cell_type": "code",
   "execution_count": 28,
   "metadata": {},
   "outputs": [
    {
     "data": {
      "text/plain": [
       "event_name\n",
       "CLICK          10665\n",
       "SCROLL          6738\n",
       "ADD_TO_CART     6160\n",
       "ITEM_DETAIL     5281\n",
       "HOMEPAGE        4943\n",
       "SEARCH          4821\n",
       "PROMO_PAGE      2175\n",
       "ADD_PROMO       1094\n",
       "Name: count, dtype: int64"
      ]
     },
     "execution_count": 28,
     "metadata": {},
     "output_type": "execute_result"
    }
   ],
   "source": [
    "before_booking"
   ]
  },
  {
   "cell_type": "code",
   "execution_count": 34,
   "metadata": {},
   "outputs": [
    {
     "data": {
      "text/html": [
       "<div>\n",
       "<style scoped>\n",
       "    .dataframe tbody tr th:only-of-type {\n",
       "        vertical-align: middle;\n",
       "    }\n",
       "\n",
       "    .dataframe tbody tr th {\n",
       "        vertical-align: top;\n",
       "    }\n",
       "\n",
       "    .dataframe thead th {\n",
       "        text-align: right;\n",
       "    }\n",
       "</style>\n",
       "<table border=\"1\" class=\"dataframe\">\n",
       "  <thead>\n",
       "    <tr style=\"text-align: right;\">\n",
       "      <th></th>\n",
       "      <th>new_session_id</th>\n",
       "      <th>event_name</th>\n",
       "      <th>product_id_x</th>\n",
       "      <th>event_time</th>\n",
       "      <th>traffic_source</th>\n",
       "      <th>payment_status_x</th>\n",
       "      <th>search_keywords</th>\n",
       "      <th>promo_code_x</th>\n",
       "      <th>promo_amount_x</th>\n",
       "      <th>customer_id</th>\n",
       "      <th>next_event</th>\n",
       "      <th>path</th>\n",
       "    </tr>\n",
       "  </thead>\n",
       "  <tbody>\n",
       "    <tr>\n",
       "      <th>0</th>\n",
       "      <td>00005746-17ec-449c-9c5c-699a3ea9304a_1</td>\n",
       "      <td>HOMEPAGE</td>\n",
       "      <td>NaN</td>\n",
       "      <td>2022-03-08 23:17:19.510057+00:00</td>\n",
       "      <td>MOBILE</td>\n",
       "      <td>NaN</td>\n",
       "      <td>NaN</td>\n",
       "      <td>NaN</td>\n",
       "      <td>NaN</td>\n",
       "      <td>25255.0</td>\n",
       "      <td>CLICK</td>\n",
       "      <td>HOMEPAGE▶CLICK</td>\n",
       "    </tr>\n",
       "    <tr>\n",
       "      <th>1</th>\n",
       "      <td>00005746-17ec-449c-9c5c-699a3ea9304a_1</td>\n",
       "      <td>CLICK</td>\n",
       "      <td>NaN</td>\n",
       "      <td>2022-03-08 23:17:22.510057+00:00</td>\n",
       "      <td>MOBILE</td>\n",
       "      <td>NaN</td>\n",
       "      <td>NaN</td>\n",
       "      <td>NaN</td>\n",
       "      <td>NaN</td>\n",
       "      <td>25255.0</td>\n",
       "      <td>ADD_TO_CART</td>\n",
       "      <td>CLICK▶ADD_TO_CART</td>\n",
       "    </tr>\n",
       "    <tr>\n",
       "      <th>2</th>\n",
       "      <td>00005746-17ec-449c-9c5c-699a3ea9304a_1</td>\n",
       "      <td>ADD_TO_CART</td>\n",
       "      <td>9980.0</td>\n",
       "      <td>2022-03-08 23:17:23.510057+00:00</td>\n",
       "      <td>MOBILE</td>\n",
       "      <td>NaN</td>\n",
       "      <td>NaN</td>\n",
       "      <td>NaN</td>\n",
       "      <td>NaN</td>\n",
       "      <td>25255.0</td>\n",
       "      <td>SCROLL</td>\n",
       "      <td>ADD_TO_CART▶SCROLL</td>\n",
       "    </tr>\n",
       "    <tr>\n",
       "      <th>3</th>\n",
       "      <td>00005746-17ec-449c-9c5c-699a3ea9304a_1</td>\n",
       "      <td>SCROLL</td>\n",
       "      <td>NaN</td>\n",
       "      <td>2022-03-08 23:17:25.510057+00:00</td>\n",
       "      <td>MOBILE</td>\n",
       "      <td>NaN</td>\n",
       "      <td>NaN</td>\n",
       "      <td>NaN</td>\n",
       "      <td>NaN</td>\n",
       "      <td>25255.0</td>\n",
       "      <td>SEARCH</td>\n",
       "      <td>SCROLL▶SEARCH</td>\n",
       "    </tr>\n",
       "    <tr>\n",
       "      <th>4</th>\n",
       "      <td>00005746-17ec-449c-9c5c-699a3ea9304a_1</td>\n",
       "      <td>SEARCH</td>\n",
       "      <td>NaN</td>\n",
       "      <td>2022-03-08 23:17:32.510057+00:00</td>\n",
       "      <td>MOBILE</td>\n",
       "      <td>NaN</td>\n",
       "      <td>셔츠</td>\n",
       "      <td>NaN</td>\n",
       "      <td>NaN</td>\n",
       "      <td>25255.0</td>\n",
       "      <td>CLICK</td>\n",
       "      <td>SEARCH▶CLICK</td>\n",
       "    </tr>\n",
       "    <tr>\n",
       "      <th>...</th>\n",
       "      <td>...</td>\n",
       "      <td>...</td>\n",
       "      <td>...</td>\n",
       "      <td>...</td>\n",
       "      <td>...</td>\n",
       "      <td>...</td>\n",
       "      <td>...</td>\n",
       "      <td>...</td>\n",
       "      <td>...</td>\n",
       "      <td>...</td>\n",
       "      <td>...</td>\n",
       "      <td>...</td>\n",
       "    </tr>\n",
       "    <tr>\n",
       "      <th>13167722</th>\n",
       "      <td>fffff7cf-2a18-4303-9c12-aa836ae3b543_5353946</td>\n",
       "      <td>ITEM_DETAIL</td>\n",
       "      <td>NaN</td>\n",
       "      <td>2021-02-25 20:37:22.937313+00:00</td>\n",
       "      <td>MOBILE</td>\n",
       "      <td>NaN</td>\n",
       "      <td>NaN</td>\n",
       "      <td>NaN</td>\n",
       "      <td>NaN</td>\n",
       "      <td>2353.0</td>\n",
       "      <td>NaN</td>\n",
       "      <td>NaN</td>\n",
       "    </tr>\n",
       "    <tr>\n",
       "      <th>13167723</th>\n",
       "      <td>fffff7cf-2a18-4303-9c12-aa836ae3b543_5353947</td>\n",
       "      <td>SEARCH</td>\n",
       "      <td>NaN</td>\n",
       "      <td>2021-02-25 23:57:56.937313+00:00</td>\n",
       "      <td>MOBILE</td>\n",
       "      <td>NaN</td>\n",
       "      <td>옷</td>\n",
       "      <td>NaN</td>\n",
       "      <td>NaN</td>\n",
       "      <td>2353.0</td>\n",
       "      <td>NaN</td>\n",
       "      <td>NaN</td>\n",
       "    </tr>\n",
       "    <tr>\n",
       "      <th>13167724</th>\n",
       "      <td>fffff7cf-2a18-4303-9c12-aa836ae3b543_5353948</td>\n",
       "      <td>ADD_TO_CART</td>\n",
       "      <td>42693.0</td>\n",
       "      <td>2021-02-26 03:20:58.937313+00:00</td>\n",
       "      <td>MOBILE</td>\n",
       "      <td>NaN</td>\n",
       "      <td>NaN</td>\n",
       "      <td>NaN</td>\n",
       "      <td>NaN</td>\n",
       "      <td>2353.0</td>\n",
       "      <td>NaN</td>\n",
       "      <td>NaN</td>\n",
       "    </tr>\n",
       "    <tr>\n",
       "      <th>13167725</th>\n",
       "      <td>fffff7cf-2a18-4303-9c12-aa836ae3b543_5353949</td>\n",
       "      <td>ADD_TO_CART</td>\n",
       "      <td>20603.0</td>\n",
       "      <td>2021-02-26 06:42:58.937313+00:00</td>\n",
       "      <td>MOBILE</td>\n",
       "      <td>NaN</td>\n",
       "      <td>NaN</td>\n",
       "      <td>NaN</td>\n",
       "      <td>NaN</td>\n",
       "      <td>2353.0</td>\n",
       "      <td>NaN</td>\n",
       "      <td>NaN</td>\n",
       "    </tr>\n",
       "    <tr>\n",
       "      <th>13167726</th>\n",
       "      <td>fffff7cf-2a18-4303-9c12-aa836ae3b543_5353950</td>\n",
       "      <td>BOOKING</td>\n",
       "      <td>NaN</td>\n",
       "      <td>2021-02-26 16:52:59.937313+00:00</td>\n",
       "      <td>MOBILE</td>\n",
       "      <td>Success</td>\n",
       "      <td>NaN</td>\n",
       "      <td>NaN</td>\n",
       "      <td>NaN</td>\n",
       "      <td>2353.0</td>\n",
       "      <td>NaN</td>\n",
       "      <td>NaN</td>\n",
       "    </tr>\n",
       "  </tbody>\n",
       "</table>\n",
       "<p>7990346 rows × 12 columns</p>\n",
       "</div>"
      ],
      "text/plain": [
       "                                        new_session_id   event_name   \n",
       "0               00005746-17ec-449c-9c5c-699a3ea9304a_1     HOMEPAGE  \\\n",
       "1               00005746-17ec-449c-9c5c-699a3ea9304a_1        CLICK   \n",
       "2               00005746-17ec-449c-9c5c-699a3ea9304a_1  ADD_TO_CART   \n",
       "3               00005746-17ec-449c-9c5c-699a3ea9304a_1       SCROLL   \n",
       "4               00005746-17ec-449c-9c5c-699a3ea9304a_1       SEARCH   \n",
       "...                                                ...          ...   \n",
       "13167722  fffff7cf-2a18-4303-9c12-aa836ae3b543_5353946  ITEM_DETAIL   \n",
       "13167723  fffff7cf-2a18-4303-9c12-aa836ae3b543_5353947       SEARCH   \n",
       "13167724  fffff7cf-2a18-4303-9c12-aa836ae3b543_5353948  ADD_TO_CART   \n",
       "13167725  fffff7cf-2a18-4303-9c12-aa836ae3b543_5353949  ADD_TO_CART   \n",
       "13167726  fffff7cf-2a18-4303-9c12-aa836ae3b543_5353950      BOOKING   \n",
       "\n",
       "          product_id_x                       event_time traffic_source   \n",
       "0                  NaN 2022-03-08 23:17:19.510057+00:00         MOBILE  \\\n",
       "1                  NaN 2022-03-08 23:17:22.510057+00:00         MOBILE   \n",
       "2               9980.0 2022-03-08 23:17:23.510057+00:00         MOBILE   \n",
       "3                  NaN 2022-03-08 23:17:25.510057+00:00         MOBILE   \n",
       "4                  NaN 2022-03-08 23:17:32.510057+00:00         MOBILE   \n",
       "...                ...                              ...            ...   \n",
       "13167722           NaN 2021-02-25 20:37:22.937313+00:00         MOBILE   \n",
       "13167723           NaN 2021-02-25 23:57:56.937313+00:00         MOBILE   \n",
       "13167724       42693.0 2021-02-26 03:20:58.937313+00:00         MOBILE   \n",
       "13167725       20603.0 2021-02-26 06:42:58.937313+00:00         MOBILE   \n",
       "13167726           NaN 2021-02-26 16:52:59.937313+00:00         MOBILE   \n",
       "\n",
       "         payment_status_x search_keywords promo_code_x  promo_amount_x   \n",
       "0                     NaN             NaN          NaN             NaN  \\\n",
       "1                     NaN             NaN          NaN             NaN   \n",
       "2                     NaN             NaN          NaN             NaN   \n",
       "3                     NaN             NaN          NaN             NaN   \n",
       "4                     NaN              셔츠          NaN             NaN   \n",
       "...                   ...             ...          ...             ...   \n",
       "13167722              NaN             NaN          NaN             NaN   \n",
       "13167723              NaN               옷          NaN             NaN   \n",
       "13167724              NaN             NaN          NaN             NaN   \n",
       "13167725              NaN             NaN          NaN             NaN   \n",
       "13167726          Success             NaN          NaN             NaN   \n",
       "\n",
       "          customer_id   next_event                path  \n",
       "0             25255.0        CLICK      HOMEPAGE▶CLICK  \n",
       "1             25255.0  ADD_TO_CART   CLICK▶ADD_TO_CART  \n",
       "2             25255.0       SCROLL  ADD_TO_CART▶SCROLL  \n",
       "3             25255.0       SEARCH       SCROLL▶SEARCH  \n",
       "4             25255.0        CLICK        SEARCH▶CLICK  \n",
       "...               ...          ...                 ...  \n",
       "13167722       2353.0          NaN                 NaN  \n",
       "13167723       2353.0          NaN                 NaN  \n",
       "13167724       2353.0          NaN                 NaN  \n",
       "13167725       2353.0          NaN                 NaN  \n",
       "13167726       2353.0          NaN                 NaN  \n",
       "\n",
       "[7990346 rows x 12 columns]"
      ]
     },
     "execution_count": 34,
     "metadata": {},
     "output_type": "execute_result"
    }
   ],
   "source": [
    "test"
   ]
  },
  {
   "attachments": {},
   "cell_type": "markdown",
   "metadata": {},
   "source": [
    "### 06.19 추가 진행"
   ]
  },
  {
   "cell_type": "code",
   "execution_count": 35,
   "metadata": {},
   "outputs": [],
   "source": [
    "df_BOOKING = test.groupby('new_session_id').filter(lambda x: 'BOOKING' in x['event_name'].values)"
   ]
  },
  {
   "cell_type": "code",
   "execution_count": 42,
   "metadata": {},
   "outputs": [],
   "source": [
    "df_no_BOOKING = test.groupby('new_session_id').filter(lambda x: 'BOOKING' not in x['event_name'].values)"
   ]
  },
  {
   "cell_type": "code",
   "execution_count": 41,
   "metadata": {},
   "outputs": [
    {
     "data": {
      "text/plain": [
       "new_session_id\n",
       "00005746-17ec-449c-9c5c-699a3ea9304a_1          66\n",
       "00007415-e0e7-4a33-95e8-5bc749016876_1          54\n",
       "00008e68-a4d4-4b5d-ab7a-9fbd44f7b7fd_3           1\n",
       "0000a729-3de3-4613-9022-d12b7fa06e75_6           1\n",
       "0000b1a6-8dca-4fb3-b1db-ccde1791a330_28          1\n",
       "                                                ..\n",
       "ffff9ec9-7da3-4061-a02f-6e5d1b9271e9_5353870     1\n",
       "ffffce53-1ba7-4d7d-a14a-ffa7079cfbff_5353885     1\n",
       "ffffd3d9-79db-459e-a427-388204a7aac7_5353900     1\n",
       "ffffdf8e-dea1-42bc-9839-7662675c0d38_5353938     1\n",
       "fffff7cf-2a18-4303-9c12-aa836ae3b543_5353950     1\n",
       "Name: event_time, Length: 531232, dtype: int64"
      ]
     },
     "execution_count": 41,
     "metadata": {},
     "output_type": "execute_result"
    }
   ],
   "source": [
    "df_BOOKING.groupby('new_session_id')['event_time'].count()"
   ]
  },
  {
   "cell_type": "code",
   "execution_count": 50,
   "metadata": {},
   "outputs": [
    {
     "name": "stdout",
     "output_type": "stream",
     "text": [
      "전체 세션 페이지뷰(1개짜리 제외) 3.52\n"
     ]
    }
   ],
   "source": [
    "print('전체 세션 페이지뷰(1개짜리 제외)',round(test.groupby('new_session_id')['event_time'].count().loc[lambda x: x != 1].mean(),2))"
   ]
  },
  {
   "cell_type": "code",
   "execution_count": 53,
   "metadata": {},
   "outputs": [
    {
     "data": {
      "text/plain": [
       "count    826190.000000\n",
       "mean          3.524843\n",
       "std           6.979886\n",
       "min           2.000000\n",
       "25%           2.000000\n",
       "50%           2.000000\n",
       "75%           2.000000\n",
       "max         470.000000\n",
       "Name: event_time, dtype: float64"
      ]
     },
     "execution_count": 53,
     "metadata": {},
     "output_type": "execute_result"
    }
   ],
   "source": [
    "test.groupby('new_session_id')['event_time'].count().loc[lambda x: x != 1].describe()"
   ]
  },
  {
   "cell_type": "code",
   "execution_count": 51,
   "metadata": {},
   "outputs": [
    {
     "name": "stdout",
     "output_type": "stream",
     "text": [
      "예약이 존재하는 세션(1개짜리 제외) 17.69\n"
     ]
    }
   ],
   "source": [
    "print('예약이 존재하는 세션(1개짜리 제외)',round(df_BOOKING.groupby('new_session_id')['event_name'].count().loc[lambda x: x != 1].mean(),2))"
   ]
  },
  {
   "cell_type": "code",
   "execution_count": 54,
   "metadata": {},
   "outputs": [
    {
     "data": {
      "text/plain": [
       "count    46068.000000\n",
       "mean        17.687245\n",
       "std         18.223204\n",
       "min          2.000000\n",
       "25%          7.000000\n",
       "50%         12.000000\n",
       "75%         22.000000\n",
       "max        470.000000\n",
       "Name: event_name, dtype: float64"
      ]
     },
     "execution_count": 54,
     "metadata": {},
     "output_type": "execute_result"
    }
   ],
   "source": [
    "df_BOOKING.groupby('new_session_id')['event_name'].count().loc[lambda x: x != 1].describe()"
   ]
  },
  {
   "cell_type": "code",
   "execution_count": 52,
   "metadata": {},
   "outputs": [
    {
     "name": "stdout",
     "output_type": "stream",
     "text": [
      "예약이 존재하지 않는 세션(1개짜리 제외) 2.69\n"
     ]
    }
   ],
   "source": [
    "print('예약이 존재하지 않는 세션(1개짜리 제외)',round(df_no_BOOKING.groupby('new_session_id')['event_name'].count().loc[lambda x: x != 1].mean(),2))"
   ]
  },
  {
   "cell_type": "code",
   "execution_count": 55,
   "metadata": {},
   "outputs": [
    {
     "data": {
      "text/plain": [
       "count    780122.000000\n",
       "mean          2.688521\n",
       "std           4.409307\n",
       "min           2.000000\n",
       "25%           2.000000\n",
       "50%           2.000000\n",
       "75%           2.000000\n",
       "max         197.000000\n",
       "Name: event_name, dtype: float64"
      ]
     },
     "execution_count": 55,
     "metadata": {},
     "output_type": "execute_result"
    }
   ],
   "source": [
    "df_no_BOOKING.groupby('new_session_id')['event_name'].count().loc[lambda x: x != 1].describe()"
   ]
  },
  {
   "cell_type": "code",
   "execution_count": 47,
   "metadata": {},
   "outputs": [
    {
     "data": {
      "image/png": "[encoded data removed]",
      "text/plain": [
       "<Figure size 640x480 with 1 Axes>"
      ]
     },
     "metadata": {},
     "output_type": "display_data"
    }
   ],
   "source": [
    "# 예약이 존재하는 세션(1개짜리 제외)의 평균 이벤트 수\n",
    "booking_mean = df_BOOKING.groupby('new_session_id')['event_name'].count().loc[lambda x: x != 1].mean()\n",
    "\n",
    "# 예약이 존재하지 않는 세션(1개짜리 제외)의 평균 이벤트 수\n",
    "no_booking_mean = df_no_BOOKING.groupby('new_session_id')['event_name'].count().loc[lambda x: x != 1].mean()\n",
    "\n",
    "# 그래프 그리기\n",
    "fig, ax = plt.subplots()\n",
    "ax.bar(['예약이 존재하는 세션', '예약이 존재하지 않는 세션'], [booking_mean, no_booking_mean], color=['red', 'blue'])\n",
    "ax.set_ylabel('평균 페이지 뷰')\n",
    "ax.set_title('예약이 존재하는 세션 vs. 예약이 존재하지 않는 세션')\n",
    "plt.show()"
   ]
  },
  {
   "cell_type": "code",
   "execution_count": 48,
   "metadata": {},
   "outputs": [
    {
     "data": {
      "text/plain": [
       "event_name\n",
       "BOOKING        531232\n",
       "CLICK          173611\n",
       "HOMEPAGE       162773\n",
       "SCROLL         117028\n",
       "ITEM_DETAIL     91853\n",
       "ADD_TO_CART     89000\n",
       "SEARCH          83633\n",
       "PROMO_PAGE      38613\n",
       "ADD_PROMO       12237\n",
       "Name: count, dtype: int64"
      ]
     },
     "execution_count": 48,
     "metadata": {},
     "output_type": "execute_result"
    }
   ],
   "source": [
    "df_BOOKING['event_name'].value_counts()"
   ]
  },
  {
   "cell_type": "code",
   "execution_count": null,
   "metadata": {},
   "outputs": [],
   "source": [
    "df_BOOKING"
   ]
  }
 ],
 "metadata": {
  "kernelspec": {
   "display_name": "assign",
   "language": "python",
   "name": "python3"
  },
  "language_info": {
   "codemirror_mode": {
    "name": "ipython",
    "version": 3
   },
   "file_extension": ".py",
   "mimetype": "text/x-python",
   "name": "python",
   "nbconvert_exporter": "python",
   "pygments_lexer": "ipython3",
   "version": "3.8.16"
  },
  "orig_nbformat": 4
 },
 "nbformat": 4,
 "nbformat_minor": 2
}
