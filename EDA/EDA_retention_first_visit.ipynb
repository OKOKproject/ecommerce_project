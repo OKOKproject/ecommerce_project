{
 "cells": [
  {
   "cell_type": "code",
   "execution_count": 36,
   "metadata": {},
   "outputs": [],
   "source": [
    "import pandas as pd\n",
    "import matplotlib.pyplot as plt\n",
    "import datetime\n",
    "import seaborn as sns\n",
    "from datetime import timedelta\n",
    "import numpy as np\n",
    "\n",
    "pd.set_option('display.max_columns', None)\n",
    "plt.rcParams['font.family'] = 'Malgun Gothic'\n",
    "plt.rcParams['axes.unicode_minus'] = False\n",
    "colors = sns.color_palette('pastel')"
   ]
  },
  {
   "cell_type": "code",
   "execution_count": 2,
   "metadata": {},
   "outputs": [],
   "source": [
    "df_click = pd.read_csv('C:/Users/mj985/section5/ecommerce_project/EDA/model_new_session_id.csv')\n",
    "df_trans_new = pd.read_csv('C:/Users/mj985/section5/TeamProject2/csv/transaction_new.csv')\n",
    "df_customer = pd.read_csv('C:/Users/mj985/section5/TeamProject2/csv/customer.csv')"
   ]
  },
  {
   "cell_type": "code",
   "execution_count": 3,
   "metadata": {},
   "outputs": [],
   "source": [
    "df_trans_user = df_trans_new.merge(df_customer, on = 'customer_id', how = 'left')"
   ]
  },
  {
   "cell_type": "code",
   "execution_count": 4,
   "metadata": {},
   "outputs": [],
   "source": [
    "df_click = df_click.rename(columns={'session_id': 'new_session_id'})\n",
    "df_click['session_id'] = df_click['new_session_id'].apply(lambda x: x[:36])"
   ]
  },
  {
   "cell_type": "code",
   "execution_count": 5,
   "metadata": {},
   "outputs": [
    {
     "name": "stdout",
     "output_type": "stream",
     "text": [
      "<class 'pandas.core.frame.DataFrame'>\n",
      "RangeIndex: 21130155 entries, 0 to 21130154\n",
      "Data columns (total 43 columns):\n",
      " #   Column                  Dtype              \n",
      "---  ------                  -----              \n",
      " 0   new_session_id          object             \n",
      " 1   event_name              object             \n",
      " 2   event_time              datetime64[ns, UTC]\n",
      " 3   event_id                object             \n",
      " 4   traffic_source          object             \n",
      " 5   product_id_x            float64            \n",
      " 6   quantity_x              float64            \n",
      " 7   item_price_x            float64            \n",
      " 8   payment_status_x        object             \n",
      " 9   search_keywords         object             \n",
      " 10  promo_code_x            object             \n",
      " 11  promo_amount_x          float64            \n",
      " 12  duration_time           object             \n",
      " 13  session_id              object             \n",
      " 14  created_at              object             \n",
      " 15  customer_id             float64            \n",
      " 16  booking_id              object             \n",
      " 17  payment_method          object             \n",
      " 18  payment_status_y        object             \n",
      " 19  promo_amount_y          float64            \n",
      " 20  promo_code_y            object             \n",
      " 21  shipment_fee            float64            \n",
      " 22  shipment_date_limit     object             \n",
      " 23  shipment_location_lat   float64            \n",
      " 24  shipment_location_long  float64            \n",
      " 25  total_amount            float64            \n",
      " 26  product_id_y            float64            \n",
      " 27  quantity_y              float64            \n",
      " 28  item_price_y            float64            \n",
      " 29  first_name              object             \n",
      " 30  last_name               object             \n",
      " 31  username                object             \n",
      " 32  email                   object             \n",
      " 33  gender                  object             \n",
      " 34  birthdate               object             \n",
      " 35  device_type             object             \n",
      " 36  device_id               object             \n",
      " 37  device_version          object             \n",
      " 38  home_location_lat       float64            \n",
      " 39  home_location_long      float64            \n",
      " 40  home_location           object             \n",
      " 41  home_country            object             \n",
      " 42  first_join_date         object             \n",
      "dtypes: datetime64[ns, UTC](1), float64(15), object(27)\n",
      "memory usage: 6.8+ GB\n"
     ]
    }
   ],
   "source": [
    "# session_id 열을 기준으로 df와 df_trans_new를 병합\n",
    "merged_df = pd.merge(df_click, df_trans_user, on='session_id', how='left')\n",
    "merged_df['event_time'] = pd.to_datetime(merged_df['event_time'])\n",
    "merged_df.info()"
   ]
  },
  {
   "cell_type": "code",
   "execution_count": 6,
   "metadata": {},
   "outputs": [],
   "source": [
    "merged_df['first_join_date'] = pd.to_datetime(merged_df['first_join_date'])"
   ]
  },
  {
   "cell_type": "code",
   "execution_count": 7,
   "metadata": {},
   "outputs": [],
   "source": [
    "merged_df = merged_df[['new_session_id', 'event_name', 'product_id_x', 'event_time', 'traffic_source', 'payment_status_x', 'search_keywords', 'promo_code_x', 'promo_amount_x', 'customer_id', 'first_join_date']]"
   ]
  },
  {
   "cell_type": "code",
   "execution_count": 8,
   "metadata": {},
   "outputs": [
    {
     "name": "stdout",
     "output_type": "stream",
     "text": [
      "<class 'pandas.core.frame.DataFrame'>\n",
      "RangeIndex: 21130155 entries, 0 to 21130154\n",
      "Data columns (total 11 columns):\n",
      " #   Column            Dtype              \n",
      "---  ------            -----              \n",
      " 0   new_session_id    object             \n",
      " 1   event_name        object             \n",
      " 2   product_id_x      float64            \n",
      " 3   event_time        datetime64[ns, UTC]\n",
      " 4   traffic_source    object             \n",
      " 5   payment_status_x  object             \n",
      " 6   search_keywords   object             \n",
      " 7   promo_code_x      object             \n",
      " 8   promo_amount_x    float64            \n",
      " 9   customer_id       float64            \n",
      " 10  first_join_date   datetime64[ns]     \n",
      "dtypes: datetime64[ns, UTC](1), datetime64[ns](1), float64(3), object(6)\n",
      "memory usage: 1.7+ GB\n"
     ]
    }
   ],
   "source": [
    "merged_df.info()"
   ]
  },
  {
   "cell_type": "code",
   "execution_count": 9,
   "metadata": {},
   "outputs": [],
   "source": [
    "time_df = merged_df[['customer_id', 'new_session_id', 'event_time', 'first_join_date', 'traffic_source']].drop_duplicates(subset='new_session_id', keep = 'last')"
   ]
  },
  {
   "cell_type": "code",
   "execution_count": 10,
   "metadata": {},
   "outputs": [
    {
     "data": {
      "text/html": [
       "<div>\n",
       "<style scoped>\n",
       "    .dataframe tbody tr th:only-of-type {\n",
       "        vertical-align: middle;\n",
       "    }\n",
       "\n",
       "    .dataframe tbody tr th {\n",
       "        vertical-align: top;\n",
       "    }\n",
       "\n",
       "    .dataframe thead th {\n",
       "        text-align: right;\n",
       "    }\n",
       "</style>\n",
       "<table border=\"1\" class=\"dataframe\">\n",
       "  <thead>\n",
       "    <tr style=\"text-align: right;\">\n",
       "      <th></th>\n",
       "      <th>customer_id</th>\n",
       "      <th>new_session_id</th>\n",
       "      <th>event_time</th>\n",
       "      <th>first_join_date</th>\n",
       "      <th>traffic_source</th>\n",
       "      <th>created_at</th>\n",
       "    </tr>\n",
       "  </thead>\n",
       "  <tbody>\n",
       "    <tr>\n",
       "      <th>0</th>\n",
       "      <td>74433.0</td>\n",
       "      <td>00001f29-3ede-4445-95f0-0178934e32ba_1</td>\n",
       "      <td>2019-05-17 11:51:52.276396+00:00</td>\n",
       "      <td>2017-02-05</td>\n",
       "      <td>MOBILE</td>\n",
       "      <td>2019-05-17</td>\n",
       "    </tr>\n",
       "    <tr>\n",
       "      <th>2</th>\n",
       "      <td>74433.0</td>\n",
       "      <td>00001f29-3ede-4445-95f0-0178934e32ba_2</td>\n",
       "      <td>2019-05-17 19:55:12.276396+00:00</td>\n",
       "      <td>2017-02-05</td>\n",
       "      <td>MOBILE</td>\n",
       "      <td>2019-05-17</td>\n",
       "    </tr>\n",
       "    <tr>\n",
       "      <th>3</th>\n",
       "      <td>74433.0</td>\n",
       "      <td>00001f29-3ede-4445-95f0-0178934e32ba_3</td>\n",
       "      <td>2019-05-18 03:58:25.276396+00:00</td>\n",
       "      <td>2017-02-05</td>\n",
       "      <td>MOBILE</td>\n",
       "      <td>2019-05-18</td>\n",
       "    </tr>\n",
       "    <tr>\n",
       "      <th>4</th>\n",
       "      <td>74433.0</td>\n",
       "      <td>00001f29-3ede-4445-95f0-0178934e32ba_4</td>\n",
       "      <td>2019-05-18 12:02:44.276396+00:00</td>\n",
       "      <td>2017-02-05</td>\n",
       "      <td>MOBILE</td>\n",
       "      <td>2019-05-18</td>\n",
       "    </tr>\n",
       "    <tr>\n",
       "      <th>5</th>\n",
       "      <td>74433.0</td>\n",
       "      <td>00001f29-3ede-4445-95f0-0178934e32ba_5</td>\n",
       "      <td>2019-05-18 20:04:54.276396+00:00</td>\n",
       "      <td>2017-02-05</td>\n",
       "      <td>MOBILE</td>\n",
       "      <td>2019-05-18</td>\n",
       "    </tr>\n",
       "  </tbody>\n",
       "</table>\n",
       "</div>"
      ],
      "text/plain": [
       "   customer_id                          new_session_id   \n",
       "0      74433.0  00001f29-3ede-4445-95f0-0178934e32ba_1  \\\n",
       "2      74433.0  00001f29-3ede-4445-95f0-0178934e32ba_2   \n",
       "3      74433.0  00001f29-3ede-4445-95f0-0178934e32ba_3   \n",
       "4      74433.0  00001f29-3ede-4445-95f0-0178934e32ba_4   \n",
       "5      74433.0  00001f29-3ede-4445-95f0-0178934e32ba_5   \n",
       "\n",
       "                        event_time first_join_date traffic_source  created_at  \n",
       "0 2019-05-17 11:51:52.276396+00:00      2017-02-05         MOBILE  2019-05-17  \n",
       "2 2019-05-17 19:55:12.276396+00:00      2017-02-05         MOBILE  2019-05-17  \n",
       "3 2019-05-18 03:58:25.276396+00:00      2017-02-05         MOBILE  2019-05-18  \n",
       "4 2019-05-18 12:02:44.276396+00:00      2017-02-05         MOBILE  2019-05-18  \n",
       "5 2019-05-18 20:04:54.276396+00:00      2017-02-05         MOBILE  2019-05-18  "
      ]
     },
     "execution_count": 10,
     "metadata": {},
     "output_type": "execute_result"
    }
   ],
   "source": [
    "time_df['created_at'] = time_df['event_time'].dt.strftime('%Y-%m-%d')\n",
    "time_df.head(5)"
   ]
  },
  {
   "cell_type": "code",
   "execution_count": 12,
   "metadata": {},
   "outputs": [],
   "source": [
    "time_df = time_df.groupby(['customer_id', 'created_at'])[['first_join_date','new_session_id']].first().reset_index()"
   ]
  },
  {
   "cell_type": "code",
   "execution_count": 13,
   "metadata": {},
   "outputs": [],
   "source": [
    "time_df['created_at'] = pd.to_datetime(time_df['created_at'])"
   ]
  },
  {
   "cell_type": "code",
   "execution_count": 14,
   "metadata": {},
   "outputs": [
    {
     "data": {
      "text/plain": [
       "count                        4389880\n",
       "mean     634 days 10:27:55.405432472\n",
       "std      486 days 19:40:19.969058768\n",
       "min                -1 days +00:00:00\n",
       "25%                229 days 00:00:00\n",
       "50%                525 days 00:00:00\n",
       "75%                956 days 00:00:00\n",
       "max               2217 days 00:00:00\n",
       "Name: diff, dtype: object"
      ]
     },
     "execution_count": 14,
     "metadata": {},
     "output_type": "execute_result"
    }
   ],
   "source": [
    "time_df['diff'] = time_df['created_at'] - time_df['first_join_date']\n",
    "time_df['diff'].describe()"
   ]
  },
  {
   "cell_type": "code",
   "execution_count": 15,
   "metadata": {},
   "outputs": [
    {
     "data": {
      "text/html": [
       "<div>\n",
       "<style scoped>\n",
       "    .dataframe tbody tr th:only-of-type {\n",
       "        vertical-align: middle;\n",
       "    }\n",
       "\n",
       "    .dataframe tbody tr th {\n",
       "        vertical-align: top;\n",
       "    }\n",
       "\n",
       "    .dataframe thead th {\n",
       "        text-align: right;\n",
       "    }\n",
       "</style>\n",
       "<table border=\"1\" class=\"dataframe\">\n",
       "  <thead>\n",
       "    <tr style=\"text-align: right;\">\n",
       "      <th></th>\n",
       "      <th>customer_id</th>\n",
       "      <th>created_at</th>\n",
       "      <th>first_join_date</th>\n",
       "      <th>new_session_id</th>\n",
       "      <th>diff</th>\n",
       "    </tr>\n",
       "  </thead>\n",
       "  <tbody>\n",
       "    <tr>\n",
       "      <th>0</th>\n",
       "      <td>3.0</td>\n",
       "      <td>2018-08-25</td>\n",
       "      <td>2018-08-25</td>\n",
       "      <td>f03b6825-1e6e-4916-bf71-f94ecbcbaee5_7952132</td>\n",
       "      <td>0 days</td>\n",
       "    </tr>\n",
       "    <tr>\n",
       "      <th>1</th>\n",
       "      <td>3.0</td>\n",
       "      <td>2018-09-18</td>\n",
       "      <td>2018-08-25</td>\n",
       "      <td>36673b2f-940a-42b5-994d-1cce4796b55f_1792149</td>\n",
       "      <td>24 days</td>\n",
       "    </tr>\n",
       "    <tr>\n",
       "      <th>2</th>\n",
       "      <td>3.0</td>\n",
       "      <td>2018-09-19</td>\n",
       "      <td>2018-08-25</td>\n",
       "      <td>36673b2f-940a-42b5-994d-1cce4796b55f_1792150</td>\n",
       "      <td>25 days</td>\n",
       "    </tr>\n",
       "    <tr>\n",
       "      <th>3</th>\n",
       "      <td>3.0</td>\n",
       "      <td>2018-09-20</td>\n",
       "      <td>2018-08-25</td>\n",
       "      <td>36673b2f-940a-42b5-994d-1cce4796b55f_1792151</td>\n",
       "      <td>26 days</td>\n",
       "    </tr>\n",
       "    <tr>\n",
       "      <th>4</th>\n",
       "      <td>3.0</td>\n",
       "      <td>2018-09-22</td>\n",
       "      <td>2018-08-25</td>\n",
       "      <td>36673b2f-940a-42b5-994d-1cce4796b55f_1792152</td>\n",
       "      <td>28 days</td>\n",
       "    </tr>\n",
       "    <tr>\n",
       "      <th>...</th>\n",
       "      <td>...</td>\n",
       "      <td>...</td>\n",
       "      <td>...</td>\n",
       "      <td>...</td>\n",
       "      <td>...</td>\n",
       "    </tr>\n",
       "    <tr>\n",
       "      <th>4389875</th>\n",
       "      <td>99998.0</td>\n",
       "      <td>2022-01-09</td>\n",
       "      <td>2018-07-01</td>\n",
       "      <td>4fc4d81b-4b29-4aef-bd1f-263c373950d1_2625126</td>\n",
       "      <td>1288 days</td>\n",
       "    </tr>\n",
       "    <tr>\n",
       "      <th>4389876</th>\n",
       "      <td>99998.0</td>\n",
       "      <td>2022-01-11</td>\n",
       "      <td>2018-07-01</td>\n",
       "      <td>4fc4d81b-4b29-4aef-bd1f-263c373950d1_2625127</td>\n",
       "      <td>1290 days</td>\n",
       "    </tr>\n",
       "    <tr>\n",
       "      <th>4389877</th>\n",
       "      <td>99998.0</td>\n",
       "      <td>2022-01-12</td>\n",
       "      <td>2018-07-01</td>\n",
       "      <td>4fc4d81b-4b29-4aef-bd1f-263c373950d1_2625128</td>\n",
       "      <td>1291 days</td>\n",
       "    </tr>\n",
       "    <tr>\n",
       "      <th>4389878</th>\n",
       "      <td>99998.0</td>\n",
       "      <td>2022-01-25</td>\n",
       "      <td>2018-07-01</td>\n",
       "      <td>4fc4d81b-4b29-4aef-bd1f-263c373950d1_2625129</td>\n",
       "      <td>1304 days</td>\n",
       "    </tr>\n",
       "    <tr>\n",
       "      <th>4389879</th>\n",
       "      <td>99999.0</td>\n",
       "      <td>2016-10-12</td>\n",
       "      <td>2016-10-12</td>\n",
       "      <td>0d388e45-49fc-44e1-9211-1a42db40f7ec_435770</td>\n",
       "      <td>0 days</td>\n",
       "    </tr>\n",
       "  </tbody>\n",
       "</table>\n",
       "<p>4389880 rows × 5 columns</p>\n",
       "</div>"
      ],
      "text/plain": [
       "         customer_id created_at first_join_date   \n",
       "0                3.0 2018-08-25      2018-08-25  \\\n",
       "1                3.0 2018-09-18      2018-08-25   \n",
       "2                3.0 2018-09-19      2018-08-25   \n",
       "3                3.0 2018-09-20      2018-08-25   \n",
       "4                3.0 2018-09-22      2018-08-25   \n",
       "...              ...        ...             ...   \n",
       "4389875      99998.0 2022-01-09      2018-07-01   \n",
       "4389876      99998.0 2022-01-11      2018-07-01   \n",
       "4389877      99998.0 2022-01-12      2018-07-01   \n",
       "4389878      99998.0 2022-01-25      2018-07-01   \n",
       "4389879      99999.0 2016-10-12      2016-10-12   \n",
       "\n",
       "                                       new_session_id      diff  \n",
       "0        f03b6825-1e6e-4916-bf71-f94ecbcbaee5_7952132    0 days  \n",
       "1        36673b2f-940a-42b5-994d-1cce4796b55f_1792149   24 days  \n",
       "2        36673b2f-940a-42b5-994d-1cce4796b55f_1792150   25 days  \n",
       "3        36673b2f-940a-42b5-994d-1cce4796b55f_1792151   26 days  \n",
       "4        36673b2f-940a-42b5-994d-1cce4796b55f_1792152   28 days  \n",
       "...                                               ...       ...  \n",
       "4389875  4fc4d81b-4b29-4aef-bd1f-263c373950d1_2625126 1288 days  \n",
       "4389876  4fc4d81b-4b29-4aef-bd1f-263c373950d1_2625127 1290 days  \n",
       "4389877  4fc4d81b-4b29-4aef-bd1f-263c373950d1_2625128 1291 days  \n",
       "4389878  4fc4d81b-4b29-4aef-bd1f-263c373950d1_2625129 1304 days  \n",
       "4389879   0d388e45-49fc-44e1-9211-1a42db40f7ec_435770    0 days  \n",
       "\n",
       "[4389880 rows x 5 columns]"
      ]
     },
     "execution_count": 15,
     "metadata": {},
     "output_type": "execute_result"
    }
   ],
   "source": [
    "time_df"
   ]
  },
  {
   "cell_type": "code",
   "execution_count": 16,
   "metadata": {},
   "outputs": [
    {
     "name": "stdout",
     "output_type": "stream",
     "text": [
      "<class 'pandas.core.frame.DataFrame'>\n",
      "RangeIndex: 4389880 entries, 0 to 4389879\n",
      "Data columns (total 5 columns):\n",
      " #   Column           Dtype          \n",
      "---  ------           -----          \n",
      " 0   customer_id      float64        \n",
      " 1   created_at       datetime64[ns] \n",
      " 2   first_join_date  datetime64[ns] \n",
      " 3   new_session_id   object         \n",
      " 4   diff             timedelta64[ns]\n",
      "dtypes: datetime64[ns](2), float64(1), object(1), timedelta64[ns](1)\n",
      "memory usage: 167.5+ MB\n"
     ]
    }
   ],
   "source": [
    "time_df.info()"
   ]
  },
  {
   "cell_type": "code",
   "execution_count": 17,
   "metadata": {},
   "outputs": [
    {
     "data": {
      "image/png": "[encoded data removed]",
      "text/plain": [
       "<Figure size 640x480 with 1 Axes>"
      ]
     },
     "metadata": {},
     "output_type": "display_data"
    }
   ],
   "source": [
    "# 데이터프레임에서 diff칼럼을 이용해 시간차이에 따른 행의 수를 구합니다.\n",
    "count_df = time_df.groupby(pd.Grouper(key='diff', freq='D')).size().reset_index(name='counts')\n",
    "\n",
    "# diff가 1 day인 행을 제외합니다.\n",
    "count_df = count_df[count_df['diff'] != pd.Timedelta(days=1)]\n",
    "\n",
    "# counts 칼럼에서 최대값을 구합니다.\n",
    "max_count = count_df['counts'].max()\n",
    "\n",
    "# 그래프를 그립니다.\n",
    "plt.title(\"방문까지 시간\")\n",
    "plt.plot(count_df['diff'].dt.days, count_df['counts'])\n",
    "plt.xlabel('Time Difference (days)')\n",
    "plt.ylabel('Count')\n",
    "plt.ylim(top=max_count*1.1)\n",
    "plt.show()"
   ]
  },
  {
   "cell_type": "code",
   "execution_count": 18,
   "metadata": {},
   "outputs": [
    {
     "data": {
      "image/png": "[encoded data removed]",
      "text/plain": [
       "<Figure size 640x480 with 1 Axes>"
      ]
     },
     "metadata": {},
     "output_type": "display_data"
    }
   ],
   "source": [
    "# 데이터프레임에서 diff칼럼을 이용해 시간차이에 따른 행의 수를 구합니다.\n",
    "count_df = time_df.groupby(pd.Grouper(key='diff', freq='D')).size().reset_index(name='counts')\n",
    "\n",
    "# diff가 1 day인 행을 제외합니다.\n",
    "count_df = count_df[count_df['diff'] != pd.Timedelta(days=1)]\n",
    "\n",
    "# counts 칼럼에서 최대값을 구합니다.\n",
    "max_count = count_df['counts'].max()\n",
    "\n",
    "# 그래프를 그립니다.\n",
    "plt.title(\"방문까지 시간\")\n",
    "plt.plot(count_df['diff'].dt.days, count_df['counts'])\n",
    "plt.xlabel('Time Difference (days)')\n",
    "plt.ylabel('Count')\n",
    "plt.ylim(top=max_count*1.1)\n",
    "\n",
    "# x축 범위를 0부터 500까지로 설정합니다.\n",
    "plt.xlim(left=0, right=500)\n",
    "plt.show()\n"
   ]
  },
  {
   "cell_type": "code",
   "execution_count": 19,
   "metadata": {},
   "outputs": [],
   "source": [
    "# 함수 정의\n",
    "def calculate_time_diff(group):\n",
    "    # 첫번째 행은 created_at과 first_join_date의 시간 차이를 구합니다.\n",
    "    group['diff'] = group['created_at'] - group['first_join_date']\n",
    "    \n",
    "    # 두번째 행부터 이전 행과의 created_at 칼럼의 시간차이를 구합니다.\n",
    "    group['diff'] = group['diff'].diff().fillna(pd.Timedelta(seconds=0))\n",
    "    \n",
    "    return group\n",
    "\n",
    "# customer_id로 그룹화한 후 apply 함수를 사용하여 calculate_time_diff 함수를 적용합니다.\n",
    "check_df = time_df.groupby('customer_id').apply(calculate_time_diff)"
   ]
  },
  {
   "cell_type": "code",
   "execution_count": 20,
   "metadata": {},
   "outputs": [
    {
     "data": {
      "text/html": [
       "<div>\n",
       "<style scoped>\n",
       "    .dataframe tbody tr th:only-of-type {\n",
       "        vertical-align: middle;\n",
       "    }\n",
       "\n",
       "    .dataframe tbody tr th {\n",
       "        vertical-align: top;\n",
       "    }\n",
       "\n",
       "    .dataframe thead th {\n",
       "        text-align: right;\n",
       "    }\n",
       "</style>\n",
       "<table border=\"1\" class=\"dataframe\">\n",
       "  <thead>\n",
       "    <tr style=\"text-align: right;\">\n",
       "      <th></th>\n",
       "      <th></th>\n",
       "      <th>customer_id</th>\n",
       "      <th>created_at</th>\n",
       "      <th>first_join_date</th>\n",
       "      <th>new_session_id</th>\n",
       "      <th>diff</th>\n",
       "    </tr>\n",
       "    <tr>\n",
       "      <th>customer_id</th>\n",
       "      <th></th>\n",
       "      <th></th>\n",
       "      <th></th>\n",
       "      <th></th>\n",
       "      <th></th>\n",
       "      <th></th>\n",
       "    </tr>\n",
       "  </thead>\n",
       "  <tbody>\n",
       "    <tr>\n",
       "      <th rowspan=\"19\" valign=\"top\">99998.0</th>\n",
       "      <th>4389860</th>\n",
       "      <td>99998.0</td>\n",
       "      <td>2021-12-20</td>\n",
       "      <td>2018-07-01</td>\n",
       "      <td>4fc4d81b-4b29-4aef-bd1f-263c373950d1_2625111</td>\n",
       "      <td>151 days</td>\n",
       "    </tr>\n",
       "    <tr>\n",
       "      <th>4389861</th>\n",
       "      <td>99998.0</td>\n",
       "      <td>2021-12-21</td>\n",
       "      <td>2018-07-01</td>\n",
       "      <td>4fc4d81b-4b29-4aef-bd1f-263c373950d1_2625112</td>\n",
       "      <td>1 days</td>\n",
       "    </tr>\n",
       "    <tr>\n",
       "      <th>4389862</th>\n",
       "      <td>99998.0</td>\n",
       "      <td>2021-12-22</td>\n",
       "      <td>2018-07-01</td>\n",
       "      <td>4fc4d81b-4b29-4aef-bd1f-263c373950d1_2625113</td>\n",
       "      <td>1 days</td>\n",
       "    </tr>\n",
       "    <tr>\n",
       "      <th>4389863</th>\n",
       "      <td>99998.0</td>\n",
       "      <td>2021-12-24</td>\n",
       "      <td>2018-07-01</td>\n",
       "      <td>4fc4d81b-4b29-4aef-bd1f-263c373950d1_2625114</td>\n",
       "      <td>2 days</td>\n",
       "    </tr>\n",
       "    <tr>\n",
       "      <th>4389864</th>\n",
       "      <td>99998.0</td>\n",
       "      <td>2021-12-25</td>\n",
       "      <td>2018-07-01</td>\n",
       "      <td>4fc4d81b-4b29-4aef-bd1f-263c373950d1_2625115</td>\n",
       "      <td>1 days</td>\n",
       "    </tr>\n",
       "    <tr>\n",
       "      <th>4389865</th>\n",
       "      <td>99998.0</td>\n",
       "      <td>2021-12-27</td>\n",
       "      <td>2018-07-01</td>\n",
       "      <td>4fc4d81b-4b29-4aef-bd1f-263c373950d1_2625116</td>\n",
       "      <td>2 days</td>\n",
       "    </tr>\n",
       "    <tr>\n",
       "      <th>4389866</th>\n",
       "      <td>99998.0</td>\n",
       "      <td>2021-12-28</td>\n",
       "      <td>2018-07-01</td>\n",
       "      <td>4fc4d81b-4b29-4aef-bd1f-263c373950d1_2625117</td>\n",
       "      <td>1 days</td>\n",
       "    </tr>\n",
       "    <tr>\n",
       "      <th>4389867</th>\n",
       "      <td>99998.0</td>\n",
       "      <td>2021-12-29</td>\n",
       "      <td>2018-07-01</td>\n",
       "      <td>4fc4d81b-4b29-4aef-bd1f-263c373950d1_2625118</td>\n",
       "      <td>1 days</td>\n",
       "    </tr>\n",
       "    <tr>\n",
       "      <th>4389868</th>\n",
       "      <td>99998.0</td>\n",
       "      <td>2021-12-31</td>\n",
       "      <td>2018-07-01</td>\n",
       "      <td>4fc4d81b-4b29-4aef-bd1f-263c373950d1_2625119</td>\n",
       "      <td>2 days</td>\n",
       "    </tr>\n",
       "    <tr>\n",
       "      <th>4389869</th>\n",
       "      <td>99998.0</td>\n",
       "      <td>2022-01-01</td>\n",
       "      <td>2018-07-01</td>\n",
       "      <td>4fc4d81b-4b29-4aef-bd1f-263c373950d1_2625120</td>\n",
       "      <td>1 days</td>\n",
       "    </tr>\n",
       "    <tr>\n",
       "      <th>4389870</th>\n",
       "      <td>99998.0</td>\n",
       "      <td>2022-01-02</td>\n",
       "      <td>2018-07-01</td>\n",
       "      <td>4fc4d81b-4b29-4aef-bd1f-263c373950d1_2625121</td>\n",
       "      <td>1 days</td>\n",
       "    </tr>\n",
       "    <tr>\n",
       "      <th>4389871</th>\n",
       "      <td>99998.0</td>\n",
       "      <td>2022-01-04</td>\n",
       "      <td>2018-07-01</td>\n",
       "      <td>4fc4d81b-4b29-4aef-bd1f-263c373950d1_2625122</td>\n",
       "      <td>2 days</td>\n",
       "    </tr>\n",
       "    <tr>\n",
       "      <th>4389872</th>\n",
       "      <td>99998.0</td>\n",
       "      <td>2022-01-05</td>\n",
       "      <td>2018-07-01</td>\n",
       "      <td>4fc4d81b-4b29-4aef-bd1f-263c373950d1_2625123</td>\n",
       "      <td>1 days</td>\n",
       "    </tr>\n",
       "    <tr>\n",
       "      <th>4389873</th>\n",
       "      <td>99998.0</td>\n",
       "      <td>2022-01-07</td>\n",
       "      <td>2018-07-01</td>\n",
       "      <td>4fc4d81b-4b29-4aef-bd1f-263c373950d1_2625124</td>\n",
       "      <td>2 days</td>\n",
       "    </tr>\n",
       "    <tr>\n",
       "      <th>4389874</th>\n",
       "      <td>99998.0</td>\n",
       "      <td>2022-01-08</td>\n",
       "      <td>2018-07-01</td>\n",
       "      <td>4fc4d81b-4b29-4aef-bd1f-263c373950d1_2625125</td>\n",
       "      <td>1 days</td>\n",
       "    </tr>\n",
       "    <tr>\n",
       "      <th>4389875</th>\n",
       "      <td>99998.0</td>\n",
       "      <td>2022-01-09</td>\n",
       "      <td>2018-07-01</td>\n",
       "      <td>4fc4d81b-4b29-4aef-bd1f-263c373950d1_2625126</td>\n",
       "      <td>1 days</td>\n",
       "    </tr>\n",
       "    <tr>\n",
       "      <th>4389876</th>\n",
       "      <td>99998.0</td>\n",
       "      <td>2022-01-11</td>\n",
       "      <td>2018-07-01</td>\n",
       "      <td>4fc4d81b-4b29-4aef-bd1f-263c373950d1_2625127</td>\n",
       "      <td>2 days</td>\n",
       "    </tr>\n",
       "    <tr>\n",
       "      <th>4389877</th>\n",
       "      <td>99998.0</td>\n",
       "      <td>2022-01-12</td>\n",
       "      <td>2018-07-01</td>\n",
       "      <td>4fc4d81b-4b29-4aef-bd1f-263c373950d1_2625128</td>\n",
       "      <td>1 days</td>\n",
       "    </tr>\n",
       "    <tr>\n",
       "      <th>4389878</th>\n",
       "      <td>99998.0</td>\n",
       "      <td>2022-01-25</td>\n",
       "      <td>2018-07-01</td>\n",
       "      <td>4fc4d81b-4b29-4aef-bd1f-263c373950d1_2625129</td>\n",
       "      <td>13 days</td>\n",
       "    </tr>\n",
       "    <tr>\n",
       "      <th>99999.0</th>\n",
       "      <th>4389879</th>\n",
       "      <td>99999.0</td>\n",
       "      <td>2016-10-12</td>\n",
       "      <td>2016-10-12</td>\n",
       "      <td>0d388e45-49fc-44e1-9211-1a42db40f7ec_435770</td>\n",
       "      <td>0 days</td>\n",
       "    </tr>\n",
       "  </tbody>\n",
       "</table>\n",
       "</div>"
      ],
      "text/plain": [
       "                     customer_id created_at first_join_date   \n",
       "customer_id                                                   \n",
       "99998.0     4389860      99998.0 2021-12-20      2018-07-01  \\\n",
       "            4389861      99998.0 2021-12-21      2018-07-01   \n",
       "            4389862      99998.0 2021-12-22      2018-07-01   \n",
       "            4389863      99998.0 2021-12-24      2018-07-01   \n",
       "            4389864      99998.0 2021-12-25      2018-07-01   \n",
       "            4389865      99998.0 2021-12-27      2018-07-01   \n",
       "            4389866      99998.0 2021-12-28      2018-07-01   \n",
       "            4389867      99998.0 2021-12-29      2018-07-01   \n",
       "            4389868      99998.0 2021-12-31      2018-07-01   \n",
       "            4389869      99998.0 2022-01-01      2018-07-01   \n",
       "            4389870      99998.0 2022-01-02      2018-07-01   \n",
       "            4389871      99998.0 2022-01-04      2018-07-01   \n",
       "            4389872      99998.0 2022-01-05      2018-07-01   \n",
       "            4389873      99998.0 2022-01-07      2018-07-01   \n",
       "            4389874      99998.0 2022-01-08      2018-07-01   \n",
       "            4389875      99998.0 2022-01-09      2018-07-01   \n",
       "            4389876      99998.0 2022-01-11      2018-07-01   \n",
       "            4389877      99998.0 2022-01-12      2018-07-01   \n",
       "            4389878      99998.0 2022-01-25      2018-07-01   \n",
       "99999.0     4389879      99999.0 2016-10-12      2016-10-12   \n",
       "\n",
       "                                                   new_session_id     diff  \n",
       "customer_id                                                                 \n",
       "99998.0     4389860  4fc4d81b-4b29-4aef-bd1f-263c373950d1_2625111 151 days  \n",
       "            4389861  4fc4d81b-4b29-4aef-bd1f-263c373950d1_2625112   1 days  \n",
       "            4389862  4fc4d81b-4b29-4aef-bd1f-263c373950d1_2625113   1 days  \n",
       "            4389863  4fc4d81b-4b29-4aef-bd1f-263c373950d1_2625114   2 days  \n",
       "            4389864  4fc4d81b-4b29-4aef-bd1f-263c373950d1_2625115   1 days  \n",
       "            4389865  4fc4d81b-4b29-4aef-bd1f-263c373950d1_2625116   2 days  \n",
       "            4389866  4fc4d81b-4b29-4aef-bd1f-263c373950d1_2625117   1 days  \n",
       "            4389867  4fc4d81b-4b29-4aef-bd1f-263c373950d1_2625118   1 days  \n",
       "            4389868  4fc4d81b-4b29-4aef-bd1f-263c373950d1_2625119   2 days  \n",
       "            4389869  4fc4d81b-4b29-4aef-bd1f-263c373950d1_2625120   1 days  \n",
       "            4389870  4fc4d81b-4b29-4aef-bd1f-263c373950d1_2625121   1 days  \n",
       "            4389871  4fc4d81b-4b29-4aef-bd1f-263c373950d1_2625122   2 days  \n",
       "            4389872  4fc4d81b-4b29-4aef-bd1f-263c373950d1_2625123   1 days  \n",
       "            4389873  4fc4d81b-4b29-4aef-bd1f-263c373950d1_2625124   2 days  \n",
       "            4389874  4fc4d81b-4b29-4aef-bd1f-263c373950d1_2625125   1 days  \n",
       "            4389875  4fc4d81b-4b29-4aef-bd1f-263c373950d1_2625126   1 days  \n",
       "            4389876  4fc4d81b-4b29-4aef-bd1f-263c373950d1_2625127   2 days  \n",
       "            4389877  4fc4d81b-4b29-4aef-bd1f-263c373950d1_2625128   1 days  \n",
       "            4389878  4fc4d81b-4b29-4aef-bd1f-263c373950d1_2625129  13 days  \n",
       "99999.0     4389879   0d388e45-49fc-44e1-9211-1a42db40f7ec_435770   0 days  "
      ]
     },
     "execution_count": 20,
     "metadata": {},
     "output_type": "execute_result"
    }
   ],
   "source": [
    "check_df.tail(20)"
   ]
  },
  {
   "cell_type": "code",
   "execution_count": 21,
   "metadata": {},
   "outputs": [],
   "source": [
    "check_df = check_df.reset_index(level=0, drop=True)"
   ]
  },
  {
   "cell_type": "code",
   "execution_count": 22,
   "metadata": {},
   "outputs": [
    {
     "data": {
      "text/html": [
       "<div>\n",
       "<style scoped>\n",
       "    .dataframe tbody tr th:only-of-type {\n",
       "        vertical-align: middle;\n",
       "    }\n",
       "\n",
       "    .dataframe tbody tr th {\n",
       "        vertical-align: top;\n",
       "    }\n",
       "\n",
       "    .dataframe thead th {\n",
       "        text-align: right;\n",
       "    }\n",
       "</style>\n",
       "<table border=\"1\" class=\"dataframe\">\n",
       "  <thead>\n",
       "    <tr style=\"text-align: right;\">\n",
       "      <th></th>\n",
       "      <th>customer_id</th>\n",
       "      <th>created_at</th>\n",
       "      <th>first_join_date</th>\n",
       "      <th>new_session_id</th>\n",
       "      <th>diff</th>\n",
       "    </tr>\n",
       "  </thead>\n",
       "  <tbody>\n",
       "    <tr>\n",
       "      <th>0</th>\n",
       "      <td>3.0</td>\n",
       "      <td>2018-08-25</td>\n",
       "      <td>2018-08-25</td>\n",
       "      <td>f03b6825-1e6e-4916-bf71-f94ecbcbaee5_7952132</td>\n",
       "      <td>0 days</td>\n",
       "    </tr>\n",
       "    <tr>\n",
       "      <th>1</th>\n",
       "      <td>3.0</td>\n",
       "      <td>2018-09-18</td>\n",
       "      <td>2018-08-25</td>\n",
       "      <td>36673b2f-940a-42b5-994d-1cce4796b55f_1792149</td>\n",
       "      <td>24 days</td>\n",
       "    </tr>\n",
       "    <tr>\n",
       "      <th>2</th>\n",
       "      <td>3.0</td>\n",
       "      <td>2018-09-19</td>\n",
       "      <td>2018-08-25</td>\n",
       "      <td>36673b2f-940a-42b5-994d-1cce4796b55f_1792150</td>\n",
       "      <td>1 days</td>\n",
       "    </tr>\n",
       "    <tr>\n",
       "      <th>3</th>\n",
       "      <td>3.0</td>\n",
       "      <td>2018-09-20</td>\n",
       "      <td>2018-08-25</td>\n",
       "      <td>36673b2f-940a-42b5-994d-1cce4796b55f_1792151</td>\n",
       "      <td>1 days</td>\n",
       "    </tr>\n",
       "    <tr>\n",
       "      <th>4</th>\n",
       "      <td>3.0</td>\n",
       "      <td>2018-09-22</td>\n",
       "      <td>2018-08-25</td>\n",
       "      <td>36673b2f-940a-42b5-994d-1cce4796b55f_1792152</td>\n",
       "      <td>2 days</td>\n",
       "    </tr>\n",
       "  </tbody>\n",
       "</table>\n",
       "</div>"
      ],
      "text/plain": [
       "   customer_id created_at first_join_date   \n",
       "0          3.0 2018-08-25      2018-08-25  \\\n",
       "1          3.0 2018-09-18      2018-08-25   \n",
       "2          3.0 2018-09-19      2018-08-25   \n",
       "3          3.0 2018-09-20      2018-08-25   \n",
       "4          3.0 2018-09-22      2018-08-25   \n",
       "\n",
       "                                 new_session_id    diff  \n",
       "0  f03b6825-1e6e-4916-bf71-f94ecbcbaee5_7952132  0 days  \n",
       "1  36673b2f-940a-42b5-994d-1cce4796b55f_1792149 24 days  \n",
       "2  36673b2f-940a-42b5-994d-1cce4796b55f_1792150  1 days  \n",
       "3  36673b2f-940a-42b5-994d-1cce4796b55f_1792151  1 days  \n",
       "4  36673b2f-940a-42b5-994d-1cce4796b55f_1792152  2 days  "
      ]
     },
     "execution_count": 22,
     "metadata": {},
     "output_type": "execute_result"
    }
   ],
   "source": [
    "check_df.head(5)"
   ]
  },
  {
   "cell_type": "code",
   "execution_count": 23,
   "metadata": {},
   "outputs": [],
   "source": [
    "first_rows = check_df.groupby('customer_id').first()"
   ]
  },
  {
   "cell_type": "code",
   "execution_count": 24,
   "metadata": {},
   "outputs": [
    {
     "data": {
      "text/plain": [
       "count              50704\n",
       "mean     0 days 00:00:00\n",
       "std      0 days 00:00:00\n",
       "min      0 days 00:00:00\n",
       "25%      0 days 00:00:00\n",
       "50%      0 days 00:00:00\n",
       "75%      0 days 00:00:00\n",
       "max      0 days 00:00:00\n",
       "Name: diff, dtype: object"
      ]
     },
     "execution_count": 24,
     "metadata": {},
     "output_type": "execute_result"
    }
   ],
   "source": [
    "first_rows['diff'].describe()"
   ]
  },
  {
   "cell_type": "code",
   "execution_count": 25,
   "metadata": {},
   "outputs": [
    {
     "data": {
      "text/plain": [
       "(4389880, 5)"
      ]
     },
     "execution_count": 25,
     "metadata": {},
     "output_type": "execute_result"
    }
   ],
   "source": [
    "time_df.shape"
   ]
  },
  {
   "cell_type": "code",
   "execution_count": 26,
   "metadata": {},
   "outputs": [],
   "source": [
    "# customer_id별 첫 번째 행 추출\n",
    "first_rows = check_df.groupby('customer_id').nth(0)\n",
    "\n",
    "# 첫 번째 행 드롭\n",
    "check_df = check_df.drop(first_rows.index)"
   ]
  },
  {
   "cell_type": "code",
   "execution_count": 27,
   "metadata": {},
   "outputs": [
    {
     "data": {
      "text/html": [
       "<div>\n",
       "<style scoped>\n",
       "    .dataframe tbody tr th:only-of-type {\n",
       "        vertical-align: middle;\n",
       "    }\n",
       "\n",
       "    .dataframe tbody tr th {\n",
       "        vertical-align: top;\n",
       "    }\n",
       "\n",
       "    .dataframe thead th {\n",
       "        text-align: right;\n",
       "    }\n",
       "</style>\n",
       "<table border=\"1\" class=\"dataframe\">\n",
       "  <thead>\n",
       "    <tr style=\"text-align: right;\">\n",
       "      <th></th>\n",
       "      <th>customer_id</th>\n",
       "      <th>created_at</th>\n",
       "      <th>first_join_date</th>\n",
       "      <th>new_session_id</th>\n",
       "      <th>diff</th>\n",
       "    </tr>\n",
       "  </thead>\n",
       "  <tbody>\n",
       "    <tr>\n",
       "      <th>1</th>\n",
       "      <td>3.0</td>\n",
       "      <td>2018-09-18</td>\n",
       "      <td>2018-08-25</td>\n",
       "      <td>36673b2f-940a-42b5-994d-1cce4796b55f_1792149</td>\n",
       "      <td>24 days</td>\n",
       "    </tr>\n",
       "    <tr>\n",
       "      <th>2</th>\n",
       "      <td>3.0</td>\n",
       "      <td>2018-09-19</td>\n",
       "      <td>2018-08-25</td>\n",
       "      <td>36673b2f-940a-42b5-994d-1cce4796b55f_1792150</td>\n",
       "      <td>1 days</td>\n",
       "    </tr>\n",
       "    <tr>\n",
       "      <th>3</th>\n",
       "      <td>3.0</td>\n",
       "      <td>2018-09-20</td>\n",
       "      <td>2018-08-25</td>\n",
       "      <td>36673b2f-940a-42b5-994d-1cce4796b55f_1792151</td>\n",
       "      <td>1 days</td>\n",
       "    </tr>\n",
       "    <tr>\n",
       "      <th>4</th>\n",
       "      <td>3.0</td>\n",
       "      <td>2018-09-22</td>\n",
       "      <td>2018-08-25</td>\n",
       "      <td>36673b2f-940a-42b5-994d-1cce4796b55f_1792152</td>\n",
       "      <td>2 days</td>\n",
       "    </tr>\n",
       "    <tr>\n",
       "      <th>5</th>\n",
       "      <td>3.0</td>\n",
       "      <td>2018-10-05</td>\n",
       "      <td>2018-08-25</td>\n",
       "      <td>93e1d3c4-bed1-4ef4-b79f-e24a79e905b7_4883279</td>\n",
       "      <td>13 days</td>\n",
       "    </tr>\n",
       "  </tbody>\n",
       "</table>\n",
       "</div>"
      ],
      "text/plain": [
       "   customer_id created_at first_join_date   \n",
       "1          3.0 2018-09-18      2018-08-25  \\\n",
       "2          3.0 2018-09-19      2018-08-25   \n",
       "3          3.0 2018-09-20      2018-08-25   \n",
       "4          3.0 2018-09-22      2018-08-25   \n",
       "5          3.0 2018-10-05      2018-08-25   \n",
       "\n",
       "                                 new_session_id    diff  \n",
       "1  36673b2f-940a-42b5-994d-1cce4796b55f_1792149 24 days  \n",
       "2  36673b2f-940a-42b5-994d-1cce4796b55f_1792150  1 days  \n",
       "3  36673b2f-940a-42b5-994d-1cce4796b55f_1792151  1 days  \n",
       "4  36673b2f-940a-42b5-994d-1cce4796b55f_1792152  2 days  \n",
       "5  93e1d3c4-bed1-4ef4-b79f-e24a79e905b7_4883279 13 days  "
      ]
     },
     "execution_count": 27,
     "metadata": {},
     "output_type": "execute_result"
    }
   ],
   "source": [
    "check_df.head(5)"
   ]
  },
  {
   "cell_type": "code",
   "execution_count": 28,
   "metadata": {},
   "outputs": [],
   "source": [
    "first_rows['diff'] = first_rows['created_at'] - first_rows['first_join_date']"
   ]
  },
  {
   "cell_type": "code",
   "execution_count": 29,
   "metadata": {},
   "outputs": [
    {
     "data": {
      "image/png": "[encoded data removed]",
      "text/plain": [
       "<Figure size 640x480 with 1 Axes>"
      ]
     },
     "metadata": {},
     "output_type": "display_data"
    }
   ],
   "source": [
    "# 데이터프레임에서 diff칼럼을 이용해 시간차이에 따른 행의 수를 구합니다.\n",
    "count_df = first_rows.groupby(pd.Grouper(key='diff', freq='D')).size().reset_index(name='counts')\n",
    "\n",
    "# diff가 1 day인 행을 제외합니다.\n",
    "count_df = count_df[count_df['diff'] != pd.Timedelta(days=-1)]\n",
    "\n",
    "# counts 칼럼에서 최대값을 구합니다.\n",
    "max_count = count_df['counts'].max()\n",
    "\n",
    "# 그래프를 그립니다.\n",
    "plt.title(\"첫방문까지 시간\")\n",
    "plt.plot(count_df['diff'].dt.days, count_df['counts'])\n",
    "plt.xlabel('Time Difference (days)')\n",
    "plt.ylabel('Count')\n",
    "\n",
    "# x축 범위를 0부터 500까지로 설정합니다.\n",
    "plt.xlim(left=0, right=20)\n",
    "plt.show()\n"
   ]
  },
  {
   "cell_type": "code",
   "execution_count": 31,
   "metadata": {},
   "outputs": [
    {
     "data": {
      "image/png": "[encoded data removed]",
      "text/plain": [
       "<Figure size 640x480 with 1 Axes>"
      ]
     },
     "metadata": {},
     "output_type": "display_data"
    }
   ],
   "source": [
    "# 데이터프레임에서 diff칼럼을 이용해 시간차이에 따른 행의 수를 구합니다.\n",
    "count_df = first_rows.groupby(pd.Grouper(key='diff', freq='D')).size().reset_index(name='counts')\n",
    "\n",
    "\n",
    "# 전체 개수로 나누어 비율을 구합니다.\n",
    "total_count = count_df['counts'].sum()\n",
    "count_df['ratio'] = count_df['counts'] / total_count\n",
    "\n",
    "# 최대값을 구합니다.\n",
    "max_count = count_df['counts'].max()\n",
    "max_ratio = count_df['ratio'].max()\n",
    "\n",
    "# 그래프를 그립니다.\n",
    "plt.title(\"첫 방문까지 시간\")\n",
    "plt.plot(count_df['diff'].dt.days, count_df['ratio'])\n",
    "plt.xlabel('Time Difference (days)')\n",
    "plt.ylabel('Ratio')\n",
    "plt.ylim(top=max_ratio*1.1)\n",
    "\n",
    "# x축 범위를 0부터 500까지로 설정합니다.\n",
    "plt.xlim(left=0, right=16)\n",
    "plt.show()"
   ]
  },
  {
   "cell_type": "code",
   "execution_count": 32,
   "metadata": {},
   "outputs": [
    {
     "data": {
      "image/png": "[encoded data removed]",
      "text/plain": [
       "<Figure size 640x480 with 1 Axes>"
      ]
     },
     "metadata": {},
     "output_type": "display_data"
    }
   ],
   "source": [
    "# 데이터프레임에서 diff칼럼을 이용해 시간차이에 따른 행의 수를 구합니다.\n",
    "count_df = check_df.groupby(pd.Grouper(key='diff', freq='D')).size().reset_index(name='counts')\n",
    "\n",
    "# counts 칼럼에서 최대값을 구합니다.\n",
    "max_count = count_df['counts'].max()\n",
    "\n",
    "# 그래프를 그립니다.\n",
    "plt.title(\"재방문까지 시간\")\n",
    "plt.plot(count_df['diff'].dt.days, count_df['counts'])\n",
    "plt.xlabel('Time Difference (days)')\n",
    "plt.ylabel('Count')\n",
    "plt.ylim(top=max_count*1.1)\n",
    "\n",
    "# x축 범위를 0부터 500까지로 설정합니다.\n",
    "plt.xlim(left=0, right=30)\n",
    "plt.show()\n"
   ]
  },
  {
   "cell_type": "code",
   "execution_count": 33,
   "metadata": {},
   "outputs": [
    {
     "data": {
      "image/png": "[encoded data removed]",
      "text/plain": [
       "<Figure size 640x480 with 1 Axes>"
      ]
     },
     "metadata": {},
     "output_type": "display_data"
    }
   ],
   "source": [
    "# 데이터프레임에서 diff칼럼을 이용해 시간차이에 따른 행의 수를 구합니다.\n",
    "count_df = check_df.groupby(pd.Grouper(key='diff', freq='D')).size().reset_index(name='counts')\n",
    "\n",
    "\n",
    "# 전체 개수로 나누어 비율을 구합니다.\n",
    "total_count = count_df['counts'].sum()\n",
    "count_df['ratio'] = count_df['counts'] / total_count\n",
    "\n",
    "# 최대값을 구합니다.\n",
    "max_count = count_df['counts'].max()\n",
    "max_ratio = count_df['ratio'].max()\n",
    "\n",
    "# 그래프를 그립니다.\n",
    "plt.title(\"재방문까지 시간\")\n",
    "plt.plot(count_df['diff'].dt.days, count_df['ratio'])\n",
    "plt.xlabel('Time Difference (days)')\n",
    "plt.ylabel('Ratio')\n",
    "plt.ylim(top=max_ratio*1.1)\n",
    "\n",
    "# x축 범위를 0부터 500까지로 설정합니다.\n",
    "plt.xlim(left=0, right=30)\n",
    "plt.show()"
   ]
  },
  {
   "cell_type": "code",
   "execution_count": 34,
   "metadata": {},
   "outputs": [
    {
     "data": {
      "text/html": [
       "<div>\n",
       "<style scoped>\n",
       "    .dataframe tbody tr th:only-of-type {\n",
       "        vertical-align: middle;\n",
       "    }\n",
       "\n",
       "    .dataframe tbody tr th {\n",
       "        vertical-align: top;\n",
       "    }\n",
       "\n",
       "    .dataframe thead th {\n",
       "        text-align: right;\n",
       "    }\n",
       "</style>\n",
       "<table border=\"1\" class=\"dataframe\">\n",
       "  <thead>\n",
       "    <tr style=\"text-align: right;\">\n",
       "      <th></th>\n",
       "      <th>customer_id</th>\n",
       "      <th>created_at</th>\n",
       "      <th>first_join_date</th>\n",
       "      <th>new_session_id</th>\n",
       "      <th>diff</th>\n",
       "    </tr>\n",
       "  </thead>\n",
       "  <tbody>\n",
       "    <tr>\n",
       "      <th>1</th>\n",
       "      <td>3.0</td>\n",
       "      <td>2018-09-18</td>\n",
       "      <td>2018-08-25</td>\n",
       "      <td>36673b2f-940a-42b5-994d-1cce4796b55f_1792149</td>\n",
       "      <td>24 days</td>\n",
       "    </tr>\n",
       "    <tr>\n",
       "      <th>2</th>\n",
       "      <td>3.0</td>\n",
       "      <td>2018-09-19</td>\n",
       "      <td>2018-08-25</td>\n",
       "      <td>36673b2f-940a-42b5-994d-1cce4796b55f_1792150</td>\n",
       "      <td>1 days</td>\n",
       "    </tr>\n",
       "    <tr>\n",
       "      <th>3</th>\n",
       "      <td>3.0</td>\n",
       "      <td>2018-09-20</td>\n",
       "      <td>2018-08-25</td>\n",
       "      <td>36673b2f-940a-42b5-994d-1cce4796b55f_1792151</td>\n",
       "      <td>1 days</td>\n",
       "    </tr>\n",
       "    <tr>\n",
       "      <th>4</th>\n",
       "      <td>3.0</td>\n",
       "      <td>2018-09-22</td>\n",
       "      <td>2018-08-25</td>\n",
       "      <td>36673b2f-940a-42b5-994d-1cce4796b55f_1792152</td>\n",
       "      <td>2 days</td>\n",
       "    </tr>\n",
       "    <tr>\n",
       "      <th>5</th>\n",
       "      <td>3.0</td>\n",
       "      <td>2018-10-05</td>\n",
       "      <td>2018-08-25</td>\n",
       "      <td>93e1d3c4-bed1-4ef4-b79f-e24a79e905b7_4883279</td>\n",
       "      <td>13 days</td>\n",
       "    </tr>\n",
       "  </tbody>\n",
       "</table>\n",
       "</div>"
      ],
      "text/plain": [
       "   customer_id created_at first_join_date   \n",
       "1          3.0 2018-09-18      2018-08-25  \\\n",
       "2          3.0 2018-09-19      2018-08-25   \n",
       "3          3.0 2018-09-20      2018-08-25   \n",
       "4          3.0 2018-09-22      2018-08-25   \n",
       "5          3.0 2018-10-05      2018-08-25   \n",
       "\n",
       "                                 new_session_id    diff  \n",
       "1  36673b2f-940a-42b5-994d-1cce4796b55f_1792149 24 days  \n",
       "2  36673b2f-940a-42b5-994d-1cce4796b55f_1792150  1 days  \n",
       "3  36673b2f-940a-42b5-994d-1cce4796b55f_1792151  1 days  \n",
       "4  36673b2f-940a-42b5-994d-1cce4796b55f_1792152  2 days  \n",
       "5  93e1d3c4-bed1-4ef4-b79f-e24a79e905b7_4883279 13 days  "
      ]
     },
     "execution_count": 34,
     "metadata": {},
     "output_type": "execute_result"
    }
   ],
   "source": [
    "check_df.head(5)"
   ]
  },
  {
   "cell_type": "code",
   "execution_count": 48,
   "metadata": {},
   "outputs": [
    {
     "data": {
      "text/plain": [
       "count                       4339176\n",
       "mean      7 days 22:58:27.291522630\n",
       "std      27 days 12:50:28.448598663\n",
       "min                 1 days 00:00:00\n",
       "25%                 1 days 00:00:00\n",
       "50%                 1 days 00:00:00\n",
       "75%                 5 days 00:00:00\n",
       "max              1080 days 00:00:00\n",
       "Name: diff, dtype: object"
      ]
     },
     "execution_count": 48,
     "metadata": {},
     "output_type": "execute_result"
    }
   ],
   "source": [
    "check_df['diff'].describe()"
   ]
  },
  {
   "cell_type": "code",
   "execution_count": 37,
   "metadata": {},
   "outputs": [],
   "source": [
    "# check_df에서 diff칼럼이 15일 이상인 행 추출\n",
    "mask = check_df['diff'] > pd.Timedelta(days=15)\n",
    "# target 열 생성\n",
    "check_df['target'] = np.where(mask, 1, 0)"
   ]
  },
  {
   "cell_type": "code",
   "execution_count": null,
   "metadata": {},
   "outputs": [],
   "source": [
    "check_df['target'].value_counts()"
   ]
  },
  {
   "cell_type": "code",
   "execution_count": 44,
   "metadata": {},
   "outputs": [
    {
     "data": {
      "text/plain": [
       "event_name\n",
       "ADD_TO_CART    5004008\n",
       "CLICK          3712985\n",
       "HOMEPAGE       3650271\n",
       "SCROLL         2472261\n",
       "ITEM_DETAIL    1947749\n",
       "SEARCH         1743646\n",
       "BOOKING        1254578\n",
       "PROMO_PAGE      863524\n",
       "ADD_PROMO       481133\n",
       "Name: count, dtype: int64"
      ]
     },
     "execution_count": 44,
     "metadata": {},
     "output_type": "execute_result"
    }
   ],
   "source": [
    "merged_df['event_name'].value_counts()"
   ]
  },
  {
   "cell_type": "code",
   "execution_count": 52,
   "metadata": {},
   "outputs": [
    {
     "data": {
      "text/html": [
       "<div>\n",
       "<style scoped>\n",
       "    .dataframe tbody tr th:only-of-type {\n",
       "        vertical-align: middle;\n",
       "    }\n",
       "\n",
       "    .dataframe tbody tr th {\n",
       "        vertical-align: top;\n",
       "    }\n",
       "\n",
       "    .dataframe thead th {\n",
       "        text-align: right;\n",
       "    }\n",
       "</style>\n",
       "<table border=\"1\" class=\"dataframe\">\n",
       "  <thead>\n",
       "    <tr style=\"text-align: right;\">\n",
       "      <th></th>\n",
       "      <th>new_session_id</th>\n",
       "      <th>event_name</th>\n",
       "      <th>product_id_x</th>\n",
       "      <th>event_time</th>\n",
       "      <th>traffic_source</th>\n",
       "      <th>payment_status_x</th>\n",
       "      <th>search_keywords</th>\n",
       "      <th>promo_code_x</th>\n",
       "      <th>promo_amount_x</th>\n",
       "      <th>customer_id</th>\n",
       "      <th>first_join_date</th>\n",
       "      <th>ADD_TO_CART</th>\n",
       "      <th>SEARCH</th>\n",
       "      <th>ADD_PROMO</th>\n",
       "      <th>ITEM_DETAIL</th>\n",
       "      <th>BOOKING</th>\n",
       "    </tr>\n",
       "  </thead>\n",
       "  <tbody>\n",
       "    <tr>\n",
       "      <th>0</th>\n",
       "      <td>00001f29-3ede-4445-95f0-0178934e32ba_1</td>\n",
       "      <td>HOMEPAGE</td>\n",
       "      <td>NaN</td>\n",
       "      <td>2019-05-17 11:51:52.276396+00:00</td>\n",
       "      <td>MOBILE</td>\n",
       "      <td>NaN</td>\n",
       "      <td>NaN</td>\n",
       "      <td>NaN</td>\n",
       "      <td>NaN</td>\n",
       "      <td>74433.0</td>\n",
       "      <td>2017-02-05</td>\n",
       "      <td>NaN</td>\n",
       "      <td>NaN</td>\n",
       "      <td>NaN</td>\n",
       "      <td>NaN</td>\n",
       "      <td>NaN</td>\n",
       "    </tr>\n",
       "    <tr>\n",
       "      <th>1</th>\n",
       "      <td>00001f29-3ede-4445-95f0-0178934e32ba_2</td>\n",
       "      <td>ADD_TO_CART</td>\n",
       "      <td>33855.0</td>\n",
       "      <td>2019-05-17 19:54:53.276396+00:00</td>\n",
       "      <td>MOBILE</td>\n",
       "      <td>NaN</td>\n",
       "      <td>NaN</td>\n",
       "      <td>NaN</td>\n",
       "      <td>NaN</td>\n",
       "      <td>74433.0</td>\n",
       "      <td>2017-02-05</td>\n",
       "      <td>NaN</td>\n",
       "      <td>NaN</td>\n",
       "      <td>NaN</td>\n",
       "      <td>NaN</td>\n",
       "      <td>NaN</td>\n",
       "    </tr>\n",
       "    <tr>\n",
       "      <th>2</th>\n",
       "      <td>00001f29-3ede-4445-95f0-0178934e32ba_2</td>\n",
       "      <td>HOMEPAGE</td>\n",
       "      <td>NaN</td>\n",
       "      <td>2019-05-17 19:55:12.276396+00:00</td>\n",
       "      <td>MOBILE</td>\n",
       "      <td>NaN</td>\n",
       "      <td>NaN</td>\n",
       "      <td>NaN</td>\n",
       "      <td>NaN</td>\n",
       "      <td>74433.0</td>\n",
       "      <td>2017-02-05</td>\n",
       "      <td>NaN</td>\n",
       "      <td>NaN</td>\n",
       "      <td>NaN</td>\n",
       "      <td>NaN</td>\n",
       "      <td>NaN</td>\n",
       "    </tr>\n",
       "    <tr>\n",
       "      <th>3</th>\n",
       "      <td>00001f29-3ede-4445-95f0-0178934e32ba_3</td>\n",
       "      <td>CLICK</td>\n",
       "      <td>NaN</td>\n",
       "      <td>2019-05-18 03:58:25.276396+00:00</td>\n",
       "      <td>MOBILE</td>\n",
       "      <td>NaN</td>\n",
       "      <td>NaN</td>\n",
       "      <td>NaN</td>\n",
       "      <td>NaN</td>\n",
       "      <td>74433.0</td>\n",
       "      <td>2017-02-05</td>\n",
       "      <td>NaN</td>\n",
       "      <td>NaN</td>\n",
       "      <td>NaN</td>\n",
       "      <td>NaN</td>\n",
       "      <td>NaN</td>\n",
       "    </tr>\n",
       "    <tr>\n",
       "      <th>4</th>\n",
       "      <td>00001f29-3ede-4445-95f0-0178934e32ba_4</td>\n",
       "      <td>CLICK</td>\n",
       "      <td>NaN</td>\n",
       "      <td>2019-05-18 12:02:44.276396+00:00</td>\n",
       "      <td>MOBILE</td>\n",
       "      <td>NaN</td>\n",
       "      <td>NaN</td>\n",
       "      <td>NaN</td>\n",
       "      <td>NaN</td>\n",
       "      <td>74433.0</td>\n",
       "      <td>2017-02-05</td>\n",
       "      <td>NaN</td>\n",
       "      <td>NaN</td>\n",
       "      <td>NaN</td>\n",
       "      <td>NaN</td>\n",
       "      <td>NaN</td>\n",
       "    </tr>\n",
       "  </tbody>\n",
       "</table>\n",
       "</div>"
      ],
      "text/plain": [
       "                           new_session_id   event_name  product_id_x   \n",
       "0  00001f29-3ede-4445-95f0-0178934e32ba_1     HOMEPAGE           NaN  \\\n",
       "1  00001f29-3ede-4445-95f0-0178934e32ba_2  ADD_TO_CART       33855.0   \n",
       "2  00001f29-3ede-4445-95f0-0178934e32ba_2     HOMEPAGE           NaN   \n",
       "3  00001f29-3ede-4445-95f0-0178934e32ba_3        CLICK           NaN   \n",
       "4  00001f29-3ede-4445-95f0-0178934e32ba_4        CLICK           NaN   \n",
       "\n",
       "                        event_time traffic_source payment_status_x   \n",
       "0 2019-05-17 11:51:52.276396+00:00         MOBILE              NaN  \\\n",
       "1 2019-05-17 19:54:53.276396+00:00         MOBILE              NaN   \n",
       "2 2019-05-17 19:55:12.276396+00:00         MOBILE              NaN   \n",
       "3 2019-05-18 03:58:25.276396+00:00         MOBILE              NaN   \n",
       "4 2019-05-18 12:02:44.276396+00:00         MOBILE              NaN   \n",
       "\n",
       "  search_keywords promo_code_x  promo_amount_x  customer_id first_join_date   \n",
       "0             NaN          NaN             NaN      74433.0      2017-02-05  \\\n",
       "1             NaN          NaN             NaN      74433.0      2017-02-05   \n",
       "2             NaN          NaN             NaN      74433.0      2017-02-05   \n",
       "3             NaN          NaN             NaN      74433.0      2017-02-05   \n",
       "4             NaN          NaN             NaN      74433.0      2017-02-05   \n",
       "\n",
       "   ADD_TO_CART  SEARCH  ADD_PROMO  ITEM_DETAIL  BOOKING  \n",
       "0          NaN     NaN        NaN          NaN      NaN  \n",
       "1          NaN     NaN        NaN          NaN      NaN  \n",
       "2          NaN     NaN        NaN          NaN      NaN  \n",
       "3          NaN     NaN        NaN          NaN      NaN  \n",
       "4          NaN     NaN        NaN          NaN      NaN  "
      ]
     },
     "execution_count": 52,
     "metadata": {},
     "output_type": "execute_result"
    }
   ],
   "source": [
    "merged_df.head(5)"
   ]
  },
  {
   "cell_type": "code",
   "execution_count": 57,
   "metadata": {},
   "outputs": [],
   "source": [
    "merged_df = merged_df.merge(merged_df[merged_df['event_name'] == 'ADD_TO_CART'].groupby('new_session_id')['event_time'].count(), on = 'new_session_id', how = 'left')\n"
   ]
  },
  {
   "cell_type": "code",
   "execution_count": 61,
   "metadata": {},
   "outputs": [],
   "source": [
    "merged_df['event_time_y'] = merged_df['event_time_y'].fillna(0)"
   ]
  },
  {
   "cell_type": "code",
   "execution_count": 63,
   "metadata": {},
   "outputs": [],
   "source": [
    "merged_df = merged_df.rename(columns={'event_time_y': 'ADD_TO_CART_COUNT'})"
   ]
  },
  {
   "cell_type": "code",
   "execution_count": 68,
   "metadata": {},
   "outputs": [
    {
     "ename": "KeyError",
     "evalue": "'Column not found: event_time_x'",
     "output_type": "error",
     "traceback": [
      "\u001b[1;31m---------------------------------------------------------------------------\u001b[0m",
      "\u001b[1;31mKeyError\u001b[0m                                  Traceback (most recent call last)",
      "\u001b[1;32mc:\\Users\\mj985\\section5\\ecommerce_project\\model\\final_model.ipynb Cell 41\u001b[0m in \u001b[0;36m<cell line: 1>\u001b[1;34m()\u001b[0m\n\u001b[1;32m----> <a href='vscode-notebook-cell:/c%3A/Users/mj985/section5/ecommerce_project/model/final_model.ipynb#X63sZmlsZQ%3D%3D?line=0'>1</a>\u001b[0m merged_df \u001b[39m=\u001b[39m merged_df\u001b[39m.\u001b[39mmerge(merged_df[merged_df[\u001b[39m'\u001b[39;49m\u001b[39mevent_name\u001b[39;49m\u001b[39m'\u001b[39;49m] \u001b[39m==\u001b[39;49m \u001b[39m'\u001b[39;49m\u001b[39mSEARCH\u001b[39;49m\u001b[39m'\u001b[39;49m]\u001b[39m.\u001b[39;49mgroupby(\u001b[39m'\u001b[39;49m\u001b[39mnew_session_id\u001b[39;49m\u001b[39m'\u001b[39;49m)[\u001b[39m'\u001b[39;49m\u001b[39mevent_time_x\u001b[39;49m\u001b[39m'\u001b[39;49m]\u001b[39m.\u001b[39mcount(), on \u001b[39m=\u001b[39m \u001b[39m'\u001b[39m\u001b[39mnew_session_id\u001b[39m\u001b[39m'\u001b[39m, how \u001b[39m=\u001b[39m \u001b[39m'\u001b[39m\u001b[39mleft\u001b[39m\u001b[39m'\u001b[39m)\n\u001b[0;32m      <a href='vscode-notebook-cell:/c%3A/Users/mj985/section5/ecommerce_project/model/final_model.ipynb#X63sZmlsZQ%3D%3D?line=1'>2</a>\u001b[0m merged_df\u001b[39m.\u001b[39mhead(\u001b[39m5\u001b[39m)\n",
      "File \u001b[1;32mc:\\Users\\mj985\\anaconda3\\envs\\assign\\lib\\site-packages\\pandas\\core\\groupby\\generic.py:1771\u001b[0m, in \u001b[0;36mDataFrameGroupBy.__getitem__\u001b[1;34m(self, key)\u001b[0m\n\u001b[0;32m   1764\u001b[0m \u001b[39mif\u001b[39;00m \u001b[39misinstance\u001b[39m(key, \u001b[39mtuple\u001b[39m) \u001b[39mand\u001b[39;00m \u001b[39mlen\u001b[39m(key) \u001b[39m>\u001b[39m \u001b[39m1\u001b[39m:\n\u001b[0;32m   1765\u001b[0m     \u001b[39m# if len == 1, then it becomes a SeriesGroupBy and this is actually\u001b[39;00m\n\u001b[0;32m   1766\u001b[0m     \u001b[39m# valid syntax, so don't raise\u001b[39;00m\n\u001b[0;32m   1767\u001b[0m     \u001b[39mraise\u001b[39;00m \u001b[39mValueError\u001b[39;00m(\n\u001b[0;32m   1768\u001b[0m         \u001b[39m\"\u001b[39m\u001b[39mCannot subset columns with a tuple with more than one element. \u001b[39m\u001b[39m\"\u001b[39m\n\u001b[0;32m   1769\u001b[0m         \u001b[39m\"\u001b[39m\u001b[39mUse a list instead.\u001b[39m\u001b[39m\"\u001b[39m\n\u001b[0;32m   1770\u001b[0m     )\n\u001b[1;32m-> 1771\u001b[0m \u001b[39mreturn\u001b[39;00m \u001b[39msuper\u001b[39;49m()\u001b[39m.\u001b[39;49m\u001b[39m__getitem__\u001b[39;49m(key)\n",
      "File \u001b[1;32mc:\\Users\\mj985\\anaconda3\\envs\\assign\\lib\\site-packages\\pandas\\core\\base.py:244\u001b[0m, in \u001b[0;36mSelectionMixin.__getitem__\u001b[1;34m(self, key)\u001b[0m\n\u001b[0;32m    242\u001b[0m \u001b[39melse\u001b[39;00m:\n\u001b[0;32m    243\u001b[0m     \u001b[39mif\u001b[39;00m key \u001b[39mnot\u001b[39;00m \u001b[39min\u001b[39;00m \u001b[39mself\u001b[39m\u001b[39m.\u001b[39mobj:\n\u001b[1;32m--> 244\u001b[0m         \u001b[39mraise\u001b[39;00m \u001b[39mKeyError\u001b[39;00m(\u001b[39mf\u001b[39m\u001b[39m\"\u001b[39m\u001b[39mColumn not found: \u001b[39m\u001b[39m{\u001b[39;00mkey\u001b[39m}\u001b[39;00m\u001b[39m\"\u001b[39m)\n\u001b[0;32m    245\u001b[0m     ndim \u001b[39m=\u001b[39m \u001b[39mself\u001b[39m\u001b[39m.\u001b[39mobj[key]\u001b[39m.\u001b[39mndim\n\u001b[0;32m    246\u001b[0m     \u001b[39mreturn\u001b[39;00m \u001b[39mself\u001b[39m\u001b[39m.\u001b[39m_gotitem(key, ndim\u001b[39m=\u001b[39mndim)\n",
      "\u001b[1;31mKeyError\u001b[0m: 'Column not found: event_time_x'"
     ]
    }
   ],
   "source": [
    "# merged_df = merged_df.merge(merged_df[merged_df['event_name'] == 'SEARCH'].groupby('new_session_id')['event_time_x'].count(), on = 'new_session_id', how = 'left')\n",
    "# merged_df.head(5)"
   ]
  },
  {
   "cell_type": "code",
   "execution_count": 49,
   "metadata": {},
   "outputs": [],
   "source": [
    "# merged_df.to_csv('check_num_events.csv')"
   ]
  }
 ],
 "metadata": {
  "kernelspec": {
   "display_name": "assign",
   "language": "python",
   "name": "python3"
  },
  "language_info": {
   "codemirror_mode": {
    "name": "ipython",
    "version": 3
   },
   "file_extension": ".py",
   "mimetype": "text/x-python",
   "name": "python",
   "nbconvert_exporter": "python",
   "pygments_lexer": "ipython3",
   "version": "3.8.16"
  },
  "orig_nbformat": 4
 },
 "nbformat": 4,
 "nbformat_minor": 2
}
