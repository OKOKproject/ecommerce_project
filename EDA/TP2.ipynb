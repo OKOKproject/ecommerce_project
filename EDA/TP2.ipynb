{
  "nbformat": 4,
  "nbformat_minor": 0,
  "metadata": {
    "colab": {
      "provenance": [],
      "gpuType": "T4",
      "collapsed_sections": [
        "VS_x3dJ0q6Lj",
        "Gk0bV81F7Vhv"
      ],
      "mount_file_id": "1jqCbyJGdKgXhPER8bAgh5YPF6_dL2CDi",
      "authorship_tag": "ABX9TyN/b95Sk5e/NzEfWKRfcFx0",
      "include_colab_link": true
    },
    "kernelspec": {
      "name": "python3",
      "display_name": "Python 3"
    },
    "language_info": {
      "name": "python"
    },
    "accelerator": "GPU"
  },
  "cells": [
    {
      "cell_type": "markdown",
      "metadata": {
        "id": "view-in-github",
        "colab_type": "text"
      },
      "source": [
        "<a href=\"https://colab.research.google.com/github/min9ju/ecommerce_project/blob/main/TP2.ipynb\" target=\"_parent\"><img src=\"https://colab.research.google.com/assets/colab-badge.svg\" alt=\"Open In Colab\"/></a>"
      ]
    },
    {
      "cell_type": "markdown",
      "source": [
        "### 고객 구매 주기 파악"
      ],
      "metadata": {
        "id": "VS_x3dJ0q6Lj"
      }
    },
    {
      "cell_type": "code",
      "execution_count": null,
      "metadata": {
        "id": "sHJIPbfmIkpW"
      },
      "outputs": [],
      "source": [
        "import pandas as pd"
      ]
    },
    {
      "cell_type": "code",
      "source": [
        "df = pd.read_csv('customer_renew.csv')"
      ],
      "metadata": {
        "id": "GbGBh8kkJEql"
      },
      "execution_count": null,
      "outputs": []
    },
    {
      "cell_type": "code",
      "source": [
        "df"
      ],
      "metadata": {
        "colab": {
          "base_uri": "https://localhost:8080/",
          "height": 678
        },
        "id": "aNIJFejxJfgi",
        "outputId": "22cd0db1-fd10-4d23-f42e-e5885f20b486"
      },
      "execution_count": null,
      "outputs": [
        {
          "output_type": "execute_result",
          "data": {
            "text/plain": [
              "       Unnamed: 0  customer_id gender   birthdate first_join_date  \\\n",
              "0               0         2870      F  1996-06-14      2019-07-21   \n",
              "1               1         8193      F  1993-08-16      2017-07-16   \n",
              "2               2         7279      M  1989-01-23      2020-08-23   \n",
              "3               3        88813      M  1991-01-05      2021-10-03   \n",
              "4               4        82542      M  2000-07-15      2021-04-11   \n",
              "...           ...          ...    ...         ...             ...   \n",
              "99995       99995        34743      M  2000-11-17      2020-10-17   \n",
              "99996       99996        72065      M  1998-03-30      2017-11-25   \n",
              "99997       99997        32818      F  1993-01-12      2018-09-01   \n",
              "99998       99998        75597      M  2000-09-13      2020-05-31   \n",
              "99999       99999        40573      F  1987-09-10      2021-07-17   \n",
              "\n",
              "       promocode_use  repeated_buy   first_buy    last_buy  buy_count  \\\n",
              "0                  0             0         NaN         NaN          0   \n",
              "1                  0             0         NaN         NaN          0   \n",
              "2                  1             1  20200823.0  20220729.0         89   \n",
              "3                  0             0         NaN         NaN          0   \n",
              "4                  0             0  20210416.0  20210416.0          1   \n",
              "...              ...           ...         ...         ...        ...   \n",
              "99995              1             1  20201017.0  20220727.0         37   \n",
              "99996              1             1  20171125.0  20220629.0         44   \n",
              "99997              1             1  20180902.0  20220729.0         96   \n",
              "99998              0             0         NaN         NaN          0   \n",
              "99999              1             1  20210719.0  20220613.0          8   \n",
              "\n",
              "       buy_repeated                     구매주기  \n",
              "0                 0                      NaN  \n",
              "1                 0                      NaN  \n",
              "2                 1   8 days 00:16:21.818182  \n",
              "3                 0                      NaN  \n",
              "4                 0                        0  \n",
              "...             ...                      ...  \n",
              "99995             1         18 days, 0:00:00  \n",
              "99996             1         39 days, 0:00:00  \n",
              "99997             1  15 days, 0:15:09.473684  \n",
              "99998             0                      NaN  \n",
              "99999             1         47 days, 0:00:00  \n",
              "\n",
              "[100000 rows x 12 columns]"
            ],
            "text/html": [
              "\n",
              "  <div id=\"df-4a651a0a-43ad-49b8-9505-33ffb553680c\">\n",
              "    <div class=\"colab-df-container\">\n",
              "      <div>\n",
              "<style scoped>\n",
              "    .dataframe tbody tr th:only-of-type {\n",
              "        vertical-align: middle;\n",
              "    }\n",
              "\n",
              "    .dataframe tbody tr th {\n",
              "        vertical-align: top;\n",
              "    }\n",
              "\n",
              "    .dataframe thead th {\n",
              "        text-align: right;\n",
              "    }\n",
              "</style>\n",
              "<table border=\"1\" class=\"dataframe\">\n",
              "  <thead>\n",
              "    <tr style=\"text-align: right;\">\n",
              "      <th></th>\n",
              "      <th>Unnamed: 0</th>\n",
              "      <th>customer_id</th>\n",
              "      <th>gender</th>\n",
              "      <th>birthdate</th>\n",
              "      <th>first_join_date</th>\n",
              "      <th>promocode_use</th>\n",
              "      <th>repeated_buy</th>\n",
              "      <th>first_buy</th>\n",
              "      <th>last_buy</th>\n",
              "      <th>buy_count</th>\n",
              "      <th>buy_repeated</th>\n",
              "      <th>구매주기</th>\n",
              "    </tr>\n",
              "  </thead>\n",
              "  <tbody>\n",
              "    <tr>\n",
              "      <th>0</th>\n",
              "      <td>0</td>\n",
              "      <td>2870</td>\n",
              "      <td>F</td>\n",
              "      <td>1996-06-14</td>\n",
              "      <td>2019-07-21</td>\n",
              "      <td>0</td>\n",
              "      <td>0</td>\n",
              "      <td>NaN</td>\n",
              "      <td>NaN</td>\n",
              "      <td>0</td>\n",
              "      <td>0</td>\n",
              "      <td>NaN</td>\n",
              "    </tr>\n",
              "    <tr>\n",
              "      <th>1</th>\n",
              "      <td>1</td>\n",
              "      <td>8193</td>\n",
              "      <td>F</td>\n",
              "      <td>1993-08-16</td>\n",
              "      <td>2017-07-16</td>\n",
              "      <td>0</td>\n",
              "      <td>0</td>\n",
              "      <td>NaN</td>\n",
              "      <td>NaN</td>\n",
              "      <td>0</td>\n",
              "      <td>0</td>\n",
              "      <td>NaN</td>\n",
              "    </tr>\n",
              "    <tr>\n",
              "      <th>2</th>\n",
              "      <td>2</td>\n",
              "      <td>7279</td>\n",
              "      <td>M</td>\n",
              "      <td>1989-01-23</td>\n",
              "      <td>2020-08-23</td>\n",
              "      <td>1</td>\n",
              "      <td>1</td>\n",
              "      <td>20200823.0</td>\n",
              "      <td>20220729.0</td>\n",
              "      <td>89</td>\n",
              "      <td>1</td>\n",
              "      <td>8 days 00:16:21.818182</td>\n",
              "    </tr>\n",
              "    <tr>\n",
              "      <th>3</th>\n",
              "      <td>3</td>\n",
              "      <td>88813</td>\n",
              "      <td>M</td>\n",
              "      <td>1991-01-05</td>\n",
              "      <td>2021-10-03</td>\n",
              "      <td>0</td>\n",
              "      <td>0</td>\n",
              "      <td>NaN</td>\n",
              "      <td>NaN</td>\n",
              "      <td>0</td>\n",
              "      <td>0</td>\n",
              "      <td>NaN</td>\n",
              "    </tr>\n",
              "    <tr>\n",
              "      <th>4</th>\n",
              "      <td>4</td>\n",
              "      <td>82542</td>\n",
              "      <td>M</td>\n",
              "      <td>2000-07-15</td>\n",
              "      <td>2021-04-11</td>\n",
              "      <td>0</td>\n",
              "      <td>0</td>\n",
              "      <td>20210416.0</td>\n",
              "      <td>20210416.0</td>\n",
              "      <td>1</td>\n",
              "      <td>0</td>\n",
              "      <td>0</td>\n",
              "    </tr>\n",
              "    <tr>\n",
              "      <th>...</th>\n",
              "      <td>...</td>\n",
              "      <td>...</td>\n",
              "      <td>...</td>\n",
              "      <td>...</td>\n",
              "      <td>...</td>\n",
              "      <td>...</td>\n",
              "      <td>...</td>\n",
              "      <td>...</td>\n",
              "      <td>...</td>\n",
              "      <td>...</td>\n",
              "      <td>...</td>\n",
              "      <td>...</td>\n",
              "    </tr>\n",
              "    <tr>\n",
              "      <th>99995</th>\n",
              "      <td>99995</td>\n",
              "      <td>34743</td>\n",
              "      <td>M</td>\n",
              "      <td>2000-11-17</td>\n",
              "      <td>2020-10-17</td>\n",
              "      <td>1</td>\n",
              "      <td>1</td>\n",
              "      <td>20201017.0</td>\n",
              "      <td>20220727.0</td>\n",
              "      <td>37</td>\n",
              "      <td>1</td>\n",
              "      <td>18 days, 0:00:00</td>\n",
              "    </tr>\n",
              "    <tr>\n",
              "      <th>99996</th>\n",
              "      <td>99996</td>\n",
              "      <td>72065</td>\n",
              "      <td>M</td>\n",
              "      <td>1998-03-30</td>\n",
              "      <td>2017-11-25</td>\n",
              "      <td>1</td>\n",
              "      <td>1</td>\n",
              "      <td>20171125.0</td>\n",
              "      <td>20220629.0</td>\n",
              "      <td>44</td>\n",
              "      <td>1</td>\n",
              "      <td>39 days, 0:00:00</td>\n",
              "    </tr>\n",
              "    <tr>\n",
              "      <th>99997</th>\n",
              "      <td>99997</td>\n",
              "      <td>32818</td>\n",
              "      <td>F</td>\n",
              "      <td>1993-01-12</td>\n",
              "      <td>2018-09-01</td>\n",
              "      <td>1</td>\n",
              "      <td>1</td>\n",
              "      <td>20180902.0</td>\n",
              "      <td>20220729.0</td>\n",
              "      <td>96</td>\n",
              "      <td>1</td>\n",
              "      <td>15 days, 0:15:09.473684</td>\n",
              "    </tr>\n",
              "    <tr>\n",
              "      <th>99998</th>\n",
              "      <td>99998</td>\n",
              "      <td>75597</td>\n",
              "      <td>M</td>\n",
              "      <td>2000-09-13</td>\n",
              "      <td>2020-05-31</td>\n",
              "      <td>0</td>\n",
              "      <td>0</td>\n",
              "      <td>NaN</td>\n",
              "      <td>NaN</td>\n",
              "      <td>0</td>\n",
              "      <td>0</td>\n",
              "      <td>NaN</td>\n",
              "    </tr>\n",
              "    <tr>\n",
              "      <th>99999</th>\n",
              "      <td>99999</td>\n",
              "      <td>40573</td>\n",
              "      <td>F</td>\n",
              "      <td>1987-09-10</td>\n",
              "      <td>2021-07-17</td>\n",
              "      <td>1</td>\n",
              "      <td>1</td>\n",
              "      <td>20210719.0</td>\n",
              "      <td>20220613.0</td>\n",
              "      <td>8</td>\n",
              "      <td>1</td>\n",
              "      <td>47 days, 0:00:00</td>\n",
              "    </tr>\n",
              "  </tbody>\n",
              "</table>\n",
              "<p>100000 rows × 12 columns</p>\n",
              "</div>\n",
              "      <button class=\"colab-df-convert\" onclick=\"convertToInteractive('df-4a651a0a-43ad-49b8-9505-33ffb553680c')\"\n",
              "              title=\"Convert this dataframe to an interactive table.\"\n",
              "              style=\"display:none;\">\n",
              "        \n",
              "  <svg xmlns=\"http://www.w3.org/2000/svg\" height=\"24px\"viewBox=\"0 0 24 24\"\n",
              "       width=\"24px\">\n",
              "    <path d=\"M0 0h24v24H0V0z\" fill=\"none\"/>\n",
              "    <path d=\"M18.56 5.44l.94 2.06.94-2.06 2.06-.94-2.06-.94-.94-2.06-.94 2.06-2.06.94zm-11 1L8.5 8.5l.94-2.06 2.06-.94-2.06-.94L8.5 2.5l-.94 2.06-2.06.94zm10 10l.94 2.06.94-2.06 2.06-.94-2.06-.94-.94-2.06-.94 2.06-2.06.94z\"/><path d=\"M17.41 7.96l-1.37-1.37c-.4-.4-.92-.59-1.43-.59-.52 0-1.04.2-1.43.59L10.3 9.45l-7.72 7.72c-.78.78-.78 2.05 0 2.83L4 21.41c.39.39.9.59 1.41.59.51 0 1.02-.2 1.41-.59l7.78-7.78 2.81-2.81c.8-.78.8-2.07 0-2.86zM5.41 20L4 18.59l7.72-7.72 1.47 1.35L5.41 20z\"/>\n",
              "  </svg>\n",
              "      </button>\n",
              "      \n",
              "  <style>\n",
              "    .colab-df-container {\n",
              "      display:flex;\n",
              "      flex-wrap:wrap;\n",
              "      gap: 12px;\n",
              "    }\n",
              "\n",
              "    .colab-df-convert {\n",
              "      background-color: #E8F0FE;\n",
              "      border: none;\n",
              "      border-radius: 50%;\n",
              "      cursor: pointer;\n",
              "      display: none;\n",
              "      fill: #1967D2;\n",
              "      height: 32px;\n",
              "      padding: 0 0 0 0;\n",
              "      width: 32px;\n",
              "    }\n",
              "\n",
              "    .colab-df-convert:hover {\n",
              "      background-color: #E2EBFA;\n",
              "      box-shadow: 0px 1px 2px rgba(60, 64, 67, 0.3), 0px 1px 3px 1px rgba(60, 64, 67, 0.15);\n",
              "      fill: #174EA6;\n",
              "    }\n",
              "\n",
              "    [theme=dark] .colab-df-convert {\n",
              "      background-color: #3B4455;\n",
              "      fill: #D2E3FC;\n",
              "    }\n",
              "\n",
              "    [theme=dark] .colab-df-convert:hover {\n",
              "      background-color: #434B5C;\n",
              "      box-shadow: 0px 1px 3px 1px rgba(0, 0, 0, 0.15);\n",
              "      filter: drop-shadow(0px 1px 2px rgba(0, 0, 0, 0.3));\n",
              "      fill: #FFFFFF;\n",
              "    }\n",
              "  </style>\n",
              "\n",
              "      <script>\n",
              "        const buttonEl =\n",
              "          document.querySelector('#df-4a651a0a-43ad-49b8-9505-33ffb553680c button.colab-df-convert');\n",
              "        buttonEl.style.display =\n",
              "          google.colab.kernel.accessAllowed ? 'block' : 'none';\n",
              "\n",
              "        async function convertToInteractive(key) {\n",
              "          const element = document.querySelector('#df-4a651a0a-43ad-49b8-9505-33ffb553680c');\n",
              "          const dataTable =\n",
              "            await google.colab.kernel.invokeFunction('convertToInteractive',\n",
              "                                                     [key], {});\n",
              "          if (!dataTable) return;\n",
              "\n",
              "          const docLinkHtml = 'Like what you see? Visit the ' +\n",
              "            '<a target=\"_blank\" href=https://colab.research.google.com/notebooks/data_table.ipynb>data table notebook</a>'\n",
              "            + ' to learn more about interactive tables.';\n",
              "          element.innerHTML = '';\n",
              "          dataTable['output_type'] = 'display_data';\n",
              "          await google.colab.output.renderOutput(dataTable, element);\n",
              "          const docLink = document.createElement('div');\n",
              "          docLink.innerHTML = docLinkHtml;\n",
              "          element.appendChild(docLink);\n",
              "        }\n",
              "      </script>\n",
              "    </div>\n",
              "  </div>\n",
              "  "
            ]
          },
          "metadata": {},
          "execution_count": 3
        }
      ]
    },
    {
      "cell_type": "code",
      "source": [
        "df['구매주기'] = df['구매주기'].fillna(0).astype('str')"
      ],
      "metadata": {
        "id": "KRIyHSQ0JjkO"
      },
      "execution_count": null,
      "outputs": []
    },
    {
      "cell_type": "code",
      "source": [
        "for i in range(len(df)):\n",
        "    if df['구매주기'][i] != 0:\n",
        "        split_string = df['구매주기'][i].split()\n",
        "        days = split_string[0]\n",
        "\n",
        "        df['구매주기'][i] = days"
      ],
      "metadata": {
        "colab": {
          "base_uri": "https://localhost:8080/"
        },
        "id": "rVJWz1YrJ3tV",
        "outputId": "92c1f23d-f7a7-4481-e16b-b83d48188e7b"
      },
      "execution_count": null,
      "outputs": [
        {
          "output_type": "stream",
          "name": "stderr",
          "text": [
            "<ipython-input-6-e7d88eda2405>:6: SettingWithCopyWarning: \n",
            "A value is trying to be set on a copy of a slice from a DataFrame\n",
            "\n",
            "See the caveats in the documentation: https://pandas.pydata.org/pandas-docs/stable/user_guide/indexing.html#returning-a-view-versus-a-copy\n",
            "  df['구매주기'][i] = days\n"
          ]
        }
      ]
    },
    {
      "cell_type": "code",
      "source": [
        "df = df.drop(columns='Unnamed: 0')"
      ],
      "metadata": {
        "id": "WJQtf8EoMLPY"
      },
      "execution_count": null,
      "outputs": []
    },
    {
      "cell_type": "code",
      "source": [
        "df.to_csv('customer_renew.csv', index=False)"
      ],
      "metadata": {
        "id": "EshsJ9k7MZlb"
      },
      "execution_count": null,
      "outputs": []
    },
    {
      "cell_type": "code",
      "source": [
        "df"
      ],
      "metadata": {
        "colab": {
          "base_uri": "https://localhost:8080/",
          "height": 467
        },
        "id": "ljx3f3yRMsHL",
        "outputId": "fd2a3255-a81b-4eda-ddf6-5b2b85dedd06"
      },
      "execution_count": null,
      "outputs": [
        {
          "output_type": "execute_result",
          "data": {
            "text/plain": [
              "       customer_id gender   birthdate first_join_date  promocode_use  \\\n",
              "0             2870      F  1996-06-14      2019-07-21              0   \n",
              "1             8193      F  1993-08-16      2017-07-16              0   \n",
              "2             7279      M  1989-01-23      2020-08-23              1   \n",
              "3            88813      M  1991-01-05      2021-10-03              0   \n",
              "4            82542      M  2000-07-15      2021-04-11              0   \n",
              "...            ...    ...         ...             ...            ...   \n",
              "99995        34743      M  2000-11-17      2020-10-17              1   \n",
              "99996        72065      M  1998-03-30      2017-11-25              1   \n",
              "99997        32818      F  1993-01-12      2018-09-01              1   \n",
              "99998        75597      M  2000-09-13      2020-05-31              0   \n",
              "99999        40573      F  1987-09-10      2021-07-17              1   \n",
              "\n",
              "       repeated_buy   first_buy    last_buy  buy_count  buy_repeated 구매주기  \n",
              "0                 0         NaN         NaN          0             0    0  \n",
              "1                 0         NaN         NaN          0             0    0  \n",
              "2                 1  20200823.0  20220729.0         89             1    8  \n",
              "3                 0         NaN         NaN          0             0    0  \n",
              "4                 0  20210416.0  20210416.0          1             0    0  \n",
              "...             ...         ...         ...        ...           ...  ...  \n",
              "99995             1  20201017.0  20220727.0         37             1   18  \n",
              "99996             1  20171125.0  20220629.0         44             1   39  \n",
              "99997             1  20180902.0  20220729.0         96             1   15  \n",
              "99998             0         NaN         NaN          0             0    0  \n",
              "99999             1  20210719.0  20220613.0          8             1   47  \n",
              "\n",
              "[100000 rows x 11 columns]"
            ],
            "text/html": [
              "\n",
              "  <div id=\"df-ec779b46-eaeb-46b1-9b8b-ece412575106\">\n",
              "    <div class=\"colab-df-container\">\n",
              "      <div>\n",
              "<style scoped>\n",
              "    .dataframe tbody tr th:only-of-type {\n",
              "        vertical-align: middle;\n",
              "    }\n",
              "\n",
              "    .dataframe tbody tr th {\n",
              "        vertical-align: top;\n",
              "    }\n",
              "\n",
              "    .dataframe thead th {\n",
              "        text-align: right;\n",
              "    }\n",
              "</style>\n",
              "<table border=\"1\" class=\"dataframe\">\n",
              "  <thead>\n",
              "    <tr style=\"text-align: right;\">\n",
              "      <th></th>\n",
              "      <th>customer_id</th>\n",
              "      <th>gender</th>\n",
              "      <th>birthdate</th>\n",
              "      <th>first_join_date</th>\n",
              "      <th>promocode_use</th>\n",
              "      <th>repeated_buy</th>\n",
              "      <th>first_buy</th>\n",
              "      <th>last_buy</th>\n",
              "      <th>buy_count</th>\n",
              "      <th>buy_repeated</th>\n",
              "      <th>구매주기</th>\n",
              "    </tr>\n",
              "  </thead>\n",
              "  <tbody>\n",
              "    <tr>\n",
              "      <th>0</th>\n",
              "      <td>2870</td>\n",
              "      <td>F</td>\n",
              "      <td>1996-06-14</td>\n",
              "      <td>2019-07-21</td>\n",
              "      <td>0</td>\n",
              "      <td>0</td>\n",
              "      <td>NaN</td>\n",
              "      <td>NaN</td>\n",
              "      <td>0</td>\n",
              "      <td>0</td>\n",
              "      <td>0</td>\n",
              "    </tr>\n",
              "    <tr>\n",
              "      <th>1</th>\n",
              "      <td>8193</td>\n",
              "      <td>F</td>\n",
              "      <td>1993-08-16</td>\n",
              "      <td>2017-07-16</td>\n",
              "      <td>0</td>\n",
              "      <td>0</td>\n",
              "      <td>NaN</td>\n",
              "      <td>NaN</td>\n",
              "      <td>0</td>\n",
              "      <td>0</td>\n",
              "      <td>0</td>\n",
              "    </tr>\n",
              "    <tr>\n",
              "      <th>2</th>\n",
              "      <td>7279</td>\n",
              "      <td>M</td>\n",
              "      <td>1989-01-23</td>\n",
              "      <td>2020-08-23</td>\n",
              "      <td>1</td>\n",
              "      <td>1</td>\n",
              "      <td>20200823.0</td>\n",
              "      <td>20220729.0</td>\n",
              "      <td>89</td>\n",
              "      <td>1</td>\n",
              "      <td>8</td>\n",
              "    </tr>\n",
              "    <tr>\n",
              "      <th>3</th>\n",
              "      <td>88813</td>\n",
              "      <td>M</td>\n",
              "      <td>1991-01-05</td>\n",
              "      <td>2021-10-03</td>\n",
              "      <td>0</td>\n",
              "      <td>0</td>\n",
              "      <td>NaN</td>\n",
              "      <td>NaN</td>\n",
              "      <td>0</td>\n",
              "      <td>0</td>\n",
              "      <td>0</td>\n",
              "    </tr>\n",
              "    <tr>\n",
              "      <th>4</th>\n",
              "      <td>82542</td>\n",
              "      <td>M</td>\n",
              "      <td>2000-07-15</td>\n",
              "      <td>2021-04-11</td>\n",
              "      <td>0</td>\n",
              "      <td>0</td>\n",
              "      <td>20210416.0</td>\n",
              "      <td>20210416.0</td>\n",
              "      <td>1</td>\n",
              "      <td>0</td>\n",
              "      <td>0</td>\n",
              "    </tr>\n",
              "    <tr>\n",
              "      <th>...</th>\n",
              "      <td>...</td>\n",
              "      <td>...</td>\n",
              "      <td>...</td>\n",
              "      <td>...</td>\n",
              "      <td>...</td>\n",
              "      <td>...</td>\n",
              "      <td>...</td>\n",
              "      <td>...</td>\n",
              "      <td>...</td>\n",
              "      <td>...</td>\n",
              "      <td>...</td>\n",
              "    </tr>\n",
              "    <tr>\n",
              "      <th>99995</th>\n",
              "      <td>34743</td>\n",
              "      <td>M</td>\n",
              "      <td>2000-11-17</td>\n",
              "      <td>2020-10-17</td>\n",
              "      <td>1</td>\n",
              "      <td>1</td>\n",
              "      <td>20201017.0</td>\n",
              "      <td>20220727.0</td>\n",
              "      <td>37</td>\n",
              "      <td>1</td>\n",
              "      <td>18</td>\n",
              "    </tr>\n",
              "    <tr>\n",
              "      <th>99996</th>\n",
              "      <td>72065</td>\n",
              "      <td>M</td>\n",
              "      <td>1998-03-30</td>\n",
              "      <td>2017-11-25</td>\n",
              "      <td>1</td>\n",
              "      <td>1</td>\n",
              "      <td>20171125.0</td>\n",
              "      <td>20220629.0</td>\n",
              "      <td>44</td>\n",
              "      <td>1</td>\n",
              "      <td>39</td>\n",
              "    </tr>\n",
              "    <tr>\n",
              "      <th>99997</th>\n",
              "      <td>32818</td>\n",
              "      <td>F</td>\n",
              "      <td>1993-01-12</td>\n",
              "      <td>2018-09-01</td>\n",
              "      <td>1</td>\n",
              "      <td>1</td>\n",
              "      <td>20180902.0</td>\n",
              "      <td>20220729.0</td>\n",
              "      <td>96</td>\n",
              "      <td>1</td>\n",
              "      <td>15</td>\n",
              "    </tr>\n",
              "    <tr>\n",
              "      <th>99998</th>\n",
              "      <td>75597</td>\n",
              "      <td>M</td>\n",
              "      <td>2000-09-13</td>\n",
              "      <td>2020-05-31</td>\n",
              "      <td>0</td>\n",
              "      <td>0</td>\n",
              "      <td>NaN</td>\n",
              "      <td>NaN</td>\n",
              "      <td>0</td>\n",
              "      <td>0</td>\n",
              "      <td>0</td>\n",
              "    </tr>\n",
              "    <tr>\n",
              "      <th>99999</th>\n",
              "      <td>40573</td>\n",
              "      <td>F</td>\n",
              "      <td>1987-09-10</td>\n",
              "      <td>2021-07-17</td>\n",
              "      <td>1</td>\n",
              "      <td>1</td>\n",
              "      <td>20210719.0</td>\n",
              "      <td>20220613.0</td>\n",
              "      <td>8</td>\n",
              "      <td>1</td>\n",
              "      <td>47</td>\n",
              "    </tr>\n",
              "  </tbody>\n",
              "</table>\n",
              "<p>100000 rows × 11 columns</p>\n",
              "</div>\n",
              "      <button class=\"colab-df-convert\" onclick=\"convertToInteractive('df-ec779b46-eaeb-46b1-9b8b-ece412575106')\"\n",
              "              title=\"Convert this dataframe to an interactive table.\"\n",
              "              style=\"display:none;\">\n",
              "        \n",
              "  <svg xmlns=\"http://www.w3.org/2000/svg\" height=\"24px\"viewBox=\"0 0 24 24\"\n",
              "       width=\"24px\">\n",
              "    <path d=\"M0 0h24v24H0V0z\" fill=\"none\"/>\n",
              "    <path d=\"M18.56 5.44l.94 2.06.94-2.06 2.06-.94-2.06-.94-.94-2.06-.94 2.06-2.06.94zm-11 1L8.5 8.5l.94-2.06 2.06-.94-2.06-.94L8.5 2.5l-.94 2.06-2.06.94zm10 10l.94 2.06.94-2.06 2.06-.94-2.06-.94-.94-2.06-.94 2.06-2.06.94z\"/><path d=\"M17.41 7.96l-1.37-1.37c-.4-.4-.92-.59-1.43-.59-.52 0-1.04.2-1.43.59L10.3 9.45l-7.72 7.72c-.78.78-.78 2.05 0 2.83L4 21.41c.39.39.9.59 1.41.59.51 0 1.02-.2 1.41-.59l7.78-7.78 2.81-2.81c.8-.78.8-2.07 0-2.86zM5.41 20L4 18.59l7.72-7.72 1.47 1.35L5.41 20z\"/>\n",
              "  </svg>\n",
              "      </button>\n",
              "      \n",
              "  <style>\n",
              "    .colab-df-container {\n",
              "      display:flex;\n",
              "      flex-wrap:wrap;\n",
              "      gap: 12px;\n",
              "    }\n",
              "\n",
              "    .colab-df-convert {\n",
              "      background-color: #E8F0FE;\n",
              "      border: none;\n",
              "      border-radius: 50%;\n",
              "      cursor: pointer;\n",
              "      display: none;\n",
              "      fill: #1967D2;\n",
              "      height: 32px;\n",
              "      padding: 0 0 0 0;\n",
              "      width: 32px;\n",
              "    }\n",
              "\n",
              "    .colab-df-convert:hover {\n",
              "      background-color: #E2EBFA;\n",
              "      box-shadow: 0px 1px 2px rgba(60, 64, 67, 0.3), 0px 1px 3px 1px rgba(60, 64, 67, 0.15);\n",
              "      fill: #174EA6;\n",
              "    }\n",
              "\n",
              "    [theme=dark] .colab-df-convert {\n",
              "      background-color: #3B4455;\n",
              "      fill: #D2E3FC;\n",
              "    }\n",
              "\n",
              "    [theme=dark] .colab-df-convert:hover {\n",
              "      background-color: #434B5C;\n",
              "      box-shadow: 0px 1px 3px 1px rgba(0, 0, 0, 0.15);\n",
              "      filter: drop-shadow(0px 1px 2px rgba(0, 0, 0, 0.3));\n",
              "      fill: #FFFFFF;\n",
              "    }\n",
              "  </style>\n",
              "\n",
              "      <script>\n",
              "        const buttonEl =\n",
              "          document.querySelector('#df-ec779b46-eaeb-46b1-9b8b-ece412575106 button.colab-df-convert');\n",
              "        buttonEl.style.display =\n",
              "          google.colab.kernel.accessAllowed ? 'block' : 'none';\n",
              "\n",
              "        async function convertToInteractive(key) {\n",
              "          const element = document.querySelector('#df-ec779b46-eaeb-46b1-9b8b-ece412575106');\n",
              "          const dataTable =\n",
              "            await google.colab.kernel.invokeFunction('convertToInteractive',\n",
              "                                                     [key], {});\n",
              "          if (!dataTable) return;\n",
              "\n",
              "          const docLinkHtml = 'Like what you see? Visit the ' +\n",
              "            '<a target=\"_blank\" href=https://colab.research.google.com/notebooks/data_table.ipynb>data table notebook</a>'\n",
              "            + ' to learn more about interactive tables.';\n",
              "          element.innerHTML = '';\n",
              "          dataTable['output_type'] = 'display_data';\n",
              "          await google.colab.output.renderOutput(dataTable, element);\n",
              "          const docLink = document.createElement('div');\n",
              "          docLink.innerHTML = docLinkHtml;\n",
              "          element.appendChild(docLink);\n",
              "        }\n",
              "      </script>\n",
              "    </div>\n",
              "  </div>\n",
              "  "
            ]
          },
          "metadata": {},
          "execution_count": 15
        }
      ]
    },
    {
      "cell_type": "code",
      "source": [
        "df['구매주기'] = df['구매주기'].astype('int')"
      ],
      "metadata": {
        "id": "-K7W4AAnMx4z"
      },
      "execution_count": null,
      "outputs": []
    },
    {
      "cell_type": "code",
      "source": [
        "df['구매주기'].describe()"
      ],
      "metadata": {
        "colab": {
          "base_uri": "https://localhost:8080/"
        },
        "id": "g6lB1pKPNiHu",
        "outputId": "cd5245da-b032-4388-a055-ab233fddf1c7"
      },
      "execution_count": null,
      "outputs": [
        {
          "output_type": "execute_result",
          "data": {
            "text/plain": [
              "count    100000.000000\n",
              "mean         63.047810\n",
              "std         147.989722\n",
              "min           0.000000\n",
              "25%           0.000000\n",
              "50%           0.000000\n",
              "75%          49.000000\n",
              "max        1110.000000\n",
              "Name: 구매주기, dtype: float64"
            ]
          },
          "metadata": {},
          "execution_count": 22
        }
      ]
    },
    {
      "cell_type": "code",
      "source": [
        "import numpy as np"
      ],
      "metadata": {
        "id": "KFhmQ7fCN-nz"
      },
      "execution_count": null,
      "outputs": []
    },
    {
      "cell_type": "code",
      "source": [
        "df['first_buy'] = df['first_buy'].fillna(0).astype('int')\n",
        "df['last_buy'] = df['last_buy'].fillna(0).astype('int')"
      ],
      "metadata": {
        "id": "BaPV9XfwNpfc"
      },
      "execution_count": null,
      "outputs": []
    },
    {
      "cell_type": "code",
      "source": [
        "df.to_csv('customer_renew.csv', index=False)"
      ],
      "metadata": {
        "id": "M0ElS48rOO5_"
      },
      "execution_count": null,
      "outputs": []
    },
    {
      "cell_type": "code",
      "source": [
        "df"
      ],
      "metadata": {
        "colab": {
          "base_uri": "https://localhost:8080/",
          "height": 467
        },
        "id": "XjmhTIhjWa14",
        "outputId": "1c111188-86f1-49d4-8bb9-5da0b89b5f91"
      },
      "execution_count": null,
      "outputs": [
        {
          "output_type": "execute_result",
          "data": {
            "text/plain": [
              "       customer_id gender   birthdate first_join_date  promocode_use  \\\n",
              "0             2870      F  1996-06-14      2019-07-21              0   \n",
              "1             8193      F  1993-08-16      2017-07-16              0   \n",
              "2             7279      M  1989-01-23      2020-08-23              1   \n",
              "3            88813      M  1991-01-05      2021-10-03              0   \n",
              "4            82542      M  2000-07-15      2021-04-11              0   \n",
              "...            ...    ...         ...             ...            ...   \n",
              "99995        34743      M  2000-11-17      2020-10-17              1   \n",
              "99996        72065      M  1998-03-30      2017-11-25              1   \n",
              "99997        32818      F  1993-01-12      2018-09-01              1   \n",
              "99998        75597      M  2000-09-13      2020-05-31              0   \n",
              "99999        40573      F  1987-09-10      2021-07-17              1   \n",
              "\n",
              "       repeated_buy  first_buy  last_buy  buy_count  buy_repeated  구매주기  \n",
              "0                 0          0         0          0             0     0  \n",
              "1                 0          0         0          0             0     0  \n",
              "2                 1   20200823  20220729         89             1     8  \n",
              "3                 0          0         0          0             0     0  \n",
              "4                 0   20210416  20210416          1             0     0  \n",
              "...             ...        ...       ...        ...           ...   ...  \n",
              "99995             1   20201017  20220727         37             1    18  \n",
              "99996             1   20171125  20220629         44             1    39  \n",
              "99997             1   20180902  20220729         96             1    15  \n",
              "99998             0          0         0          0             0     0  \n",
              "99999             1   20210719  20220613          8             1    47  \n",
              "\n",
              "[100000 rows x 11 columns]"
            ],
            "text/html": [
              "\n",
              "  <div id=\"df-c8e1545d-e911-46ad-b2e4-57e8c9acc3c3\">\n",
              "    <div class=\"colab-df-container\">\n",
              "      <div>\n",
              "<style scoped>\n",
              "    .dataframe tbody tr th:only-of-type {\n",
              "        vertical-align: middle;\n",
              "    }\n",
              "\n",
              "    .dataframe tbody tr th {\n",
              "        vertical-align: top;\n",
              "    }\n",
              "\n",
              "    .dataframe thead th {\n",
              "        text-align: right;\n",
              "    }\n",
              "</style>\n",
              "<table border=\"1\" class=\"dataframe\">\n",
              "  <thead>\n",
              "    <tr style=\"text-align: right;\">\n",
              "      <th></th>\n",
              "      <th>customer_id</th>\n",
              "      <th>gender</th>\n",
              "      <th>birthdate</th>\n",
              "      <th>first_join_date</th>\n",
              "      <th>promocode_use</th>\n",
              "      <th>repeated_buy</th>\n",
              "      <th>first_buy</th>\n",
              "      <th>last_buy</th>\n",
              "      <th>buy_count</th>\n",
              "      <th>buy_repeated</th>\n",
              "      <th>구매주기</th>\n",
              "    </tr>\n",
              "  </thead>\n",
              "  <tbody>\n",
              "    <tr>\n",
              "      <th>0</th>\n",
              "      <td>2870</td>\n",
              "      <td>F</td>\n",
              "      <td>1996-06-14</td>\n",
              "      <td>2019-07-21</td>\n",
              "      <td>0</td>\n",
              "      <td>0</td>\n",
              "      <td>0</td>\n",
              "      <td>0</td>\n",
              "      <td>0</td>\n",
              "      <td>0</td>\n",
              "      <td>0</td>\n",
              "    </tr>\n",
              "    <tr>\n",
              "      <th>1</th>\n",
              "      <td>8193</td>\n",
              "      <td>F</td>\n",
              "      <td>1993-08-16</td>\n",
              "      <td>2017-07-16</td>\n",
              "      <td>0</td>\n",
              "      <td>0</td>\n",
              "      <td>0</td>\n",
              "      <td>0</td>\n",
              "      <td>0</td>\n",
              "      <td>0</td>\n",
              "      <td>0</td>\n",
              "    </tr>\n",
              "    <tr>\n",
              "      <th>2</th>\n",
              "      <td>7279</td>\n",
              "      <td>M</td>\n",
              "      <td>1989-01-23</td>\n",
              "      <td>2020-08-23</td>\n",
              "      <td>1</td>\n",
              "      <td>1</td>\n",
              "      <td>20200823</td>\n",
              "      <td>20220729</td>\n",
              "      <td>89</td>\n",
              "      <td>1</td>\n",
              "      <td>8</td>\n",
              "    </tr>\n",
              "    <tr>\n",
              "      <th>3</th>\n",
              "      <td>88813</td>\n",
              "      <td>M</td>\n",
              "      <td>1991-01-05</td>\n",
              "      <td>2021-10-03</td>\n",
              "      <td>0</td>\n",
              "      <td>0</td>\n",
              "      <td>0</td>\n",
              "      <td>0</td>\n",
              "      <td>0</td>\n",
              "      <td>0</td>\n",
              "      <td>0</td>\n",
              "    </tr>\n",
              "    <tr>\n",
              "      <th>4</th>\n",
              "      <td>82542</td>\n",
              "      <td>M</td>\n",
              "      <td>2000-07-15</td>\n",
              "      <td>2021-04-11</td>\n",
              "      <td>0</td>\n",
              "      <td>0</td>\n",
              "      <td>20210416</td>\n",
              "      <td>20210416</td>\n",
              "      <td>1</td>\n",
              "      <td>0</td>\n",
              "      <td>0</td>\n",
              "    </tr>\n",
              "    <tr>\n",
              "      <th>...</th>\n",
              "      <td>...</td>\n",
              "      <td>...</td>\n",
              "      <td>...</td>\n",
              "      <td>...</td>\n",
              "      <td>...</td>\n",
              "      <td>...</td>\n",
              "      <td>...</td>\n",
              "      <td>...</td>\n",
              "      <td>...</td>\n",
              "      <td>...</td>\n",
              "      <td>...</td>\n",
              "    </tr>\n",
              "    <tr>\n",
              "      <th>99995</th>\n",
              "      <td>34743</td>\n",
              "      <td>M</td>\n",
              "      <td>2000-11-17</td>\n",
              "      <td>2020-10-17</td>\n",
              "      <td>1</td>\n",
              "      <td>1</td>\n",
              "      <td>20201017</td>\n",
              "      <td>20220727</td>\n",
              "      <td>37</td>\n",
              "      <td>1</td>\n",
              "      <td>18</td>\n",
              "    </tr>\n",
              "    <tr>\n",
              "      <th>99996</th>\n",
              "      <td>72065</td>\n",
              "      <td>M</td>\n",
              "      <td>1998-03-30</td>\n",
              "      <td>2017-11-25</td>\n",
              "      <td>1</td>\n",
              "      <td>1</td>\n",
              "      <td>20171125</td>\n",
              "      <td>20220629</td>\n",
              "      <td>44</td>\n",
              "      <td>1</td>\n",
              "      <td>39</td>\n",
              "    </tr>\n",
              "    <tr>\n",
              "      <th>99997</th>\n",
              "      <td>32818</td>\n",
              "      <td>F</td>\n",
              "      <td>1993-01-12</td>\n",
              "      <td>2018-09-01</td>\n",
              "      <td>1</td>\n",
              "      <td>1</td>\n",
              "      <td>20180902</td>\n",
              "      <td>20220729</td>\n",
              "      <td>96</td>\n",
              "      <td>1</td>\n",
              "      <td>15</td>\n",
              "    </tr>\n",
              "    <tr>\n",
              "      <th>99998</th>\n",
              "      <td>75597</td>\n",
              "      <td>M</td>\n",
              "      <td>2000-09-13</td>\n",
              "      <td>2020-05-31</td>\n",
              "      <td>0</td>\n",
              "      <td>0</td>\n",
              "      <td>0</td>\n",
              "      <td>0</td>\n",
              "      <td>0</td>\n",
              "      <td>0</td>\n",
              "      <td>0</td>\n",
              "    </tr>\n",
              "    <tr>\n",
              "      <th>99999</th>\n",
              "      <td>40573</td>\n",
              "      <td>F</td>\n",
              "      <td>1987-09-10</td>\n",
              "      <td>2021-07-17</td>\n",
              "      <td>1</td>\n",
              "      <td>1</td>\n",
              "      <td>20210719</td>\n",
              "      <td>20220613</td>\n",
              "      <td>8</td>\n",
              "      <td>1</td>\n",
              "      <td>47</td>\n",
              "    </tr>\n",
              "  </tbody>\n",
              "</table>\n",
              "<p>100000 rows × 11 columns</p>\n",
              "</div>\n",
              "      <button class=\"colab-df-convert\" onclick=\"convertToInteractive('df-c8e1545d-e911-46ad-b2e4-57e8c9acc3c3')\"\n",
              "              title=\"Convert this dataframe to an interactive table.\"\n",
              "              style=\"display:none;\">\n",
              "        \n",
              "  <svg xmlns=\"http://www.w3.org/2000/svg\" height=\"24px\"viewBox=\"0 0 24 24\"\n",
              "       width=\"24px\">\n",
              "    <path d=\"M0 0h24v24H0V0z\" fill=\"none\"/>\n",
              "    <path d=\"M18.56 5.44l.94 2.06.94-2.06 2.06-.94-2.06-.94-.94-2.06-.94 2.06-2.06.94zm-11 1L8.5 8.5l.94-2.06 2.06-.94-2.06-.94L8.5 2.5l-.94 2.06-2.06.94zm10 10l.94 2.06.94-2.06 2.06-.94-2.06-.94-.94-2.06-.94 2.06-2.06.94z\"/><path d=\"M17.41 7.96l-1.37-1.37c-.4-.4-.92-.59-1.43-.59-.52 0-1.04.2-1.43.59L10.3 9.45l-7.72 7.72c-.78.78-.78 2.05 0 2.83L4 21.41c.39.39.9.59 1.41.59.51 0 1.02-.2 1.41-.59l7.78-7.78 2.81-2.81c.8-.78.8-2.07 0-2.86zM5.41 20L4 18.59l7.72-7.72 1.47 1.35L5.41 20z\"/>\n",
              "  </svg>\n",
              "      </button>\n",
              "      \n",
              "  <style>\n",
              "    .colab-df-container {\n",
              "      display:flex;\n",
              "      flex-wrap:wrap;\n",
              "      gap: 12px;\n",
              "    }\n",
              "\n",
              "    .colab-df-convert {\n",
              "      background-color: #E8F0FE;\n",
              "      border: none;\n",
              "      border-radius: 50%;\n",
              "      cursor: pointer;\n",
              "      display: none;\n",
              "      fill: #1967D2;\n",
              "      height: 32px;\n",
              "      padding: 0 0 0 0;\n",
              "      width: 32px;\n",
              "    }\n",
              "\n",
              "    .colab-df-convert:hover {\n",
              "      background-color: #E2EBFA;\n",
              "      box-shadow: 0px 1px 2px rgba(60, 64, 67, 0.3), 0px 1px 3px 1px rgba(60, 64, 67, 0.15);\n",
              "      fill: #174EA6;\n",
              "    }\n",
              "\n",
              "    [theme=dark] .colab-df-convert {\n",
              "      background-color: #3B4455;\n",
              "      fill: #D2E3FC;\n",
              "    }\n",
              "\n",
              "    [theme=dark] .colab-df-convert:hover {\n",
              "      background-color: #434B5C;\n",
              "      box-shadow: 0px 1px 3px 1px rgba(0, 0, 0, 0.15);\n",
              "      filter: drop-shadow(0px 1px 2px rgba(0, 0, 0, 0.3));\n",
              "      fill: #FFFFFF;\n",
              "    }\n",
              "  </style>\n",
              "\n",
              "      <script>\n",
              "        const buttonEl =\n",
              "          document.querySelector('#df-c8e1545d-e911-46ad-b2e4-57e8c9acc3c3 button.colab-df-convert');\n",
              "        buttonEl.style.display =\n",
              "          google.colab.kernel.accessAllowed ? 'block' : 'none';\n",
              "\n",
              "        async function convertToInteractive(key) {\n",
              "          const element = document.querySelector('#df-c8e1545d-e911-46ad-b2e4-57e8c9acc3c3');\n",
              "          const dataTable =\n",
              "            await google.colab.kernel.invokeFunction('convertToInteractive',\n",
              "                                                     [key], {});\n",
              "          if (!dataTable) return;\n",
              "\n",
              "          const docLinkHtml = 'Like what you see? Visit the ' +\n",
              "            '<a target=\"_blank\" href=https://colab.research.google.com/notebooks/data_table.ipynb>data table notebook</a>'\n",
              "            + ' to learn more about interactive tables.';\n",
              "          element.innerHTML = '';\n",
              "          dataTable['output_type'] = 'display_data';\n",
              "          await google.colab.output.renderOutput(dataTable, element);\n",
              "          const docLink = document.createElement('div');\n",
              "          docLink.innerHTML = docLinkHtml;\n",
              "          element.appendChild(docLink);\n",
              "        }\n",
              "      </script>\n",
              "    </div>\n",
              "  </div>\n",
              "  "
            ]
          },
          "metadata": {},
          "execution_count": 32
        }
      ]
    },
    {
      "cell_type": "markdown",
      "source": [
        "### 중고여부 transaciton에 추가"
      ],
      "metadata": {
        "id": "Gk0bV81F7Vhv"
      }
    },
    {
      "cell_type": "code",
      "source": [
        "import pandas as pd\n",
        "import matplotlib.pyplot as plt\n",
        "import numpy as np"
      ],
      "metadata": {
        "id": "MMuHZjUW7Z-C"
      },
      "execution_count": 1,
      "outputs": []
    },
    {
      "cell_type": "code",
      "source": [
        "from google.colab import drive\n",
        "drive.mount('/content/drive')"
      ],
      "metadata": {
        "colab": {
          "base_uri": "https://localhost:8080/"
        },
        "id": "YCmXbLTKC24D",
        "outputId": "b3801c12-f97d-4937-ae61-14cf1e3ba45a"
      },
      "execution_count": 2,
      "outputs": [
        {
          "output_type": "stream",
          "name": "stdout",
          "text": [
            "Drive already mounted at /content/drive; to attempt to forcibly remount, call drive.mount(\"/content/drive\", force_remount=True).\n"
          ]
        }
      ]
    },
    {
      "cell_type": "code",
      "source": [
        "product = pd.read_csv('/content/drive/MyDrive/TP2/prodcut_used.csv')\n",
        "transaction = pd.read_csv('/content/drive/MyDrive/TP2/transaction_used.csv')"
      ],
      "metadata": {
        "id": "OeooZaIP7i16"
      },
      "execution_count": 3,
      "outputs": []
    },
    {
      "cell_type": "code",
      "source": [
        "# transaction에 product 중고여부 입력\n",
        "for i in range(len(transaction)):\n",
        "    pro_id = transaction['product_id'][i]\n",
        "    if pro_id in product['id'].values:\n",
        "        used_value = product.loc[product['id'] == pro_id, 'used'].values[0]\n",
        "        transaction.loc[transaction['product_id'] == pro_id, 'used'] = used_value"
      ],
      "metadata": {
        "id": "djdY1xlH8I70"
      },
      "execution_count": null,
      "outputs": []
    },
    {
      "cell_type": "code",
      "source": [
        "transaction.to_csv('transaction_used.csv')"
      ],
      "metadata": {
        "id": "HXk-79FXQbpO"
      },
      "execution_count": null,
      "outputs": []
    },
    {
      "cell_type": "code",
      "source": [
        "transaction_no_product = transaction[(transaction['used'] !=0.0) & (transaction['used'] != 1.0)]"
      ],
      "metadata": {
        "id": "R-XTMvRqPnX0"
      },
      "execution_count": null,
      "outputs": []
    },
    {
      "cell_type": "code",
      "source": [
        "# 구매한 것들중 상품 id가 존재하는데 product에는 존재하지 않는 상품 존재\n",
        "product[product['id']==\"44065\"]"
      ],
      "metadata": {
        "colab": {
          "base_uri": "https://localhost:8080/",
          "height": 93
        },
        "id": "OjSk3vxzP0SA",
        "outputId": "97e04792-f6b6-4356-a730-930587505017"
      },
      "execution_count": null,
      "outputs": [
        {
          "output_type": "execute_result",
          "data": {
            "text/plain": [
              "Empty DataFrame\n",
              "Columns: [Unnamed: 0, id, gender, masterCategory, subCategory, articleType, baseColour, season, year, usage, productDisplayName, used, sales_count]\n",
              "Index: []"
            ],
            "text/html": [
              "\n",
              "  <div id=\"df-395462b7-6c5d-456d-a11c-f79fdf0e5f74\">\n",
              "    <div class=\"colab-df-container\">\n",
              "      <div>\n",
              "<style scoped>\n",
              "    .dataframe tbody tr th:only-of-type {\n",
              "        vertical-align: middle;\n",
              "    }\n",
              "\n",
              "    .dataframe tbody tr th {\n",
              "        vertical-align: top;\n",
              "    }\n",
              "\n",
              "    .dataframe thead th {\n",
              "        text-align: right;\n",
              "    }\n",
              "</style>\n",
              "<table border=\"1\" class=\"dataframe\">\n",
              "  <thead>\n",
              "    <tr style=\"text-align: right;\">\n",
              "      <th></th>\n",
              "      <th>Unnamed: 0</th>\n",
              "      <th>id</th>\n",
              "      <th>gender</th>\n",
              "      <th>masterCategory</th>\n",
              "      <th>subCategory</th>\n",
              "      <th>articleType</th>\n",
              "      <th>baseColour</th>\n",
              "      <th>season</th>\n",
              "      <th>year</th>\n",
              "      <th>usage</th>\n",
              "      <th>productDisplayName</th>\n",
              "      <th>used</th>\n",
              "      <th>sales_count</th>\n",
              "    </tr>\n",
              "  </thead>\n",
              "  <tbody>\n",
              "  </tbody>\n",
              "</table>\n",
              "</div>\n",
              "      <button class=\"colab-df-convert\" onclick=\"convertToInteractive('df-395462b7-6c5d-456d-a11c-f79fdf0e5f74')\"\n",
              "              title=\"Convert this dataframe to an interactive table.\"\n",
              "              style=\"display:none;\">\n",
              "        \n",
              "  <svg xmlns=\"http://www.w3.org/2000/svg\" height=\"24px\"viewBox=\"0 0 24 24\"\n",
              "       width=\"24px\">\n",
              "    <path d=\"M0 0h24v24H0V0z\" fill=\"none\"/>\n",
              "    <path d=\"M18.56 5.44l.94 2.06.94-2.06 2.06-.94-2.06-.94-.94-2.06-.94 2.06-2.06.94zm-11 1L8.5 8.5l.94-2.06 2.06-.94-2.06-.94L8.5 2.5l-.94 2.06-2.06.94zm10 10l.94 2.06.94-2.06 2.06-.94-2.06-.94-.94-2.06-.94 2.06-2.06.94z\"/><path d=\"M17.41 7.96l-1.37-1.37c-.4-.4-.92-.59-1.43-.59-.52 0-1.04.2-1.43.59L10.3 9.45l-7.72 7.72c-.78.78-.78 2.05 0 2.83L4 21.41c.39.39.9.59 1.41.59.51 0 1.02-.2 1.41-.59l7.78-7.78 2.81-2.81c.8-.78.8-2.07 0-2.86zM5.41 20L4 18.59l7.72-7.72 1.47 1.35L5.41 20z\"/>\n",
              "  </svg>\n",
              "      </button>\n",
              "      \n",
              "  <style>\n",
              "    .colab-df-container {\n",
              "      display:flex;\n",
              "      flex-wrap:wrap;\n",
              "      gap: 12px;\n",
              "    }\n",
              "\n",
              "    .colab-df-convert {\n",
              "      background-color: #E8F0FE;\n",
              "      border: none;\n",
              "      border-radius: 50%;\n",
              "      cursor: pointer;\n",
              "      display: none;\n",
              "      fill: #1967D2;\n",
              "      height: 32px;\n",
              "      padding: 0 0 0 0;\n",
              "      width: 32px;\n",
              "    }\n",
              "\n",
              "    .colab-df-convert:hover {\n",
              "      background-color: #E2EBFA;\n",
              "      box-shadow: 0px 1px 2px rgba(60, 64, 67, 0.3), 0px 1px 3px 1px rgba(60, 64, 67, 0.15);\n",
              "      fill: #174EA6;\n",
              "    }\n",
              "\n",
              "    [theme=dark] .colab-df-convert {\n",
              "      background-color: #3B4455;\n",
              "      fill: #D2E3FC;\n",
              "    }\n",
              "\n",
              "    [theme=dark] .colab-df-convert:hover {\n",
              "      background-color: #434B5C;\n",
              "      box-shadow: 0px 1px 3px 1px rgba(0, 0, 0, 0.15);\n",
              "      filter: drop-shadow(0px 1px 2px rgba(0, 0, 0, 0.3));\n",
              "      fill: #FFFFFF;\n",
              "    }\n",
              "  </style>\n",
              "\n",
              "      <script>\n",
              "        const buttonEl =\n",
              "          document.querySelector('#df-395462b7-6c5d-456d-a11c-f79fdf0e5f74 button.colab-df-convert');\n",
              "        buttonEl.style.display =\n",
              "          google.colab.kernel.accessAllowed ? 'block' : 'none';\n",
              "\n",
              "        async function convertToInteractive(key) {\n",
              "          const element = document.querySelector('#df-395462b7-6c5d-456d-a11c-f79fdf0e5f74');\n",
              "          const dataTable =\n",
              "            await google.colab.kernel.invokeFunction('convertToInteractive',\n",
              "                                                     [key], {});\n",
              "          if (!dataTable) return;\n",
              "\n",
              "          const docLinkHtml = 'Like what you see? Visit the ' +\n",
              "            '<a target=\"_blank\" href=https://colab.research.google.com/notebooks/data_table.ipynb>data table notebook</a>'\n",
              "            + ' to learn more about interactive tables.';\n",
              "          element.innerHTML = '';\n",
              "          dataTable['output_type'] = 'display_data';\n",
              "          await google.colab.output.renderOutput(dataTable, element);\n",
              "          const docLink = document.createElement('div');\n",
              "          docLink.innerHTML = docLinkHtml;\n",
              "          element.appendChild(docLink);\n",
              "        }\n",
              "      </script>\n",
              "    </div>\n",
              "  </div>\n",
              "  "
            ]
          },
          "metadata": {},
          "execution_count": 14
        }
      ]
    },
    {
      "cell_type": "code",
      "source": [
        "transaction_used_df = transaction[(transaction['used']== 0.0) | (transaction['used'] == 1.0)]"
      ],
      "metadata": {
        "id": "T04MacHSP_Xs"
      },
      "execution_count": null,
      "outputs": []
    },
    {
      "cell_type": "code",
      "source": [
        "transaction_used_df['used'] = transaction_used_df['used'].astype(int)"
      ],
      "metadata": {
        "colab": {
          "base_uri": "https://localhost:8080/"
        },
        "id": "kgF46kcDPcxz",
        "outputId": "128d0b82-7f8a-40fb-9709-f0c3b512bc8f"
      },
      "execution_count": null,
      "outputs": [
        {
          "output_type": "stream",
          "name": "stderr",
          "text": [
            "<ipython-input-18-253df557f496>:1: SettingWithCopyWarning: \n",
            "A value is trying to be set on a copy of a slice from a DataFrame.\n",
            "Try using .loc[row_indexer,col_indexer] = value instead\n",
            "\n",
            "See the caveats in the documentation: https://pandas.pydata.org/pandas-docs/stable/user_guide/indexing.html#returning-a-view-versus-a-copy\n",
            "  transaction_used_df['used'] = transaction_used_df['used'].astype(int)\n"
          ]
        }
      ]
    },
    {
      "cell_type": "code",
      "source": [
        "transaction_used_df = transaction_used_df.reset_index(drop=True)"
      ],
      "metadata": {
        "id": "1rVnFD9ERBSU"
      },
      "execution_count": null,
      "outputs": []
    },
    {
      "cell_type": "code",
      "source": [
        "transaction_used_df = transaction_used_df.drop(columns='index',axis=1)"
      ],
      "metadata": {
        "id": "tTgRTjmORKVg"
      },
      "execution_count": null,
      "outputs": []
    },
    {
      "cell_type": "code",
      "source": [
        "transaction_used_df.info()"
      ],
      "metadata": {
        "colab": {
          "base_uri": "https://localhost:8080/"
        },
        "id": "O5IdJs34RaAt",
        "outputId": "b845c5a5-0fcc-4baf-ebac-183afedc3a68"
      },
      "execution_count": null,
      "outputs": [
        {
          "output_type": "stream",
          "name": "stdout",
          "text": [
            "<class 'pandas.core.frame.DataFrame'>\n",
            "RangeIndex: 1253966 entries, 0 to 1253965\n",
            "Data columns (total 17 columns):\n",
            " #   Column                  Non-Null Count    Dtype  \n",
            "---  ------                  --------------    -----  \n",
            " 0   created_at              1253966 non-null  object \n",
            " 1   customer_id             1253966 non-null  int64  \n",
            " 2   booking_id              1253966 non-null  object \n",
            " 3   session_id              1253966 non-null  object \n",
            " 4   payment_method          1253966 non-null  object \n",
            " 5   payment_status          1253966 non-null  object \n",
            " 6   promo_amount            1253966 non-null  int64  \n",
            " 7   promo_code              480908 non-null   object \n",
            " 8   shipment_fee            1253966 non-null  int64  \n",
            " 9   shipment_date_limit     1253966 non-null  object \n",
            " 10  shipment_location_lat   1253966 non-null  float64\n",
            " 11  shipment_location_long  1253966 non-null  float64\n",
            " 12  total_amount            1253966 non-null  int64  \n",
            " 13  product_id              1253966 non-null  int64  \n",
            " 14  quantity                1253966 non-null  int64  \n",
            " 15  item_price              1253966 non-null  int64  \n",
            " 16  used                    1253966 non-null  int64  \n",
            "dtypes: float64(2), int64(8), object(7)\n",
            "memory usage: 162.6+ MB\n"
          ]
        }
      ]
    },
    {
      "cell_type": "code",
      "source": [
        "transaction_used_df[transaction_used_df['created_at'].str[:4] == '2018'].groupby('used')['session_id'].count()"
      ],
      "metadata": {
        "colab": {
          "base_uri": "https://localhost:8080/"
        },
        "id": "Rq726ndaRfdW",
        "outputId": "c4babfb4-baa2-400a-dfee-b3dbcb66d125"
      },
      "execution_count": null,
      "outputs": [
        {
          "output_type": "execute_result",
          "data": {
            "text/plain": [
              "used\n",
              "0    65671\n",
              "1    42075\n",
              "Name: session_id, dtype: int64"
            ]
          },
          "metadata": {},
          "execution_count": 34
        }
      ]
    },
    {
      "cell_type": "code",
      "source": [
        "transaction_used_df[transaction_used_df['created_at'].str[:4] == '2019'].groupby('used')['session_id'].count()"
      ],
      "metadata": {
        "colab": {
          "base_uri": "https://localhost:8080/"
        },
        "id": "GS9M1i_tSISM",
        "outputId": "99b92ef4-0e6c-44ae-e192-4e527a09cb0d"
      },
      "execution_count": null,
      "outputs": [
        {
          "output_type": "execute_result",
          "data": {
            "text/plain": [
              "used\n",
              "0    104786\n",
              "1     66612\n",
              "Name: session_id, dtype: int64"
            ]
          },
          "metadata": {},
          "execution_count": 35
        }
      ]
    },
    {
      "cell_type": "code",
      "source": [
        "transaction_used_df[transaction_used_df['created_at'].str[:4] == '2020'].groupby('used')['session_id'].count()"
      ],
      "metadata": {
        "colab": {
          "base_uri": "https://localhost:8080/"
        },
        "id": "IKJv5RWNSKcv",
        "outputId": "f21b50af-2be0-4107-e550-c6aee9b26ffd"
      },
      "execution_count": null,
      "outputs": [
        {
          "output_type": "execute_result",
          "data": {
            "text/plain": [
              "used\n",
              "0    154047\n",
              "1    100796\n",
              "Name: session_id, dtype: int64"
            ]
          },
          "metadata": {},
          "execution_count": 36
        }
      ]
    },
    {
      "cell_type": "code",
      "source": [
        "transaction_used_df[transaction_used_df['created_at'].str[:4] == '2021'].groupby('used')['session_id'].count()"
      ],
      "metadata": {
        "colab": {
          "base_uri": "https://localhost:8080/"
        },
        "id": "mr-9EA9DSLsS",
        "outputId": "2148d67e-2dad-4301-96cc-250746604b78"
      },
      "execution_count": null,
      "outputs": [
        {
          "output_type": "execute_result",
          "data": {
            "text/plain": [
              "used\n",
              "0    224586\n",
              "1    152641\n",
              "Name: session_id, dtype: int64"
            ]
          },
          "metadata": {},
          "execution_count": 37
        }
      ]
    },
    {
      "cell_type": "code",
      "source": [
        "transaction_used_df[transaction_used_df['created_at'].str[:4] == '2022'].groupby('used')['session_id'].count()"
      ],
      "metadata": {
        "colab": {
          "base_uri": "https://localhost:8080/"
        },
        "id": "7wykyJwKSNqF",
        "outputId": "ecc09dfe-485c-4d14-ae84-8f4a3d287340"
      },
      "execution_count": null,
      "outputs": [
        {
          "output_type": "execute_result",
          "data": {
            "text/plain": [
              "used\n",
              "0    170364\n",
              "1    115205\n",
              "Name: session_id, dtype: int64"
            ]
          },
          "metadata": {},
          "execution_count": 38
        }
      ]
    },
    {
      "cell_type": "code",
      "source": [
        "# 중고상품 구매 증가했는지 여부 파악\n",
        "years = ['2018', '2019', '2020', '2021', '2022']\n",
        "data = []\n",
        "\n",
        "for year in years:\n",
        "    filtered_df = transaction_used_df[transaction_used_df['created_at'].str[:4] == year]\n",
        "    count_0 = filtered_df[filtered_df['used'] == 0]['session_id'].count()\n",
        "    count_1 = filtered_df[filtered_df['used'] == 1]['session_id'].count()\n",
        "    data.append({'연도': year, 0: count_0, 1: count_1})\n",
        "\n",
        "df = pd.DataFrame(data)\n"
      ],
      "metadata": {
        "id": "r05ffTxfTF7-"
      },
      "execution_count": null,
      "outputs": []
    },
    {
      "cell_type": "code",
      "source": [
        "df"
      ],
      "metadata": {
        "colab": {
          "base_uri": "https://localhost:8080/",
          "height": 206
        },
        "id": "rfrffvhxTTSI",
        "outputId": "1b4d23f6-352e-4a62-f96c-b50037fa23dd"
      },
      "execution_count": null,
      "outputs": [
        {
          "output_type": "execute_result",
          "data": {
            "text/plain": [
              "     연도       0       1\n",
              "0  2018   65671   42075\n",
              "1  2019  104786   66612\n",
              "2  2020  154047  100796\n",
              "3  2021  224586  152641\n",
              "4  2022  170364  115205"
            ],
            "text/html": [
              "\n",
              "  <div id=\"df-91cb5001-0c71-4d5b-ba09-afb610c5f577\">\n",
              "    <div class=\"colab-df-container\">\n",
              "      <div>\n",
              "<style scoped>\n",
              "    .dataframe tbody tr th:only-of-type {\n",
              "        vertical-align: middle;\n",
              "    }\n",
              "\n",
              "    .dataframe tbody tr th {\n",
              "        vertical-align: top;\n",
              "    }\n",
              "\n",
              "    .dataframe thead th {\n",
              "        text-align: right;\n",
              "    }\n",
              "</style>\n",
              "<table border=\"1\" class=\"dataframe\">\n",
              "  <thead>\n",
              "    <tr style=\"text-align: right;\">\n",
              "      <th></th>\n",
              "      <th>연도</th>\n",
              "      <th>0</th>\n",
              "      <th>1</th>\n",
              "    </tr>\n",
              "  </thead>\n",
              "  <tbody>\n",
              "    <tr>\n",
              "      <th>0</th>\n",
              "      <td>2018</td>\n",
              "      <td>65671</td>\n",
              "      <td>42075</td>\n",
              "    </tr>\n",
              "    <tr>\n",
              "      <th>1</th>\n",
              "      <td>2019</td>\n",
              "      <td>104786</td>\n",
              "      <td>66612</td>\n",
              "    </tr>\n",
              "    <tr>\n",
              "      <th>2</th>\n",
              "      <td>2020</td>\n",
              "      <td>154047</td>\n",
              "      <td>100796</td>\n",
              "    </tr>\n",
              "    <tr>\n",
              "      <th>3</th>\n",
              "      <td>2021</td>\n",
              "      <td>224586</td>\n",
              "      <td>152641</td>\n",
              "    </tr>\n",
              "    <tr>\n",
              "      <th>4</th>\n",
              "      <td>2022</td>\n",
              "      <td>170364</td>\n",
              "      <td>115205</td>\n",
              "    </tr>\n",
              "  </tbody>\n",
              "</table>\n",
              "</div>\n",
              "      <button class=\"colab-df-convert\" onclick=\"convertToInteractive('df-91cb5001-0c71-4d5b-ba09-afb610c5f577')\"\n",
              "              title=\"Convert this dataframe to an interactive table.\"\n",
              "              style=\"display:none;\">\n",
              "        \n",
              "  <svg xmlns=\"http://www.w3.org/2000/svg\" height=\"24px\"viewBox=\"0 0 24 24\"\n",
              "       width=\"24px\">\n",
              "    <path d=\"M0 0h24v24H0V0z\" fill=\"none\"/>\n",
              "    <path d=\"M18.56 5.44l.94 2.06.94-2.06 2.06-.94-2.06-.94-.94-2.06-.94 2.06-2.06.94zm-11 1L8.5 8.5l.94-2.06 2.06-.94-2.06-.94L8.5 2.5l-.94 2.06-2.06.94zm10 10l.94 2.06.94-2.06 2.06-.94-2.06-.94-.94-2.06-.94 2.06-2.06.94z\"/><path d=\"M17.41 7.96l-1.37-1.37c-.4-.4-.92-.59-1.43-.59-.52 0-1.04.2-1.43.59L10.3 9.45l-7.72 7.72c-.78.78-.78 2.05 0 2.83L4 21.41c.39.39.9.59 1.41.59.51 0 1.02-.2 1.41-.59l7.78-7.78 2.81-2.81c.8-.78.8-2.07 0-2.86zM5.41 20L4 18.59l7.72-7.72 1.47 1.35L5.41 20z\"/>\n",
              "  </svg>\n",
              "      </button>\n",
              "      \n",
              "  <style>\n",
              "    .colab-df-container {\n",
              "      display:flex;\n",
              "      flex-wrap:wrap;\n",
              "      gap: 12px;\n",
              "    }\n",
              "\n",
              "    .colab-df-convert {\n",
              "      background-color: #E8F0FE;\n",
              "      border: none;\n",
              "      border-radius: 50%;\n",
              "      cursor: pointer;\n",
              "      display: none;\n",
              "      fill: #1967D2;\n",
              "      height: 32px;\n",
              "      padding: 0 0 0 0;\n",
              "      width: 32px;\n",
              "    }\n",
              "\n",
              "    .colab-df-convert:hover {\n",
              "      background-color: #E2EBFA;\n",
              "      box-shadow: 0px 1px 2px rgba(60, 64, 67, 0.3), 0px 1px 3px 1px rgba(60, 64, 67, 0.15);\n",
              "      fill: #174EA6;\n",
              "    }\n",
              "\n",
              "    [theme=dark] .colab-df-convert {\n",
              "      background-color: #3B4455;\n",
              "      fill: #D2E3FC;\n",
              "    }\n",
              "\n",
              "    [theme=dark] .colab-df-convert:hover {\n",
              "      background-color: #434B5C;\n",
              "      box-shadow: 0px 1px 3px 1px rgba(0, 0, 0, 0.15);\n",
              "      filter: drop-shadow(0px 1px 2px rgba(0, 0, 0, 0.3));\n",
              "      fill: #FFFFFF;\n",
              "    }\n",
              "  </style>\n",
              "\n",
              "      <script>\n",
              "        const buttonEl =\n",
              "          document.querySelector('#df-91cb5001-0c71-4d5b-ba09-afb610c5f577 button.colab-df-convert');\n",
              "        buttonEl.style.display =\n",
              "          google.colab.kernel.accessAllowed ? 'block' : 'none';\n",
              "\n",
              "        async function convertToInteractive(key) {\n",
              "          const element = document.querySelector('#df-91cb5001-0c71-4d5b-ba09-afb610c5f577');\n",
              "          const dataTable =\n",
              "            await google.colab.kernel.invokeFunction('convertToInteractive',\n",
              "                                                     [key], {});\n",
              "          if (!dataTable) return;\n",
              "\n",
              "          const docLinkHtml = 'Like what you see? Visit the ' +\n",
              "            '<a target=\"_blank\" href=https://colab.research.google.com/notebooks/data_table.ipynb>data table notebook</a>'\n",
              "            + ' to learn more about interactive tables.';\n",
              "          element.innerHTML = '';\n",
              "          dataTable['output_type'] = 'display_data';\n",
              "          await google.colab.output.renderOutput(dataTable, element);\n",
              "          const docLink = document.createElement('div');\n",
              "          docLink.innerHTML = docLinkHtml;\n",
              "          element.appendChild(docLink);\n",
              "        }\n",
              "      </script>\n",
              "    </div>\n",
              "  </div>\n",
              "  "
            ]
          },
          "metadata": {},
          "execution_count": 40
        }
      ]
    },
    {
      "cell_type": "code",
      "source": [
        "# 중고여부별 구매자수\n",
        "\n",
        "labels = ['Not Used', 'Used']\n",
        "colors = ['#ADD8E6', '#D3D3D3']\n",
        "\n",
        "df.plot(kind='bar', color=colors)\n",
        "\n",
        "plt.title('The number of buyers by used product')\n",
        "plt.xlabel('year')\n",
        "plt.ylabel('session count')\n",
        "plt.legend(['not_used','used'])\n",
        "plt.xticks(range(len(df)), df['연도'])\n",
        "plt.show()"
      ],
      "metadata": {
        "colab": {
          "base_uri": "https://localhost:8080/",
          "height": 493
        },
        "id": "DyLEwBeGTW30",
        "outputId": "16a955dd-f322-48ac-9d9d-5494de729aff"
      },
      "execution_count": null,
      "outputs": [
        {
          "output_type": "display_data",
          "data": {
            "text/plain": [
              "<Figure size 640x480 with 1 Axes>"
            ],
            "image/png": "[encoded data removed]"
          },
          "metadata": {}
        }
      ]
    },
    {
      "cell_type": "code",
      "source": [
        "# 중고여부별 구매자수\n",
        "years = ['2018', '2019', '2020', '2021', '2022']\n",
        "data = []\n",
        "\n",
        "for year in years:\n",
        "    filtered_df = transaction[transaction['created_at'].str[:4] == year]\n",
        "    count_0 = filtered_df[filtered_df['used'] == 0]['session_id'].count()\n",
        "    count_1 = filtered_df[filtered_df['used'] == 1]['session_id'].count()\n",
        "    data.append({'연도': year, 0: count_0, 1: count_1})\n",
        "\n",
        "df_rate = pd.DataFrame(data)\n"
      ],
      "metadata": {
        "id": "fjhG4OUxDeE4"
      },
      "execution_count": 4,
      "outputs": []
    },
    {
      "cell_type": "code",
      "source": [
        "df_rate"
      ],
      "metadata": {
        "colab": {
          "base_uri": "https://localhost:8080/",
          "height": 206
        },
        "id": "2nTRzWLQQGfr",
        "outputId": "7422c6a3-2631-4647-c9ff-0fa54b405048"
      },
      "execution_count": 5,
      "outputs": [
        {
          "output_type": "execute_result",
          "data": {
            "text/plain": [
              "     연도       0       1\n",
              "0  2018   65671   42075\n",
              "1  2019  104786   66612\n",
              "2  2020  154047  100796\n",
              "3  2021  224586  152641\n",
              "4  2022  170364  115205"
            ],
            "text/html": [
              "\n",
              "  <div id=\"df-5a56e5a7-d19a-4bcd-9c8e-6e22d9656ca2\">\n",
              "    <div class=\"colab-df-container\">\n",
              "      <div>\n",
              "<style scoped>\n",
              "    .dataframe tbody tr th:only-of-type {\n",
              "        vertical-align: middle;\n",
              "    }\n",
              "\n",
              "    .dataframe tbody tr th {\n",
              "        vertical-align: top;\n",
              "    }\n",
              "\n",
              "    .dataframe thead th {\n",
              "        text-align: right;\n",
              "    }\n",
              "</style>\n",
              "<table border=\"1\" class=\"dataframe\">\n",
              "  <thead>\n",
              "    <tr style=\"text-align: right;\">\n",
              "      <th></th>\n",
              "      <th>연도</th>\n",
              "      <th>0</th>\n",
              "      <th>1</th>\n",
              "    </tr>\n",
              "  </thead>\n",
              "  <tbody>\n",
              "    <tr>\n",
              "      <th>0</th>\n",
              "      <td>2018</td>\n",
              "      <td>65671</td>\n",
              "      <td>42075</td>\n",
              "    </tr>\n",
              "    <tr>\n",
              "      <th>1</th>\n",
              "      <td>2019</td>\n",
              "      <td>104786</td>\n",
              "      <td>66612</td>\n",
              "    </tr>\n",
              "    <tr>\n",
              "      <th>2</th>\n",
              "      <td>2020</td>\n",
              "      <td>154047</td>\n",
              "      <td>100796</td>\n",
              "    </tr>\n",
              "    <tr>\n",
              "      <th>3</th>\n",
              "      <td>2021</td>\n",
              "      <td>224586</td>\n",
              "      <td>152641</td>\n",
              "    </tr>\n",
              "    <tr>\n",
              "      <th>4</th>\n",
              "      <td>2022</td>\n",
              "      <td>170364</td>\n",
              "      <td>115205</td>\n",
              "    </tr>\n",
              "  </tbody>\n",
              "</table>\n",
              "</div>\n",
              "      <button class=\"colab-df-convert\" onclick=\"convertToInteractive('df-5a56e5a7-d19a-4bcd-9c8e-6e22d9656ca2')\"\n",
              "              title=\"Convert this dataframe to an interactive table.\"\n",
              "              style=\"display:none;\">\n",
              "        \n",
              "  <svg xmlns=\"http://www.w3.org/2000/svg\" height=\"24px\"viewBox=\"0 0 24 24\"\n",
              "       width=\"24px\">\n",
              "    <path d=\"M0 0h24v24H0V0z\" fill=\"none\"/>\n",
              "    <path d=\"M18.56 5.44l.94 2.06.94-2.06 2.06-.94-2.06-.94-.94-2.06-.94 2.06-2.06.94zm-11 1L8.5 8.5l.94-2.06 2.06-.94-2.06-.94L8.5 2.5l-.94 2.06-2.06.94zm10 10l.94 2.06.94-2.06 2.06-.94-2.06-.94-.94-2.06-.94 2.06-2.06.94z\"/><path d=\"M17.41 7.96l-1.37-1.37c-.4-.4-.92-.59-1.43-.59-.52 0-1.04.2-1.43.59L10.3 9.45l-7.72 7.72c-.78.78-.78 2.05 0 2.83L4 21.41c.39.39.9.59 1.41.59.51 0 1.02-.2 1.41-.59l7.78-7.78 2.81-2.81c.8-.78.8-2.07 0-2.86zM5.41 20L4 18.59l7.72-7.72 1.47 1.35L5.41 20z\"/>\n",
              "  </svg>\n",
              "      </button>\n",
              "      \n",
              "  <style>\n",
              "    .colab-df-container {\n",
              "      display:flex;\n",
              "      flex-wrap:wrap;\n",
              "      gap: 12px;\n",
              "    }\n",
              "\n",
              "    .colab-df-convert {\n",
              "      background-color: #E8F0FE;\n",
              "      border: none;\n",
              "      border-radius: 50%;\n",
              "      cursor: pointer;\n",
              "      display: none;\n",
              "      fill: #1967D2;\n",
              "      height: 32px;\n",
              "      padding: 0 0 0 0;\n",
              "      width: 32px;\n",
              "    }\n",
              "\n",
              "    .colab-df-convert:hover {\n",
              "      background-color: #E2EBFA;\n",
              "      box-shadow: 0px 1px 2px rgba(60, 64, 67, 0.3), 0px 1px 3px 1px rgba(60, 64, 67, 0.15);\n",
              "      fill: #174EA6;\n",
              "    }\n",
              "\n",
              "    [theme=dark] .colab-df-convert {\n",
              "      background-color: #3B4455;\n",
              "      fill: #D2E3FC;\n",
              "    }\n",
              "\n",
              "    [theme=dark] .colab-df-convert:hover {\n",
              "      background-color: #434B5C;\n",
              "      box-shadow: 0px 1px 3px 1px rgba(0, 0, 0, 0.15);\n",
              "      filter: drop-shadow(0px 1px 2px rgba(0, 0, 0, 0.3));\n",
              "      fill: #FFFFFF;\n",
              "    }\n",
              "  </style>\n",
              "\n",
              "      <script>\n",
              "        const buttonEl =\n",
              "          document.querySelector('#df-5a56e5a7-d19a-4bcd-9c8e-6e22d9656ca2 button.colab-df-convert');\n",
              "        buttonEl.style.display =\n",
              "          google.colab.kernel.accessAllowed ? 'block' : 'none';\n",
              "\n",
              "        async function convertToInteractive(key) {\n",
              "          const element = document.querySelector('#df-5a56e5a7-d19a-4bcd-9c8e-6e22d9656ca2');\n",
              "          const dataTable =\n",
              "            await google.colab.kernel.invokeFunction('convertToInteractive',\n",
              "                                                     [key], {});\n",
              "          if (!dataTable) return;\n",
              "\n",
              "          const docLinkHtml = 'Like what you see? Visit the ' +\n",
              "            '<a target=\"_blank\" href=https://colab.research.google.com/notebooks/data_table.ipynb>data table notebook</a>'\n",
              "            + ' to learn more about interactive tables.';\n",
              "          element.innerHTML = '';\n",
              "          dataTable['output_type'] = 'display_data';\n",
              "          await google.colab.output.renderOutput(dataTable, element);\n",
              "          const docLink = document.createElement('div');\n",
              "          docLink.innerHTML = docLinkHtml;\n",
              "          element.appendChild(docLink);\n",
              "        }\n",
              "      </script>\n",
              "    </div>\n",
              "  </div>\n",
              "  "
            ]
          },
          "metadata": {},
          "execution_count": 5
        }
      ]
    },
    {
      "cell_type": "code",
      "source": [
        "# 연도별 전체 구매자 수\n",
        "df_rate['sum'] = 0\n",
        "for i in range(len(df_rate)):\n",
        "  df_rate['sum'][i] = df_rate[0][i] + df_rate[1][i]"
      ],
      "metadata": {
        "colab": {
          "base_uri": "https://localhost:8080/"
        },
        "id": "Zpldrc3PM2w4",
        "outputId": "ca728691-ac8d-4115-aacf-b2ec6667f277"
      },
      "execution_count": 6,
      "outputs": [
        {
          "output_type": "stream",
          "name": "stderr",
          "text": [
            "<ipython-input-6-029695389109>:4: SettingWithCopyWarning: \n",
            "A value is trying to be set on a copy of a slice from a DataFrame\n",
            "\n",
            "See the caveats in the documentation: https://pandas.pydata.org/pandas-docs/stable/user_guide/indexing.html#returning-a-view-versus-a-copy\n",
            "  df_rate['sum'][i] = df_rate[0][i] + df_rate[1][i]\n"
          ]
        }
      ]
    },
    {
      "cell_type": "code",
      "source": [
        "# 연도별 고객 비율\n",
        "df_rate['0_rate'] = df_rate[0] / df_rate['sum'] * 100\n",
        "df_rate['1_rate'] = df_rate[1] / df_rate['sum'] * 100"
      ],
      "metadata": {
        "id": "L8fU-PPkNbAg"
      },
      "execution_count": 7,
      "outputs": []
    },
    {
      "cell_type": "code",
      "source": [
        "# 소수점 반올림\n",
        "df_rate['0_rate']= round(df_rate['0_rate'], 2)\n",
        "df_rate['1_rate']= round(df_rate['1_rate'], 2)"
      ],
      "metadata": {
        "id": "TzOBsVhYOQTO"
      },
      "execution_count": 8,
      "outputs": []
    },
    {
      "cell_type": "code",
      "source": [
        "transaction[transaction['created_at'].str[:4] == '2020'].count()"
      ],
      "metadata": {
        "colab": {
          "base_uri": "https://localhost:8080/"
        },
        "id": "DBJQfcgHQ8Dg",
        "outputId": "29d751fb-9ab2-4b64-a06c-0d4ab0db59f9"
      },
      "execution_count": 9,
      "outputs": [
        {
          "output_type": "execute_result",
          "data": {
            "text/plain": [
              "Unnamed: 0                254983\n",
              "created_at                254983\n",
              "customer_id               254983\n",
              "booking_id                254983\n",
              "session_id                254983\n",
              "payment_method            254983\n",
              "payment_status            254983\n",
              "promo_amount              254983\n",
              "promo_code                104112\n",
              "shipment_fee              254983\n",
              "shipment_date_limit       254983\n",
              "shipment_location_lat     254983\n",
              "shipment_location_long    254983\n",
              "total_amount              254983\n",
              "product_id                254983\n",
              "quantity                  254983\n",
              "item_price                254983\n",
              "used                      254843\n",
              "dtype: int64"
            ]
          },
          "metadata": {},
          "execution_count": 9
        }
      ]
    },
    {
      "cell_type": "code",
      "source": [
        "df_rate"
      ],
      "metadata": {
        "colab": {
          "base_uri": "https://localhost:8080/",
          "height": 206
        },
        "id": "wDYTTrDaOlA4",
        "outputId": "c4eccf0d-c0de-4a15-ac19-f6acbc924db8"
      },
      "execution_count": 10,
      "outputs": [
        {
          "output_type": "execute_result",
          "data": {
            "text/plain": [
              "     연도       0       1     sum  0_rate  1_rate\n",
              "0  2018   65671   42075  107746   60.95   39.05\n",
              "1  2019  104786   66612  171398   61.14   38.86\n",
              "2  2020  154047  100796  254843   60.45   39.55\n",
              "3  2021  224586  152641  377227   59.54   40.46\n",
              "4  2022  170364  115205  285569   59.66   40.34"
            ],
            "text/html": [
              "\n",
              "  <div id=\"df-b1ea3069-2082-43a0-9f02-220b101c06d6\">\n",
              "    <div class=\"colab-df-container\">\n",
              "      <div>\n",
              "<style scoped>\n",
              "    .dataframe tbody tr th:only-of-type {\n",
              "        vertical-align: middle;\n",
              "    }\n",
              "\n",
              "    .dataframe tbody tr th {\n",
              "        vertical-align: top;\n",
              "    }\n",
              "\n",
              "    .dataframe thead th {\n",
              "        text-align: right;\n",
              "    }\n",
              "</style>\n",
              "<table border=\"1\" class=\"dataframe\">\n",
              "  <thead>\n",
              "    <tr style=\"text-align: right;\">\n",
              "      <th></th>\n",
              "      <th>연도</th>\n",
              "      <th>0</th>\n",
              "      <th>1</th>\n",
              "      <th>sum</th>\n",
              "      <th>0_rate</th>\n",
              "      <th>1_rate</th>\n",
              "    </tr>\n",
              "  </thead>\n",
              "  <tbody>\n",
              "    <tr>\n",
              "      <th>0</th>\n",
              "      <td>2018</td>\n",
              "      <td>65671</td>\n",
              "      <td>42075</td>\n",
              "      <td>107746</td>\n",
              "      <td>60.95</td>\n",
              "      <td>39.05</td>\n",
              "    </tr>\n",
              "    <tr>\n",
              "      <th>1</th>\n",
              "      <td>2019</td>\n",
              "      <td>104786</td>\n",
              "      <td>66612</td>\n",
              "      <td>171398</td>\n",
              "      <td>61.14</td>\n",
              "      <td>38.86</td>\n",
              "    </tr>\n",
              "    <tr>\n",
              "      <th>2</th>\n",
              "      <td>2020</td>\n",
              "      <td>154047</td>\n",
              "      <td>100796</td>\n",
              "      <td>254843</td>\n",
              "      <td>60.45</td>\n",
              "      <td>39.55</td>\n",
              "    </tr>\n",
              "    <tr>\n",
              "      <th>3</th>\n",
              "      <td>2021</td>\n",
              "      <td>224586</td>\n",
              "      <td>152641</td>\n",
              "      <td>377227</td>\n",
              "      <td>59.54</td>\n",
              "      <td>40.46</td>\n",
              "    </tr>\n",
              "    <tr>\n",
              "      <th>4</th>\n",
              "      <td>2022</td>\n",
              "      <td>170364</td>\n",
              "      <td>115205</td>\n",
              "      <td>285569</td>\n",
              "      <td>59.66</td>\n",
              "      <td>40.34</td>\n",
              "    </tr>\n",
              "  </tbody>\n",
              "</table>\n",
              "</div>\n",
              "      <button class=\"colab-df-convert\" onclick=\"convertToInteractive('df-b1ea3069-2082-43a0-9f02-220b101c06d6')\"\n",
              "              title=\"Convert this dataframe to an interactive table.\"\n",
              "              style=\"display:none;\">\n",
              "        \n",
              "  <svg xmlns=\"http://www.w3.org/2000/svg\" height=\"24px\"viewBox=\"0 0 24 24\"\n",
              "       width=\"24px\">\n",
              "    <path d=\"M0 0h24v24H0V0z\" fill=\"none\"/>\n",
              "    <path d=\"M18.56 5.44l.94 2.06.94-2.06 2.06-.94-2.06-.94-.94-2.06-.94 2.06-2.06.94zm-11 1L8.5 8.5l.94-2.06 2.06-.94-2.06-.94L8.5 2.5l-.94 2.06-2.06.94zm10 10l.94 2.06.94-2.06 2.06-.94-2.06-.94-.94-2.06-.94 2.06-2.06.94z\"/><path d=\"M17.41 7.96l-1.37-1.37c-.4-.4-.92-.59-1.43-.59-.52 0-1.04.2-1.43.59L10.3 9.45l-7.72 7.72c-.78.78-.78 2.05 0 2.83L4 21.41c.39.39.9.59 1.41.59.51 0 1.02-.2 1.41-.59l7.78-7.78 2.81-2.81c.8-.78.8-2.07 0-2.86zM5.41 20L4 18.59l7.72-7.72 1.47 1.35L5.41 20z\"/>\n",
              "  </svg>\n",
              "      </button>\n",
              "      \n",
              "  <style>\n",
              "    .colab-df-container {\n",
              "      display:flex;\n",
              "      flex-wrap:wrap;\n",
              "      gap: 12px;\n",
              "    }\n",
              "\n",
              "    .colab-df-convert {\n",
              "      background-color: #E8F0FE;\n",
              "      border: none;\n",
              "      border-radius: 50%;\n",
              "      cursor: pointer;\n",
              "      display: none;\n",
              "      fill: #1967D2;\n",
              "      height: 32px;\n",
              "      padding: 0 0 0 0;\n",
              "      width: 32px;\n",
              "    }\n",
              "\n",
              "    .colab-df-convert:hover {\n",
              "      background-color: #E2EBFA;\n",
              "      box-shadow: 0px 1px 2px rgba(60, 64, 67, 0.3), 0px 1px 3px 1px rgba(60, 64, 67, 0.15);\n",
              "      fill: #174EA6;\n",
              "    }\n",
              "\n",
              "    [theme=dark] .colab-df-convert {\n",
              "      background-color: #3B4455;\n",
              "      fill: #D2E3FC;\n",
              "    }\n",
              "\n",
              "    [theme=dark] .colab-df-convert:hover {\n",
              "      background-color: #434B5C;\n",
              "      box-shadow: 0px 1px 3px 1px rgba(0, 0, 0, 0.15);\n",
              "      filter: drop-shadow(0px 1px 2px rgba(0, 0, 0, 0.3));\n",
              "      fill: #FFFFFF;\n",
              "    }\n",
              "  </style>\n",
              "\n",
              "      <script>\n",
              "        const buttonEl =\n",
              "          document.querySelector('#df-b1ea3069-2082-43a0-9f02-220b101c06d6 button.colab-df-convert');\n",
              "        buttonEl.style.display =\n",
              "          google.colab.kernel.accessAllowed ? 'block' : 'none';\n",
              "\n",
              "        async function convertToInteractive(key) {\n",
              "          const element = document.querySelector('#df-b1ea3069-2082-43a0-9f02-220b101c06d6');\n",
              "          const dataTable =\n",
              "            await google.colab.kernel.invokeFunction('convertToInteractive',\n",
              "                                                     [key], {});\n",
              "          if (!dataTable) return;\n",
              "\n",
              "          const docLinkHtml = 'Like what you see? Visit the ' +\n",
              "            '<a target=\"_blank\" href=https://colab.research.google.com/notebooks/data_table.ipynb>data table notebook</a>'\n",
              "            + ' to learn more about interactive tables.';\n",
              "          element.innerHTML = '';\n",
              "          dataTable['output_type'] = 'display_data';\n",
              "          await google.colab.output.renderOutput(dataTable, element);\n",
              "          const docLink = document.createElement('div');\n",
              "          docLink.innerHTML = docLinkHtml;\n",
              "          element.appendChild(docLink);\n",
              "        }\n",
              "      </script>\n",
              "    </div>\n",
              "  </div>\n",
              "  "
            ]
          },
          "metadata": {},
          "execution_count": 10
        }
      ]
    },
    {
      "cell_type": "code",
      "source": [
        "# 중고여부별 구매자수\n",
        "\n",
        "labels = ['Not Used', 'Used']\n",
        "colors = ['#ADD8E6', '#D3D3D3']\n",
        "\n",
        "df_rate['sum'].plot(kind='bar',alpha=0.7)\n",
        "df_rate[['0_rate', '1_rate']].plot(kind='line',color=colors)\n",
        "\n",
        "plt.title('The number of buyers rate by used product')\n",
        "plt.xlabel('year')\n",
        "plt.ylabel('rate')\n",
        "plt.legend(['not_used','used'])\n",
        "plt.xticks(range(len(df_rate)), df_rate['연도'])\n",
        "plt.show()"
      ],
      "metadata": {
        "colab": {
          "base_uri": "https://localhost:8080/",
          "height": 880
        },
        "id": "l2AP3JtyOzPh",
        "outputId": "9882737b-ebd8-4c6f-a40e-8e3127711ac2"
      },
      "execution_count": 11,
      "outputs": [
        {
          "output_type": "display_data",
          "data": {
            "text/plain": [
              "<Figure size 640x480 with 1 Axes>"
            ],
            "image/png": "[encoded data removed]"
          },
          "metadata": {}
        },
        {
          "output_type": "display_data",
          "data": {
            "text/plain": [
              "<Figure size 640x480 with 1 Axes>"
            ],
            "image/png": "[encoded data removed]"
          },
          "metadata": {}
        }
      ]
    },
    {
      "cell_type": "code",
      "source": [
        "import matplotlib.pyplot as plt\n",
        "\n",
        "labels = ['Not Used', 'Used']\n",
        "colors = ['#ADD8E6', '#D3D3D3']\n",
        "\n",
        "# ax = df_rate['sum'].plot(kind='bar', alpha=0.7, color=colors[0])\n",
        "# df_rate['1_rate'].plot(kind='line', ax=ax, color=colors[1:])\n",
        "df_rate['sum'].plot(kind='bar', alpha=0.7, color=colors[0])\n",
        "df_rate['1_rate'].plot(kind='line', color=colors[1:])\n",
        "\n",
        "plt.title('The number of buyers rate by used product')\n",
        "plt.xlabel('Year')\n",
        "plt.ylabel('Rate')\n",
        "plt.legend(['Total Buyers', 'Not Used', 'Used'])\n",
        "plt.xticks(range(len(df_rate)), df_rate['연도'])\n",
        "plt.show()\n"
      ],
      "metadata": {
        "colab": {
          "base_uri": "https://localhost:8080/",
          "height": 472
        },
        "id": "rJUPuoVsS39q",
        "outputId": "e8654ac2-4bee-4c7c-a327-06893bb6c07e"
      },
      "execution_count": 12,
      "outputs": [
        {
          "output_type": "display_data",
          "data": {
            "text/plain": [
              "<Figure size 640x480 with 1 Axes>"
            ],
            "image/png": "[encoded data removed]"
          },
          "metadata": {}
        }
      ]
    },
    {
      "cell_type": "code",
      "source": [
        "import matplotlib.pyplot as plt\n",
        "\n",
        "labels = ['Not Used', 'Used']\n",
        "colors = ['#ADD8E6', '#D3D3D3']\n",
        "\n",
        "fig, ax1 = plt.subplots()\n",
        "\n",
        "ax1.bar(range(len(df_rate)), df_rate['sum'], alpha=0.7, color=colors[0])\n",
        "ax1.set_ylabel('Count')\n",
        "\n",
        "ax2 = ax1.twinx()\n",
        "ax2.plot(df_rate['1_rate'], color=colors[1], marker='o')\n",
        "ax2.set_ylabel('Rate')\n",
        "\n",
        "plt.title('The number of buyers rate by used product')\n",
        "plt.xlabel('Year')\n",
        "plt.legend(['Rate'])\n",
        "plt.xticks(range(len(df_rate)), df_rate['연도'])\n",
        "\n",
        "plt.show()"
      ],
      "metadata": {
        "colab": {
          "base_uri": "https://localhost:8080/",
          "height": 452
        },
        "id": "V_EGiBKLTPUC",
        "outputId": "162b93ef-e493-4d46-c6da-3eae85fb6f84"
      },
      "execution_count": null,
      "outputs": [
        {
          "output_type": "display_data",
          "data": {
            "text/plain": [
              "<Figure size 640x480 with 2 Axes>"
            ],
            "image/png": "[encoded data removed]"
          },
          "metadata": {}
        }
      ]
    },
    {
      "cell_type": "code",
      "source": [
        "import matplotlib.pyplot as plt\n",
        "\n",
        "labels = ['Not Used', 'Used']\n",
        "colors = ['#90CAF9', 'silver']\n",
        "\n",
        "fig, ax1 = plt.subplots(figsize=(8,5))\n",
        "\n",
        "ax1.bar(range(len(df_rate)), df_rate['sum'], alpha=0.7, color=colors[0], label='Total Buyers')\n",
        "ax1.set_ylabel('Count')\n",
        "\n",
        "ax2 = ax1.twinx()\n",
        "ax2.plot(df_rate['1_rate'], color=colors[1], marker='o', label='used rate')\n",
        "ax2.set_ylabel('Rate')\n",
        "\n",
        "for i, rate in enumerate(df_rate['1_rate']):\n",
        "    ax2.annotate(f'{rate:.2f}%', (i, rate), xytext=(0, 10), textcoords='offset points',\n",
        "                 ha='center', va='bottom')\n",
        "\n",
        "lines, labels = ax1.get_legend_handles_labels()\n",
        "lines2, labels2 = ax2.get_legend_handles_labels()\n",
        "ax1.legend(lines + lines2, labels + labels2)\n",
        "\n",
        "plt.title('The number of buyers rate by used product')\n",
        "plt.xlabel('Year')\n",
        "plt.xticks(range(len(df_rate)), df_rate['연도'])\n",
        "yticks = np.arange(38.5, 42.5, 0.5)\n",
        "plt.yticks(yticks)\n",
        "\n",
        "plt.show()"
      ],
      "metadata": {
        "colab": {
          "base_uri": "https://localhost:8080/",
          "height": 468
        },
        "id": "REdT5Pk1UWZ-",
        "outputId": "7c831352-3465-40d7-bbea-1dc6b2145f2a"
      },
      "execution_count": 13,
      "outputs": [
        {
          "output_type": "display_data",
          "data": {
            "text/plain": [
              "<Figure size 800x500 with 2 Axes>"
            ],
            "image/png": "[encoded data removed]"
          },
          "metadata": {}
        }
      ]
    }
  ]
}